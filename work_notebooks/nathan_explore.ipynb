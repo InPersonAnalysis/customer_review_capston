{
 "cells": [
  {
   "cell_type": "markdown",
   "id": "fe9cb5d5",
   "metadata": {},
   "source": [
    "### Nathan Capstone Explore Notebook"
   ]
  },
  {
   "cell_type": "code",
   "execution_count": 3,
   "id": "3ac03b0c",
   "metadata": {},
   "outputs": [],
   "source": [
    "import pandas as pd\n",
    "import numpy as np"
   ]
  },
  {
   "cell_type": "code",
   "execution_count": 2,
   "id": "2b23f32a",
   "metadata": {},
   "outputs": [],
   "source": [
    "df = pd.read_csv('Hotel_Reviews.csv')"
   ]
  },
  {
   "cell_type": "code",
   "execution_count": 15,
   "id": "5559517b",
   "metadata": {},
   "outputs": [],
   "source": [
    "#df.head()"
   ]
  },
  {
   "cell_type": "code",
   "execution_count": 11,
   "id": "27de3bd6",
   "metadata": {},
   "outputs": [],
   "source": [
    "df.Tags = [[tag.strip().lower() for tag in (tags.replace('\"','').replace(\"'\",\"\")\n",
    "                                     .replace('[','') .replace(']','')\n",
    "                                     .split(','))] for tags in df.Tags]\n"
   ]
  },
  {
   "cell_type": "code",
   "execution_count": 19,
   "id": "9f22eded",
   "metadata": {},
   "outputs": [
    {
     "data": {
      "text/plain": [
       "['leisure trip',\n",
       " 'couple',\n",
       " 'duplex double room',\n",
       " 'stayed 2 nights',\n",
       " 'submitted from a mobile device']"
      ]
     },
     "execution_count": 19,
     "metadata": {},
     "output_type": "execute_result"
    }
   ],
   "source": [
    "df.Tags[]"
   ]
  },
  {
   "cell_type": "code",
   "execution_count": 22,
   "id": "fb9bb2ca",
   "metadata": {},
   "outputs": [],
   "source": [
    "df['group_type'] = df.Tags.str[1]"
   ]
  },
  {
   "cell_type": "code",
   "execution_count": 1,
   "id": "080eaa80",
   "metadata": {},
   "outputs": [],
   "source": [
    "#df.head()"
   ]
  },
  {
   "cell_type": "code",
   "execution_count": 24,
   "id": "6413b8f2",
   "metadata": {},
   "outputs": [
    {
     "data": {
      "text/plain": [
       "6"
      ]
     },
     "execution_count": 24,
     "metadata": {},
     "output_type": "execute_result"
    }
   ],
   "source": [
    "df.group_type.isnull().sum()"
   ]
  },
  {
   "cell_type": "code",
   "execution_count": 4,
   "id": "da307180",
   "metadata": {},
   "outputs": [],
   "source": [
    "pd.set_option('display.max_rows', None)\n",
    "#df.group_type.value_counts()"
   ]
  },
  {
   "cell_type": "code",
   "execution_count": 35,
   "id": "64d5adc2",
   "metadata": {},
   "outputs": [
    {
     "data": {
      "text/plain": [
       "leisure trip                  416672\n",
       "business trip                  82748\n",
       "couple                          5808\n",
       "solo traveler                   4291\n",
       "family with young children      2227\n",
       "group                           1600\n",
       "with a pet                      1405\n",
       "family with older children       931\n",
       "travelers with friends            56\n",
       "Name: Tags, dtype: int64"
      ]
     },
     "execution_count": 35,
     "metadata": {},
     "output_type": "execute_result"
    }
   ],
   "source": [
    "df.Tags.str[0].value_counts()"
   ]
  },
  {
   "cell_type": "code",
   "execution_count": 33,
   "id": "03d616cf",
   "metadata": {},
   "outputs": [
    {
     "ename": "ValueError",
     "evalue": "The truth value of a Series is ambiguous. Use a.empty, a.bool(), a.item(), a.any() or a.all().",
     "output_type": "error",
     "traceback": [
      "\u001b[0;31m---------------------------------------------------------------------------\u001b[0m",
      "\u001b[0;31mValueError\u001b[0m                                Traceback (most recent call last)",
      "\u001b[0;32m/var/folders/n7/fjb2f8gd5jg17xlxz1c85vhc0000gn/T/ipykernel_95985/1966861026.py\u001b[0m in \u001b[0;36m<module>\u001b[0;34m\u001b[0m\n\u001b[1;32m      1\u001b[0m \u001b[0mtrip_type\u001b[0m \u001b[0;34m=\u001b[0m \u001b[0;34m[\u001b[0m\u001b[0;34m'leisure trip'\u001b[0m\u001b[0;34m,\u001b[0m \u001b[0;34m'business trip'\u001b[0m\u001b[0;34m]\u001b[0m\u001b[0;34m\u001b[0m\u001b[0;34m\u001b[0m\u001b[0m\n\u001b[0;32m----> 2\u001b[0;31m \u001b[0;32mif\u001b[0m \u001b[0mdf\u001b[0m\u001b[0;34m.\u001b[0m\u001b[0mTags\u001b[0m\u001b[0;34m.\u001b[0m\u001b[0mstr\u001b[0m\u001b[0;34m[\u001b[0m\u001b[0;36m0\u001b[0m\u001b[0;34m]\u001b[0m\u001b[0;34m.\u001b[0m\u001b[0misin\u001b[0m\u001b[0;34m(\u001b[0m\u001b[0mtrip_type\u001b[0m\u001b[0;34m)\u001b[0m\u001b[0;34m:\u001b[0m\u001b[0;34m\u001b[0m\u001b[0;34m\u001b[0m\u001b[0m\n\u001b[0m\u001b[1;32m      3\u001b[0m     \u001b[0mdf\u001b[0m\u001b[0;34m[\u001b[0m\u001b[0;34m'trip_type'\u001b[0m\u001b[0;34m]\u001b[0m \u001b[0;34m=\u001b[0m \u001b[0mdf\u001b[0m\u001b[0;34m.\u001b[0m\u001b[0mTags\u001b[0m\u001b[0;34m.\u001b[0m\u001b[0mstr\u001b[0m\u001b[0;34m[\u001b[0m\u001b[0;36m0\u001b[0m\u001b[0;34m]\u001b[0m\u001b[0;34m\u001b[0m\u001b[0;34m\u001b[0m\u001b[0m\n\u001b[1;32m      4\u001b[0m \u001b[0;32melse\u001b[0m\u001b[0;34m:\u001b[0m\u001b[0;34m\u001b[0m\u001b[0;34m\u001b[0m\u001b[0m\n\u001b[1;32m      5\u001b[0m     \u001b[0mdf\u001b[0m\u001b[0;34m[\u001b[0m\u001b[0;34m'trip_type'\u001b[0m\u001b[0;34m]\u001b[0m \u001b[0;34m=\u001b[0m \u001b[0;34m'unknown'\u001b[0m\u001b[0;34m\u001b[0m\u001b[0;34m\u001b[0m\u001b[0m\n",
      "\u001b[0;32m/opt/anaconda3/lib/python3.9/site-packages/pandas/core/generic.py\u001b[0m in \u001b[0;36m__nonzero__\u001b[0;34m(self)\u001b[0m\n\u001b[1;32m   1535\u001b[0m     \u001b[0;34m@\u001b[0m\u001b[0mfinal\u001b[0m\u001b[0;34m\u001b[0m\u001b[0;34m\u001b[0m\u001b[0m\n\u001b[1;32m   1536\u001b[0m     \u001b[0;32mdef\u001b[0m \u001b[0m__nonzero__\u001b[0m\u001b[0;34m(\u001b[0m\u001b[0mself\u001b[0m\u001b[0;34m)\u001b[0m\u001b[0;34m:\u001b[0m\u001b[0;34m\u001b[0m\u001b[0;34m\u001b[0m\u001b[0m\n\u001b[0;32m-> 1537\u001b[0;31m         raise ValueError(\n\u001b[0m\u001b[1;32m   1538\u001b[0m             \u001b[0;34mf\"The truth value of a {type(self).__name__} is ambiguous. \"\u001b[0m\u001b[0;34m\u001b[0m\u001b[0;34m\u001b[0m\u001b[0m\n\u001b[1;32m   1539\u001b[0m             \u001b[0;34m\"Use a.empty, a.bool(), a.item(), a.any() or a.all().\"\u001b[0m\u001b[0;34m\u001b[0m\u001b[0;34m\u001b[0m\u001b[0m\n",
      "\u001b[0;31mValueError\u001b[0m: The truth value of a Series is ambiguous. Use a.empty, a.bool(), a.item(), a.any() or a.all()."
     ]
    }
   ],
   "source": [
    "trip_type = ['leisure trip', 'business trip']\n",
    "if df.Tags.str[0].isin(trip_type):\n",
    "    df['trip_type'] = df.Tags.str[0]\n",
    "else:\n",
    "    df['trip_type'] = 'unknown'"
   ]
  },
  {
   "cell_type": "code",
   "execution_count": null,
   "id": "98d2cd14",
   "metadata": {},
   "outputs": [],
   "source": [
    "trip_type = ['leisure trip', 'business trip']\n",
    "df['leisure_trip'] = [for tag in df.Tags if tag in trip_type return tag else return 'unknown']"
   ]
  },
  {
   "cell_type": "code",
   "execution_count": 34,
   "id": "2cb8fc71",
   "metadata": {},
   "outputs": [
    {
     "data": {
      "text/plain": [
       "5    297823\n",
       "4    211564\n",
       "3      5505\n",
       "6       755\n",
       "2        85\n",
       "1         6\n",
       "Name: Tags, dtype: int64"
      ]
     },
     "execution_count": 34,
     "metadata": {},
     "output_type": "execute_result"
    }
   ],
   "source": [
    "df.Tags.apply(len).value_counts()"
   ]
  },
  {
   "cell_type": "code",
   "execution_count": 14,
   "id": "ed3bee07",
   "metadata": {},
   "outputs": [],
   "source": [
    "import re"
   ]
  },
  {
   "cell_type": "code",
   "execution_count": 28,
   "id": "7678dc3c",
   "metadata": {},
   "outputs": [],
   "source": [
    "def parse_tags(tags):\n",
    "    tags = tags.lower()\n",
    "    trip_type = 'unknown'\n",
    "    if 'leisure trip' in tags:\n",
    "        trip_type = 'leisure'\n",
    "    elif 'buisness trip' in tags:\n",
    "        trip_type = 'business'\n",
    "    nights_stayed = np.nan\n",
    "    if re.search(r'stayed\\s*(\\d+)\\s*nights?', tags):\n",
    "        nights_stayed = re.sub(r'.*stayed\\s*(\\d+)\\s*nights?.*', r'\\1', tags)\n",
    "    group_type = 'unknown'\n",
    "    if 'group' in tags:\n",
    "        group_type = 'group'\n",
    "    elif 'solo traveler' in tags:\n",
    "        group_type = 'solo traveler'\n",
    "    elif 'family with young children' in tags:\n",
    "        group_type = 'family with young children'\n",
    "    elif 'family with older children' in tags:\n",
    "        group_type = 'family with older children'\n",
    "    elif 'couple' in tags:\n",
    "        group_type = 'couple'\n",
    "    elif 'travelers with friends' in tags:\n",
    "        group_type = 'travelers with friends'\n",
    "    return dict(trip_type = trip_type, nights_stayed = nights_stayed, group_type = group_type)"
   ]
  },
  {
   "cell_type": "code",
   "execution_count": 29,
   "id": "c7fb8d2f",
   "metadata": {},
   "outputs": [
    {
     "data": {
      "text/html": [
       "<div>\n",
       "<style scoped>\n",
       "    .dataframe tbody tr th:only-of-type {\n",
       "        vertical-align: middle;\n",
       "    }\n",
       "\n",
       "    .dataframe tbody tr th {\n",
       "        vertical-align: top;\n",
       "    }\n",
       "\n",
       "    .dataframe thead th {\n",
       "        text-align: right;\n",
       "    }\n",
       "</style>\n",
       "<table border=\"1\" class=\"dataframe\">\n",
       "  <thead>\n",
       "    <tr style=\"text-align: right;\">\n",
       "      <th></th>\n",
       "      <th>trip_type</th>\n",
       "      <th>nights_stayed</th>\n",
       "      <th>group_type</th>\n",
       "    </tr>\n",
       "  </thead>\n",
       "  <tbody>\n",
       "    <tr>\n",
       "      <th>0</th>\n",
       "      <td>leisure</td>\n",
       "      <td>6</td>\n",
       "      <td>couple</td>\n",
       "    </tr>\n",
       "    <tr>\n",
       "      <th>1</th>\n",
       "      <td>leisure</td>\n",
       "      <td>4</td>\n",
       "      <td>couple</td>\n",
       "    </tr>\n",
       "    <tr>\n",
       "      <th>2</th>\n",
       "      <td>leisure</td>\n",
       "      <td>3</td>\n",
       "      <td>family with young children</td>\n",
       "    </tr>\n",
       "    <tr>\n",
       "      <th>3</th>\n",
       "      <td>leisure</td>\n",
       "      <td>3</td>\n",
       "      <td>solo traveler</td>\n",
       "    </tr>\n",
       "    <tr>\n",
       "      <th>4</th>\n",
       "      <td>leisure</td>\n",
       "      <td>2</td>\n",
       "      <td>couple</td>\n",
       "    </tr>\n",
       "    <tr>\n",
       "      <th>...</th>\n",
       "      <td>...</td>\n",
       "      <td>...</td>\n",
       "      <td>...</td>\n",
       "    </tr>\n",
       "    <tr>\n",
       "      <th>515733</th>\n",
       "      <td>leisure</td>\n",
       "      <td>5</td>\n",
       "      <td>family with older children</td>\n",
       "    </tr>\n",
       "    <tr>\n",
       "      <th>515734</th>\n",
       "      <td>leisure</td>\n",
       "      <td>2</td>\n",
       "      <td>family with young children</td>\n",
       "    </tr>\n",
       "    <tr>\n",
       "      <th>515735</th>\n",
       "      <td>leisure</td>\n",
       "      <td>4</td>\n",
       "      <td>family with older children</td>\n",
       "    </tr>\n",
       "    <tr>\n",
       "      <th>515736</th>\n",
       "      <td>leisure</td>\n",
       "      <td>3</td>\n",
       "      <td>group</td>\n",
       "    </tr>\n",
       "    <tr>\n",
       "      <th>515737</th>\n",
       "      <td>leisure</td>\n",
       "      <td>2</td>\n",
       "      <td>family with young children</td>\n",
       "    </tr>\n",
       "  </tbody>\n",
       "</table>\n",
       "<p>515738 rows × 3 columns</p>\n",
       "</div>"
      ],
      "text/plain": [
       "       trip_type nights_stayed                  group_type\n",
       "0        leisure             6                      couple\n",
       "1        leisure             4                      couple\n",
       "2        leisure             3  family with young children\n",
       "3        leisure             3               solo traveler\n",
       "4        leisure             2                      couple\n",
       "...          ...           ...                         ...\n",
       "515733   leisure             5  family with older children\n",
       "515734   leisure             2  family with young children\n",
       "515735   leisure             4  family with older children\n",
       "515736   leisure             3                       group\n",
       "515737   leisure             2  family with young children\n",
       "\n",
       "[515738 rows x 3 columns]"
      ]
     },
     "execution_count": 29,
     "metadata": {},
     "output_type": "execute_result"
    }
   ],
   "source": [
    "pd.DataFrame(df.Tags.apply(parse_tags).tolist())"
   ]
  },
  {
   "cell_type": "code",
   "execution_count": 18,
   "id": "b78baca8",
   "metadata": {},
   "outputs": [],
   "source": [
    "tags = df.Tags[0].lower()\n"
   ]
  },
  {
   "cell_type": "code",
   "execution_count": 19,
   "id": "4333466d",
   "metadata": {},
   "outputs": [
    {
     "data": {
      "text/plain": [
       "'6'"
      ]
     },
     "execution_count": 19,
     "metadata": {},
     "output_type": "execute_result"
    }
   ],
   "source": [
    "re.sub(r'.*stayed\\s*(\\d+)\\s*nights?.*', r'\\1', tags)"
   ]
  },
  {
   "cell_type": "code",
   "execution_count": 1,
   "id": "bd00922b",
   "metadata": {},
   "outputs": [],
   "source": [
    "import pandas as pd\n",
    "import numpy as np\n",
    "import wrangle"
   ]
  },
  {
   "cell_type": "code",
   "execution_count": 2,
   "id": "e82978a5",
   "metadata": {},
   "outputs": [],
   "source": [
    "df = pd.read_csv('Hotel_Reviews.csv')"
   ]
  },
  {
   "cell_type": "code",
   "execution_count": 3,
   "id": "476c57f0",
   "metadata": {},
   "outputs": [
    {
     "data": {
      "text/html": [
       "<div>\n",
       "<style scoped>\n",
       "    .dataframe tbody tr th:only-of-type {\n",
       "        vertical-align: middle;\n",
       "    }\n",
       "\n",
       "    .dataframe tbody tr th {\n",
       "        vertical-align: top;\n",
       "    }\n",
       "\n",
       "    .dataframe thead th {\n",
       "        text-align: right;\n",
       "    }\n",
       "</style>\n",
       "<table border=\"1\" class=\"dataframe\">\n",
       "  <thead>\n",
       "    <tr style=\"text-align: right;\">\n",
       "      <th></th>\n",
       "      <th>Hotel_Address</th>\n",
       "      <th>Additional_Number_of_Scoring</th>\n",
       "      <th>Review_Date</th>\n",
       "      <th>Average_Score</th>\n",
       "      <th>Hotel_Name</th>\n",
       "      <th>Reviewer_Nationality</th>\n",
       "      <th>Negative_Review</th>\n",
       "      <th>Review_Total_Negative_Word_Counts</th>\n",
       "      <th>Total_Number_of_Reviews</th>\n",
       "      <th>Positive_Review</th>\n",
       "      <th>Review_Total_Positive_Word_Counts</th>\n",
       "      <th>Total_Number_of_Reviews_Reviewer_Has_Given</th>\n",
       "      <th>Reviewer_Score</th>\n",
       "      <th>Tags</th>\n",
       "      <th>days_since_review</th>\n",
       "      <th>lat</th>\n",
       "      <th>lng</th>\n",
       "    </tr>\n",
       "  </thead>\n",
       "  <tbody>\n",
       "    <tr>\n",
       "      <th>0</th>\n",
       "      <td>s Gravesandestraat 55 Oost 1092 AA Amsterdam ...</td>\n",
       "      <td>194</td>\n",
       "      <td>8/3/2017</td>\n",
       "      <td>7.7</td>\n",
       "      <td>Hotel Arena</td>\n",
       "      <td>Russia</td>\n",
       "      <td>I am so angry that i made this post available...</td>\n",
       "      <td>397</td>\n",
       "      <td>1403</td>\n",
       "      <td>Only the park outside of the hotel was beauti...</td>\n",
       "      <td>11</td>\n",
       "      <td>7</td>\n",
       "      <td>2.9</td>\n",
       "      <td>[' Leisure trip ', ' Couple ', ' Duplex Double...</td>\n",
       "      <td>0 days</td>\n",
       "      <td>52.360576</td>\n",
       "      <td>4.915968</td>\n",
       "    </tr>\n",
       "    <tr>\n",
       "      <th>1</th>\n",
       "      <td>s Gravesandestraat 55 Oost 1092 AA Amsterdam ...</td>\n",
       "      <td>194</td>\n",
       "      <td>8/3/2017</td>\n",
       "      <td>7.7</td>\n",
       "      <td>Hotel Arena</td>\n",
       "      <td>Ireland</td>\n",
       "      <td>No Negative</td>\n",
       "      <td>0</td>\n",
       "      <td>1403</td>\n",
       "      <td>No real complaints the hotel was great great ...</td>\n",
       "      <td>105</td>\n",
       "      <td>7</td>\n",
       "      <td>7.5</td>\n",
       "      <td>[' Leisure trip ', ' Couple ', ' Duplex Double...</td>\n",
       "      <td>0 days</td>\n",
       "      <td>52.360576</td>\n",
       "      <td>4.915968</td>\n",
       "    </tr>\n",
       "    <tr>\n",
       "      <th>2</th>\n",
       "      <td>s Gravesandestraat 55 Oost 1092 AA Amsterdam ...</td>\n",
       "      <td>194</td>\n",
       "      <td>7/31/2017</td>\n",
       "      <td>7.7</td>\n",
       "      <td>Hotel Arena</td>\n",
       "      <td>Australia</td>\n",
       "      <td>Rooms are nice but for elderly a bit difficul...</td>\n",
       "      <td>42</td>\n",
       "      <td>1403</td>\n",
       "      <td>Location was good and staff were ok It is cut...</td>\n",
       "      <td>21</td>\n",
       "      <td>9</td>\n",
       "      <td>7.1</td>\n",
       "      <td>[' Leisure trip ', ' Family with young childre...</td>\n",
       "      <td>3 days</td>\n",
       "      <td>52.360576</td>\n",
       "      <td>4.915968</td>\n",
       "    </tr>\n",
       "    <tr>\n",
       "      <th>3</th>\n",
       "      <td>s Gravesandestraat 55 Oost 1092 AA Amsterdam ...</td>\n",
       "      <td>194</td>\n",
       "      <td>7/31/2017</td>\n",
       "      <td>7.7</td>\n",
       "      <td>Hotel Arena</td>\n",
       "      <td>United Kingdom</td>\n",
       "      <td>My room was dirty and I was afraid to walk ba...</td>\n",
       "      <td>210</td>\n",
       "      <td>1403</td>\n",
       "      <td>Great location in nice surroundings the bar a...</td>\n",
       "      <td>26</td>\n",
       "      <td>1</td>\n",
       "      <td>3.8</td>\n",
       "      <td>[' Leisure trip ', ' Solo traveler ', ' Duplex...</td>\n",
       "      <td>3 days</td>\n",
       "      <td>52.360576</td>\n",
       "      <td>4.915968</td>\n",
       "    </tr>\n",
       "    <tr>\n",
       "      <th>4</th>\n",
       "      <td>s Gravesandestraat 55 Oost 1092 AA Amsterdam ...</td>\n",
       "      <td>194</td>\n",
       "      <td>7/24/2017</td>\n",
       "      <td>7.7</td>\n",
       "      <td>Hotel Arena</td>\n",
       "      <td>New Zealand</td>\n",
       "      <td>You When I booked with your company on line y...</td>\n",
       "      <td>140</td>\n",
       "      <td>1403</td>\n",
       "      <td>Amazing location and building Romantic setting</td>\n",
       "      <td>8</td>\n",
       "      <td>3</td>\n",
       "      <td>6.7</td>\n",
       "      <td>[' Leisure trip ', ' Couple ', ' Suite ', ' St...</td>\n",
       "      <td>10 days</td>\n",
       "      <td>52.360576</td>\n",
       "      <td>4.915968</td>\n",
       "    </tr>\n",
       "  </tbody>\n",
       "</table>\n",
       "</div>"
      ],
      "text/plain": [
       "                                       Hotel_Address  \\\n",
       "0   s Gravesandestraat 55 Oost 1092 AA Amsterdam ...   \n",
       "1   s Gravesandestraat 55 Oost 1092 AA Amsterdam ...   \n",
       "2   s Gravesandestraat 55 Oost 1092 AA Amsterdam ...   \n",
       "3   s Gravesandestraat 55 Oost 1092 AA Amsterdam ...   \n",
       "4   s Gravesandestraat 55 Oost 1092 AA Amsterdam ...   \n",
       "\n",
       "   Additional_Number_of_Scoring Review_Date  Average_Score   Hotel_Name  \\\n",
       "0                           194    8/3/2017            7.7  Hotel Arena   \n",
       "1                           194    8/3/2017            7.7  Hotel Arena   \n",
       "2                           194   7/31/2017            7.7  Hotel Arena   \n",
       "3                           194   7/31/2017            7.7  Hotel Arena   \n",
       "4                           194   7/24/2017            7.7  Hotel Arena   \n",
       "\n",
       "  Reviewer_Nationality                                    Negative_Review  \\\n",
       "0              Russia    I am so angry that i made this post available...   \n",
       "1             Ireland                                         No Negative   \n",
       "2           Australia    Rooms are nice but for elderly a bit difficul...   \n",
       "3      United Kingdom    My room was dirty and I was afraid to walk ba...   \n",
       "4         New Zealand    You When I booked with your company on line y...   \n",
       "\n",
       "   Review_Total_Negative_Word_Counts  Total_Number_of_Reviews  \\\n",
       "0                                397                     1403   \n",
       "1                                  0                     1403   \n",
       "2                                 42                     1403   \n",
       "3                                210                     1403   \n",
       "4                                140                     1403   \n",
       "\n",
       "                                     Positive_Review  \\\n",
       "0   Only the park outside of the hotel was beauti...   \n",
       "1   No real complaints the hotel was great great ...   \n",
       "2   Location was good and staff were ok It is cut...   \n",
       "3   Great location in nice surroundings the bar a...   \n",
       "4    Amazing location and building Romantic setting    \n",
       "\n",
       "   Review_Total_Positive_Word_Counts  \\\n",
       "0                                 11   \n",
       "1                                105   \n",
       "2                                 21   \n",
       "3                                 26   \n",
       "4                                  8   \n",
       "\n",
       "   Total_Number_of_Reviews_Reviewer_Has_Given  Reviewer_Score  \\\n",
       "0                                           7             2.9   \n",
       "1                                           7             7.5   \n",
       "2                                           9             7.1   \n",
       "3                                           1             3.8   \n",
       "4                                           3             6.7   \n",
       "\n",
       "                                                Tags days_since_review  \\\n",
       "0  [' Leisure trip ', ' Couple ', ' Duplex Double...            0 days   \n",
       "1  [' Leisure trip ', ' Couple ', ' Duplex Double...            0 days   \n",
       "2  [' Leisure trip ', ' Family with young childre...            3 days   \n",
       "3  [' Leisure trip ', ' Solo traveler ', ' Duplex...            3 days   \n",
       "4  [' Leisure trip ', ' Couple ', ' Suite ', ' St...           10 days   \n",
       "\n",
       "         lat       lng  \n",
       "0  52.360576  4.915968  \n",
       "1  52.360576  4.915968  \n",
       "2  52.360576  4.915968  \n",
       "3  52.360576  4.915968  \n",
       "4  52.360576  4.915968  "
      ]
     },
     "execution_count": 3,
     "metadata": {},
     "output_type": "execute_result"
    }
   ],
   "source": [
    "df.head()"
   ]
  },
  {
   "cell_type": "code",
   "execution_count": 4,
   "id": "0959fa7c",
   "metadata": {},
   "outputs": [],
   "source": [
    "df = wrangle.wrangle_hotel(df)"
   ]
  },
  {
   "cell_type": "code",
   "execution_count": 5,
   "id": "b8c26600",
   "metadata": {},
   "outputs": [],
   "source": [
    "#df.head()"
   ]
  },
  {
   "cell_type": "code",
   "execution_count": 8,
   "id": "c1355ae9",
   "metadata": {},
   "outputs": [],
   "source": [
    "pd.set_option('display.max_rows', None)\n",
    "pd.set_option('display.max_columns', None)"
   ]
  },
  {
   "cell_type": "code",
   "execution_count": 8,
   "id": "11b10191",
   "metadata": {},
   "outputs": [
    {
     "data": {
      "text/html": [
       "<div>\n",
       "<style scoped>\n",
       "    .dataframe tbody tr th:only-of-type {\n",
       "        vertical-align: middle;\n",
       "    }\n",
       "\n",
       "    .dataframe tbody tr th {\n",
       "        vertical-align: top;\n",
       "    }\n",
       "\n",
       "    .dataframe thead th {\n",
       "        text-align: right;\n",
       "    }\n",
       "</style>\n",
       "<table border=\"1\" class=\"dataframe\">\n",
       "  <thead>\n",
       "    <tr style=\"text-align: right;\">\n",
       "      <th></th>\n",
       "      <th>hotel_address</th>\n",
       "      <th>additional_number_of_scoring</th>\n",
       "      <th>average_score</th>\n",
       "      <th>hotel_name</th>\n",
       "      <th>reviewer_nationality</th>\n",
       "      <th>negative_review</th>\n",
       "      <th>review_total_negative_word_counts</th>\n",
       "      <th>total_number_of_reviews</th>\n",
       "      <th>positive_review</th>\n",
       "      <th>review_total_positive_word_counts</th>\n",
       "      <th>total_number_of_reviews_reviewer_has_given</th>\n",
       "      <th>reviewer_score</th>\n",
       "      <th>tags</th>\n",
       "      <th>days_since_review</th>\n",
       "      <th>lat</th>\n",
       "      <th>lng</th>\n",
       "      <th>trip_type</th>\n",
       "      <th>nights_stayed</th>\n",
       "      <th>group_type</th>\n",
       "      <th>month</th>\n",
       "      <th>year</th>\n",
       "      <th>day_name</th>\n",
       "      <th>day</th>\n",
       "      <th>quarter</th>\n",
       "      <th>negative_unique_word_count</th>\n",
       "      <th>positive_unique_word_count</th>\n",
       "      <th>location</th>\n",
       "    </tr>\n",
       "    <tr>\n",
       "      <th>review_date</th>\n",
       "      <th></th>\n",
       "      <th></th>\n",
       "      <th></th>\n",
       "      <th></th>\n",
       "      <th></th>\n",
       "      <th></th>\n",
       "      <th></th>\n",
       "      <th></th>\n",
       "      <th></th>\n",
       "      <th></th>\n",
       "      <th></th>\n",
       "      <th></th>\n",
       "      <th></th>\n",
       "      <th></th>\n",
       "      <th></th>\n",
       "      <th></th>\n",
       "      <th></th>\n",
       "      <th></th>\n",
       "      <th></th>\n",
       "      <th></th>\n",
       "      <th></th>\n",
       "      <th></th>\n",
       "      <th></th>\n",
       "      <th></th>\n",
       "      <th></th>\n",
       "      <th></th>\n",
       "      <th></th>\n",
       "    </tr>\n",
       "  </thead>\n",
       "  <tbody>\n",
       "    <tr>\n",
       "      <th>2015-08-04</th>\n",
       "      <td>225 Edgware Road Westminster Borough London W2...</td>\n",
       "      <td>1485</td>\n",
       "      <td>7.5</td>\n",
       "      <td>Hilton London Metropole</td>\n",
       "      <td>United Kingdom</td>\n",
       "      <td>First day the swimming pool was not opened th...</td>\n",
       "      <td>54</td>\n",
       "      <td>6977</td>\n",
       "      <td>The hotel was clean and accessible</td>\n",
       "      <td>8</td>\n",
       "      <td>4</td>\n",
       "      <td>7.5</td>\n",
       "      <td>[' Leisure trip ', ' Group ', ' Superior Queen...</td>\n",
       "      <td>730</td>\n",
       "      <td>51.519569</td>\n",
       "      <td>-0.170521</td>\n",
       "      <td>leisure</td>\n",
       "      <td>2</td>\n",
       "      <td>group</td>\n",
       "      <td>August</td>\n",
       "      <td>2015</td>\n",
       "      <td>Tuesday</td>\n",
       "      <td>4</td>\n",
       "      <td>3</td>\n",
       "      <td>39</td>\n",
       "      <td>6</td>\n",
       "      <td>United Kingdom</td>\n",
       "    </tr>\n",
       "    <tr>\n",
       "      <th>2015-08-04</th>\n",
       "      <td>225 Edgware Road Westminster Borough London W2...</td>\n",
       "      <td>1485</td>\n",
       "      <td>7.5</td>\n",
       "      <td>Hilton London Metropole</td>\n",
       "      <td>Qatar</td>\n",
       "      <td>No Negative</td>\n",
       "      <td>0</td>\n",
       "      <td>6977</td>\n",
       "      <td>The room is too narrow and the room service d...</td>\n",
       "      <td>13</td>\n",
       "      <td>7</td>\n",
       "      <td>3.8</td>\n",
       "      <td>[' Leisure trip ', ' Family with young childre...</td>\n",
       "      <td>730</td>\n",
       "      <td>51.519569</td>\n",
       "      <td>-0.170521</td>\n",
       "      <td>leisure</td>\n",
       "      <td>9</td>\n",
       "      <td>family with young children</td>\n",
       "      <td>August</td>\n",
       "      <td>2015</td>\n",
       "      <td>Tuesday</td>\n",
       "      <td>4</td>\n",
       "      <td>3</td>\n",
       "      <td>2</td>\n",
       "      <td>11</td>\n",
       "      <td>United Kingdom</td>\n",
       "    </tr>\n",
       "    <tr>\n",
       "      <th>2015-08-04</th>\n",
       "      <td>225 Edgware Road Westminster Borough London W2...</td>\n",
       "      <td>1485</td>\n",
       "      <td>7.5</td>\n",
       "      <td>Hilton London Metropole</td>\n",
       "      <td>United Kingdom</td>\n",
       "      <td>Drinks overly priced</td>\n",
       "      <td>5</td>\n",
       "      <td>6977</td>\n",
       "      <td>Stay was great hotel lovely staff very friend...</td>\n",
       "      <td>12</td>\n",
       "      <td>1</td>\n",
       "      <td>10.0</td>\n",
       "      <td>[' Leisure trip ', ' Group ', ' King Hilton Gu...</td>\n",
       "      <td>730</td>\n",
       "      <td>51.519569</td>\n",
       "      <td>-0.170521</td>\n",
       "      <td>leisure</td>\n",
       "      <td>2</td>\n",
       "      <td>group</td>\n",
       "      <td>August</td>\n",
       "      <td>2015</td>\n",
       "      <td>Tuesday</td>\n",
       "      <td>4</td>\n",
       "      <td>3</td>\n",
       "      <td>3</td>\n",
       "      <td>10</td>\n",
       "      <td>United Kingdom</td>\n",
       "    </tr>\n",
       "    <tr>\n",
       "      <th>2015-08-04</th>\n",
       "      <td>225 Edgware Road Westminster Borough London W2...</td>\n",
       "      <td>1485</td>\n",
       "      <td>7.5</td>\n",
       "      <td>Hilton London Metropole</td>\n",
       "      <td>United Kingdom</td>\n",
       "      <td>Our room was very old and small I think they ...</td>\n",
       "      <td>23</td>\n",
       "      <td>6977</td>\n",
       "      <td>No Positive</td>\n",
       "      <td>0</td>\n",
       "      <td>5</td>\n",
       "      <td>5.8</td>\n",
       "      <td>[' Business trip ', ' Couple ', ' King Hilton ...</td>\n",
       "      <td>730</td>\n",
       "      <td>51.519569</td>\n",
       "      <td>-0.170521</td>\n",
       "      <td>unknown</td>\n",
       "      <td>1</td>\n",
       "      <td>couple</td>\n",
       "      <td>August</td>\n",
       "      <td>2015</td>\n",
       "      <td>Tuesday</td>\n",
       "      <td>4</td>\n",
       "      <td>3</td>\n",
       "      <td>20</td>\n",
       "      <td>2</td>\n",
       "      <td>United Kingdom</td>\n",
       "    </tr>\n",
       "    <tr>\n",
       "      <th>2015-08-04</th>\n",
       "      <td>225 Edgware Road Westminster Borough London W2...</td>\n",
       "      <td>1485</td>\n",
       "      <td>7.5</td>\n",
       "      <td>Hilton London Metropole</td>\n",
       "      <td>United Kingdom</td>\n",
       "      <td>No Negative</td>\n",
       "      <td>0</td>\n",
       "      <td>6977</td>\n",
       "      <td>location</td>\n",
       "      <td>2</td>\n",
       "      <td>6</td>\n",
       "      <td>8.8</td>\n",
       "      <td>[' Leisure trip ', ' Couple ', ' Executive Twi...</td>\n",
       "      <td>730</td>\n",
       "      <td>51.519569</td>\n",
       "      <td>-0.170521</td>\n",
       "      <td>leisure</td>\n",
       "      <td>2</td>\n",
       "      <td>couple</td>\n",
       "      <td>August</td>\n",
       "      <td>2015</td>\n",
       "      <td>Tuesday</td>\n",
       "      <td>4</td>\n",
       "      <td>3</td>\n",
       "      <td>2</td>\n",
       "      <td>1</td>\n",
       "      <td>United Kingdom</td>\n",
       "    </tr>\n",
       "  </tbody>\n",
       "</table>\n",
       "</div>"
      ],
      "text/plain": [
       "                                                 hotel_address  \\\n",
       "review_date                                                      \n",
       "2015-08-04   225 Edgware Road Westminster Borough London W2...   \n",
       "2015-08-04   225 Edgware Road Westminster Borough London W2...   \n",
       "2015-08-04   225 Edgware Road Westminster Borough London W2...   \n",
       "2015-08-04   225 Edgware Road Westminster Borough London W2...   \n",
       "2015-08-04   225 Edgware Road Westminster Borough London W2...   \n",
       "\n",
       "             additional_number_of_scoring  average_score  \\\n",
       "review_date                                                \n",
       "2015-08-04                           1485            7.5   \n",
       "2015-08-04                           1485            7.5   \n",
       "2015-08-04                           1485            7.5   \n",
       "2015-08-04                           1485            7.5   \n",
       "2015-08-04                           1485            7.5   \n",
       "\n",
       "                          hotel_name reviewer_nationality  \\\n",
       "review_date                                                 \n",
       "2015-08-04   Hilton London Metropole      United Kingdom    \n",
       "2015-08-04   Hilton London Metropole               Qatar    \n",
       "2015-08-04   Hilton London Metropole      United Kingdom    \n",
       "2015-08-04   Hilton London Metropole      United Kingdom    \n",
       "2015-08-04   Hilton London Metropole      United Kingdom    \n",
       "\n",
       "                                               negative_review  \\\n",
       "review_date                                                      \n",
       "2015-08-04    First day the swimming pool was not opened th...   \n",
       "2015-08-04                                         No Negative   \n",
       "2015-08-04                               Drinks overly priced    \n",
       "2015-08-04    Our room was very old and small I think they ...   \n",
       "2015-08-04                                         No Negative   \n",
       "\n",
       "             review_total_negative_word_counts  total_number_of_reviews  \\\n",
       "review_date                                                               \n",
       "2015-08-04                                  54                     6977   \n",
       "2015-08-04                                   0                     6977   \n",
       "2015-08-04                                   5                     6977   \n",
       "2015-08-04                                  23                     6977   \n",
       "2015-08-04                                   0                     6977   \n",
       "\n",
       "                                               positive_review  \\\n",
       "review_date                                                      \n",
       "2015-08-04                 The hotel was clean and accessible    \n",
       "2015-08-04    The room is too narrow and the room service d...   \n",
       "2015-08-04    Stay was great hotel lovely staff very friend...   \n",
       "2015-08-04                                         No Positive   \n",
       "2015-08-04                                            location   \n",
       "\n",
       "             review_total_positive_word_counts  \\\n",
       "review_date                                      \n",
       "2015-08-04                                   8   \n",
       "2015-08-04                                  13   \n",
       "2015-08-04                                  12   \n",
       "2015-08-04                                   0   \n",
       "2015-08-04                                   2   \n",
       "\n",
       "             total_number_of_reviews_reviewer_has_given  reviewer_score  \\\n",
       "review_date                                                               \n",
       "2015-08-04                                            4             7.5   \n",
       "2015-08-04                                            7             3.8   \n",
       "2015-08-04                                            1            10.0   \n",
       "2015-08-04                                            5             5.8   \n",
       "2015-08-04                                            6             8.8   \n",
       "\n",
       "                                                          tags  \\\n",
       "review_date                                                      \n",
       "2015-08-04   [' Leisure trip ', ' Group ', ' Superior Queen...   \n",
       "2015-08-04   [' Leisure trip ', ' Family with young childre...   \n",
       "2015-08-04   [' Leisure trip ', ' Group ', ' King Hilton Gu...   \n",
       "2015-08-04   [' Business trip ', ' Couple ', ' King Hilton ...   \n",
       "2015-08-04   [' Leisure trip ', ' Couple ', ' Executive Twi...   \n",
       "\n",
       "             days_since_review        lat       lng trip_type nights_stayed  \\\n",
       "review_date                                                                   \n",
       "2015-08-04                 730  51.519569 -0.170521   leisure             2   \n",
       "2015-08-04                 730  51.519569 -0.170521   leisure             9   \n",
       "2015-08-04                 730  51.519569 -0.170521   leisure             2   \n",
       "2015-08-04                 730  51.519569 -0.170521   unknown             1   \n",
       "2015-08-04                 730  51.519569 -0.170521   leisure             2   \n",
       "\n",
       "                             group_type   month  year day_name  day  quarter  \\\n",
       "review_date                                                                    \n",
       "2015-08-04                        group  August  2015  Tuesday    4        3   \n",
       "2015-08-04   family with young children  August  2015  Tuesday    4        3   \n",
       "2015-08-04                        group  August  2015  Tuesday    4        3   \n",
       "2015-08-04                       couple  August  2015  Tuesday    4        3   \n",
       "2015-08-04                       couple  August  2015  Tuesday    4        3   \n",
       "\n",
       "             negative_unique_word_count  positive_unique_word_count  \\\n",
       "review_date                                                           \n",
       "2015-08-04                           39                           6   \n",
       "2015-08-04                            2                          11   \n",
       "2015-08-04                            3                          10   \n",
       "2015-08-04                           20                           2   \n",
       "2015-08-04                            2                           1   \n",
       "\n",
       "                   location  \n",
       "review_date                  \n",
       "2015-08-04   United Kingdom  \n",
       "2015-08-04   United Kingdom  \n",
       "2015-08-04   United Kingdom  \n",
       "2015-08-04   United Kingdom  \n",
       "2015-08-04   United Kingdom  "
      ]
     },
     "execution_count": 8,
     "metadata": {},
     "output_type": "execute_result"
    }
   ],
   "source": [
    "df2 = df[df['hotel_name'] == 'Hilton London Metropole']\n",
    "df2.head()"
   ]
  },
  {
   "cell_type": "code",
   "execution_count": 13,
   "id": "c250f6c3",
   "metadata": {},
   "outputs": [],
   "source": [
    "df.rename(columns={'additional_number_of_scoring':'hotel_score_count_no_review',\n",
    "                   'average_score':'average_score_by_hotel',\n",
    "                   'total_number_of_reviews':'total_count_reviews_by_hotel'}, inplace=True)\n",
    "\n"
   ]
  },
  {
   "cell_type": "code",
   "execution_count": 6,
   "id": "716ec643",
   "metadata": {},
   "outputs": [],
   "source": [
    "#df.head()"
   ]
  },
  {
   "cell_type": "code",
   "execution_count": 1,
   "id": "f09380a9",
   "metadata": {},
   "outputs": [],
   "source": [
    "import pandas as pd\n",
    "import numpy as np\n",
    "import wrangle"
   ]
  },
  {
   "cell_type": "code",
   "execution_count": 2,
   "id": "f87d082e",
   "metadata": {},
   "outputs": [
    {
     "data": {
      "text/html": [
       "<div>\n",
       "<style scoped>\n",
       "    .dataframe tbody tr th:only-of-type {\n",
       "        vertical-align: middle;\n",
       "    }\n",
       "\n",
       "    .dataframe tbody tr th {\n",
       "        vertical-align: top;\n",
       "    }\n",
       "\n",
       "    .dataframe thead th {\n",
       "        text-align: right;\n",
       "    }\n",
       "</style>\n",
       "<table border=\"1\" class=\"dataframe\">\n",
       "  <thead>\n",
       "    <tr style=\"text-align: right;\">\n",
       "      <th></th>\n",
       "      <th>Hotel_Address</th>\n",
       "      <th>Additional_Number_of_Scoring</th>\n",
       "      <th>Review_Date</th>\n",
       "      <th>Average_Score</th>\n",
       "      <th>Hotel_Name</th>\n",
       "      <th>Reviewer_Nationality</th>\n",
       "      <th>Negative_Review</th>\n",
       "      <th>Review_Total_Negative_Word_Counts</th>\n",
       "      <th>Total_Number_of_Reviews</th>\n",
       "      <th>Positive_Review</th>\n",
       "      <th>Review_Total_Positive_Word_Counts</th>\n",
       "      <th>Total_Number_of_Reviews_Reviewer_Has_Given</th>\n",
       "      <th>Reviewer_Score</th>\n",
       "      <th>Tags</th>\n",
       "      <th>days_since_review</th>\n",
       "      <th>lat</th>\n",
       "      <th>lng</th>\n",
       "    </tr>\n",
       "  </thead>\n",
       "  <tbody>\n",
       "    <tr>\n",
       "      <th>0</th>\n",
       "      <td>s Gravesandestraat 55 Oost 1092 AA Amsterdam ...</td>\n",
       "      <td>194</td>\n",
       "      <td>8/3/2017</td>\n",
       "      <td>7.7</td>\n",
       "      <td>Hotel Arena</td>\n",
       "      <td>Russia</td>\n",
       "      <td>I am so angry that i made this post available...</td>\n",
       "      <td>397</td>\n",
       "      <td>1403</td>\n",
       "      <td>Only the park outside of the hotel was beauti...</td>\n",
       "      <td>11</td>\n",
       "      <td>7</td>\n",
       "      <td>2.9</td>\n",
       "      <td>[' Leisure trip ', ' Couple ', ' Duplex Double...</td>\n",
       "      <td>0 days</td>\n",
       "      <td>52.360576</td>\n",
       "      <td>4.915968</td>\n",
       "    </tr>\n",
       "    <tr>\n",
       "      <th>1</th>\n",
       "      <td>s Gravesandestraat 55 Oost 1092 AA Amsterdam ...</td>\n",
       "      <td>194</td>\n",
       "      <td>8/3/2017</td>\n",
       "      <td>7.7</td>\n",
       "      <td>Hotel Arena</td>\n",
       "      <td>Ireland</td>\n",
       "      <td>No Negative</td>\n",
       "      <td>0</td>\n",
       "      <td>1403</td>\n",
       "      <td>No real complaints the hotel was great great ...</td>\n",
       "      <td>105</td>\n",
       "      <td>7</td>\n",
       "      <td>7.5</td>\n",
       "      <td>[' Leisure trip ', ' Couple ', ' Duplex Double...</td>\n",
       "      <td>0 days</td>\n",
       "      <td>52.360576</td>\n",
       "      <td>4.915968</td>\n",
       "    </tr>\n",
       "    <tr>\n",
       "      <th>2</th>\n",
       "      <td>s Gravesandestraat 55 Oost 1092 AA Amsterdam ...</td>\n",
       "      <td>194</td>\n",
       "      <td>7/31/2017</td>\n",
       "      <td>7.7</td>\n",
       "      <td>Hotel Arena</td>\n",
       "      <td>Australia</td>\n",
       "      <td>Rooms are nice but for elderly a bit difficul...</td>\n",
       "      <td>42</td>\n",
       "      <td>1403</td>\n",
       "      <td>Location was good and staff were ok It is cut...</td>\n",
       "      <td>21</td>\n",
       "      <td>9</td>\n",
       "      <td>7.1</td>\n",
       "      <td>[' Leisure trip ', ' Family with young childre...</td>\n",
       "      <td>3 days</td>\n",
       "      <td>52.360576</td>\n",
       "      <td>4.915968</td>\n",
       "    </tr>\n",
       "    <tr>\n",
       "      <th>3</th>\n",
       "      <td>s Gravesandestraat 55 Oost 1092 AA Amsterdam ...</td>\n",
       "      <td>194</td>\n",
       "      <td>7/31/2017</td>\n",
       "      <td>7.7</td>\n",
       "      <td>Hotel Arena</td>\n",
       "      <td>United Kingdom</td>\n",
       "      <td>My room was dirty and I was afraid to walk ba...</td>\n",
       "      <td>210</td>\n",
       "      <td>1403</td>\n",
       "      <td>Great location in nice surroundings the bar a...</td>\n",
       "      <td>26</td>\n",
       "      <td>1</td>\n",
       "      <td>3.8</td>\n",
       "      <td>[' Leisure trip ', ' Solo traveler ', ' Duplex...</td>\n",
       "      <td>3 days</td>\n",
       "      <td>52.360576</td>\n",
       "      <td>4.915968</td>\n",
       "    </tr>\n",
       "    <tr>\n",
       "      <th>4</th>\n",
       "      <td>s Gravesandestraat 55 Oost 1092 AA Amsterdam ...</td>\n",
       "      <td>194</td>\n",
       "      <td>7/24/2017</td>\n",
       "      <td>7.7</td>\n",
       "      <td>Hotel Arena</td>\n",
       "      <td>New Zealand</td>\n",
       "      <td>You When I booked with your company on line y...</td>\n",
       "      <td>140</td>\n",
       "      <td>1403</td>\n",
       "      <td>Amazing location and building Romantic setting</td>\n",
       "      <td>8</td>\n",
       "      <td>3</td>\n",
       "      <td>6.7</td>\n",
       "      <td>[' Leisure trip ', ' Couple ', ' Suite ', ' St...</td>\n",
       "      <td>10 days</td>\n",
       "      <td>52.360576</td>\n",
       "      <td>4.915968</td>\n",
       "    </tr>\n",
       "  </tbody>\n",
       "</table>\n",
       "</div>"
      ],
      "text/plain": [
       "                                       Hotel_Address  \\\n",
       "0   s Gravesandestraat 55 Oost 1092 AA Amsterdam ...   \n",
       "1   s Gravesandestraat 55 Oost 1092 AA Amsterdam ...   \n",
       "2   s Gravesandestraat 55 Oost 1092 AA Amsterdam ...   \n",
       "3   s Gravesandestraat 55 Oost 1092 AA Amsterdam ...   \n",
       "4   s Gravesandestraat 55 Oost 1092 AA Amsterdam ...   \n",
       "\n",
       "   Additional_Number_of_Scoring Review_Date  Average_Score   Hotel_Name  \\\n",
       "0                           194    8/3/2017            7.7  Hotel Arena   \n",
       "1                           194    8/3/2017            7.7  Hotel Arena   \n",
       "2                           194   7/31/2017            7.7  Hotel Arena   \n",
       "3                           194   7/31/2017            7.7  Hotel Arena   \n",
       "4                           194   7/24/2017            7.7  Hotel Arena   \n",
       "\n",
       "  Reviewer_Nationality                                    Negative_Review  \\\n",
       "0              Russia    I am so angry that i made this post available...   \n",
       "1             Ireland                                         No Negative   \n",
       "2           Australia    Rooms are nice but for elderly a bit difficul...   \n",
       "3      United Kingdom    My room was dirty and I was afraid to walk ba...   \n",
       "4         New Zealand    You When I booked with your company on line y...   \n",
       "\n",
       "   Review_Total_Negative_Word_Counts  Total_Number_of_Reviews  \\\n",
       "0                                397                     1403   \n",
       "1                                  0                     1403   \n",
       "2                                 42                     1403   \n",
       "3                                210                     1403   \n",
       "4                                140                     1403   \n",
       "\n",
       "                                     Positive_Review  \\\n",
       "0   Only the park outside of the hotel was beauti...   \n",
       "1   No real complaints the hotel was great great ...   \n",
       "2   Location was good and staff were ok It is cut...   \n",
       "3   Great location in nice surroundings the bar a...   \n",
       "4    Amazing location and building Romantic setting    \n",
       "\n",
       "   Review_Total_Positive_Word_Counts  \\\n",
       "0                                 11   \n",
       "1                                105   \n",
       "2                                 21   \n",
       "3                                 26   \n",
       "4                                  8   \n",
       "\n",
       "   Total_Number_of_Reviews_Reviewer_Has_Given  Reviewer_Score  \\\n",
       "0                                           7             2.9   \n",
       "1                                           7             7.5   \n",
       "2                                           9             7.1   \n",
       "3                                           1             3.8   \n",
       "4                                           3             6.7   \n",
       "\n",
       "                                                Tags days_since_review  \\\n",
       "0  [' Leisure trip ', ' Couple ', ' Duplex Double...            0 days   \n",
       "1  [' Leisure trip ', ' Couple ', ' Duplex Double...            0 days   \n",
       "2  [' Leisure trip ', ' Family with young childre...            3 days   \n",
       "3  [' Leisure trip ', ' Solo traveler ', ' Duplex...            3 days   \n",
       "4  [' Leisure trip ', ' Couple ', ' Suite ', ' St...           10 days   \n",
       "\n",
       "         lat       lng  \n",
       "0  52.360576  4.915968  \n",
       "1  52.360576  4.915968  \n",
       "2  52.360576  4.915968  \n",
       "3  52.360576  4.915968  \n",
       "4  52.360576  4.915968  "
      ]
     },
     "execution_count": 2,
     "metadata": {},
     "output_type": "execute_result"
    }
   ],
   "source": [
    "df = pd.read_csv('Hotel_Reviews.csv')\n",
    "df.head()"
   ]
  },
  {
   "cell_type": "code",
   "execution_count": 6,
   "id": "f15a921a",
   "metadata": {},
   "outputs": [
    {
     "name": "stdout",
     "output_type": "stream",
     "text": [
      "Using cached csv file...\n"
     ]
    }
   ],
   "source": [
    "df = wrangle.wrangle_hotel(df)"
   ]
  },
  {
   "cell_type": "code",
   "execution_count": 7,
   "id": "7369166f",
   "metadata": {},
   "outputs": [],
   "source": [
    "#df.head()"
   ]
  },
  {
   "cell_type": "code",
   "execution_count": 8,
   "id": "668744c1",
   "metadata": {},
   "outputs": [],
   "source": [
    "df2 = df[df['city'] == 'Amsterdam']"
   ]
  },
  {
   "cell_type": "code",
   "execution_count": 14,
   "id": "4d67a159",
   "metadata": {},
   "outputs": [],
   "source": [
    "#df2.head()"
   ]
  },
  {
   "cell_type": "code",
   "execution_count": 11,
   "id": "190f9b2b",
   "metadata": {},
   "outputs": [
    {
     "data": {
      "text/plain": [
       " United Kingdom               23016\n",
       " United States of America      4792\n",
       " Ireland                       3029\n",
       " Australia                     2045\n",
       " Netherlands                   1733\n",
       "                              ...  \n",
       " Ivory Coast                      1\n",
       " Bhutan                           1\n",
       " Afghanistan                      1\n",
       " Guadeloupe                       1\n",
       " Barbados                         1\n",
       "Name: reviewer_nationality, Length: 180, dtype: int64"
      ]
     },
     "execution_count": 11,
     "metadata": {},
     "output_type": "execute_result"
    }
   ],
   "source": [
    "df2.reviewer_nationality.value_counts()"
   ]
  },
  {
   "cell_type": "code",
   "execution_count": 12,
   "id": "85abeb2f",
   "metadata": {},
   "outputs": [
    {
     "data": {
      "text/plain": [
       "Hotel Esther a                           1837\n",
       "Best Western Premier Hotel Couture       1809\n",
       "Ramada Apollo Amsterdam Centre           1704\n",
       "Golden Tulip Amsterdam West              1686\n",
       "Park Plaza Victoria Amsterdam            1595\n",
       "                                         ... \n",
       "Amsterdam Canal Residence                  67\n",
       "Hyatt Regency Amsterdam                    67\n",
       "Pillows Anna van den Vondel Amsterdam      56\n",
       "InterContinental Amstel Amsterdam          34\n",
       "Hotel Seven One Seven                      17\n",
       "Name: hotel_name, Length: 105, dtype: int64"
      ]
     },
     "execution_count": 12,
     "metadata": {},
     "output_type": "execute_result"
    }
   ],
   "source": [
    "df2.hotel_name.value_counts()"
   ]
  },
  {
   "cell_type": "code",
   "execution_count": 13,
   "id": "1a97fc98",
   "metadata": {},
   "outputs": [
    {
     "data": {
      "text/plain": [
       "1012 WJ    1837\n",
       "1062 EA    1809\n",
       "1057 PH    1704\n",
       "1014 AG    1686\n",
       "1012 LG    1595\n",
       "           ... \n",
       "1017 XJ      67\n",
       "1018 GV      67\n",
       "1054 GZ      56\n",
       "1018 GX      34\n",
       "1017 JW      17\n",
       "Name: zip_code, Length: 100, dtype: int64"
      ]
     },
     "execution_count": 13,
     "metadata": {},
     "output_type": "execute_result"
    }
   ],
   "source": [
    "df2.zip_code.value_counts()"
   ]
  },
  {
   "cell_type": "code",
   "execution_count": 15,
   "id": "986ed052",
   "metadata": {},
   "outputs": [
    {
     "data": {
      "text/plain": [
       "leisure    48703\n",
       "unknown     8511\n",
       "Name: trip_type, dtype: int64"
      ]
     },
     "execution_count": 15,
     "metadata": {},
     "output_type": "execute_result"
    }
   ],
   "source": [
    "df.trip_type.value_counts()"
   ]
  },
  {
   "cell_type": "code",
   "execution_count": 19,
   "id": "e5e411f9",
   "metadata": {},
   "outputs": [
    {
     "data": {
      "text/plain": [
       "<AxesSubplot:>"
      ]
     },
     "execution_count": 19,
     "metadata": {},
     "output_type": "execute_result"
    },
    {
     "data": {
      "image/png": "[encoded data removed]",
      "text/plain": [
       "<Figure size 432x288 with 1 Axes>"
      ]
     },
     "metadata": {
      "needs_background": "light"
     },
     "output_type": "display_data"
    }
   ],
   "source": [
    "df.trip_type.value_counts().plot.bar()"
   ]
  },
  {
   "cell_type": "code",
   "execution_count": 16,
   "id": "fb59466f",
   "metadata": {},
   "outputs": [
    {
     "data": {
      "text/plain": [
       "2     17789\n",
       "3     16451\n",
       "1     11687\n",
       "4      6967\n",
       "5      2397\n",
       "6       914\n",
       "7       573\n",
       "8       172\n",
       "9       101\n",
       "10       50\n",
       "11       24\n",
       "12       16\n",
       "14       14\n",
       "13       13\n",
       "15        7\n",
       "19        2\n",
       "17        2\n",
       "20        1\n",
       "18        1\n",
       "28        1\n",
       "29        1\n",
       "27        1\n",
       "22        1\n",
       "26        1\n",
       "21        1\n",
       "16        1\n",
       "Name: nights_stayed, dtype: int64"
      ]
     },
     "execution_count": 16,
     "metadata": {},
     "output_type": "execute_result"
    }
   ],
   "source": [
    "df.nights_stayed.value_counts()"
   ]
  },
  {
   "cell_type": "code",
   "execution_count": 16,
   "id": "435445ae",
   "metadata": {},
   "outputs": [
    {
     "data": {
      "text/plain": [
       "<AxesSubplot:>"
      ]
     },
     "execution_count": 16,
     "metadata": {},
     "output_type": "execute_result"
    },
    {
     "data": {
      "image/png": "[encoded data removed]",
      "text/plain": [
       "<Figure size 432x288 with 1 Axes>"
      ]
     },
     "metadata": {
      "needs_background": "light"
     },
     "output_type": "display_data"
    }
   ],
   "source": [
    "df2.nights_stayed.value_counts().plot.bar()"
   ]
  },
  {
   "cell_type": "code",
   "execution_count": 17,
   "id": "34b6c8c5",
   "metadata": {},
   "outputs": [
    {
     "data": {
      "text/plain": [
       "couple                        29347\n",
       "group                         10277\n",
       "solo traveler                 10168\n",
       "family with young children     4908\n",
       "family with older children     2122\n",
       "travelers with friends          392\n",
       "Name: group_type, dtype: int64"
      ]
     },
     "execution_count": 17,
     "metadata": {},
     "output_type": "execute_result"
    }
   ],
   "source": [
    "df2.group_type.value_counts()"
   ]
  },
  {
   "cell_type": "code",
   "execution_count": 18,
   "id": "50211e13",
   "metadata": {},
   "outputs": [
    {
     "data": {
      "text/plain": [
       "<AxesSubplot:>"
      ]
     },
     "execution_count": 18,
     "metadata": {},
     "output_type": "execute_result"
    },
    {
     "data": {
      "image/png": "[encoded data removed]",
      "text/plain": [
       "<Figure size 432x288 with 1 Axes>"
      ]
     },
     "metadata": {
      "needs_background": "light"
     },
     "output_type": "display_data"
    }
   ],
   "source": [
    "df2.group_type.value_counts().plot.bar()"
   ]
  },
  {
   "cell_type": "code",
   "execution_count": null,
   "id": "4b44b7cb",
   "metadata": {},
   "outputs": [],
   "source": []
  },
  {
   "cell_type": "code",
   "execution_count": 20,
   "id": "38f1cf02",
   "metadata": {},
   "outputs": [
    {
     "data": {
      "text/plain": [
       "Index(['additional_number_of_scoring', 'average_score', 'hotel_name',\n",
       "       'reviewer_nationality', 'negative_review',\n",
       "       'review_total_negative_word_counts', 'total_number_of_reviews',\n",
       "       'positive_review', 'review_total_positive_word_counts',\n",
       "       'total_number_of_reviews_reviewer_has_given', 'reviewer_score',\n",
       "       'days_since_review', 'lat', 'lng', 'trip_type', 'nights_stayed',\n",
       "       'group_type', 'month', 'year', 'day_name', 'day', 'quarter',\n",
       "       'negative_unique_word_count', 'positive_unique_word_count', 'street',\n",
       "       'city', 'zip_code', 'country', 'positive_clean_review',\n",
       "       'negative_clean_review', 'positive_stem', 'negative_stem',\n",
       "       'positive_lemma', 'negative_lemma', 'pos_sentiment_score',\n",
       "       'neg_sentiment_score', 'pos_lem_sentiment_score',\n",
       "       'neg_lem_sentiment_score'],\n",
       "      dtype='object')"
      ]
     },
     "execution_count": 20,
     "metadata": {},
     "output_type": "execute_result"
    }
   ],
   "source": [
    "df2.columns"
   ]
  },
  {
   "cell_type": "code",
   "execution_count": 28,
   "id": "58c116f6",
   "metadata": {},
   "outputs": [
    {
     "data": {
      "text/plain": [
       "hotel_name\n",
       "Savoy Hotel Amsterdam                  6.009465\n",
       "NH Carlton Amsterdam                   7.011892\n",
       "Best Western Blue Tower Hotel          7.330769\n",
       "Best Western Plus Hotel Blue Square    7.351515\n",
       "Golden Tulip Amsterdam Riverside       7.409289\n",
       "                                         ...   \n",
       "Canal House                            9.373370\n",
       "The Hoxton Amsterdam                   9.433496\n",
       "The Toren                              9.455750\n",
       "Luxury Suites Amsterdam                9.482533\n",
       "Waldorf Astoria Amsterdam              9.535211\n",
       "Name: reviewer_score, Length: 105, dtype: float64"
      ]
     },
     "execution_count": 28,
     "metadata": {},
     "output_type": "execute_result"
    }
   ],
   "source": [
    "df2.groupby(df2.hotel_name).reviewer_score.mean().sort_values()"
   ]
  },
  {
   "cell_type": "code",
   "execution_count": 26,
   "id": "8abfea97",
   "metadata": {},
   "outputs": [
    {
     "data": {
      "text/plain": [
       "<AxesSubplot:ylabel='Frequency'>"
      ]
     },
     "execution_count": 26,
     "metadata": {},
     "output_type": "execute_result"
    },
    {
     "data": {
      "image/png": "[encoded data removed]",
      "text/plain": [
       "<Figure size 432x288 with 1 Axes>"
      ]
     },
     "metadata": {
      "needs_background": "light"
     },
     "output_type": "display_data"
    }
   ],
   "source": [
    "df2.groupby(df2.hotel_name).reviewer_score.mean().plot.hist()"
   ]
  },
  {
   "cell_type": "code",
   "execution_count": null,
   "id": "0dc48479",
   "metadata": {},
   "outputs": [],
   "source": []
  },
  {
   "cell_type": "code",
   "execution_count": 29,
   "id": "e1caceb1",
   "metadata": {},
   "outputs": [],
   "source": [
    "import matplotlib.pyplot as plt\n",
    "import seaborn as sns"
   ]
  },
  {
   "cell_type": "code",
   "execution_count": 32,
   "id": "b7d240fb",
   "metadata": {},
   "outputs": [
    {
     "data": {
      "text/plain": [
       "<matplotlib.collections.PathCollection at 0x7f94d37f9970>"
      ]
     },
     "execution_count": 32,
     "metadata": {},
     "output_type": "execute_result"
    },
    {
     "data": {
      "image/png": "[encoded data removed]",
      "text/plain": [
       "<Figure size 432x288 with 1 Axes>"
      ]
     },
     "metadata": {
      "needs_background": "light"
     },
     "output_type": "display_data"
    }
   ],
   "source": [
    "plt.scatter(data=df2, x='group_type', y='reviewer_score')"
   ]
  },
  {
   "cell_type": "code",
   "execution_count": 37,
   "id": "dac9697e",
   "metadata": {},
   "outputs": [],
   "source": [
    "def plot_categorical_and_continuous_vars(df, cat_col, cont_col):\n",
    "    fig, ax = plt.subplots(ncols=2, figsize=(14, 8))\n",
    "    sns.boxplot(x=cat_col, y=cont_col, data=df, ax=ax[0])\n",
    "    sns.barplot(x=cat_col, y=cont_col, data=df, ax=ax[1])\n",
    "    return plt.show()"
   ]
  },
  {
   "cell_type": "code",
   "execution_count": 38,
   "id": "cb0973c9",
   "metadata": {},
   "outputs": [
    {
     "data": {
      "image/png": "[encoded data removed]",
      "text/plain": [
       "<Figure size 1008x576 with 2 Axes>"
      ]
     },
     "metadata": {
      "needs_background": "light"
     },
     "output_type": "display_data"
    }
   ],
   "source": [
    "plot_categorical_and_continuous_vars(df2, 'group_type', 'reviewer_score' )"
   ]
  },
  {
   "cell_type": "code",
   "execution_count": 42,
   "id": "173917fb",
   "metadata": {},
   "outputs": [
    {
     "data": {
      "text/plain": [
       "<AxesSubplot:xlabel='group_type', ylabel='reviewer_score'>"
      ]
     },
     "execution_count": 42,
     "metadata": {},
     "output_type": "execute_result"
    },
    {
     "data": {
      "image/png": "[encoded data removed]",
      "text/plain": [
       "<Figure size 432x288 with 1 Axes>"
      ]
     },
     "metadata": {
      "needs_background": "light"
     },
     "output_type": "display_data"
    }
   ],
   "source": [
    "\n",
    "sns.boxplot(x='group_type', y='reviewer_score', data=df2)"
   ]
  },
  {
   "cell_type": "code",
   "execution_count": 43,
   "id": "fbf8d5c7",
   "metadata": {},
   "outputs": [
    {
     "data": {
      "text/plain": [
       "<AxesSubplot:xlabel='trip_type', ylabel='reviewer_score'>"
      ]
     },
     "execution_count": 43,
     "metadata": {},
     "output_type": "execute_result"
    },
    {
     "data": {
      "image/png": "[encoded data removed]",
      "text/plain": [
       "<Figure size 432x288 with 1 Axes>"
      ]
     },
     "metadata": {
      "needs_background": "light"
     },
     "output_type": "display_data"
    }
   ],
   "source": [
    "sns.boxplot(x='trip_type', y='reviewer_score', data=df2)"
   ]
  },
  {
   "cell_type": "code",
   "execution_count": 44,
   "id": "c355f3a4",
   "metadata": {},
   "outputs": [
    {
     "data": {
      "text/plain": [
       "<AxesSubplot:xlabel='nights_stayed', ylabel='reviewer_score'>"
      ]
     },
     "execution_count": 44,
     "metadata": {},
     "output_type": "execute_result"
    },
    {
     "data": {
      "image/png": "[encoded data removed]",
      "text/plain": [
       "<Figure size 432x288 with 1 Axes>"
      ]
     },
     "metadata": {
      "needs_background": "light"
     },
     "output_type": "display_data"
    }
   ],
   "source": [
    "sns.boxplot(x='nights_stayed', y='reviewer_score', data=df2)"
   ]
  },
  {
   "cell_type": "code",
   "execution_count": 46,
   "id": "92304f31",
   "metadata": {},
   "outputs": [
    {
     "data": {
      "text/html": [
       "<div>\n",
       "<style scoped>\n",
       "    .dataframe tbody tr th:only-of-type {\n",
       "        vertical-align: middle;\n",
       "    }\n",
       "\n",
       "    .dataframe tbody tr th {\n",
       "        vertical-align: top;\n",
       "    }\n",
       "\n",
       "    .dataframe thead th {\n",
       "        text-align: right;\n",
       "    }\n",
       "</style>\n",
       "<table border=\"1\" class=\"dataframe\">\n",
       "  <thead>\n",
       "    <tr style=\"text-align: right;\">\n",
       "      <th></th>\n",
       "      <th>additional_number_of_scoring</th>\n",
       "      <th>average_score</th>\n",
       "      <th>hotel_name</th>\n",
       "      <th>reviewer_nationality</th>\n",
       "      <th>negative_review</th>\n",
       "      <th>review_total_negative_word_counts</th>\n",
       "      <th>total_number_of_reviews</th>\n",
       "      <th>positive_review</th>\n",
       "      <th>review_total_positive_word_counts</th>\n",
       "      <th>total_number_of_reviews_reviewer_has_given</th>\n",
       "      <th>...</th>\n",
       "      <th>positive_clean_review</th>\n",
       "      <th>negative_clean_review</th>\n",
       "      <th>positive_stem</th>\n",
       "      <th>negative_stem</th>\n",
       "      <th>positive_lemma</th>\n",
       "      <th>negative_lemma</th>\n",
       "      <th>pos_sentiment_score</th>\n",
       "      <th>neg_sentiment_score</th>\n",
       "      <th>pos_lem_sentiment_score</th>\n",
       "      <th>neg_lem_sentiment_score</th>\n",
       "    </tr>\n",
       "  </thead>\n",
       "  <tbody>\n",
       "    <tr>\n",
       "      <th>24</th>\n",
       "      <td>834</td>\n",
       "      <td>9.1</td>\n",
       "      <td>Hotel Esther a</td>\n",
       "      <td>Canada</td>\n",
       "      <td>Staff were not as good at providing suggestio...</td>\n",
       "      <td>14</td>\n",
       "      <td>4687</td>\n",
       "      <td>NaN</td>\n",
       "      <td>0</td>\n",
       "      <td>1</td>\n",
       "      <td>...</td>\n",
       "      <td>NaN</td>\n",
       "      <td>staff good providing suggestions would expected</td>\n",
       "      <td>NaN</td>\n",
       "      <td>staff good provid suggest would expect</td>\n",
       "      <td>NaN</td>\n",
       "      <td>staff good providing suggestion would expected</td>\n",
       "      <td>0.0000</td>\n",
       "      <td>0.4404</td>\n",
       "      <td>0.0000</td>\n",
       "      <td>0.4404</td>\n",
       "    </tr>\n",
       "    <tr>\n",
       "      <th>25</th>\n",
       "      <td>834</td>\n",
       "      <td>9.1</td>\n",
       "      <td>Hotel Esther a</td>\n",
       "      <td>United Kingdom</td>\n",
       "      <td>NaN</td>\n",
       "      <td>0</td>\n",
       "      <td>4687</td>\n",
       "      <td>Free hot drinks and snacks Beautiful hotel on...</td>\n",
       "      <td>15</td>\n",
       "      <td>3</td>\n",
       "      <td>...</td>\n",
       "      <td>free hot drinks snacks beautiful hotel singel ...</td>\n",
       "      <td>NaN</td>\n",
       "      <td>free hot drink snack beauti hotel singel room ...</td>\n",
       "      <td>NaN</td>\n",
       "      <td>free hot drink snack beautiful hotel singel ro...</td>\n",
       "      <td>NaN</td>\n",
       "      <td>0.9001</td>\n",
       "      <td>0.0000</td>\n",
       "      <td>0.9001</td>\n",
       "      <td>0.0000</td>\n",
       "    </tr>\n",
       "    <tr>\n",
       "      <th>27</th>\n",
       "      <td>834</td>\n",
       "      <td>9.1</td>\n",
       "      <td>Hotel Esther a</td>\n",
       "      <td>United States of America</td>\n",
       "      <td>NaN</td>\n",
       "      <td>0</td>\n",
       "      <td>4687</td>\n",
       "      <td>I visited few EU countries during my trip and...</td>\n",
       "      <td>21</td>\n",
       "      <td>1</td>\n",
       "      <td>...</td>\n",
       "      <td>visited eu countries trip far best hotel stayed</td>\n",
       "      <td>NaN</td>\n",
       "      <td>visit eu countri trip far best hotel stay</td>\n",
       "      <td>NaN</td>\n",
       "      <td>visited eu country trip far best hotel stayed</td>\n",
       "      <td>NaN</td>\n",
       "      <td>0.6369</td>\n",
       "      <td>0.0000</td>\n",
       "      <td>0.6369</td>\n",
       "      <td>0.0000</td>\n",
       "    </tr>\n",
       "    <tr>\n",
       "      <th>28</th>\n",
       "      <td>834</td>\n",
       "      <td>9.1</td>\n",
       "      <td>Hotel Esther a</td>\n",
       "      <td>United States of America</td>\n",
       "      <td>NaN</td>\n",
       "      <td>0</td>\n",
       "      <td>4687</td>\n",
       "      <td>Location and staff</td>\n",
       "      <td>4</td>\n",
       "      <td>1</td>\n",
       "      <td>...</td>\n",
       "      <td>location staff</td>\n",
       "      <td>NaN</td>\n",
       "      <td>locat staff</td>\n",
       "      <td>NaN</td>\n",
       "      <td>location staff</td>\n",
       "      <td>NaN</td>\n",
       "      <td>0.0000</td>\n",
       "      <td>0.0000</td>\n",
       "      <td>0.0000</td>\n",
       "      <td>0.0000</td>\n",
       "    </tr>\n",
       "    <tr>\n",
       "      <th>33</th>\n",
       "      <td>834</td>\n",
       "      <td>9.1</td>\n",
       "      <td>Hotel Esther a</td>\n",
       "      <td>Argentina</td>\n",
       "      <td>NaN</td>\n",
       "      <td>0</td>\n",
       "      <td>4687</td>\n",
       "      <td>Everything</td>\n",
       "      <td>2</td>\n",
       "      <td>9</td>\n",
       "      <td>...</td>\n",
       "      <td>everything</td>\n",
       "      <td>NaN</td>\n",
       "      <td>everyth</td>\n",
       "      <td>NaN</td>\n",
       "      <td>everything</td>\n",
       "      <td>NaN</td>\n",
       "      <td>0.0000</td>\n",
       "      <td>0.0000</td>\n",
       "      <td>0.0000</td>\n",
       "      <td>0.0000</td>\n",
       "    </tr>\n",
       "  </tbody>\n",
       "</table>\n",
       "<p>5 rows × 38 columns</p>\n",
       "</div>"
      ],
      "text/plain": [
       "    additional_number_of_scoring  average_score      hotel_name  \\\n",
       "24                           834            9.1  Hotel Esther a   \n",
       "25                           834            9.1  Hotel Esther a   \n",
       "27                           834            9.1  Hotel Esther a   \n",
       "28                           834            9.1  Hotel Esther a   \n",
       "33                           834            9.1  Hotel Esther a   \n",
       "\n",
       "          reviewer_nationality  \\\n",
       "24                     Canada    \n",
       "25             United Kingdom    \n",
       "27   United States of America    \n",
       "28   United States of America    \n",
       "33                  Argentina    \n",
       "\n",
       "                                      negative_review  \\\n",
       "24   Staff were not as good at providing suggestio...   \n",
       "25                                                NaN   \n",
       "27                                                NaN   \n",
       "28                                                NaN   \n",
       "33                                                NaN   \n",
       "\n",
       "    review_total_negative_word_counts  total_number_of_reviews  \\\n",
       "24                                 14                     4687   \n",
       "25                                  0                     4687   \n",
       "27                                  0                     4687   \n",
       "28                                  0                     4687   \n",
       "33                                  0                     4687   \n",
       "\n",
       "                                      positive_review  \\\n",
       "24                                                NaN   \n",
       "25   Free hot drinks and snacks Beautiful hotel on...   \n",
       "27   I visited few EU countries during my trip and...   \n",
       "28                                 Location and staff   \n",
       "33                                         Everything   \n",
       "\n",
       "    review_total_positive_word_counts  \\\n",
       "24                                  0   \n",
       "25                                 15   \n",
       "27                                 21   \n",
       "28                                  4   \n",
       "33                                  2   \n",
       "\n",
       "    total_number_of_reviews_reviewer_has_given  ...  \\\n",
       "24                                           1  ...   \n",
       "25                                           3  ...   \n",
       "27                                           1  ...   \n",
       "28                                           1  ...   \n",
       "33                                           9  ...   \n",
       "\n",
       "                                positive_clean_review  \\\n",
       "24                                                NaN   \n",
       "25  free hot drinks snacks beautiful hotel singel ...   \n",
       "27    visited eu countries trip far best hotel stayed   \n",
       "28                                     location staff   \n",
       "33                                         everything   \n",
       "\n",
       "                              negative_clean_review  \\\n",
       "24  staff good providing suggestions would expected   \n",
       "25                                              NaN   \n",
       "27                                              NaN   \n",
       "28                                              NaN   \n",
       "33                                              NaN   \n",
       "\n",
       "                                        positive_stem  \\\n",
       "24                                                NaN   \n",
       "25  free hot drink snack beauti hotel singel room ...   \n",
       "27          visit eu countri trip far best hotel stay   \n",
       "28                                        locat staff   \n",
       "33                                            everyth   \n",
       "\n",
       "                             negative_stem  \\\n",
       "24  staff good provid suggest would expect   \n",
       "25                                     NaN   \n",
       "27                                     NaN   \n",
       "28                                     NaN   \n",
       "33                                     NaN   \n",
       "\n",
       "                                       positive_lemma  \\\n",
       "24                                                NaN   \n",
       "25  free hot drink snack beautiful hotel singel ro...   \n",
       "27      visited eu country trip far best hotel stayed   \n",
       "28                                     location staff   \n",
       "33                                         everything   \n",
       "\n",
       "                                    negative_lemma pos_sentiment_score  \\\n",
       "24  staff good providing suggestion would expected              0.0000   \n",
       "25                                             NaN              0.9001   \n",
       "27                                             NaN              0.6369   \n",
       "28                                             NaN              0.0000   \n",
       "33                                             NaN              0.0000   \n",
       "\n",
       "   neg_sentiment_score  pos_lem_sentiment_score neg_lem_sentiment_score  \n",
       "24              0.4404                   0.0000                  0.4404  \n",
       "25              0.0000                   0.9001                  0.0000  \n",
       "27              0.0000                   0.6369                  0.0000  \n",
       "28              0.0000                   0.0000                  0.0000  \n",
       "33              0.0000                   0.0000                  0.0000  \n",
       "\n",
       "[5 rows x 38 columns]"
      ]
     },
     "execution_count": 46,
     "metadata": {},
     "output_type": "execute_result"
    }
   ],
   "source": [
    "hotel_1 = df[df['hotel_name'] == 'Hotel Esther a']\n",
    "hotel_1.head()"
   ]
  },
  {
   "cell_type": "code",
   "execution_count": 47,
   "id": "76171c33",
   "metadata": {},
   "outputs": [
    {
     "data": {
      "text/plain": [
       "<AxesSubplot:xlabel='reviewer_nationality', ylabel='reviewer_score'>"
      ]
     },
     "execution_count": 47,
     "metadata": {},
     "output_type": "execute_result"
    },
    {
     "data": {
      "image/png": "[encoded data removed]",
      "text/plain": [
       "<Figure size 432x288 with 1 Axes>"
      ]
     },
     "metadata": {
      "needs_background": "light"
     },
     "output_type": "display_data"
    }
   ],
   "source": [
    "sns.boxplot(x='reviewer_nationality', y='reviewer_score', data=hotel_1)"
   ]
  },
  {
   "cell_type": "code",
   "execution_count": 48,
   "id": "2a8ebff6",
   "metadata": {},
   "outputs": [
    {
     "data": {
      "text/plain": [
       "<AxesSubplot:xlabel='nights_stayed', ylabel='reviewer_score'>"
      ]
     },
     "execution_count": 48,
     "metadata": {},
     "output_type": "execute_result"
    },
    {
     "data": {
      "image/png": "[encoded data removed]",
      "text/plain": [
       "<Figure size 432x288 with 1 Axes>"
      ]
     },
     "metadata": {
      "needs_background": "light"
     },
     "output_type": "display_data"
    }
   ],
   "source": [
    "sns.boxplot(x='nights_stayed', y='reviewer_score', data=hotel_1)"
   ]
  },
  {
   "cell_type": "code",
   "execution_count": 49,
   "id": "64b22f40",
   "metadata": {},
   "outputs": [
    {
     "data": {
      "text/plain": [
       "<AxesSubplot:xlabel='trip_type', ylabel='reviewer_score'>"
      ]
     },
     "execution_count": 49,
     "metadata": {},
     "output_type": "execute_result"
    },
    {
     "data": {
      "image/png": "[encoded data removed]",
      "text/plain": [
       "<Figure size 432x288 with 1 Axes>"
      ]
     },
     "metadata": {
      "needs_background": "light"
     },
     "output_type": "display_data"
    }
   ],
   "source": [
    "sns.boxplot(x='trip_type', y='reviewer_score', data=hotel_1)"
   ]
  },
  {
   "cell_type": "code",
   "execution_count": 50,
   "id": "33ace805",
   "metadata": {},
   "outputs": [
    {
     "data": {
      "text/plain": [
       "<AxesSubplot:xlabel='group_type', ylabel='reviewer_score'>"
      ]
     },
     "execution_count": 50,
     "metadata": {},
     "output_type": "execute_result"
    },
    {
     "data": {
      "image/png": "[encoded data removed]",
      "text/plain": [
       "<Figure size 432x288 with 1 Axes>"
      ]
     },
     "metadata": {
      "needs_background": "light"
     },
     "output_type": "display_data"
    }
   ],
   "source": [
    "sns.boxplot(x='group_type', y='reviewer_score', data=hotel_1)"
   ]
  },
  {
   "cell_type": "code",
   "execution_count": 51,
   "id": "8f374f4a",
   "metadata": {},
   "outputs": [
    {
     "data": {
      "text/plain": [
       "<AxesSubplot:xlabel='month'>"
      ]
     },
     "execution_count": 51,
     "metadata": {},
     "output_type": "execute_result"
    },
    {
     "data": {
      "image/png": "[encoded data removed]",
      "text/plain": [
       "<Figure size 432x288 with 1 Axes>"
      ]
     },
     "metadata": {
      "needs_background": "light"
     },
     "output_type": "display_data"
    }
   ],
   "source": [
    "df2.groupby(df2.month).reviewer_score.mean().plot.bar()"
   ]
  },
  {
   "cell_type": "code",
   "execution_count": 52,
   "id": "f0e33d0b",
   "metadata": {},
   "outputs": [
    {
     "data": {
      "text/plain": [
       "<AxesSubplot:xlabel='total_number_of_reviews_reviewer_has_given', ylabel='reviewer_score'>"
      ]
     },
     "execution_count": 52,
     "metadata": {},
     "output_type": "execute_result"
    },
    {
     "data": {
      "image/png": "[encoded data removed]",
      "text/plain": [
       "<Figure size 432x288 with 1 Axes>"
      ]
     },
     "metadata": {
      "needs_background": "light"
     },
     "output_type": "display_data"
    }
   ],
   "source": [
    "sns.scatterplot(x='total_number_of_reviews_reviewer_has_given', y='reviewer_score', data=df2)"
   ]
  },
  {
   "cell_type": "code",
   "execution_count": 62,
   "id": "91a86a08",
   "metadata": {},
   "outputs": [
    {
     "data": {
      "text/html": [
       "<div>\n",
       "<style scoped>\n",
       "    .dataframe tbody tr th:only-of-type {\n",
       "        vertical-align: middle;\n",
       "    }\n",
       "\n",
       "    .dataframe tbody tr th {\n",
       "        vertical-align: top;\n",
       "    }\n",
       "\n",
       "    .dataframe thead th {\n",
       "        text-align: right;\n",
       "    }\n",
       "</style>\n",
       "<table border=\"1\" class=\"dataframe\">\n",
       "  <thead>\n",
       "    <tr style=\"text-align: right;\">\n",
       "      <th></th>\n",
       "      <th>hotel_name</th>\n",
       "      <th>average_score</th>\n",
       "      <th>total_number_of_reviews</th>\n",
       "    </tr>\n",
       "  </thead>\n",
       "  <tbody>\n",
       "    <tr>\n",
       "      <th>3</th>\n",
       "      <td>Novotel Amsterdam City</td>\n",
       "      <td>7.8</td>\n",
       "      <td>2501</td>\n",
       "    </tr>\n",
       "    <tr>\n",
       "      <th>24</th>\n",
       "      <td>Hotel Esther a</td>\n",
       "      <td>9.1</td>\n",
       "      <td>4687</td>\n",
       "    </tr>\n",
       "    <tr>\n",
       "      <th>25</th>\n",
       "      <td>Hotel Esther a</td>\n",
       "      <td>9.1</td>\n",
       "      <td>4687</td>\n",
       "    </tr>\n",
       "    <tr>\n",
       "      <th>27</th>\n",
       "      <td>Hotel Esther a</td>\n",
       "      <td>9.1</td>\n",
       "      <td>4687</td>\n",
       "    </tr>\n",
       "    <tr>\n",
       "      <th>28</th>\n",
       "      <td>Hotel Esther a</td>\n",
       "      <td>9.1</td>\n",
       "      <td>4687</td>\n",
       "    </tr>\n",
       "  </tbody>\n",
       "</table>\n",
       "</div>"
      ],
      "text/plain": [
       "                hotel_name  average_score  total_number_of_reviews\n",
       "3   Novotel Amsterdam City            7.8                     2501\n",
       "24          Hotel Esther a            9.1                     4687\n",
       "25          Hotel Esther a            9.1                     4687\n",
       "27          Hotel Esther a            9.1                     4687\n",
       "28          Hotel Esther a            9.1                     4687"
      ]
     },
     "execution_count": 62,
     "metadata": {},
     "output_type": "execute_result"
    }
   ],
   "source": [
    "hotel_group = df2[['hotel_name', 'average_score', 'total_number_of_reviews']]\n",
    "hotel_group.head()"
   ]
  },
  {
   "cell_type": "code",
   "execution_count": 63,
   "id": "1f03c2fc",
   "metadata": {},
   "outputs": [
    {
     "data": {
      "text/plain": [
       "(57214, 3)"
      ]
     },
     "execution_count": 63,
     "metadata": {},
     "output_type": "execute_result"
    }
   ],
   "source": [
    "hotel_group.shape"
   ]
  },
  {
   "cell_type": "code",
   "execution_count": 65,
   "id": "76448598",
   "metadata": {},
   "outputs": [
    {
     "name": "stderr",
     "output_type": "stream",
     "text": [
      "/opt/anaconda3/lib/python3.9/site-packages/pandas/util/_decorators.py:311: SettingWithCopyWarning: \n",
      "A value is trying to be set on a copy of a slice from a DataFrame\n",
      "\n",
      "See the caveats in the documentation: https://pandas.pydata.org/pandas-docs/stable/user_guide/indexing.html#returning-a-view-versus-a-copy\n",
      "  return func(*args, **kwargs)\n"
     ]
    },
    {
     "data": {
      "text/html": [
       "<div>\n",
       "<style scoped>\n",
       "    .dataframe tbody tr th:only-of-type {\n",
       "        vertical-align: middle;\n",
       "    }\n",
       "\n",
       "    .dataframe tbody tr th {\n",
       "        vertical-align: top;\n",
       "    }\n",
       "\n",
       "    .dataframe thead th {\n",
       "        text-align: right;\n",
       "    }\n",
       "</style>\n",
       "<table border=\"1\" class=\"dataframe\">\n",
       "  <thead>\n",
       "    <tr style=\"text-align: right;\">\n",
       "      <th></th>\n",
       "      <th>hotel_name</th>\n",
       "      <th>average_score</th>\n",
       "      <th>total_number_of_reviews</th>\n",
       "    </tr>\n",
       "  </thead>\n",
       "  <tbody>\n",
       "    <tr>\n",
       "      <th>3</th>\n",
       "      <td>Novotel Amsterdam City</td>\n",
       "      <td>7.8</td>\n",
       "      <td>2501</td>\n",
       "    </tr>\n",
       "    <tr>\n",
       "      <th>24</th>\n",
       "      <td>Hotel Esther a</td>\n",
       "      <td>9.1</td>\n",
       "      <td>4687</td>\n",
       "    </tr>\n",
       "    <tr>\n",
       "      <th>34</th>\n",
       "      <td>Grand Hotel Amr th Amsterdam</td>\n",
       "      <td>8.3</td>\n",
       "      <td>1530</td>\n",
       "    </tr>\n",
       "    <tr>\n",
       "      <th>82</th>\n",
       "      <td>Amsterdam Canal Residence</td>\n",
       "      <td>8.3</td>\n",
       "      <td>255</td>\n",
       "    </tr>\n",
       "    <tr>\n",
       "      <th>99</th>\n",
       "      <td>Grand Hotel Downtown</td>\n",
       "      <td>7.5</td>\n",
       "      <td>1270</td>\n",
       "    </tr>\n",
       "    <tr>\n",
       "      <th>...</th>\n",
       "      <td>...</td>\n",
       "      <td>...</td>\n",
       "      <td>...</td>\n",
       "    </tr>\n",
       "    <tr>\n",
       "      <th>260877</th>\n",
       "      <td>Hotel V Fizeaustraat</td>\n",
       "      <td>9.1</td>\n",
       "      <td>1708</td>\n",
       "    </tr>\n",
       "    <tr>\n",
       "      <th>349368</th>\n",
       "      <td>Sir Adam Hotel</td>\n",
       "      <td>9.0</td>\n",
       "      <td>361</td>\n",
       "    </tr>\n",
       "    <tr>\n",
       "      <th>379080</th>\n",
       "      <td>Pillows Anna van den Vondel Amsterdam</td>\n",
       "      <td>9.4</td>\n",
       "      <td>161</td>\n",
       "    </tr>\n",
       "    <tr>\n",
       "      <th>419179</th>\n",
       "      <td>Chasse Hotel</td>\n",
       "      <td>8.9</td>\n",
       "      <td>404</td>\n",
       "    </tr>\n",
       "    <tr>\n",
       "      <th>431989</th>\n",
       "      <td>Hyatt Regency Amsterdam</td>\n",
       "      <td>8.8</td>\n",
       "      <td>293</td>\n",
       "    </tr>\n",
       "  </tbody>\n",
       "</table>\n",
       "<p>105 rows × 3 columns</p>\n",
       "</div>"
      ],
      "text/plain": [
       "                                   hotel_name  average_score  \\\n",
       "3                      Novotel Amsterdam City            7.8   \n",
       "24                             Hotel Esther a            9.1   \n",
       "34               Grand Hotel Amr th Amsterdam            8.3   \n",
       "82                  Amsterdam Canal Residence            8.3   \n",
       "99                       Grand Hotel Downtown            7.5   \n",
       "...                                       ...            ...   \n",
       "260877                   Hotel V Fizeaustraat            9.1   \n",
       "349368                         Sir Adam Hotel            9.0   \n",
       "379080  Pillows Anna van den Vondel Amsterdam            9.4   \n",
       "419179                           Chasse Hotel            8.9   \n",
       "431989                Hyatt Regency Amsterdam            8.8   \n",
       "\n",
       "        total_number_of_reviews  \n",
       "3                          2501  \n",
       "24                         4687  \n",
       "34                         1530  \n",
       "82                          255  \n",
       "99                         1270  \n",
       "...                         ...  \n",
       "260877                     1708  \n",
       "349368                      361  \n",
       "379080                      161  \n",
       "419179                      404  \n",
       "431989                      293  \n",
       "\n",
       "[105 rows x 3 columns]"
      ]
     },
     "execution_count": 65,
     "metadata": {},
     "output_type": "execute_result"
    }
   ],
   "source": [
    "hotel_group.drop_duplicates(inplace=True)\n",
    "hotel_group"
   ]
  },
  {
   "cell_type": "code",
   "execution_count": 66,
   "id": "458d9af8",
   "metadata": {},
   "outputs": [
    {
     "data": {
      "text/plain": [
       "<AxesSubplot:xlabel='total_number_of_reviews', ylabel='average_score'>"
      ]
     },
     "execution_count": 66,
     "metadata": {},
     "output_type": "execute_result"
    },
    {
     "data": {
      "image/png": "[encoded data removed]",
      "text/plain": [
       "<Figure size 432x288 with 1 Axes>"
      ]
     },
     "metadata": {
      "needs_background": "light"
     },
     "output_type": "display_data"
    }
   ],
   "source": [
    "sns.scatterplot(x='total_number_of_reviews', y='average_score', data=hotel_group)"
   ]
  },
  {
   "cell_type": "code",
   "execution_count": 72,
   "id": "898307f3",
   "metadata": {},
   "outputs": [
    {
     "data": {
      "text/html": [
       "<div>\n",
       "<style scoped>\n",
       "    .dataframe tbody tr th:only-of-type {\n",
       "        vertical-align: middle;\n",
       "    }\n",
       "\n",
       "    .dataframe tbody tr th {\n",
       "        vertical-align: top;\n",
       "    }\n",
       "\n",
       "    .dataframe thead th {\n",
       "        text-align: right;\n",
       "    }\n",
       "</style>\n",
       "<table border=\"1\" class=\"dataframe\">\n",
       "  <thead>\n",
       "    <tr style=\"text-align: right;\">\n",
       "      <th></th>\n",
       "      <th>additional_number_of_scoring</th>\n",
       "      <th>average_score</th>\n",
       "      <th>hotel_name</th>\n",
       "      <th>reviewer_nationality</th>\n",
       "      <th>negative_review</th>\n",
       "      <th>review_total_negative_word_counts</th>\n",
       "      <th>total_number_of_reviews</th>\n",
       "      <th>positive_review</th>\n",
       "      <th>review_total_positive_word_counts</th>\n",
       "      <th>total_number_of_reviews_reviewer_has_given</th>\n",
       "      <th>...</th>\n",
       "      <th>positive_clean_review</th>\n",
       "      <th>negative_clean_review</th>\n",
       "      <th>positive_stem</th>\n",
       "      <th>negative_stem</th>\n",
       "      <th>positive_lemma</th>\n",
       "      <th>negative_lemma</th>\n",
       "      <th>pos_sentiment_score</th>\n",
       "      <th>neg_sentiment_score</th>\n",
       "      <th>pos_lem_sentiment_score</th>\n",
       "      <th>neg_lem_sentiment_score</th>\n",
       "    </tr>\n",
       "  </thead>\n",
       "  <tbody>\n",
       "    <tr>\n",
       "      <th>34</th>\n",
       "      <td>207</td>\n",
       "      <td>8.3</td>\n",
       "      <td>Grand Hotel Amr th Amsterdam</td>\n",
       "      <td>Ireland</td>\n",
       "      <td>The only fault I had with this hotel was with...</td>\n",
       "      <td>40</td>\n",
       "      <td>1530</td>\n",
       "      <td>The hotel was of an exceptionally high standa...</td>\n",
       "      <td>44</td>\n",
       "      <td>3</td>\n",
       "      <td>...</td>\n",
       "      <td>hotel exceptionally high standard every regard...</td>\n",
       "      <td>fault hotel th spa really disappointed teas sa...</td>\n",
       "      <td>hotel except high standard everi regard centra...</td>\n",
       "      <td>fault hotel th spa realli disappoint tea sage ...</td>\n",
       "      <td>hotel exceptionally high standard every regard...</td>\n",
       "      <td>fault hotel th spa really disappointed tea sag...</td>\n",
       "      <td>0.8773</td>\n",
       "      <td>-0.7727</td>\n",
       "      <td>0.8773</td>\n",
       "      <td>-0.8070</td>\n",
       "    </tr>\n",
       "    <tr>\n",
       "      <th>189</th>\n",
       "      <td>498</td>\n",
       "      <td>8.6</td>\n",
       "      <td>Mercure Amsterdam Sloterdijk Station</td>\n",
       "      <td>United Kingdom</td>\n",
       "      <td>health and safety issues trip hazards dirty c...</td>\n",
       "      <td>63</td>\n",
       "      <td>3643</td>\n",
       "      <td>nice staff in restaurant food ok</td>\n",
       "      <td>7</td>\n",
       "      <td>1</td>\n",
       "      <td>...</td>\n",
       "      <td>nice staff restaurant food ok</td>\n",
       "      <td>health safety issues trip hazards dirty cups u...</td>\n",
       "      <td>nice staff restaur food ok</td>\n",
       "      <td>health safeti issu trip hazard dirti cup un cl...</td>\n",
       "      <td>nice staff restaurant food ok</td>\n",
       "      <td>health safety issue trip hazard dirty cup un c...</td>\n",
       "      <td>0.6124</td>\n",
       "      <td>-0.5267</td>\n",
       "      <td>0.6124</td>\n",
       "      <td>-0.5267</td>\n",
       "    </tr>\n",
       "    <tr>\n",
       "      <th>190</th>\n",
       "      <td>498</td>\n",
       "      <td>8.6</td>\n",
       "      <td>Mercure Amsterdam Sloterdijk Station</td>\n",
       "      <td>United Kingdom</td>\n",
       "      <td>I have been charged twice for the booking onc...</td>\n",
       "      <td>69</td>\n",
       "      <td>3643</td>\n",
       "      <td>Good location friendly staff new hotel great ...</td>\n",
       "      <td>13</td>\n",
       "      <td>3</td>\n",
       "      <td>...</td>\n",
       "      <td>good location friendly staff new hotel great v...</td>\n",
       "      <td>charged twice booking time booking via booking...</td>\n",
       "      <td>good locat friendli staff new hotel great view...</td>\n",
       "      <td>charg twice book time book via book com 20 06 ...</td>\n",
       "      <td>good location friendly staff new hotel great v...</td>\n",
       "      <td>charged twice booking time booking via booking...</td>\n",
       "      <td>0.8807</td>\n",
       "      <td>-0.7506</td>\n",
       "      <td>0.8807</td>\n",
       "      <td>-0.7506</td>\n",
       "    </tr>\n",
       "    <tr>\n",
       "      <th>306</th>\n",
       "      <td>498</td>\n",
       "      <td>8.6</td>\n",
       "      <td>Mercure Amsterdam Sloterdijk Station</td>\n",
       "      <td>Malaysia</td>\n",
       "      <td>The acoustics A problem if you have noisy nei...</td>\n",
       "      <td>14</td>\n",
       "      <td>3643</td>\n",
       "      <td>Friendly and helpful staff Good size room</td>\n",
       "      <td>9</td>\n",
       "      <td>5</td>\n",
       "      <td>...</td>\n",
       "      <td>friendly helpful staff good size room</td>\n",
       "      <td>acoustics problem noisy neighbors banging doors</td>\n",
       "      <td>friendli help staff good size room</td>\n",
       "      <td>acoust problem noisi neighbor bang door</td>\n",
       "      <td>friendly helpful staff good size room</td>\n",
       "      <td>acoustic problem noisy neighbor banging door</td>\n",
       "      <td>0.8360</td>\n",
       "      <td>-0.5267</td>\n",
       "      <td>0.8360</td>\n",
       "      <td>-0.5267</td>\n",
       "    </tr>\n",
       "    <tr>\n",
       "      <th>320</th>\n",
       "      <td>297</td>\n",
       "      <td>8.3</td>\n",
       "      <td>Park Hotel</td>\n",
       "      <td>United Kingdom</td>\n",
       "      <td>Front desk staff was very unfriendly upon che...</td>\n",
       "      <td>79</td>\n",
       "      <td>2027</td>\n",
       "      <td>Conveniently located to where we needed to be</td>\n",
       "      <td>10</td>\n",
       "      <td>13</td>\n",
       "      <td>...</td>\n",
       "      <td>conveniently located needed</td>\n",
       "      <td>front desk staff unfriendly upon checkin appea...</td>\n",
       "      <td>conveni locat need</td>\n",
       "      <td>front desk staff unfriendli upon checkin appea...</td>\n",
       "      <td>conveniently located needed</td>\n",
       "      <td>front desk staff unfriendly upon checkin appea...</td>\n",
       "      <td>0.0000</td>\n",
       "      <td>-0.5859</td>\n",
       "      <td>0.0000</td>\n",
       "      <td>-0.5859</td>\n",
       "    </tr>\n",
       "  </tbody>\n",
       "</table>\n",
       "<p>5 rows × 38 columns</p>\n",
       "</div>"
      ],
      "text/plain": [
       "     additional_number_of_scoring  average_score  \\\n",
       "34                            207            8.3   \n",
       "189                           498            8.6   \n",
       "190                           498            8.6   \n",
       "306                           498            8.6   \n",
       "320                           297            8.3   \n",
       "\n",
       "                               hotel_name reviewer_nationality  \\\n",
       "34           Grand Hotel Amr th Amsterdam             Ireland    \n",
       "189  Mercure Amsterdam Sloterdijk Station      United Kingdom    \n",
       "190  Mercure Amsterdam Sloterdijk Station      United Kingdom    \n",
       "306  Mercure Amsterdam Sloterdijk Station            Malaysia    \n",
       "320                            Park Hotel      United Kingdom    \n",
       "\n",
       "                                       negative_review  \\\n",
       "34    The only fault I had with this hotel was with...   \n",
       "189   health and safety issues trip hazards dirty c...   \n",
       "190   I have been charged twice for the booking onc...   \n",
       "306   The acoustics A problem if you have noisy nei...   \n",
       "320   Front desk staff was very unfriendly upon che...   \n",
       "\n",
       "     review_total_negative_word_counts  total_number_of_reviews  \\\n",
       "34                                  40                     1530   \n",
       "189                                 63                     3643   \n",
       "190                                 69                     3643   \n",
       "306                                 14                     3643   \n",
       "320                                 79                     2027   \n",
       "\n",
       "                                       positive_review  \\\n",
       "34    The hotel was of an exceptionally high standa...   \n",
       "189                   nice staff in restaurant food ok   \n",
       "190   Good location friendly staff new hotel great ...   \n",
       "306         Friendly and helpful staff Good size room    \n",
       "320     Conveniently located to where we needed to be    \n",
       "\n",
       "     review_total_positive_word_counts  \\\n",
       "34                                  44   \n",
       "189                                  7   \n",
       "190                                 13   \n",
       "306                                  9   \n",
       "320                                 10   \n",
       "\n",
       "     total_number_of_reviews_reviewer_has_given  ...  \\\n",
       "34                                            3  ...   \n",
       "189                                           1  ...   \n",
       "190                                           3  ...   \n",
       "306                                           5  ...   \n",
       "320                                          13  ...   \n",
       "\n",
       "                                 positive_clean_review  \\\n",
       "34   hotel exceptionally high standard every regard...   \n",
       "189                      nice staff restaurant food ok   \n",
       "190  good location friendly staff new hotel great v...   \n",
       "306              friendly helpful staff good size room   \n",
       "320                        conveniently located needed   \n",
       "\n",
       "                                 negative_clean_review  \\\n",
       "34   fault hotel th spa really disappointed teas sa...   \n",
       "189  health safety issues trip hazards dirty cups u...   \n",
       "190  charged twice booking time booking via booking...   \n",
       "306    acoustics problem noisy neighbors banging doors   \n",
       "320  front desk staff unfriendly upon checkin appea...   \n",
       "\n",
       "                                         positive_stem  \\\n",
       "34   hotel except high standard everi regard centra...   \n",
       "189                         nice staff restaur food ok   \n",
       "190  good locat friendli staff new hotel great view...   \n",
       "306                 friendli help staff good size room   \n",
       "320                                 conveni locat need   \n",
       "\n",
       "                                         negative_stem  \\\n",
       "34   fault hotel th spa realli disappoint tea sage ...   \n",
       "189  health safeti issu trip hazard dirti cup un cl...   \n",
       "190  charg twice book time book via book com 20 06 ...   \n",
       "306            acoust problem noisi neighbor bang door   \n",
       "320  front desk staff unfriendli upon checkin appea...   \n",
       "\n",
       "                                        positive_lemma  \\\n",
       "34   hotel exceptionally high standard every regard...   \n",
       "189                      nice staff restaurant food ok   \n",
       "190  good location friendly staff new hotel great v...   \n",
       "306              friendly helpful staff good size room   \n",
       "320                        conveniently located needed   \n",
       "\n",
       "                                        negative_lemma pos_sentiment_score  \\\n",
       "34   fault hotel th spa really disappointed tea sag...              0.8773   \n",
       "189  health safety issue trip hazard dirty cup un c...              0.6124   \n",
       "190  charged twice booking time booking via booking...              0.8807   \n",
       "306       acoustic problem noisy neighbor banging door              0.8360   \n",
       "320  front desk staff unfriendly upon checkin appea...              0.0000   \n",
       "\n",
       "    neg_sentiment_score  pos_lem_sentiment_score neg_lem_sentiment_score  \n",
       "34              -0.7727                   0.8773                 -0.8070  \n",
       "189             -0.5267                   0.6124                 -0.5267  \n",
       "190             -0.7506                   0.8807                 -0.7506  \n",
       "306             -0.5267                   0.8360                 -0.5267  \n",
       "320             -0.5859                   0.0000                 -0.5859  \n",
       "\n",
       "[5 rows x 38 columns]"
      ]
     },
     "execution_count": 72,
     "metadata": {},
     "output_type": "execute_result"
    }
   ],
   "source": [
    "neg_df = df2[df2['neg_sentiment_score'] < -0.5]\n",
    "neg_df.head()"
   ]
  },
  {
   "cell_type": "code",
   "execution_count": 73,
   "id": "b2b3275c",
   "metadata": {},
   "outputs": [
    {
     "data": {
      "text/plain": [
       "(3468, 38)"
      ]
     },
     "execution_count": 73,
     "metadata": {},
     "output_type": "execute_result"
    }
   ],
   "source": [
    "neg_df.shape"
   ]
  },
  {
   "cell_type": "code",
   "execution_count": 74,
   "id": "2075cd09",
   "metadata": {},
   "outputs": [
    {
     "data": {
      "text/html": [
       "<div>\n",
       "<style scoped>\n",
       "    .dataframe tbody tr th:only-of-type {\n",
       "        vertical-align: middle;\n",
       "    }\n",
       "\n",
       "    .dataframe tbody tr th {\n",
       "        vertical-align: top;\n",
       "    }\n",
       "\n",
       "    .dataframe thead th {\n",
       "        text-align: right;\n",
       "    }\n",
       "</style>\n",
       "<table border=\"1\" class=\"dataframe\">\n",
       "  <thead>\n",
       "    <tr style=\"text-align: right;\">\n",
       "      <th></th>\n",
       "      <th>additional_number_of_scoring</th>\n",
       "      <th>average_score</th>\n",
       "      <th>hotel_name</th>\n",
       "      <th>reviewer_nationality</th>\n",
       "      <th>negative_review</th>\n",
       "      <th>review_total_negative_word_counts</th>\n",
       "      <th>total_number_of_reviews</th>\n",
       "      <th>positive_review</th>\n",
       "      <th>review_total_positive_word_counts</th>\n",
       "      <th>total_number_of_reviews_reviewer_has_given</th>\n",
       "      <th>...</th>\n",
       "      <th>positive_clean_review</th>\n",
       "      <th>negative_clean_review</th>\n",
       "      <th>positive_stem</th>\n",
       "      <th>negative_stem</th>\n",
       "      <th>positive_lemma</th>\n",
       "      <th>negative_lemma</th>\n",
       "      <th>pos_sentiment_score</th>\n",
       "      <th>neg_sentiment_score</th>\n",
       "      <th>pos_lem_sentiment_score</th>\n",
       "      <th>neg_lem_sentiment_score</th>\n",
       "    </tr>\n",
       "  </thead>\n",
       "  <tbody>\n",
       "    <tr>\n",
       "      <th>3</th>\n",
       "      <td>341</td>\n",
       "      <td>7.8</td>\n",
       "      <td>Novotel Amsterdam City</td>\n",
       "      <td>Austria</td>\n",
       "      <td>NaN</td>\n",
       "      <td>0</td>\n",
       "      <td>2501</td>\n",
       "      <td>Slightly out of the city center but very easy...</td>\n",
       "      <td>27</td>\n",
       "      <td>34</td>\n",
       "      <td>...</td>\n",
       "      <td>slightly city center easy get tram train reall...</td>\n",
       "      <td>NaN</td>\n",
       "      <td>slightli citi center easi get tram train reall...</td>\n",
       "      <td>NaN</td>\n",
       "      <td>slightly city center easy get tram train reall...</td>\n",
       "      <td>NaN</td>\n",
       "      <td>0.9414</td>\n",
       "      <td>0.0000</td>\n",
       "      <td>0.9414</td>\n",
       "      <td>0.000</td>\n",
       "    </tr>\n",
       "    <tr>\n",
       "      <th>25</th>\n",
       "      <td>834</td>\n",
       "      <td>9.1</td>\n",
       "      <td>Hotel Esther a</td>\n",
       "      <td>United Kingdom</td>\n",
       "      <td>NaN</td>\n",
       "      <td>0</td>\n",
       "      <td>4687</td>\n",
       "      <td>Free hot drinks and snacks Beautiful hotel on...</td>\n",
       "      <td>15</td>\n",
       "      <td>3</td>\n",
       "      <td>...</td>\n",
       "      <td>free hot drinks snacks beautiful hotel singel ...</td>\n",
       "      <td>NaN</td>\n",
       "      <td>free hot drink snack beauti hotel singel room ...</td>\n",
       "      <td>NaN</td>\n",
       "      <td>free hot drink snack beautiful hotel singel ro...</td>\n",
       "      <td>NaN</td>\n",
       "      <td>0.9001</td>\n",
       "      <td>0.0000</td>\n",
       "      <td>0.9001</td>\n",
       "      <td>0.000</td>\n",
       "    </tr>\n",
       "    <tr>\n",
       "      <th>27</th>\n",
       "      <td>834</td>\n",
       "      <td>9.1</td>\n",
       "      <td>Hotel Esther a</td>\n",
       "      <td>United States of America</td>\n",
       "      <td>NaN</td>\n",
       "      <td>0</td>\n",
       "      <td>4687</td>\n",
       "      <td>I visited few EU countries during my trip and...</td>\n",
       "      <td>21</td>\n",
       "      <td>1</td>\n",
       "      <td>...</td>\n",
       "      <td>visited eu countries trip far best hotel stayed</td>\n",
       "      <td>NaN</td>\n",
       "      <td>visit eu countri trip far best hotel stay</td>\n",
       "      <td>NaN</td>\n",
       "      <td>visited eu country trip far best hotel stayed</td>\n",
       "      <td>NaN</td>\n",
       "      <td>0.6369</td>\n",
       "      <td>0.0000</td>\n",
       "      <td>0.6369</td>\n",
       "      <td>0.000</td>\n",
       "    </tr>\n",
       "    <tr>\n",
       "      <th>34</th>\n",
       "      <td>207</td>\n",
       "      <td>8.3</td>\n",
       "      <td>Grand Hotel Amr th Amsterdam</td>\n",
       "      <td>Ireland</td>\n",
       "      <td>The only fault I had with this hotel was with...</td>\n",
       "      <td>40</td>\n",
       "      <td>1530</td>\n",
       "      <td>The hotel was of an exceptionally high standa...</td>\n",
       "      <td>44</td>\n",
       "      <td>3</td>\n",
       "      <td>...</td>\n",
       "      <td>hotel exceptionally high standard every regard...</td>\n",
       "      <td>fault hotel th spa really disappointed teas sa...</td>\n",
       "      <td>hotel except high standard everi regard centra...</td>\n",
       "      <td>fault hotel th spa realli disappoint tea sage ...</td>\n",
       "      <td>hotel exceptionally high standard every regard...</td>\n",
       "      <td>fault hotel th spa really disappointed tea sag...</td>\n",
       "      <td>0.8773</td>\n",
       "      <td>-0.7727</td>\n",
       "      <td>0.8773</td>\n",
       "      <td>-0.807</td>\n",
       "    </tr>\n",
       "    <tr>\n",
       "      <th>35</th>\n",
       "      <td>207</td>\n",
       "      <td>8.3</td>\n",
       "      <td>Grand Hotel Amr th Amsterdam</td>\n",
       "      <td>United Kingdom</td>\n",
       "      <td>NaN</td>\n",
       "      <td>0</td>\n",
       "      <td>1530</td>\n",
       "      <td>We arrived early and taken straight to the ro...</td>\n",
       "      <td>30</td>\n",
       "      <td>55</td>\n",
       "      <td>...</td>\n",
       "      <td>arrived early taken straight room wonderful re...</td>\n",
       "      <td>NaN</td>\n",
       "      <td>arriv earli taken straight room wonder recepti...</td>\n",
       "      <td>NaN</td>\n",
       "      <td>arrived early taken straight room wonderful re...</td>\n",
       "      <td>NaN</td>\n",
       "      <td>0.9501</td>\n",
       "      <td>0.0000</td>\n",
       "      <td>0.9501</td>\n",
       "      <td>0.000</td>\n",
       "    </tr>\n",
       "  </tbody>\n",
       "</table>\n",
       "<p>5 rows × 38 columns</p>\n",
       "</div>"
      ],
      "text/plain": [
       "    additional_number_of_scoring  average_score                    hotel_name  \\\n",
       "3                            341            7.8        Novotel Amsterdam City   \n",
       "25                           834            9.1                Hotel Esther a   \n",
       "27                           834            9.1                Hotel Esther a   \n",
       "34                           207            8.3  Grand Hotel Amr th Amsterdam   \n",
       "35                           207            8.3  Grand Hotel Amr th Amsterdam   \n",
       "\n",
       "          reviewer_nationality  \\\n",
       "3                     Austria    \n",
       "25             United Kingdom    \n",
       "27   United States of America    \n",
       "34                    Ireland    \n",
       "35             United Kingdom    \n",
       "\n",
       "                                      negative_review  \\\n",
       "3                                                 NaN   \n",
       "25                                                NaN   \n",
       "27                                                NaN   \n",
       "34   The only fault I had with this hotel was with...   \n",
       "35                                                NaN   \n",
       "\n",
       "    review_total_negative_word_counts  total_number_of_reviews  \\\n",
       "3                                   0                     2501   \n",
       "25                                  0                     4687   \n",
       "27                                  0                     4687   \n",
       "34                                 40                     1530   \n",
       "35                                  0                     1530   \n",
       "\n",
       "                                      positive_review  \\\n",
       "3    Slightly out of the city center but very easy...   \n",
       "25   Free hot drinks and snacks Beautiful hotel on...   \n",
       "27   I visited few EU countries during my trip and...   \n",
       "34   The hotel was of an exceptionally high standa...   \n",
       "35   We arrived early and taken straight to the ro...   \n",
       "\n",
       "    review_total_positive_word_counts  \\\n",
       "3                                  27   \n",
       "25                                 15   \n",
       "27                                 21   \n",
       "34                                 44   \n",
       "35                                 30   \n",
       "\n",
       "    total_number_of_reviews_reviewer_has_given  ...  \\\n",
       "3                                           34  ...   \n",
       "25                                           3  ...   \n",
       "27                                           1  ...   \n",
       "34                                           3  ...   \n",
       "35                                          55  ...   \n",
       "\n",
       "                                positive_clean_review  \\\n",
       "3   slightly city center easy get tram train reall...   \n",
       "25  free hot drinks snacks beautiful hotel singel ...   \n",
       "27    visited eu countries trip far best hotel stayed   \n",
       "34  hotel exceptionally high standard every regard...   \n",
       "35  arrived early taken straight room wonderful re...   \n",
       "\n",
       "                                negative_clean_review  \\\n",
       "3                                                 NaN   \n",
       "25                                                NaN   \n",
       "27                                                NaN   \n",
       "34  fault hotel th spa really disappointed teas sa...   \n",
       "35                                                NaN   \n",
       "\n",
       "                                        positive_stem  \\\n",
       "3   slightli citi center easi get tram train reall...   \n",
       "25  free hot drink snack beauti hotel singel room ...   \n",
       "27          visit eu countri trip far best hotel stay   \n",
       "34  hotel except high standard everi regard centra...   \n",
       "35  arriv earli taken straight room wonder recepti...   \n",
       "\n",
       "                                        negative_stem  \\\n",
       "3                                                 NaN   \n",
       "25                                                NaN   \n",
       "27                                                NaN   \n",
       "34  fault hotel th spa realli disappoint tea sage ...   \n",
       "35                                                NaN   \n",
       "\n",
       "                                       positive_lemma  \\\n",
       "3   slightly city center easy get tram train reall...   \n",
       "25  free hot drink snack beautiful hotel singel ro...   \n",
       "27      visited eu country trip far best hotel stayed   \n",
       "34  hotel exceptionally high standard every regard...   \n",
       "35  arrived early taken straight room wonderful re...   \n",
       "\n",
       "                                       negative_lemma pos_sentiment_score  \\\n",
       "3                                                 NaN              0.9414   \n",
       "25                                                NaN              0.9001   \n",
       "27                                                NaN              0.6369   \n",
       "34  fault hotel th spa really disappointed tea sag...              0.8773   \n",
       "35                                                NaN              0.9501   \n",
       "\n",
       "   neg_sentiment_score  pos_lem_sentiment_score neg_lem_sentiment_score  \n",
       "3               0.0000                   0.9414                   0.000  \n",
       "25              0.0000                   0.9001                   0.000  \n",
       "27              0.0000                   0.6369                   0.000  \n",
       "34             -0.7727                   0.8773                  -0.807  \n",
       "35              0.0000                   0.9501                   0.000  \n",
       "\n",
       "[5 rows x 38 columns]"
      ]
     },
     "execution_count": 74,
     "metadata": {},
     "output_type": "execute_result"
    }
   ],
   "source": [
    "pos_df = df2[df2['pos_sentiment_score'] > 0.5]\n",
    "pos_df.head()"
   ]
  },
  {
   "cell_type": "code",
   "execution_count": 83,
   "id": "f720cca0",
   "metadata": {},
   "outputs": [
    {
     "data": {
      "text/plain": [
       "3         slightly city center easy get tram train reall...\n",
       "25        free hot drink snack beautiful hotel singel ro...\n",
       "27            visited eu country trip far best hotel stayed\n",
       "34        hotel exceptionally high standard every regard...\n",
       "35        arrived early taken straight room wonderful re...\n",
       "                                ...                        \n",
       "515597    location cozy neighborhood make sure detour ar...\n",
       "515630    advanced tv good shower soup quality good supe...\n",
       "515637    location awesome cleaning crew great job front...\n",
       "515710    really nice stay nh amsterdam zuid staff extre...\n",
       "515737                         park outside hotel beautiful\n",
       "Name: positive_lemma, Length: 38769, dtype: object"
      ]
     },
     "execution_count": 83,
     "metadata": {},
     "output_type": "execute_result"
    }
   ],
   "source": [
    "pos_df.positive_lemma"
   ]
  },
  {
   "cell_type": "code",
   "execution_count": 93,
   "id": "b151a091",
   "metadata": {},
   "outputs": [
    {
     "data": {
      "text/plain": [
       "great location                                                                                                                                                                                                                                 167\n",
       "location great                                                                                                                                                                                                                                 104\n",
       "bed comfortable                                                                                                                                                                                                                                 88\n",
       "location perfect                                                                                                                                                                                                                                69\n",
       "everything perfect                                                                                                                                                                                                                              61\n",
       "                                                                                                                                                                                                                                              ... \n",
       "almost perfect every detail                                                                                                                                                                                                                      1\n",
       "great hotel return staff excellent bed comfortable                                                                                                                                                                                               1\n",
       "stuart barman restaurant outside patio area fantastic nothing much trouble excellent breakfast great restaurant nearby                                                                                                                           1\n",
       "staff amazing bedrooms amazing hotel general amazing around 5 minute work train metro stations direct schiphol airport direct amsterdam centraal one put location takes 10 minutes get centre must staying amsterdam one nicest hotels ever      1\n",
       "park outside hotel beautiful                                                                                                                                                                                                                     1\n",
       "Name: positive_clean_review, Length: 36436, dtype: int64"
      ]
     },
     "execution_count": 93,
     "metadata": {},
     "output_type": "execute_result"
    }
   ],
   "source": [
    "pos_df.positive_clean_review.value_counts()"
   ]
  },
  {
   "cell_type": "code",
   "execution_count": 94,
   "id": "3bbc0b5f",
   "metadata": {},
   "outputs": [],
   "source": [
    "import nltk\n",
    "pos_bi = list(nltk.bigrams(pos_df.positive_clean_review))"
   ]
  },
  {
   "cell_type": "code",
   "execution_count": 95,
   "id": "42cb23a5",
   "metadata": {},
   "outputs": [
    {
     "data": {
      "text/plain": [
       "<AxesSubplot:>"
      ]
     },
     "execution_count": 95,
     "metadata": {},
     "output_type": "execute_result"
    },
    {
     "data": {
      "image/png": "[encoded data removed]",
      "text/plain": [
       "<Figure size 432x288 with 1 Axes>"
      ]
     },
     "metadata": {
      "needs_background": "light"
     },
     "output_type": "display_data"
    }
   ],
   "source": [
    "pd.Series(pos_bi).value_counts().head(20).plot.barh()"
   ]
  },
  {
   "cell_type": "code",
   "execution_count": 90,
   "id": "4eb53c14",
   "metadata": {},
   "outputs": [
    {
     "data": {
      "text/plain": [
       "great location                   167\n",
       "bed comfortable                  106\n",
       "location great                   104\n",
       "location perfect                  69\n",
       "everything perfect                61\n",
       "staff friendly helpful            56\n",
       "excellent location                55\n",
       "comfortable bed                   50\n",
       "location excellent                50\n",
       "friendly helpful staff            34\n",
       "everything great                  32\n",
       "staff helpful friendly            30\n",
       "staff excellent                   28\n",
       "perfect location                  27\n",
       "great location friendly staff     24\n",
       "bed amazing                       24\n",
       "great breakfast                   24\n",
       "great location helpful staff      22\n",
       "perfect                           22\n",
       "great staff                       20\n",
       "Name: positive_lemma, dtype: int64"
      ]
     },
     "execution_count": 90,
     "metadata": {},
     "output_type": "execute_result"
    }
   ],
   "source": [
    "pos_df.positive_lemma.value_counts().head(20)"
   ]
  },
  {
   "cell_type": "code",
   "execution_count": 96,
   "id": "6d707b7f",
   "metadata": {},
   "outputs": [
    {
     "data": {
      "text/plain": [
       "nothing great                                                                                                                                                                                                                                                                                                                                                                                                                                                                                                                                                                                                                                       23\n",
       "nothing everything great                                                                                                                                                                                                                                                                                                                                                                                                                                                                                                                                                                                                                            13\n",
       "bad experiences                                                                                                                                                                                                                                                                                                                                                                                                                                                                                                                                                                                                                                      7\n",
       "negative comments                                                                                                                                                                                                                                                                                                                                                                                                                                                                                                                                                                                                                                    6\n",
       "nothing great stay                                                                                                                                                                                                                                                                                                                                                                                                                                                                                                                                                                                                                                   5\n",
       "bad behavior receptionist shandy                                                                                                                                                                                                                                                                                                                                                                                                                                                                                                                                                                                                                     5\n",
       "bad experience                                                                                                                                                                                                                                                                                                                                                                                                                                                                                                                                                                                                                                       5\n",
       "nothing love                                                                                                                                                                                                                                                                                                                                                                                                                                                                                                                                                                                                                                         4\n",
       "say anything bad hotel                                                                                                                                                                                                                                                                                                                                                                                                                                                                                                                                                                                                                               3\n",
       "nothing great hotel                                                                                                                                                                                                                                                                                                                                                                                                                                                                                                                                                                                                                                  3\n",
       "bad points                                                                                                                                                                                                                                                                                                                                                                                                                                                                                                                                                                                                                                           3\n",
       "bad wifi                                                                                                                                                                                                                                                                                                                                                                                                                                                                                                                                                                                                                                             2\n",
       "internet horrible                                                                                                                                                                                                                                                                                                                                                                                                                                                                                                                                                                                                                                    2\n",
       "weak shower pressure                                                                                                                                                                                                                                                                                                                                                                                                                                                                                                                                                                                                                                 2\n",
       "bad comments                                                                                                                                                                                                                                                                                                                                                                                                                                                                                                                                                                                                                                         2\n",
       "poor water pressure shower                                                                                                                                                                                                                                                                                                                                                                                                                                                                                                                                                                                                                           2\n",
       "low water pressure shower                                                                                                                                                                                                                                                                                                                                                                                                                                                                                                                                                                                                                            2\n",
       "air broke room blasted 40c degree heat room night woke parched feeling ill windows room sleep door open feel safe guy came look dodgy air conditioning night couldnt believe heat coming said would arrange arrange new room next morning done 12 waited hotel 12 find staffa notified room wasted morning amsterdam us eventually get room wifi order use wifi go middle street use wifi building eventually sitting cold doorstep middle night check flight exhausted end terrible nights sleep got night asked discount even night hardly got wink sleep hotel refused got two bottles water make dehydrated got night air conditioning broke     2\n",
       "elevator way slow construction pain overall ruin time                                                                                                                                                                                                                                                                                                                                                                                                                                                                                                                                                                                                1\n",
       "room small 2 persons must single room bathroom almost inside bedroom gap door ceiling bathroom transparency outside cupboard small cleaning service badly organized poor communication reception staff                                                                                                                                                                                                                                                                                                                                                                                                                                               1\n",
       "Name: negative_clean_review, dtype: int64"
      ]
     },
     "execution_count": 96,
     "metadata": {},
     "output_type": "execute_result"
    }
   ],
   "source": [
    "neg_df.negative_clean_review.value_counts().head(20)"
   ]
  },
  {
   "cell_type": "code",
   "execution_count": 97,
   "id": "bc25eee3",
   "metadata": {},
   "outputs": [
    {
     "data": {
      "text/plain": [
       "<AxesSubplot:>"
      ]
     },
     "execution_count": 97,
     "metadata": {},
     "output_type": "execute_result"
    },
    {
     "data": {
      "image/png": "[encoded data removed]",
      "text/plain": [
       "<Figure size 432x288 with 1 Axes>"
      ]
     },
     "metadata": {
      "needs_background": "light"
     },
     "output_type": "display_data"
    }
   ],
   "source": [
    "pd.Series(pos_df.positive_clean_review).value_counts().head(20).plot.barh()"
   ]
  },
  {
   "cell_type": "code",
   "execution_count": 99,
   "id": "012c52ac",
   "metadata": {},
   "outputs": [
    {
     "data": {
      "text/plain": [
       "<AxesSubplot:>"
      ]
     },
     "execution_count": 99,
     "metadata": {},
     "output_type": "execute_result"
    },
    {
     "data": {
      "image/png": "[encoded data removed]",
      "text/plain": [
       "<Figure size 432x288 with 1 Axes>"
      ]
     },
     "metadata": {
      "needs_background": "light"
     },
     "output_type": "display_data"
    }
   ],
   "source": [
    "pd.Series(pos_df.positive_stem).value_counts().head(20).plot.barh()"
   ]
  },
  {
   "cell_type": "code",
   "execution_count": 100,
   "id": "e949659e",
   "metadata": {},
   "outputs": [
    {
     "data": {
      "text/plain": [
       "<AxesSubplot:>"
      ]
     },
     "execution_count": 100,
     "metadata": {},
     "output_type": "execute_result"
    },
    {
     "data": {
      "image/png": "[encoded data removed]",
      "text/plain": [
       "<Figure size 432x288 with 1 Axes>"
      ]
     },
     "metadata": {
      "needs_background": "light"
     },
     "output_type": "display_data"
    }
   ],
   "source": [
    "pd.Series(pos_df.positive_lemma).value_counts().head(20).plot.barh()"
   ]
  },
  {
   "cell_type": "code",
   "execution_count": 103,
   "id": "00e8f1f1",
   "metadata": {},
   "outputs": [
    {
     "name": "stdout",
     "output_type": "stream",
     "text": [
      "Using cached csv file...\n"
     ]
    }
   ],
   "source": [
    "df = wrangle.wrangle_hotel(df)"
   ]
  },
  {
   "cell_type": "code",
   "execution_count": 104,
   "id": "840e8d0f",
   "metadata": {},
   "outputs": [
    {
     "data": {
      "text/plain": [
       "leisure    417778\n",
       "unknown     97960\n",
       "Name: trip_type, dtype: int64"
      ]
     },
     "execution_count": 104,
     "metadata": {},
     "output_type": "execute_result"
    }
   ],
   "source": [
    "df.trip_type.value_counts()"
   ]
  },
  {
   "cell_type": "code",
   "execution_count": 106,
   "id": "ef864f25",
   "metadata": {},
   "outputs": [
    {
     "data": {
      "text/html": [
       "<div>\n",
       "<style scoped>\n",
       "    .dataframe tbody tr th:only-of-type {\n",
       "        vertical-align: middle;\n",
       "    }\n",
       "\n",
       "    .dataframe tbody tr th {\n",
       "        vertical-align: top;\n",
       "    }\n",
       "\n",
       "    .dataframe thead th {\n",
       "        text-align: right;\n",
       "    }\n",
       "</style>\n",
       "<table border=\"1\" class=\"dataframe\">\n",
       "  <thead>\n",
       "    <tr style=\"text-align: right;\">\n",
       "      <th></th>\n",
       "      <th>additional_number_of_scoring</th>\n",
       "      <th>average_score</th>\n",
       "      <th>hotel_name</th>\n",
       "      <th>reviewer_nationality</th>\n",
       "      <th>negative_review</th>\n",
       "      <th>review_total_negative_word_counts</th>\n",
       "      <th>total_number_of_reviews</th>\n",
       "      <th>positive_review</th>\n",
       "      <th>review_total_positive_word_counts</th>\n",
       "      <th>total_number_of_reviews_reviewer_has_given</th>\n",
       "      <th>...</th>\n",
       "      <th>positive_clean_review</th>\n",
       "      <th>negative_clean_review</th>\n",
       "      <th>positive_stem</th>\n",
       "      <th>negative_stem</th>\n",
       "      <th>positive_lemma</th>\n",
       "      <th>negative_lemma</th>\n",
       "      <th>pos_sentiment_score</th>\n",
       "      <th>neg_sentiment_score</th>\n",
       "      <th>pos_lem_sentiment_score</th>\n",
       "      <th>neg_lem_sentiment_score</th>\n",
       "    </tr>\n",
       "  </thead>\n",
       "  <tbody>\n",
       "    <tr>\n",
       "      <th>3</th>\n",
       "      <td>341</td>\n",
       "      <td>7.8</td>\n",
       "      <td>Novotel Amsterdam City</td>\n",
       "      <td>Austria</td>\n",
       "      <td>NaN</td>\n",
       "      <td>0</td>\n",
       "      <td>2501</td>\n",
       "      <td>Slightly out of the city center but very easy...</td>\n",
       "      <td>27</td>\n",
       "      <td>34</td>\n",
       "      <td>...</td>\n",
       "      <td>slightly city center easy get tram train reall...</td>\n",
       "      <td>NaN</td>\n",
       "      <td>slightli citi center easi get tram train reall...</td>\n",
       "      <td>NaN</td>\n",
       "      <td>slightly city center easy get tram train reall...</td>\n",
       "      <td>NaN</td>\n",
       "      <td>0.9414</td>\n",
       "      <td>0.0000</td>\n",
       "      <td>0.9414</td>\n",
       "      <td>0.0000</td>\n",
       "    </tr>\n",
       "    <tr>\n",
       "      <th>24</th>\n",
       "      <td>834</td>\n",
       "      <td>9.1</td>\n",
       "      <td>Hotel Esther a</td>\n",
       "      <td>Canada</td>\n",
       "      <td>Staff were not as good at providing suggestio...</td>\n",
       "      <td>14</td>\n",
       "      <td>4687</td>\n",
       "      <td>NaN</td>\n",
       "      <td>0</td>\n",
       "      <td>1</td>\n",
       "      <td>...</td>\n",
       "      <td>NaN</td>\n",
       "      <td>staff good providing suggestions would expected</td>\n",
       "      <td>NaN</td>\n",
       "      <td>staff good provid suggest would expect</td>\n",
       "      <td>NaN</td>\n",
       "      <td>staff good providing suggestion would expected</td>\n",
       "      <td>0.0000</td>\n",
       "      <td>0.4404</td>\n",
       "      <td>0.0000</td>\n",
       "      <td>0.4404</td>\n",
       "    </tr>\n",
       "    <tr>\n",
       "      <th>25</th>\n",
       "      <td>834</td>\n",
       "      <td>9.1</td>\n",
       "      <td>Hotel Esther a</td>\n",
       "      <td>United Kingdom</td>\n",
       "      <td>NaN</td>\n",
       "      <td>0</td>\n",
       "      <td>4687</td>\n",
       "      <td>Free hot drinks and snacks Beautiful hotel on...</td>\n",
       "      <td>15</td>\n",
       "      <td>3</td>\n",
       "      <td>...</td>\n",
       "      <td>free hot drinks snacks beautiful hotel singel ...</td>\n",
       "      <td>NaN</td>\n",
       "      <td>free hot drink snack beauti hotel singel room ...</td>\n",
       "      <td>NaN</td>\n",
       "      <td>free hot drink snack beautiful hotel singel ro...</td>\n",
       "      <td>NaN</td>\n",
       "      <td>0.9001</td>\n",
       "      <td>0.0000</td>\n",
       "      <td>0.9001</td>\n",
       "      <td>0.0000</td>\n",
       "    </tr>\n",
       "    <tr>\n",
       "      <th>27</th>\n",
       "      <td>834</td>\n",
       "      <td>9.1</td>\n",
       "      <td>Hotel Esther a</td>\n",
       "      <td>United States of America</td>\n",
       "      <td>NaN</td>\n",
       "      <td>0</td>\n",
       "      <td>4687</td>\n",
       "      <td>I visited few EU countries during my trip and...</td>\n",
       "      <td>21</td>\n",
       "      <td>1</td>\n",
       "      <td>...</td>\n",
       "      <td>visited eu countries trip far best hotel stayed</td>\n",
       "      <td>NaN</td>\n",
       "      <td>visit eu countri trip far best hotel stay</td>\n",
       "      <td>NaN</td>\n",
       "      <td>visited eu country trip far best hotel stayed</td>\n",
       "      <td>NaN</td>\n",
       "      <td>0.6369</td>\n",
       "      <td>0.0000</td>\n",
       "      <td>0.6369</td>\n",
       "      <td>0.0000</td>\n",
       "    </tr>\n",
       "    <tr>\n",
       "      <th>28</th>\n",
       "      <td>834</td>\n",
       "      <td>9.1</td>\n",
       "      <td>Hotel Esther a</td>\n",
       "      <td>United States of America</td>\n",
       "      <td>NaN</td>\n",
       "      <td>0</td>\n",
       "      <td>4687</td>\n",
       "      <td>Location and staff</td>\n",
       "      <td>4</td>\n",
       "      <td>1</td>\n",
       "      <td>...</td>\n",
       "      <td>location staff</td>\n",
       "      <td>NaN</td>\n",
       "      <td>locat staff</td>\n",
       "      <td>NaN</td>\n",
       "      <td>location staff</td>\n",
       "      <td>NaN</td>\n",
       "      <td>0.0000</td>\n",
       "      <td>0.0000</td>\n",
       "      <td>0.0000</td>\n",
       "      <td>0.0000</td>\n",
       "    </tr>\n",
       "  </tbody>\n",
       "</table>\n",
       "<p>5 rows × 38 columns</p>\n",
       "</div>"
      ],
      "text/plain": [
       "    additional_number_of_scoring  average_score              hotel_name  \\\n",
       "3                            341            7.8  Novotel Amsterdam City   \n",
       "24                           834            9.1          Hotel Esther a   \n",
       "25                           834            9.1          Hotel Esther a   \n",
       "27                           834            9.1          Hotel Esther a   \n",
       "28                           834            9.1          Hotel Esther a   \n",
       "\n",
       "          reviewer_nationality  \\\n",
       "3                     Austria    \n",
       "24                     Canada    \n",
       "25             United Kingdom    \n",
       "27   United States of America    \n",
       "28   United States of America    \n",
       "\n",
       "                                      negative_review  \\\n",
       "3                                                 NaN   \n",
       "24   Staff were not as good at providing suggestio...   \n",
       "25                                                NaN   \n",
       "27                                                NaN   \n",
       "28                                                NaN   \n",
       "\n",
       "    review_total_negative_word_counts  total_number_of_reviews  \\\n",
       "3                                   0                     2501   \n",
       "24                                 14                     4687   \n",
       "25                                  0                     4687   \n",
       "27                                  0                     4687   \n",
       "28                                  0                     4687   \n",
       "\n",
       "                                      positive_review  \\\n",
       "3    Slightly out of the city center but very easy...   \n",
       "24                                                NaN   \n",
       "25   Free hot drinks and snacks Beautiful hotel on...   \n",
       "27   I visited few EU countries during my trip and...   \n",
       "28                                 Location and staff   \n",
       "\n",
       "    review_total_positive_word_counts  \\\n",
       "3                                  27   \n",
       "24                                  0   \n",
       "25                                 15   \n",
       "27                                 21   \n",
       "28                                  4   \n",
       "\n",
       "    total_number_of_reviews_reviewer_has_given  ...  \\\n",
       "3                                           34  ...   \n",
       "24                                           1  ...   \n",
       "25                                           3  ...   \n",
       "27                                           1  ...   \n",
       "28                                           1  ...   \n",
       "\n",
       "                                positive_clean_review  \\\n",
       "3   slightly city center easy get tram train reall...   \n",
       "24                                                NaN   \n",
       "25  free hot drinks snacks beautiful hotel singel ...   \n",
       "27    visited eu countries trip far best hotel stayed   \n",
       "28                                     location staff   \n",
       "\n",
       "                              negative_clean_review  \\\n",
       "3                                               NaN   \n",
       "24  staff good providing suggestions would expected   \n",
       "25                                              NaN   \n",
       "27                                              NaN   \n",
       "28                                              NaN   \n",
       "\n",
       "                                        positive_stem  \\\n",
       "3   slightli citi center easi get tram train reall...   \n",
       "24                                                NaN   \n",
       "25  free hot drink snack beauti hotel singel room ...   \n",
       "27          visit eu countri trip far best hotel stay   \n",
       "28                                        locat staff   \n",
       "\n",
       "                             negative_stem  \\\n",
       "3                                      NaN   \n",
       "24  staff good provid suggest would expect   \n",
       "25                                     NaN   \n",
       "27                                     NaN   \n",
       "28                                     NaN   \n",
       "\n",
       "                                       positive_lemma  \\\n",
       "3   slightly city center easy get tram train reall...   \n",
       "24                                                NaN   \n",
       "25  free hot drink snack beautiful hotel singel ro...   \n",
       "27      visited eu country trip far best hotel stayed   \n",
       "28                                     location staff   \n",
       "\n",
       "                                    negative_lemma pos_sentiment_score  \\\n",
       "3                                              NaN              0.9414   \n",
       "24  staff good providing suggestion would expected              0.0000   \n",
       "25                                             NaN              0.9001   \n",
       "27                                             NaN              0.6369   \n",
       "28                                             NaN              0.0000   \n",
       "\n",
       "   neg_sentiment_score  pos_lem_sentiment_score neg_lem_sentiment_score  \n",
       "3               0.0000                   0.9414                  0.0000  \n",
       "24              0.4404                   0.0000                  0.4404  \n",
       "25              0.0000                   0.9001                  0.0000  \n",
       "27              0.0000                   0.6369                  0.0000  \n",
       "28              0.0000                   0.0000                  0.0000  \n",
       "\n",
       "[5 rows x 38 columns]"
      ]
     },
     "execution_count": 106,
     "metadata": {},
     "output_type": "execute_result"
    }
   ],
   "source": [
    "df2 = df[df['city'] == 'Amsterdam']\n",
    "df2.head()"
   ]
  },
  {
   "cell_type": "code",
   "execution_count": 39,
   "id": "27b46a28",
   "metadata": {},
   "outputs": [],
   "source": [
    "#df3 = df[df['city'] == 'Vienna']\n",
    "#df3.head()"
   ]
  },
  {
   "cell_type": "code",
   "execution_count": 108,
   "id": "dd0f12ee",
   "metadata": {},
   "outputs": [
    {
     "data": {
      "text/plain": [
       "<AxesSubplot:ylabel='Frequency'>"
      ]
     },
     "execution_count": 108,
     "metadata": {},
     "output_type": "execute_result"
    },
    {
     "data": {
      "image/png": "[encoded data removed]",
      "text/plain": [
       "<Figure size 432x288 with 1 Axes>"
      ]
     },
     "metadata": {
      "needs_background": "light"
     },
     "output_type": "display_data"
    }
   ],
   "source": [
    "df3.groupby(df3.hotel_name).reviewer_score.mean().plot.hist()"
   ]
  },
  {
   "cell_type": "code",
   "execution_count": 126,
   "id": "d1087c37",
   "metadata": {},
   "outputs": [
    {
     "data": {
      "text/plain": [
       "<AxesSubplot:>"
      ]
     },
     "execution_count": 126,
     "metadata": {},
     "output_type": "execute_result"
    },
    {
     "data": {
      "image/png": "[encoded data removed]",
      "text/plain": [
       "<Figure size 432x288 with 1 Axes>"
      ]
     },
     "metadata": {
      "needs_background": "light"
     },
     "output_type": "display_data"
    }
   ],
   "source": [
    "df3.reviewer_score.hist()"
   ]
  },
  {
   "cell_type": "code",
   "execution_count": 127,
   "id": "63a63217",
   "metadata": {},
   "outputs": [
    {
     "data": {
      "text/plain": [
       "<AxesSubplot:>"
      ]
     },
     "execution_count": 127,
     "metadata": {},
     "output_type": "execute_result"
    },
    {
     "data": {
      "image/png": "[encoded data removed]",
      "text/plain": [
       "<Figure size 432x288 with 1 Axes>"
      ]
     },
     "metadata": {
      "needs_background": "light"
     },
     "output_type": "display_data"
    }
   ],
   "source": [
    "df2.reviewer_score.hist()"
   ]
  },
  {
   "cell_type": "code",
   "execution_count": 109,
   "id": "9c8fe28c",
   "metadata": {},
   "outputs": [
    {
     "data": {
      "text/plain": [
       "<AxesSubplot:xlabel='group_type', ylabel='reviewer_score'>"
      ]
     },
     "execution_count": 109,
     "metadata": {},
     "output_type": "execute_result"
    },
    {
     "data": {
      "image/png": "[encoded data removed]",
      "text/plain": [
       "<Figure size 432x288 with 1 Axes>"
      ]
     },
     "metadata": {
      "needs_background": "light"
     },
     "output_type": "display_data"
    }
   ],
   "source": [
    "sns.boxplot(x='group_type', y='reviewer_score', data=df3)"
   ]
  },
  {
   "cell_type": "code",
   "execution_count": 110,
   "id": "f255f00b",
   "metadata": {},
   "outputs": [
    {
     "data": {
      "text/plain": [
       "<AxesSubplot:xlabel='group_type', ylabel='reviewer_score'>"
      ]
     },
     "execution_count": 110,
     "metadata": {},
     "output_type": "execute_result"
    },
    {
     "data": {
      "image/png": "[encoded data removed]",
      "text/plain": [
       "<Figure size 432x288 with 1 Axes>"
      ]
     },
     "metadata": {
      "needs_background": "light"
     },
     "output_type": "display_data"
    }
   ],
   "source": [
    "sns.barplot(x='group_type', y='reviewer_score', data=df3)"
   ]
  },
  {
   "cell_type": "code",
   "execution_count": 111,
   "id": "e4a1435b",
   "metadata": {},
   "outputs": [
    {
     "data": {
      "text/plain": [
       "<AxesSubplot:xlabel='nights_stayed', ylabel='reviewer_score'>"
      ]
     },
     "execution_count": 111,
     "metadata": {},
     "output_type": "execute_result"
    },
    {
     "data": {
      "image/png": "[encoded data removed]",
      "text/plain": [
       "<Figure size 432x288 with 1 Axes>"
      ]
     },
     "metadata": {
      "needs_background": "light"
     },
     "output_type": "display_data"
    }
   ],
   "source": [
    "sns.barplot(x='nights_stayed', y='reviewer_score', data=df3)"
   ]
  },
  {
   "cell_type": "code",
   "execution_count": 112,
   "id": "6fe50501",
   "metadata": {},
   "outputs": [
    {
     "data": {
      "text/plain": [
       "<AxesSubplot:xlabel='month'>"
      ]
     },
     "execution_count": 112,
     "metadata": {},
     "output_type": "execute_result"
    },
    {
     "data": {
      "image/png": "[encoded data removed]",
      "text/plain": [
       "<Figure size 432x288 with 1 Axes>"
      ]
     },
     "metadata": {
      "needs_background": "light"
     },
     "output_type": "display_data"
    }
   ],
   "source": [
    "df3.groupby(df3.month).reviewer_score.mean().plot.bar()"
   ]
  },
  {
   "cell_type": "code",
   "execution_count": 113,
   "id": "fa973359",
   "metadata": {},
   "outputs": [
    {
     "data": {
      "text/plain": [
       "<AxesSubplot:xlabel='total_number_of_reviews_reviewer_has_given', ylabel='reviewer_score'>"
      ]
     },
     "execution_count": 113,
     "metadata": {},
     "output_type": "execute_result"
    },
    {
     "data": {
      "image/png": "[encoded data removed]",
      "text/plain": [
       "<Figure size 432x288 with 1 Axes>"
      ]
     },
     "metadata": {
      "needs_background": "light"
     },
     "output_type": "display_data"
    }
   ],
   "source": [
    "sns.scatterplot(x='total_number_of_reviews_reviewer_has_given', y='reviewer_score', data=df3)"
   ]
  },
  {
   "cell_type": "code",
   "execution_count": 114,
   "id": "b00854bd",
   "metadata": {},
   "outputs": [
    {
     "data": {
      "text/html": [
       "<div>\n",
       "<style scoped>\n",
       "    .dataframe tbody tr th:only-of-type {\n",
       "        vertical-align: middle;\n",
       "    }\n",
       "\n",
       "    .dataframe tbody tr th {\n",
       "        vertical-align: top;\n",
       "    }\n",
       "\n",
       "    .dataframe thead th {\n",
       "        text-align: right;\n",
       "    }\n",
       "</style>\n",
       "<table border=\"1\" class=\"dataframe\">\n",
       "  <thead>\n",
       "    <tr style=\"text-align: right;\">\n",
       "      <th></th>\n",
       "      <th>hotel_name</th>\n",
       "      <th>average_score</th>\n",
       "      <th>total_number_of_reviews</th>\n",
       "    </tr>\n",
       "  </thead>\n",
       "  <tbody>\n",
       "    <tr>\n",
       "      <th>2</th>\n",
       "      <td>Vienna Marriott Hotel</td>\n",
       "      <td>8.2</td>\n",
       "      <td>939</td>\n",
       "    </tr>\n",
       "    <tr>\n",
       "      <th>15</th>\n",
       "      <td>Austria Trend Hotel Doppio Wien</td>\n",
       "      <td>8.7</td>\n",
       "      <td>3010</td>\n",
       "    </tr>\n",
       "    <tr>\n",
       "      <th>26</th>\n",
       "      <td>Derag Livinghotel Kaiser Franz Joseph Vienna</td>\n",
       "      <td>8.0</td>\n",
       "      <td>1496</td>\n",
       "    </tr>\n",
       "    <tr>\n",
       "      <th>48</th>\n",
       "      <td>Austria Trend Hotel Bosei Wien</td>\n",
       "      <td>8.3</td>\n",
       "      <td>3287</td>\n",
       "    </tr>\n",
       "    <tr>\n",
       "      <th>49</th>\n",
       "      <td>Hotel Am Parkring</td>\n",
       "      <td>9.0</td>\n",
       "      <td>2304</td>\n",
       "    </tr>\n",
       "  </tbody>\n",
       "</table>\n",
       "</div>"
      ],
      "text/plain": [
       "                                      hotel_name  average_score  \\\n",
       "2                          Vienna Marriott Hotel            8.2   \n",
       "15               Austria Trend Hotel Doppio Wien            8.7   \n",
       "26  Derag Livinghotel Kaiser Franz Joseph Vienna            8.0   \n",
       "48                Austria Trend Hotel Bosei Wien            8.3   \n",
       "49                             Hotel Am Parkring            9.0   \n",
       "\n",
       "    total_number_of_reviews  \n",
       "2                       939  \n",
       "15                     3010  \n",
       "26                     1496  \n",
       "48                     3287  \n",
       "49                     2304  "
      ]
     },
     "execution_count": 114,
     "metadata": {},
     "output_type": "execute_result"
    }
   ],
   "source": [
    "hotel_group = df3[['hotel_name', 'average_score', 'total_number_of_reviews']]\n",
    "hotel_group.head()"
   ]
  },
  {
   "cell_type": "code",
   "execution_count": 115,
   "id": "9bb7c9c1",
   "metadata": {},
   "outputs": [
    {
     "name": "stderr",
     "output_type": "stream",
     "text": [
      "/opt/anaconda3/lib/python3.9/site-packages/pandas/util/_decorators.py:311: SettingWithCopyWarning: \n",
      "A value is trying to be set on a copy of a slice from a DataFrame\n",
      "\n",
      "See the caveats in the documentation: https://pandas.pydata.org/pandas-docs/stable/user_guide/indexing.html#returning-a-view-versus-a-copy\n",
      "  return func(*args, **kwargs)\n"
     ]
    },
    {
     "data": {
      "text/html": [
       "<div>\n",
       "<style scoped>\n",
       "    .dataframe tbody tr th:only-of-type {\n",
       "        vertical-align: middle;\n",
       "    }\n",
       "\n",
       "    .dataframe tbody tr th {\n",
       "        vertical-align: top;\n",
       "    }\n",
       "\n",
       "    .dataframe thead th {\n",
       "        text-align: right;\n",
       "    }\n",
       "</style>\n",
       "<table border=\"1\" class=\"dataframe\">\n",
       "  <thead>\n",
       "    <tr style=\"text-align: right;\">\n",
       "      <th></th>\n",
       "      <th>hotel_name</th>\n",
       "      <th>average_score</th>\n",
       "      <th>total_number_of_reviews</th>\n",
       "    </tr>\n",
       "  </thead>\n",
       "  <tbody>\n",
       "    <tr>\n",
       "      <th>2</th>\n",
       "      <td>Vienna Marriott Hotel</td>\n",
       "      <td>8.2</td>\n",
       "      <td>939</td>\n",
       "    </tr>\n",
       "    <tr>\n",
       "      <th>15</th>\n",
       "      <td>Austria Trend Hotel Doppio Wien</td>\n",
       "      <td>8.7</td>\n",
       "      <td>3010</td>\n",
       "    </tr>\n",
       "    <tr>\n",
       "      <th>26</th>\n",
       "      <td>Derag Livinghotel Kaiser Franz Joseph Vienna</td>\n",
       "      <td>8.0</td>\n",
       "      <td>1496</td>\n",
       "    </tr>\n",
       "    <tr>\n",
       "      <th>48</th>\n",
       "      <td>Austria Trend Hotel Bosei Wien</td>\n",
       "      <td>8.3</td>\n",
       "      <td>3287</td>\n",
       "    </tr>\n",
       "    <tr>\n",
       "      <th>49</th>\n",
       "      <td>Hotel Am Parkring</td>\n",
       "      <td>9.0</td>\n",
       "      <td>2304</td>\n",
       "    </tr>\n",
       "    <tr>\n",
       "      <th>...</th>\n",
       "      <td>...</td>\n",
       "      <td>...</td>\n",
       "      <td>...</td>\n",
       "    </tr>\n",
       "    <tr>\n",
       "      <th>45218</th>\n",
       "      <td>Roomz Vienna</td>\n",
       "      <td>8.1</td>\n",
       "      <td>568</td>\n",
       "    </tr>\n",
       "    <tr>\n",
       "      <th>190172</th>\n",
       "      <td>Hotel Am Schubertring</td>\n",
       "      <td>8.2</td>\n",
       "      <td>1259</td>\n",
       "    </tr>\n",
       "    <tr>\n",
       "      <th>210482</th>\n",
       "      <td>Mercure Hotel Raphael Wien</td>\n",
       "      <td>8.5</td>\n",
       "      <td>1264</td>\n",
       "    </tr>\n",
       "    <tr>\n",
       "      <th>339672</th>\n",
       "      <td>Hotel Bellevue Wien</td>\n",
       "      <td>8.1</td>\n",
       "      <td>388</td>\n",
       "    </tr>\n",
       "    <tr>\n",
       "      <th>401735</th>\n",
       "      <td>Arthotel ANA Westbahn</td>\n",
       "      <td>8.3</td>\n",
       "      <td>450</td>\n",
       "    </tr>\n",
       "  </tbody>\n",
       "</table>\n",
       "<p>158 rows × 3 columns</p>\n",
       "</div>"
      ],
      "text/plain": [
       "                                          hotel_name  average_score  \\\n",
       "2                              Vienna Marriott Hotel            8.2   \n",
       "15                   Austria Trend Hotel Doppio Wien            8.7   \n",
       "26      Derag Livinghotel Kaiser Franz Joseph Vienna            8.0   \n",
       "48                    Austria Trend Hotel Bosei Wien            8.3   \n",
       "49                                 Hotel Am Parkring            9.0   \n",
       "...                                              ...            ...   \n",
       "45218                                   Roomz Vienna            8.1   \n",
       "190172                         Hotel Am Schubertring            8.2   \n",
       "210482                    Mercure Hotel Raphael Wien            8.5   \n",
       "339672                           Hotel Bellevue Wien            8.1   \n",
       "401735                         Arthotel ANA Westbahn            8.3   \n",
       "\n",
       "        total_number_of_reviews  \n",
       "2                           939  \n",
       "15                         3010  \n",
       "26                         1496  \n",
       "48                         3287  \n",
       "49                         2304  \n",
       "...                         ...  \n",
       "45218                       568  \n",
       "190172                     1259  \n",
       "210482                     1264  \n",
       "339672                      388  \n",
       "401735                      450  \n",
       "\n",
       "[158 rows x 3 columns]"
      ]
     },
     "execution_count": 115,
     "metadata": {},
     "output_type": "execute_result"
    }
   ],
   "source": [
    "hotel_group.drop_duplicates(inplace=True)\n",
    "hotel_group"
   ]
  },
  {
   "cell_type": "code",
   "execution_count": 116,
   "id": "9699c3fe",
   "metadata": {},
   "outputs": [
    {
     "data": {
      "text/plain": [
       "<AxesSubplot:xlabel='total_number_of_reviews', ylabel='average_score'>"
      ]
     },
     "execution_count": 116,
     "metadata": {},
     "output_type": "execute_result"
    },
    {
     "data": {
      "image/png": "[encoded data removed]",
      "text/plain": [
       "<Figure size 432x288 with 1 Axes>"
      ]
     },
     "metadata": {
      "needs_background": "light"
     },
     "output_type": "display_data"
    }
   ],
   "source": [
    "sns.scatterplot(x='total_number_of_reviews', y='average_score', data=hotel_group)"
   ]
  },
  {
   "cell_type": "code",
   "execution_count": 117,
   "id": "a82f6a3e",
   "metadata": {},
   "outputs": [
    {
     "data": {
      "text/plain": [
       "7.7"
      ]
     },
     "execution_count": 117,
     "metadata": {},
     "output_type": "execute_result"
    }
   ],
   "source": [
    "df3.average_score.min()"
   ]
  },
  {
   "cell_type": "code",
   "execution_count": 118,
   "id": "818bd551",
   "metadata": {},
   "outputs": [
    {
     "data": {
      "text/plain": [
       "2.5"
      ]
     },
     "execution_count": 118,
     "metadata": {},
     "output_type": "execute_result"
    }
   ],
   "source": [
    "df3.reviewer_score.min()"
   ]
  },
  {
   "cell_type": "code",
   "execution_count": 119,
   "id": "c3afbc16",
   "metadata": {},
   "outputs": [
    {
     "data": {
      "text/plain": [
       " United Kingdom               7507\n",
       " United States of America     3104\n",
       " Romania                      1807\n",
       " Australia                    1680\n",
       " United Arab Emirates         1163\n",
       "                              ... \n",
       " Afghanistan                     1\n",
       " Madagascar                      1\n",
       " U S Virgin Islands              1\n",
       " Togo                            1\n",
       " San Marino                      1\n",
       "Name: reviewer_nationality, Length: 174, dtype: int64"
      ]
     },
     "execution_count": 119,
     "metadata": {},
     "output_type": "execute_result"
    }
   ],
   "source": [
    "df3.reviewer_nationality.value_counts()"
   ]
  },
  {
   "cell_type": "code",
   "execution_count": 121,
   "id": "291aa5be",
   "metadata": {},
   "outputs": [
    {
     "data": {
      "text/plain": [
       "(0, 38)"
      ]
     },
     "execution_count": 121,
     "metadata": {},
     "output_type": "execute_result"
    }
   ],
   "source": [
    "local = df3[df3['reviewer_nationality'] == 'Austria']\n",
    "local.shape"
   ]
  },
  {
   "cell_type": "code",
   "execution_count": 125,
   "id": "ca8a289c",
   "metadata": {},
   "outputs": [
    {
     "data": {
      "text/html": [
       "<div>\n",
       "<style scoped>\n",
       "    .dataframe tbody tr th:only-of-type {\n",
       "        vertical-align: middle;\n",
       "    }\n",
       "\n",
       "    .dataframe tbody tr th {\n",
       "        vertical-align: top;\n",
       "    }\n",
       "\n",
       "    .dataframe thead th {\n",
       "        text-align: right;\n",
       "    }\n",
       "</style>\n",
       "<table border=\"1\" class=\"dataframe\">\n",
       "  <thead>\n",
       "    <tr style=\"text-align: right;\">\n",
       "      <th></th>\n",
       "      <th>additional_number_of_scoring</th>\n",
       "      <th>average_score</th>\n",
       "      <th>hotel_name</th>\n",
       "      <th>reviewer_nationality</th>\n",
       "      <th>negative_review</th>\n",
       "      <th>review_total_negative_word_counts</th>\n",
       "      <th>total_number_of_reviews</th>\n",
       "      <th>positive_review</th>\n",
       "      <th>review_total_positive_word_counts</th>\n",
       "      <th>total_number_of_reviews_reviewer_has_given</th>\n",
       "      <th>...</th>\n",
       "      <th>positive_clean_review</th>\n",
       "      <th>negative_clean_review</th>\n",
       "      <th>positive_stem</th>\n",
       "      <th>negative_stem</th>\n",
       "      <th>positive_lemma</th>\n",
       "      <th>negative_lemma</th>\n",
       "      <th>pos_sentiment_score</th>\n",
       "      <th>neg_sentiment_score</th>\n",
       "      <th>pos_lem_sentiment_score</th>\n",
       "      <th>neg_lem_sentiment_score</th>\n",
       "    </tr>\n",
       "  </thead>\n",
       "  <tbody>\n",
       "  </tbody>\n",
       "</table>\n",
       "<p>0 rows × 38 columns</p>\n",
       "</div>"
      ],
      "text/plain": [
       "Empty DataFrame\n",
       "Columns: [additional_number_of_scoring, average_score, hotel_name, reviewer_nationality, negative_review, review_total_negative_word_counts, total_number_of_reviews, positive_review, review_total_positive_word_counts, total_number_of_reviews_reviewer_has_given, reviewer_score, days_since_review, lat, lng, trip_type, nights_stayed, group_type, month, year, day_name, day, quarter, negative_unique_word_count, positive_unique_word_count, street, city, zip_code, country, positive_clean_review, negative_clean_review, positive_stem, negative_stem, positive_lemma, negative_lemma, pos_sentiment_score, neg_sentiment_score, pos_lem_sentiment_score, neg_lem_sentiment_score]\n",
       "Index: []\n",
       "\n",
       "[0 rows x 38 columns]"
      ]
     },
     "execution_count": 125,
     "metadata": {},
     "output_type": "execute_result"
    }
   ],
   "source": [
    "local2 = df2[df2['reviewer_nationality'] == 'Netherlands']\n",
    "local2.head()"
   ]
  },
  {
   "cell_type": "code",
   "execution_count": 124,
   "id": "9e45016e",
   "metadata": {},
   "outputs": [
    {
     "data": {
      "text/plain": [
       "(0, 38)"
      ]
     },
     "execution_count": 124,
     "metadata": {},
     "output_type": "execute_result"
    }
   ],
   "source": [
    "uk = df3[df3['reviewer_nationality'] == 'United Kingdom']\n",
    "uk.shape"
   ]
  },
  {
   "cell_type": "code",
   "execution_count": 128,
   "id": "5e31eea9",
   "metadata": {},
   "outputs": [
    {
     "data": {
      "text/plain": [
       "<AxesSubplot:>"
      ]
     },
     "execution_count": 128,
     "metadata": {},
     "output_type": "execute_result"
    },
    {
     "data": {
      "image/png": "[encoded data removed]",
      "text/plain": [
       "<Figure size 432x288 with 1 Axes>"
      ]
     },
     "metadata": {
      "needs_background": "light"
     },
     "output_type": "display_data"
    }
   ],
   "source": [
    "pd.Series(df3.positive_clean_review).value_counts().head(20).plot.barh()"
   ]
  },
  {
   "cell_type": "code",
   "execution_count": 129,
   "id": "7e2f1c97",
   "metadata": {},
   "outputs": [
    {
     "data": {
      "text/plain": [
       "<AxesSubplot:>"
      ]
     },
     "execution_count": 129,
     "metadata": {},
     "output_type": "execute_result"
    },
    {
     "data": {
      "image/png": "[encoded data removed]",
      "text/plain": [
       "<Figure size 432x288 with 1 Axes>"
      ]
     },
     "metadata": {
      "needs_background": "light"
     },
     "output_type": "display_data"
    }
   ],
   "source": [
    "pd.Series(df3.negative_clean_review).value_counts().head(20).plot.barh()"
   ]
  },
  {
   "cell_type": "code",
   "execution_count": null,
   "id": "156e21e2",
   "metadata": {},
   "outputs": [],
   "source": []
  },
  {
   "cell_type": "code",
   "execution_count": null,
   "id": "092bf315",
   "metadata": {},
   "outputs": [],
   "source": []
  },
  {
   "cell_type": "code",
   "execution_count": 1,
   "id": "62d28ffb",
   "metadata": {},
   "outputs": [],
   "source": [
    "import pandas as pd\n",
    "import numpy as np\n",
    "import re\n",
    "import matplotlib.pyplot as plt\n",
    "import seaborn as sns\n",
    "import nltk\n",
    "#import wrangle\n",
    "import unicodedata\n",
    "from nltk.corpus import stopwords\n",
    "pd.set_option('display.max_rows', None)\n",
    "pd.set_option('display.max_columns', None)"
   ]
  },
  {
   "cell_type": "code",
   "execution_count": 2,
   "id": "49b17864",
   "metadata": {},
   "outputs": [],
   "source": [
    "df = pd.read_csv('Hotel_Reviews.csv')"
   ]
  },
  {
   "cell_type": "code",
   "execution_count": 8,
   "id": "8ff35e5f",
   "metadata": {},
   "outputs": [],
   "source": [
    "#df.head()"
   ]
  },
  {
   "cell_type": "code",
   "execution_count": 4,
   "id": "9df89d5f",
   "metadata": {},
   "outputs": [],
   "source": [
    "def basic_clean(string):\n",
    "    '''\n",
    "    This function takes in a string and\n",
    "    returns the string normalized.\n",
    "    '''\n",
    "    string = unicodedata.normalize('NFKD', string)\\\n",
    "             .encode('ascii', 'ignore')\\\n",
    "             .decode('utf-8', 'ignore')\n",
    "    string = re.sub(r'[^\\w\\s]', '', string).lower()\n",
    "    string = re.sub(r'[\\s]', ' ', string).strip()\n",
    "    #string = re.split(r'\\s+', string)\n",
    "    return string"
   ]
  },
  {
   "cell_type": "code",
   "execution_count": 5,
   "id": "f542a6ac",
   "metadata": {},
   "outputs": [],
   "source": [
    "def tokenize(string):\n",
    "    '''\n",
    "    This function takes in a string and\n",
    "    returns a tokenized string.\n",
    "    '''\n",
    "    # Create tokenizer.\n",
    "    tokenizer = nltk.tokenize.ToktokTokenizer()\n",
    "    \n",
    "    # Use tokenizer\n",
    "    string = tokenizer.tokenize(string, return_str = True)\n",
    "\n",
    "    return string"
   ]
  },
  {
   "cell_type": "code",
   "execution_count": 6,
   "id": "b7faa27b",
   "metadata": {},
   "outputs": [],
   "source": [
    "def stem(string):\n",
    "    '''\n",
    "    This function takes in a string and\n",
    "    returns a string with words stemmed.\n",
    "    '''\n",
    "    # Create porter stemmer.\n",
    "    ps = nltk.porter.PorterStemmer()\n",
    "    \n",
    "    # Use the stemmer to stem each word in the list of words we created by using split.\n",
    "    stems = [ps.stem(word) for word in string.split()]\n",
    "    \n",
    "    # Join our lists of words into a string again and assign to a variable.\n",
    "    string = ' '.join(stems)\n",
    "    \n",
    "    return string"
   ]
  },
  {
   "cell_type": "code",
   "execution_count": 7,
   "id": "e1e145d5",
   "metadata": {},
   "outputs": [],
   "source": [
    "def lemmatize(string):\n",
    "    '''\n",
    "    This function takes in string for and\n",
    "    returns a string with words lemmatized.\n",
    "    '''\n",
    "    # Create the lemmatizer.\n",
    "    wnl = nltk.stem.WordNetLemmatizer()\n",
    "    \n",
    "    # Use the lemmatizer on each word in the list of words we created by using split.\n",
    "    lemmas = [wnl.lemmatize(word) for word in string.split()]\n",
    "    \n",
    "    # Join our list of words into a string again and assign to a variable.\n",
    "    string = ' '.join(lemmas)\n",
    "    \n",
    "    return string"
   ]
  },
  {
   "cell_type": "code",
   "execution_count": 8,
   "id": "5cc36342",
   "metadata": {},
   "outputs": [],
   "source": [
    "def remove_stopwords(string, extra_words = [], exclude_words = []):\n",
    "    '''\n",
    "    This function takes in a string, optional extra_words and exclude_words parameters\n",
    "    with default empty lists and returns a string.\n",
    "    '''\n",
    "    # Create stopword_list.\n",
    "    stopword_list = stopwords.words('english')\n",
    "    \n",
    "    # Remove 'exclude_words' from stopword_list to keep these in my text.\n",
    "    stopword_list = set(stopword_list) - set(exclude_words)\n",
    "    \n",
    "    # Add in 'extra_words' to stopword_list.\n",
    "    stopword_list = stopword_list.union(set(extra_words))\n",
    "\n",
    "    # Split words in string.\n",
    "    words = string.split()\n",
    "    \n",
    "    # Create a list of words from my string with stopwords removed and assign to variable.\n",
    "    filtered_words = [word for word in words if word not in stopword_list]\n",
    "    \n",
    "    # Join words in the list back into strings and assign to a variable.\n",
    "    string_without_stopwords = ' '.join(filtered_words)\n",
    "    \n",
    "    return string_without_stopwords"
   ]
  },
  {
   "cell_type": "code",
   "execution_count": 9,
   "id": "81a87370",
   "metadata": {},
   "outputs": [],
   "source": [
    "df['Positive_Review'] = [review.replace('No Positive', '') for review in df.Positive_Review]\n",
    "df['Negative_Review'] = [review.replace('No Negative', '') for review in df.Negative_Review]"
   ]
  },
  {
   "cell_type": "code",
   "execution_count": 9,
   "id": "4e9fd54b",
   "metadata": {},
   "outputs": [],
   "source": [
    "#df.head()"
   ]
  },
  {
   "cell_type": "code",
   "execution_count": 11,
   "id": "43284a01",
   "metadata": {},
   "outputs": [],
   "source": [
    "df['positive_clean_review'] = df['Positive_Review'].apply(basic_clean)\n",
    "df['negative_clean_review'] = df['Negative_Review'].apply(basic_clean)"
   ]
  },
  {
   "cell_type": "code",
   "execution_count": 10,
   "id": "9d3a4c34",
   "metadata": {},
   "outputs": [],
   "source": [
    "#df.head()"
   ]
  },
  {
   "cell_type": "code",
   "execution_count": 13,
   "id": "61f4eff2",
   "metadata": {},
   "outputs": [
    {
     "data": {
      "text/plain": [
       "'only the park outside of the hotel was beautiful'"
      ]
     },
     "execution_count": 13,
     "metadata": {},
     "output_type": "execute_result"
    }
   ],
   "source": [
    "df.positive_clean_review[0]"
   ]
  },
  {
   "cell_type": "code",
   "execution_count": 14,
   "id": "a72bb4a8",
   "metadata": {},
   "outputs": [
    {
     "data": {
      "text/plain": [
       "str"
      ]
     },
     "execution_count": 14,
     "metadata": {},
     "output_type": "execute_result"
    }
   ],
   "source": [
    "type(df.positive_clean_review[0])"
   ]
  },
  {
   "cell_type": "code",
   "execution_count": 15,
   "id": "797723d6",
   "metadata": {},
   "outputs": [],
   "source": [
    "df['positive_clean_review'] = df['positive_clean_review'].apply(tokenize)\n",
    "df['negative_clean_review'] = df['negative_clean_review'].apply(tokenize)"
   ]
  },
  {
   "cell_type": "code",
   "execution_count": 16,
   "id": "6b2ef23b",
   "metadata": {},
   "outputs": [
    {
     "data": {
      "text/plain": [
       "'only the park outside of the hotel was beautiful'"
      ]
     },
     "execution_count": 16,
     "metadata": {},
     "output_type": "execute_result"
    }
   ],
   "source": [
    "df.positive_clean_review[0]"
   ]
  },
  {
   "cell_type": "code",
   "execution_count": 17,
   "id": "0503a091",
   "metadata": {},
   "outputs": [
    {
     "data": {
      "text/plain": [
       "str"
      ]
     },
     "execution_count": 17,
     "metadata": {},
     "output_type": "execute_result"
    }
   ],
   "source": [
    "type(df.positive_clean_review[0])"
   ]
  },
  {
   "cell_type": "code",
   "execution_count": 18,
   "id": "70d4cbf1",
   "metadata": {},
   "outputs": [],
   "source": [
    "df['positive_clean_review'] = df['positive_clean_review'].apply(remove_stopwords)\n",
    "df['negative_clean_review'] = df['negative_clean_review'].apply(remove_stopwords)"
   ]
  },
  {
   "cell_type": "code",
   "execution_count": 19,
   "id": "86fa67e4",
   "metadata": {},
   "outputs": [
    {
     "data": {
      "text/plain": [
       "'park outside hotel beautiful'"
      ]
     },
     "execution_count": 19,
     "metadata": {},
     "output_type": "execute_result"
    }
   ],
   "source": [
    "df.positive_clean_review[0]"
   ]
  },
  {
   "cell_type": "code",
   "execution_count": 20,
   "id": "b352fac5",
   "metadata": {},
   "outputs": [
    {
     "data": {
      "text/plain": [
       "str"
      ]
     },
     "execution_count": 20,
     "metadata": {},
     "output_type": "execute_result"
    }
   ],
   "source": [
    "type(df.positive_clean_review[0])"
   ]
  },
  {
   "cell_type": "code",
   "execution_count": 21,
   "id": "c58c4fa4",
   "metadata": {},
   "outputs": [
    {
     "data": {
      "text/plain": [
       "'real complaints hotel great great location surroundings rooms amenities service two recommendations however firstly staff upon check confusing regarding deposit payments staff offer upon checkout refund original payment make new one bit confusing secondly site restaurant bit lacking well thought excellent quality food anyone vegetarian vegan background even wrap toasted sandwich option would great aside minor minor things fantastic spot back return amsterdam'"
      ]
     },
     "execution_count": 21,
     "metadata": {},
     "output_type": "execute_result"
    }
   ],
   "source": [
    "df.positive_clean_review[1]"
   ]
  },
  {
   "cell_type": "code",
   "execution_count": 30,
   "id": "a40cd023",
   "metadata": {},
   "outputs": [
    {
     "data": {
      "text/plain": [
       "'location good staff ok cute hotel breakfast range nice go back'"
      ]
     },
     "execution_count": 30,
     "metadata": {},
     "output_type": "execute_result"
    }
   ],
   "source": [
    "df.positive_clean_review[2]"
   ]
  },
  {
   "cell_type": "code",
   "execution_count": 31,
   "id": "78daa2a4",
   "metadata": {},
   "outputs": [
    {
     "data": {
      "text/plain": [
       "'great location nice surroundings bar restaurant nice lovely outdoor area building also quite character'"
      ]
     },
     "execution_count": 31,
     "metadata": {},
     "output_type": "execute_result"
    }
   ],
   "source": [
    "df.positive_clean_review[3]"
   ]
  },
  {
   "cell_type": "code",
   "execution_count": 32,
   "id": "50480ae9",
   "metadata": {},
   "outputs": [
    {
     "data": {
      "text/plain": [
       "'friendly staff oostpark yards away good continental breakfast selection quiet relaxing area'"
      ]
     },
     "execution_count": 32,
     "metadata": {},
     "output_type": "execute_result"
    }
   ],
   "source": [
    "df.positive_clean_review[20]"
   ]
  },
  {
   "cell_type": "code",
   "execution_count": 31,
   "id": "6d471cf0",
   "metadata": {},
   "outputs": [
    {
     "data": {
      "text/plain": [
       "                  36624\n",
       "location          14090\n",
       "everything         3364\n",
       "nothing            1809\n",
       "good location      1730\n",
       "great location     1717\n",
       "location good      1190\n",
       "breakfast          1066\n",
       "location staff     1056\n",
       "friendly staff     1013\n",
       "Name: positive_clean_review, dtype: int64"
      ]
     },
     "execution_count": 31,
     "metadata": {},
     "output_type": "execute_result"
    }
   ],
   "source": [
    "df.positive_clean_review.value_counts().head(10)"
   ]
  },
  {
   "cell_type": "code",
   "execution_count": 34,
   "id": "1360ead9",
   "metadata": {},
   "outputs": [
    {
     "data": {
      "text/plain": [
       "(14090, 19)"
      ]
     },
     "execution_count": 34,
     "metadata": {},
     "output_type": "execute_result"
    }
   ],
   "source": [
    "df[df.positive_clean_review == 'location'].shape"
   ]
  },
  {
   "cell_type": "code",
   "execution_count": 22,
   "id": "641dec0a",
   "metadata": {},
   "outputs": [],
   "source": [
    "pos_reviews = ' '.join(df.positive_clean_review)"
   ]
  },
  {
   "cell_type": "code",
   "execution_count": 11,
   "id": "4985d2d1",
   "metadata": {},
   "outputs": [],
   "source": [
    "#pos_reviews"
   ]
  },
  {
   "cell_type": "code",
   "execution_count": 27,
   "id": "a763c127",
   "metadata": {},
   "outputs": [],
   "source": [
    "pos_reviews = pos_reviews.split()"
   ]
  },
  {
   "cell_type": "code",
   "execution_count": 35,
   "id": "6ff43e2d",
   "metadata": {},
   "outputs": [
    {
     "data": {
      "text/plain": [
       "staff          194574\n",
       "location       192856\n",
       "room           140746\n",
       "hotel          125326\n",
       "good           112321\n",
       "great          105641\n",
       "friendly        85353\n",
       "breakfast       84581\n",
       "helpful         76183\n",
       "nice            69449\n",
       "clean           66929\n",
       "excellent       62272\n",
       "comfortable     59952\n",
       "bed             49926\n",
       "rooms           40370\n",
       "lovely          35096\n",
       "stay            32031\n",
       "close           30971\n",
       "station         29312\n",
       "really          28224\n",
       "dtype: int64"
      ]
     },
     "execution_count": 35,
     "metadata": {},
     "output_type": "execute_result"
    }
   ],
   "source": [
    "pd.Series(pos_reviews).value_counts().head(20)"
   ]
  },
  {
   "cell_type": "code",
   "execution_count": 29,
   "id": "db6840c6",
   "metadata": {},
   "outputs": [
    {
     "data": {
      "text/plain": [
       "<AxesSubplot:>"
      ]
     },
     "execution_count": 29,
     "metadata": {},
     "output_type": "execute_result"
    },
    {
     "data": {
      "image/png": "[encoded data removed]",
      "text/plain": [
       "<Figure size 432x288 with 1 Axes>"
      ]
     },
     "metadata": {
      "needs_background": "light"
     },
     "output_type": "display_data"
    }
   ],
   "source": [
    "pd.Series(pos_reviews).value_counts().head(10).plot.barh()"
   ]
  },
  {
   "cell_type": "code",
   "execution_count": 35,
   "id": "a73cb063",
   "metadata": {},
   "outputs": [],
   "source": [
    "df['positive_lemma'] = [lemmatize(review) for review in df.positive_clean_review]\n",
    "df['negative_lemma'] = [lemmatize(review) for review in df.negative_clean_review]\n"
   ]
  },
  {
   "cell_type": "code",
   "execution_count": 36,
   "id": "f020f96b",
   "metadata": {},
   "outputs": [
    {
     "data": {
      "text/plain": [
       "                          36624\n",
       "location                  14112\n",
       "everything                 3364\n",
       "nothing                    1813\n",
       "good location              1733\n",
       "great location             1719\n",
       "location good              1194\n",
       "breakfast                  1077\n",
       "location staff             1063\n",
       "friendly staff             1025\n",
       "location great              940\n",
       "staff                       869\n",
       "bed comfortable             779\n",
       "location excellent          699\n",
       "staff friendly              684\n",
       "staff friendly helpful      667\n",
       "excellent location          652\n",
       "bed comfy                   652\n",
       "staff helpful               621\n",
       "breakfast good              580\n",
       "Name: positive_lemma, dtype: int64"
      ]
     },
     "execution_count": 36,
     "metadata": {},
     "output_type": "execute_result"
    }
   ],
   "source": [
    "df.positive_lemma.value_counts().head(20)"
   ]
  },
  {
   "cell_type": "code",
   "execution_count": 37,
   "id": "2611d744",
   "metadata": {},
   "outputs": [
    {
     "data": {
      "text/plain": [
       "<AxesSubplot:>"
      ]
     },
     "execution_count": 37,
     "metadata": {},
     "output_type": "execute_result"
    },
    {
     "data": {
      "image/png": "[encoded data removed]",
      "text/plain": [
       "<Figure size 432x288 with 1 Axes>"
      ]
     },
     "metadata": {
      "needs_background": "light"
     },
     "output_type": "display_data"
    }
   ],
   "source": [
    "df.positive_lemma.value_counts().head(10).plot.barh()"
   ]
  },
  {
   "cell_type": "code",
   "execution_count": 1,
   "id": "5560b838",
   "metadata": {},
   "outputs": [],
   "source": [
    "import pandas as pd\n",
    "import numpy as np\n",
    "import re\n",
    "import matplotlib.pyplot as plt\n",
    "import seaborn as sns\n",
    "import nltk\n",
    "import wrangle\n",
    "import unicodedata\n",
    "from nltk.corpus import stopwords"
   ]
  },
  {
   "cell_type": "code",
   "execution_count": 2,
   "id": "81da925b",
   "metadata": {},
   "outputs": [
    {
     "ename": "TypeError",
     "evalue": "replace() argument 1 must be str, not list",
     "output_type": "error",
     "traceback": [
      "\u001b[0;31m---------------------------------------------------------------------------\u001b[0m",
      "\u001b[0;31mTypeError\u001b[0m                                 Traceback (most recent call last)",
      "\u001b[0;32m/var/folders/n7/fjb2f8gd5jg17xlxz1c85vhc0000gn/T/ipykernel_6213/1541107211.py\u001b[0m in \u001b[0;36m<module>\u001b[0;34m\u001b[0m\n\u001b[0;32m----> 1\u001b[0;31m \u001b[0mdf\u001b[0m \u001b[0;34m=\u001b[0m \u001b[0mwrangle\u001b[0m\u001b[0;34m.\u001b[0m\u001b[0mwrangle_hotel\u001b[0m\u001b[0;34m(\u001b[0m\u001b[0;34m)\u001b[0m\u001b[0;34m\u001b[0m\u001b[0;34m\u001b[0m\u001b[0m\n\u001b[0m\u001b[1;32m      2\u001b[0m \u001b[0mdf\u001b[0m\u001b[0;34m.\u001b[0m\u001b[0mhead\u001b[0m\u001b[0;34m(\u001b[0m\u001b[0;34m)\u001b[0m\u001b[0;34m\u001b[0m\u001b[0;34m\u001b[0m\u001b[0m\n",
      "\u001b[0;32m~/codeup-data-science/customer_review_capstone/wrangle.py\u001b[0m in \u001b[0;36mwrangle_hotel\u001b[0;34m(use_cache)\u001b[0m\n\u001b[1;32m    130\u001b[0m \u001b[0;34m\u001b[0m\u001b[0m\n\u001b[1;32m    131\u001b[0m     \u001b[0;31m# NLP Clean\u001b[0m\u001b[0;34m\u001b[0m\u001b[0;34m\u001b[0m\u001b[0m\n\u001b[0;32m--> 132\u001b[0;31m     \u001b[0mdf\u001b[0m \u001b[0;34m=\u001b[0m \u001b[0mnlp_clean\u001b[0m\u001b[0;34m(\u001b[0m\u001b[0mdf\u001b[0m\u001b[0;34m)\u001b[0m\u001b[0;34m\u001b[0m\u001b[0;34m\u001b[0m\u001b[0m\n\u001b[0m\u001b[1;32m    133\u001b[0m \u001b[0;34m\u001b[0m\u001b[0m\n\u001b[1;32m    134\u001b[0m     \u001b[0;31m# Rearrange columns\u001b[0m\u001b[0;34m\u001b[0m\u001b[0;34m\u001b[0m\u001b[0m\n",
      "\u001b[0;32m~/codeup-data-science/customer_review_capstone/wrangle.py\u001b[0m in \u001b[0;36mnlp_clean\u001b[0;34m(df)\u001b[0m\n\u001b[1;32m    251\u001b[0m     \u001b[0mwords\u001b[0m \u001b[0;34m=\u001b[0m \u001b[0;34m[\u001b[0m\u001b[0;34m'nothing'\u001b[0m\u001b[0;34m,\u001b[0m \u001b[0;34m'n'\u001b[0m\u001b[0;34m,\u001b[0m \u001b[0;34m'none'\u001b[0m\u001b[0;34m,\u001b[0m \u001b[0;34m'nothing really'\u001b[0m\u001b[0;34m,\u001b[0m \u001b[0;34m'good'\u001b[0m\u001b[0;34m,\u001b[0m \u001b[0;34m'nothing dislike'\u001b[0m\u001b[0;34m,\u001b[0m \u001b[0;34m'liked everything'\u001b[0m\u001b[0;34m,\u001b[0m \u001b[0;34m'everything perfect'\u001b[0m\u001b[0;34m,\u001b[0m \u001b[0;34m'nil'\u001b[0m\u001b[0;34m,\u001b[0m \u001b[0;34m'nothing complain'\u001b[0m\u001b[0;34m,\u001b[0m \u001b[0;34m'nothing say'\u001b[0m\u001b[0;34m]\u001b[0m\u001b[0;34m\u001b[0m\u001b[0;34m\u001b[0m\u001b[0m\n\u001b[1;32m    252\u001b[0m     \u001b[0mdf\u001b[0m\u001b[0;34m[\u001b[0m\u001b[0;34m'positive_clean_review'\u001b[0m\u001b[0;34m]\u001b[0m \u001b[0;34m=\u001b[0m \u001b[0;34m[\u001b[0m\u001b[0mreview\u001b[0m\u001b[0;34m.\u001b[0m\u001b[0mreplace\u001b[0m\u001b[0;34m(\u001b[0m\u001b[0;34m'no positive'\u001b[0m\u001b[0;34m,\u001b[0m \u001b[0;34m''\u001b[0m\u001b[0;34m)\u001b[0m \u001b[0;32mfor\u001b[0m \u001b[0mreview\u001b[0m \u001b[0;32min\u001b[0m \u001b[0mdf\u001b[0m\u001b[0;34m.\u001b[0m\u001b[0mpositive_clean_review\u001b[0m\u001b[0;34m]\u001b[0m\u001b[0;34m\u001b[0m\u001b[0;34m\u001b[0m\u001b[0m\n\u001b[0;32m--> 253\u001b[0;31m     \u001b[0mdf\u001b[0m\u001b[0;34m[\u001b[0m\u001b[0;34m'negative_clean_review'\u001b[0m\u001b[0;34m]\u001b[0m \u001b[0;34m=\u001b[0m \u001b[0;34m[\u001b[0m\u001b[0mreview\u001b[0m\u001b[0;34m.\u001b[0m\u001b[0mreplace\u001b[0m\u001b[0;34m(\u001b[0m\u001b[0mwords\u001b[0m\u001b[0;34m,\u001b[0m \u001b[0;34m''\u001b[0m\u001b[0;34m)\u001b[0m \u001b[0;32mfor\u001b[0m \u001b[0mreview\u001b[0m \u001b[0;32min\u001b[0m \u001b[0mdf\u001b[0m\u001b[0;34m.\u001b[0m\u001b[0mnegative_clean_review\u001b[0m\u001b[0;34m]\u001b[0m\u001b[0;34m\u001b[0m\u001b[0;34m\u001b[0m\u001b[0m\n\u001b[0m\u001b[1;32m    254\u001b[0m \u001b[0;34m\u001b[0m\u001b[0m\n\u001b[1;32m    255\u001b[0m     \u001b[0mdf\u001b[0m\u001b[0;34m[\u001b[0m\u001b[0;34m'positive_clean_review'\u001b[0m\u001b[0;34m]\u001b[0m \u001b[0;34m=\u001b[0m \u001b[0mdf\u001b[0m\u001b[0;34m[\u001b[0m\u001b[0;34m'positive_clean_review'\u001b[0m\u001b[0;34m]\u001b[0m\u001b[0;34m.\u001b[0m\u001b[0mapply\u001b[0m\u001b[0;34m(\u001b[0m\u001b[0mtokenize\u001b[0m\u001b[0;34m)\u001b[0m\u001b[0;34m\u001b[0m\u001b[0;34m\u001b[0m\u001b[0m\n",
      "\u001b[0;32m~/codeup-data-science/customer_review_capstone/wrangle.py\u001b[0m in \u001b[0;36m<listcomp>\u001b[0;34m(.0)\u001b[0m\n\u001b[1;32m    251\u001b[0m     \u001b[0mwords\u001b[0m \u001b[0;34m=\u001b[0m \u001b[0;34m[\u001b[0m\u001b[0;34m'nothing'\u001b[0m\u001b[0;34m,\u001b[0m \u001b[0;34m'n'\u001b[0m\u001b[0;34m,\u001b[0m \u001b[0;34m'none'\u001b[0m\u001b[0;34m,\u001b[0m \u001b[0;34m'nothing really'\u001b[0m\u001b[0;34m,\u001b[0m \u001b[0;34m'good'\u001b[0m\u001b[0;34m,\u001b[0m \u001b[0;34m'nothing dislike'\u001b[0m\u001b[0;34m,\u001b[0m \u001b[0;34m'liked everything'\u001b[0m\u001b[0;34m,\u001b[0m \u001b[0;34m'everything perfect'\u001b[0m\u001b[0;34m,\u001b[0m \u001b[0;34m'nil'\u001b[0m\u001b[0;34m,\u001b[0m \u001b[0;34m'nothing complain'\u001b[0m\u001b[0;34m,\u001b[0m \u001b[0;34m'nothing say'\u001b[0m\u001b[0;34m]\u001b[0m\u001b[0;34m\u001b[0m\u001b[0;34m\u001b[0m\u001b[0m\n\u001b[1;32m    252\u001b[0m     \u001b[0mdf\u001b[0m\u001b[0;34m[\u001b[0m\u001b[0;34m'positive_clean_review'\u001b[0m\u001b[0;34m]\u001b[0m \u001b[0;34m=\u001b[0m \u001b[0;34m[\u001b[0m\u001b[0mreview\u001b[0m\u001b[0;34m.\u001b[0m\u001b[0mreplace\u001b[0m\u001b[0;34m(\u001b[0m\u001b[0;34m'no positive'\u001b[0m\u001b[0;34m,\u001b[0m \u001b[0;34m''\u001b[0m\u001b[0;34m)\u001b[0m \u001b[0;32mfor\u001b[0m \u001b[0mreview\u001b[0m \u001b[0;32min\u001b[0m \u001b[0mdf\u001b[0m\u001b[0;34m.\u001b[0m\u001b[0mpositive_clean_review\u001b[0m\u001b[0;34m]\u001b[0m\u001b[0;34m\u001b[0m\u001b[0;34m\u001b[0m\u001b[0m\n\u001b[0;32m--> 253\u001b[0;31m     \u001b[0mdf\u001b[0m\u001b[0;34m[\u001b[0m\u001b[0;34m'negative_clean_review'\u001b[0m\u001b[0;34m]\u001b[0m \u001b[0;34m=\u001b[0m \u001b[0;34m[\u001b[0m\u001b[0mreview\u001b[0m\u001b[0;34m.\u001b[0m\u001b[0mreplace\u001b[0m\u001b[0;34m(\u001b[0m\u001b[0mwords\u001b[0m\u001b[0;34m,\u001b[0m \u001b[0;34m''\u001b[0m\u001b[0;34m)\u001b[0m \u001b[0;32mfor\u001b[0m \u001b[0mreview\u001b[0m \u001b[0;32min\u001b[0m \u001b[0mdf\u001b[0m\u001b[0;34m.\u001b[0m\u001b[0mnegative_clean_review\u001b[0m\u001b[0;34m]\u001b[0m\u001b[0;34m\u001b[0m\u001b[0;34m\u001b[0m\u001b[0m\n\u001b[0m\u001b[1;32m    254\u001b[0m \u001b[0;34m\u001b[0m\u001b[0m\n\u001b[1;32m    255\u001b[0m     \u001b[0mdf\u001b[0m\u001b[0;34m[\u001b[0m\u001b[0;34m'positive_clean_review'\u001b[0m\u001b[0;34m]\u001b[0m \u001b[0;34m=\u001b[0m \u001b[0mdf\u001b[0m\u001b[0;34m[\u001b[0m\u001b[0;34m'positive_clean_review'\u001b[0m\u001b[0;34m]\u001b[0m\u001b[0;34m.\u001b[0m\u001b[0mapply\u001b[0m\u001b[0;34m(\u001b[0m\u001b[0mtokenize\u001b[0m\u001b[0;34m)\u001b[0m\u001b[0;34m\u001b[0m\u001b[0;34m\u001b[0m\u001b[0m\n",
      "\u001b[0;31mTypeError\u001b[0m: replace() argument 1 must be str, not list"
     ]
    }
   ],
   "source": [
    "df = wrangle.wrangle_hotel()\n",
    "df.head()"
   ]
  },
  {
   "cell_type": "code",
   "execution_count": 3,
   "id": "b88cefb2",
   "metadata": {},
   "outputs": [
    {
     "data": {
      "text/plain": [
       "Index(['month_name', 'month', 'year', 'day_name', 'day', 'quarter',\n",
       "       'hotel_name', 'street', 'city', 'zip_code', 'country', 'lat', 'lng',\n",
       "       'additional_number_of_scoring', 'average_score',\n",
       "       'total_number_of_reviews', 'reviewer_nationality', 'trip_type',\n",
       "       'nights_stayed', 'group_type',\n",
       "       'total_number_of_reviews_reviewer_has_given', 'reviewer_score',\n",
       "       'days_since_review', 'neg_sentiment_score', 'neg_lem_sentiment_score',\n",
       "       'review_total_negative_word_counts', 'negative_unique_word_count',\n",
       "       'pos_sentiment_score', 'review_total_positive_word_counts',\n",
       "       'positive_unique_word_count', 'pos_lem_sentiment_score',\n",
       "       'negative_review', 'negative_clean_review', 'negative_stem',\n",
       "       'negative_lemma', 'positive_review', 'positive_clean_review',\n",
       "       'positive_stem', 'positive_lemma'],\n",
       "      dtype='object')"
      ]
     },
     "execution_count": 3,
     "metadata": {},
     "output_type": "execute_result"
    }
   ],
   "source": [
    "df.columns"
   ]
  },
  {
   "cell_type": "code",
   "execution_count": 8,
   "id": "85371e1e",
   "metadata": {},
   "outputs": [],
   "source": [
    "df.positive_clean_review.fillna('', inplace=True)\n",
    "df.negative_clean_review.fillna('', inplace=True)"
   ]
  },
  {
   "cell_type": "code",
   "execution_count": 6,
   "id": "4bc9a390",
   "metadata": {},
   "outputs": [
    {
     "data": {
      "text/plain": [
       "staff          194574\n",
       "location       192856\n",
       "room           140746\n",
       "hotel          125326\n",
       "good           112321\n",
       "great          105641\n",
       "friendly        85353\n",
       "breakfast       84581\n",
       "helpful         76183\n",
       "nice            69449\n",
       "clean           66929\n",
       "excellent       62272\n",
       "comfortable     59952\n",
       "bed             49926\n",
       "rooms           40370\n",
       "lovely          35096\n",
       "stay            32031\n",
       "close           30971\n",
       "station         29312\n",
       "really          28224\n",
       "dtype: int64"
      ]
     },
     "execution_count": 6,
     "metadata": {},
     "output_type": "execute_result"
    }
   ],
   "source": [
    "pos_reviews = ' '.join(df.positive_clean_review)\n",
    "pos_reviews = pos_reviews.split()\n",
    "pd.Series(pos_reviews).value_counts().head(20)"
   ]
  },
  {
   "cell_type": "code",
   "execution_count": 7,
   "id": "991ee6dd",
   "metadata": {},
   "outputs": [
    {
     "data": {
      "text/plain": [
       "<AxesSubplot:>"
      ]
     },
     "execution_count": 7,
     "metadata": {},
     "output_type": "execute_result"
    },
    {
     "data": {
      "image/png": "[encoded data removed]",
      "text/plain": [
       "<Figure size 432x288 with 1 Axes>"
      ]
     },
     "metadata": {
      "needs_background": "light"
     },
     "output_type": "display_data"
    }
   ],
   "source": [
    "pd.Series(pos_reviews).value_counts().head(10).plot.barh()"
   ]
  },
  {
   "cell_type": "code",
   "execution_count": 13,
   "id": "bbcddb2e",
   "metadata": {},
   "outputs": [
    {
     "data": {
      "text/plain": [
       "room         176026\n",
       "hotel         74709\n",
       "breakfast     58478\n",
       "small         49880\n",
       "staff         39512\n",
       "nothing       38768\n",
       "rooms         34802\n",
       "would         32291\n",
       "could         32079\n",
       "bed           29828\n",
       "one           28095\n",
       "bit           27546\n",
       "bathroom      26585\n",
       "night         24063\n",
       "little        22536\n",
       "like          22445\n",
       "shower        21290\n",
       "good          20821\n",
       "us            20225\n",
       "get           19504\n",
       "dtype: int64"
      ]
     },
     "execution_count": 13,
     "metadata": {},
     "output_type": "execute_result"
    }
   ],
   "source": [
    "neg_reviews = ' '.join(df.negative_clean_review) \n",
    "neg_reviews = neg_reviews.split()\n",
    "pd.Series(neg_reviews).value_counts().head(20)"
   ]
  },
  {
   "cell_type": "code",
   "execution_count": 11,
   "id": "1533deaf",
   "metadata": {},
   "outputs": [
    {
     "data": {
      "text/plain": [
       "<AxesSubplot:>"
      ]
     },
     "execution_count": 11,
     "metadata": {},
     "output_type": "execute_result"
    },
    {
     "data": {
      "image/png": "[encoded data removed]",
      "text/plain": [
       "<Figure size 432x288 with 1 Axes>"
      ]
     },
     "metadata": {
      "needs_background": "light"
     },
     "output_type": "display_data"
    }
   ],
   "source": [
    "pd.Series(neg_reviews).value_counts().head(10).plot.barh()"
   ]
  },
  {
   "cell_type": "code",
   "execution_count": 16,
   "id": "25b009f4",
   "metadata": {},
   "outputs": [
    {
     "data": {
      "text/plain": [
       "(great, location)        30992\n",
       "(friendly, staff)        25238\n",
       "(staff, friendly)        24828\n",
       "(friendly, helpful)      21450\n",
       "(good, location)         21091\n",
       "(helpful, staff)         17820\n",
       "(staff, helpful)         16788\n",
       "(excellent, location)    12891\n",
       "(location, great)        12811\n",
       "(location, good)         11604\n",
       "(location, staff)         9457\n",
       "(breakfast, good)         9417\n",
       "(good, breakfast)         9335\n",
       "(comfortable, bed)        9006\n",
       "(location, excellent)     8936\n",
       "(staff, great)            8832\n",
       "(room, clean)             8601\n",
       "(walking, distance)       8406\n",
       "(bed, comfortable)        7481\n",
       "(helpful, friendly)       7368\n",
       "dtype: int64"
      ]
     },
     "execution_count": 16,
     "metadata": {},
     "output_type": "execute_result"
    }
   ],
   "source": [
    "pos_bigrams = (pd.Series(nltk.ngrams(pos_reviews, 2)).value_counts().head(20))\n",
    "pos_bigrams.head(20)"
   ]
  },
  {
   "cell_type": "code",
   "execution_count": 17,
   "id": "366e4dea",
   "metadata": {},
   "outputs": [
    {
     "data": {
      "text/plain": [
       "(room, small)            9658\n",
       "(room, service)          6324\n",
       "(small, room)            6024\n",
       "(air, conditioning)      5524\n",
       "(booking, com)           4469\n",
       "(star, hotel)            3999\n",
       "(tea, coffee)            3948\n",
       "(rooms, small)           3415\n",
       "(4, star)                3234\n",
       "(air, con)               3185\n",
       "(breakfast, included)    3069\n",
       "(even, though)           2972\n",
       "(front, desk)            2914\n",
       "(room, bit)              2820\n",
       "(double, bed)            2820\n",
       "(could, better)          2793\n",
       "(little, bit)            2764\n",
       "(bit, small)             2762\n",
       "(would, nice)            2730\n",
       "(mini, bar)              2723\n",
       "dtype: int64"
      ]
     },
     "execution_count": 17,
     "metadata": {},
     "output_type": "execute_result"
    }
   ],
   "source": [
    "neg_bigrams = (pd.Series(nltk.ngrams(neg_reviews, 2)).value_counts().head(20))\n",
    "neg_bigrams.head(20)"
   ]
  },
  {
   "cell_type": "code",
   "execution_count": 18,
   "id": "61111c12",
   "metadata": {},
   "outputs": [
    {
     "data": {
      "text/plain": [
       "(staff, friendly, helpful)     9667\n",
       "(friendly, helpful, staff)     7191\n",
       "(location, friendly, staff)    4081\n",
       "(staff, helpful, friendly)     3189\n",
       "(staff, great, location)       3170\n",
       "(hotel, great, location)       2777\n",
       "(good, value, money)           2553\n",
       "(within, walking, distance)    2403\n",
       "(friendly, staff, good)        2080\n",
       "(would, definitely, stay)      2049\n",
       "(staff, good, location)        2019\n",
       "(friendly, staff, great)       2008\n",
       "(helpful, friendly, staff)     1977\n",
       "(staff, extremely, helpful)    1960\n",
       "(great, location, friendly)    1760\n",
       "(nothing, much, trouble)       1639\n",
       "(hotel, good, location)        1561\n",
       "(location, great, staff)       1524\n",
       "(location, great, location)    1500\n",
       "(location, staff, friendly)    1455\n",
       "dtype: int64"
      ]
     },
     "execution_count": 18,
     "metadata": {},
     "output_type": "execute_result"
    }
   ],
   "source": [
    "pos_trigrams = (pd.Series(nltk.ngrams(pos_reviews, 3)).value_counts().head(20))\n",
    "pos_trigrams.head(20)"
   ]
  },
  {
   "cell_type": "code",
   "execution_count": 20,
   "id": "325eb704",
   "metadata": {},
   "outputs": [
    {
     "data": {
      "text/plain": [
       "(4, star, hotel)                1915\n",
       "(room, bit, small)              1170\n",
       "(room, little, small)            907\n",
       "(tea, coffee, making)            892\n",
       "(5, star, hotel)                 874\n",
       "(coffee, making, facilities)     873\n",
       "(room, quite, small)             768\n",
       "(making, facilities, room)       768\n",
       "(tea, coffee, facilities)        655\n",
       "(two, single, beds)              650\n",
       "(breakfast, included, price)     595\n",
       "(breakfast, could, better)       535\n",
       "(4, stars, hotel)                507\n",
       "(beds, pushed, together)         503\n",
       "(front, desk, staff)             490\n",
       "(four, star, hotel)              489\n",
       "(tea, coffee, room)              484\n",
       "(far, city, center)              475\n",
       "(tea, making, facilities)        444\n",
       "(air, conditioning, room)        441\n",
       "dtype: int64"
      ]
     },
     "execution_count": 20,
     "metadata": {},
     "output_type": "execute_result"
    }
   ],
   "source": [
    "neg_trigrams = (pd.Series(nltk.ngrams(neg_reviews, 3)).value_counts().head(20))\n",
    "neg_trigrams.head(20)"
   ]
  },
  {
   "cell_type": "code",
   "execution_count": 21,
   "id": "b5c61da0",
   "metadata": {},
   "outputs": [
    {
     "data": {
      "text/plain": [
       "(great, location, friendly, staff)        1187\n",
       "(location, friendly, helpful, staff)      1069\n",
       "(friendly, staff, great, location)        1037\n",
       "(staff, friendly, helpful, room)           830\n",
       "(staff, friendly, helpful, location)       812\n",
       "(friendly, staff, good, location)          745\n",
       "(good, location, friendly, staff)          711\n",
       "(helpful, staff, great, location)          683\n",
       "(staff, extremely, friendly, helpful)      603\n",
       "(location, staff, friendly, helpful)       568\n",
       "(friendly, helpful, staff, great)          567\n",
       "(friendly, helpful, staff, good)           541\n",
       "(excellent, location, friendly, staff)     538\n",
       "(hotel, staff, friendly, helpful)          508\n",
       "(staff, really, friendly, helpful)         486\n",
       "(staff, friendly, helpful, breakfast)      466\n",
       "(friendly, helpful, staff, location)       444\n",
       "(helpful, staff, good, location)           426\n",
       "(friendly, staff, excellent, location)     425\n",
       "(staff, friendly, helpful, hotel)          417\n",
       "dtype: int64"
      ]
     },
     "execution_count": 21,
     "metadata": {},
     "output_type": "execute_result"
    }
   ],
   "source": [
    "pos_quadgrams = (pd.Series(nltk.ngrams(pos_reviews, 4)).value_counts().head(20))\n",
    "pos_quadgrams.head(20)"
   ]
  },
  {
   "cell_type": "code",
   "execution_count": 22,
   "id": "9385742c",
   "metadata": {},
   "outputs": [
    {
     "data": {
      "text/plain": [
       "(tea, coffee, making, facilities)     728\n",
       "(coffee, making, facilities, room)    518\n",
       "(tea, coffee, facilities, room)       370\n",
       "(single, beds, pushed, together)      318\n",
       "(tea, making, facilities, room)       218\n",
       "(two, single, beds, pushed)           183\n",
       "(room, little, bit, small)            171\n",
       "(two, singles, pushed, together)      155\n",
       "(bit, far, city, center)              124\n",
       "(coffee, tea, making, facilities)     115\n",
       "(breakfast, included, room, rate)     112\n",
       "(2, single, beds, pushed)             109\n",
       "(walls, thin, could, hear)            109\n",
       "(room, little, small, side)           105\n",
       "(room, two, single, beds)             102\n",
       "(expect, 4, star, hotel)              100\n",
       "(far, away, city, center)              88\n",
       "(bit, far, city, centre)               87\n",
       "(tea, coffee, making, facility)        87\n",
       "(bed, two, single, beds)               86\n",
       "dtype: int64"
      ]
     },
     "execution_count": 22,
     "metadata": {},
     "output_type": "execute_result"
    }
   ],
   "source": [
    "neg_quadgrams = (pd.Series(nltk.ngrams(neg_reviews, 4)).value_counts().head(20))\n",
    "neg_quadgrams.head(20)"
   ]
  },
  {
   "cell_type": "code",
   "execution_count": 23,
   "id": "9d1a0dbd",
   "metadata": {},
   "outputs": [
    {
     "data": {
      "text/plain": [
       "(great, location, friendly, helpful, staff)        319\n",
       "(friendly, helpful, staff, great, location)        299\n",
       "(staff, friendly, helpful, great, location)        212\n",
       "(staff, friendly, helpful, room, clean)            178\n",
       "(friendly, helpful, staff, good, location)         177\n",
       "(excellent, location, friendly, helpful, staff)    165\n",
       "(good, location, friendly, helpful, staff)         151\n",
       "(great, location, staff, friendly, helpful)        125\n",
       "(staff, friendly, helpful, good, location)         119\n",
       "(staff, friendly, helpful, breakfast, good)        114\n",
       "(friendly, helpful, staff, good, breakfast)        113\n",
       "(staff, friendly, helpful, location, great)        113\n",
       "(location, great, staff, friendly, helpful)        103\n",
       "(great, location, within, walking, distance)       100\n",
       "(friendly, helpful, staff, excellent, location)     99\n",
       "(great, location, friendly, staff, good)            96\n",
       "(staff, friendly, helpful, location, excellent)     90\n",
       "(location, excellent, staff, friendly, helpful)     85\n",
       "(great, location, friendly, staff, clean)           85\n",
       "(location, friendly, staff, great, location)        82\n",
       "dtype: int64"
      ]
     },
     "execution_count": 23,
     "metadata": {},
     "output_type": "execute_result"
    }
   ],
   "source": [
    "pos_pentagrams = (pd.Series(nltk.ngrams(pos_reviews, 5)).value_counts().head(20))\n",
    "pos_pentagrams.head(20)"
   ]
  },
  {
   "cell_type": "code",
   "execution_count": 24,
   "id": "300f02f4",
   "metadata": {},
   "outputs": [
    {
     "data": {
      "text/plain": [
       "(tea, coffee, making, facilities, room)     436\n",
       "(two, single, beds, pushed, together)       179\n",
       "(2, single, beds, pushed, together)         108\n",
       "(bed, two, singles, pushed, together)        74\n",
       "(two, single, beds, put, together)           57\n",
       "(coffee, tea, making, facilities, room)      56\n",
       "(tea, coffee, making, facility, room)        53\n",
       "(double, bed, two, single, beds)             51\n",
       "(double, bed, two, singles, pushed)          42\n",
       "(would, expect, 4, star, hotel)              39\n",
       "(room, two, single, beds, pushed)            37\n",
       "(would, liked, tea, coffee, making)          37\n",
       "(bed, 2, singles, pushed, together)          34\n",
       "(room, tea, coffee, making, facilities)      32\n",
       "(tea, coffee, making, facilities, rooms)     30\n",
       "(liked, tea, coffee, making, facilities)     30\n",
       "(could, hear, people, next, door)            28\n",
       "(location, bit, far, city, center)           28\n",
       "(two, twin, beds, pushed, together)          28\n",
       "(could, hear, people, next, room)            25\n",
       "dtype: int64"
      ]
     },
     "execution_count": 24,
     "metadata": {},
     "output_type": "execute_result"
    }
   ],
   "source": [
    "neg_pentagrams = (pd.Series(nltk.ngrams(neg_reviews, 5)).value_counts().head(20))\n",
    "neg_pentagrams.head(20)"
   ]
  },
  {
   "cell_type": "code",
   "execution_count": 13,
   "id": "ba713e69",
   "metadata": {},
   "outputs": [],
   "source": [
    "#df.head()"
   ]
  },
  {
   "cell_type": "code",
   "execution_count": 26,
   "id": "860333e6",
   "metadata": {},
   "outputs": [
    {
     "data": {
      "text/plain": [
       "Index(['additional_number_of_scoring', 'average_score', 'hotel_name',\n",
       "       'reviewer_nationality', 'negative_review',\n",
       "       'review_total_negative_word_counts', 'total_number_of_reviews',\n",
       "       'positive_review', 'review_total_positive_word_counts',\n",
       "       'total_number_of_reviews_reviewer_has_given', 'reviewer_score',\n",
       "       'days_since_review', 'lat', 'lng', 'trip_type', 'nights_stayed',\n",
       "       'group_type', 'month', 'year', 'day_name', 'day', 'quarter',\n",
       "       'negative_unique_word_count', 'positive_unique_word_count', 'street',\n",
       "       'city', 'zip_code', 'country', 'positive_clean_review',\n",
       "       'negative_clean_review', 'positive_stem', 'negative_stem',\n",
       "       'positive_lemma', 'negative_lemma', 'pos_sentiment_score',\n",
       "       'neg_sentiment_score', 'pos_lem_sentiment_score',\n",
       "       'neg_lem_sentiment_score'],\n",
       "      dtype='object')"
      ]
     },
     "execution_count": 26,
     "metadata": {},
     "output_type": "execute_result"
    }
   ],
   "source": [
    "df.columns\n"
   ]
  },
  {
   "cell_type": "code",
   "execution_count": 27,
   "id": "b6a828a7",
   "metadata": {},
   "outputs": [],
   "source": [
    "def nps_group(reviewer_score):\n",
    "    if reviewer_score > 8.9:\n",
    "        nps_group = 'promoter'\n",
    "    elif reviewer_score > 6.9:\n",
    "        nps_group = 'passive'\n",
    "    elif reviewer_score >= 0:\n",
    "        nps_group = 'detractor'\n",
    "    else:\n",
    "        nps_group = 'no group'\n",
    "    return nps_group"
   ]
  },
  {
   "cell_type": "code",
   "execution_count": 28,
   "id": "88dbeb25",
   "metadata": {},
   "outputs": [],
   "source": [
    "df['nps_group'] = df.reviewer_score.apply(nps_group)"
   ]
  },
  {
   "cell_type": "code",
   "execution_count": 12,
   "id": "3d92b889",
   "metadata": {},
   "outputs": [],
   "source": [
    "#df.head()"
   ]
  },
  {
   "cell_type": "code",
   "execution_count": 30,
   "id": "804c187e",
   "metadata": {},
   "outputs": [
    {
     "data": {
      "text/plain": [
       "promoter     247037\n",
       "passive      181850\n",
       "detractor     86851\n",
       "Name: nps_group, dtype: int64"
      ]
     },
     "execution_count": 30,
     "metadata": {},
     "output_type": "execute_result"
    }
   ],
   "source": [
    "df.nps_group.value_counts()"
   ]
  },
  {
   "cell_type": "code",
   "execution_count": 31,
   "id": "44efa814",
   "metadata": {},
   "outputs": [
    {
     "data": {
      "text/plain": [
       "0.31059569005968146"
      ]
     },
     "execution_count": 31,
     "metadata": {},
     "output_type": "execute_result"
    }
   ],
   "source": [
    "(247037 - 86851) / (247037 + 181850 + 86851)"
   ]
  },
  {
   "cell_type": "code",
   "execution_count": 35,
   "id": "5fa3825d",
   "metadata": {},
   "outputs": [
    {
     "data": {
      "text/plain": [
       "10.0"
      ]
     },
     "execution_count": 35,
     "metadata": {},
     "output_type": "execute_result"
    }
   ],
   "source": [
    "df.reviewer_score[2]"
   ]
  },
  {
   "cell_type": "code",
   "execution_count": 3,
   "id": "340953ba",
   "metadata": {},
   "outputs": [
    {
     "data": {
      "text/plain": [
       "515738"
      ]
     },
     "execution_count": 3,
     "metadata": {},
     "output_type": "execute_result"
    }
   ],
   "source": [
    "247037 + 181850 + 86851"
   ]
  },
  {
   "cell_type": "code",
   "execution_count": 4,
   "id": "e1c95c74",
   "metadata": {},
   "outputs": [
    {
     "data": {
      "text/plain": [
       "0.4789970876685449"
      ]
     },
     "execution_count": 4,
     "metadata": {},
     "output_type": "execute_result"
    }
   ],
   "source": [
    "247037 / 515738"
   ]
  },
  {
   "cell_type": "code",
   "execution_count": 5,
   "id": "61da5b49",
   "metadata": {},
   "outputs": [
    {
     "data": {
      "text/plain": [
       "0.1684013976088634"
      ]
     },
     "execution_count": 5,
     "metadata": {},
     "output_type": "execute_result"
    }
   ],
   "source": [
    "86851 / 515738"
   ]
  },
  {
   "cell_type": "code",
   "execution_count": 6,
   "id": "c0ab93f9",
   "metadata": {},
   "outputs": [
    {
     "data": {
      "text/plain": [
       "0.30999999999999994"
      ]
     },
     "execution_count": 6,
     "metadata": {},
     "output_type": "execute_result"
    }
   ],
   "source": [
    ".48 - .17"
   ]
  }
 ],
 "metadata": {
  "kernelspec": {
   "display_name": "Python 3 (ipykernel)",
   "language": "python",
   "name": "python3"
  },
  "language_info": {
   "codemirror_mode": {
    "name": "ipython",
    "version": 3
   },
   "file_extension": ".py",
   "mimetype": "text/x-python",
   "name": "python",
   "nbconvert_exporter": "python",
   "pygments_lexer": "ipython3",
   "version": "3.9.7"
  }
 },
 "nbformat": 4,
 "nbformat_minor": 5
}
