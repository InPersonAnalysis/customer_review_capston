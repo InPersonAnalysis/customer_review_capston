{
 "cells": [
  {
   "cell_type": "markdown",
   "id": "8de2a166",
   "metadata": {},
   "source": [
    "## Final Notebook - Hotel Customer Reviews Analysis"
   ]
  },
  {
   "cell_type": "code",
   "execution_count": 1,
   "id": "d38f2fca",
   "metadata": {},
   "outputs": [],
   "source": [
    "import pandas as pd\n",
    "import numpy as np\n",
    "import re\n",
    "import matplotlib.pyplot as plt\n",
    "import seaborn as sns\n",
    "import nltk\n",
    "import wrangle\n",
    "import unicodedata\n",
    "from nltk.corpus import stopwords"
   ]
  },
  {
   "cell_type": "markdown",
   "id": "7c4f0bef",
   "metadata": {},
   "source": [
    "### Project Overview:\n",
    "\n",
    "- Notes...\n",
    "\n",
    "\n",
    "### Project Goals:\n",
    "\n",
    "- Notes...\n",
    "\n",
    "\n",
    "### Data Acquisition:\n",
    "\n",
    "- Notes...\n",
    "\n",
    "\n",
    "### Data Wrangling:\n",
    "\n",
    "- Notes...\n"
   ]
  },
  {
   "cell_type": "code",
   "execution_count": 2,
   "id": "b9b8296e",
   "metadata": {},
   "outputs": [
    {
     "name": "stdout",
     "output_type": "stream",
     "text": [
      "<class 'pandas.core.frame.DataFrame'>\n",
      "DatetimeIndex: 515738 entries, 2015-08-04 to 2017-08-03\n",
      "Data columns (total 38 columns):\n",
      " #   Column                                      Non-Null Count   Dtype  \n",
      "---  ------                                      --------------   -----  \n",
      " 0   month_name                                  515738 non-null  object \n",
      " 1   month                                       515738 non-null  int64  \n",
      " 2   year                                        515738 non-null  int64  \n",
      " 3   day_name                                    515738 non-null  object \n",
      " 4   day                                         515738 non-null  int64  \n",
      " 5   quarter                                     515738 non-null  int64  \n",
      " 6   hotel_name                                  515738 non-null  object \n",
      " 7   street                                      515738 non-null  object \n",
      " 8   city                                        515738 non-null  object \n",
      " 9   zip_code                                    515738 non-null  object \n",
      " 10  country                                     515738 non-null  object \n",
      " 11  lat                                         512470 non-null  float64\n",
      " 12  lng                                         512470 non-null  float64\n",
      " 13  additional_number_of_scoring                515738 non-null  int64  \n",
      " 14  average_score                               515738 non-null  float64\n",
      " 15  total_number_of_reviews                     515738 non-null  int64  \n",
      " 16  reviewer_nationality                        515738 non-null  object \n",
      " 17  trip_type                                   515738 non-null  object \n",
      " 18  nights_stayed                               515546 non-null  object \n",
      " 19  group_type                                  515738 non-null  object \n",
      " 20  total_number_of_reviews_reviewer_has_given  515738 non-null  int64  \n",
      " 21  reviewer_score                              515738 non-null  float64\n",
      " 22  nps_group                                   515738 non-null  object \n",
      " 23  days_since_review                           515738 non-null  int64  \n",
      " 24  neg_sentiment_score                         515738 non-null  float64\n",
      " 25  neg_lem_sentiment_score                     515738 non-null  float64\n",
      " 26  review_total_negative_word_counts           515738 non-null  int64  \n",
      " 27  negative_unique_word_count                  515738 non-null  int64  \n",
      " 28  pos_sentiment_score                         515738 non-null  float64\n",
      " 29  review_total_positive_word_counts           515738 non-null  int64  \n",
      " 30  positive_unique_word_count                  515738 non-null  int64  \n",
      " 31  pos_lem_sentiment_score                     515738 non-null  float64\n",
      " 32  negative_review                             515738 non-null  object \n",
      " 33  negative_clean_review                       515738 non-null  object \n",
      " 34  negative_lemma                              515738 non-null  object \n",
      " 35  positive_review                             515738 non-null  object \n",
      " 36  positive_clean_review                       515738 non-null  object \n",
      " 37  positive_lemma                              515738 non-null  object \n",
      "dtypes: float64(8), int64(12), object(18)\n",
      "memory usage: 153.5+ MB\n"
     ]
    },
    {
     "data": {
      "text/html": [
       "<div>\n",
       "<style scoped>\n",
       "    .dataframe tbody tr th:only-of-type {\n",
       "        vertical-align: middle;\n",
       "    }\n",
       "\n",
       "    .dataframe tbody tr th {\n",
       "        vertical-align: top;\n",
       "    }\n",
       "\n",
       "    .dataframe thead th {\n",
       "        text-align: right;\n",
       "    }\n",
       "</style>\n",
       "<table border=\"1\" class=\"dataframe\">\n",
       "  <thead>\n",
       "    <tr style=\"text-align: right;\">\n",
       "      <th></th>\n",
       "      <th>month_name</th>\n",
       "      <th>month</th>\n",
       "      <th>year</th>\n",
       "      <th>day_name</th>\n",
       "      <th>day</th>\n",
       "      <th>quarter</th>\n",
       "      <th>hotel_name</th>\n",
       "      <th>street</th>\n",
       "      <th>city</th>\n",
       "      <th>zip_code</th>\n",
       "      <th>...</th>\n",
       "      <th>pos_sentiment_score</th>\n",
       "      <th>review_total_positive_word_counts</th>\n",
       "      <th>positive_unique_word_count</th>\n",
       "      <th>pos_lem_sentiment_score</th>\n",
       "      <th>negative_review</th>\n",
       "      <th>negative_clean_review</th>\n",
       "      <th>negative_lemma</th>\n",
       "      <th>positive_review</th>\n",
       "      <th>positive_clean_review</th>\n",
       "      <th>positive_lemma</th>\n",
       "    </tr>\n",
       "    <tr>\n",
       "      <th>review_date</th>\n",
       "      <th></th>\n",
       "      <th></th>\n",
       "      <th></th>\n",
       "      <th></th>\n",
       "      <th></th>\n",
       "      <th></th>\n",
       "      <th></th>\n",
       "      <th></th>\n",
       "      <th></th>\n",
       "      <th></th>\n",
       "      <th></th>\n",
       "      <th></th>\n",
       "      <th></th>\n",
       "      <th></th>\n",
       "      <th></th>\n",
       "      <th></th>\n",
       "      <th></th>\n",
       "      <th></th>\n",
       "      <th></th>\n",
       "      <th></th>\n",
       "      <th></th>\n",
       "    </tr>\n",
       "  </thead>\n",
       "  <tbody>\n",
       "    <tr>\n",
       "      <th>2015-08-04</th>\n",
       "      <td>August</td>\n",
       "      <td>8</td>\n",
       "      <td>2015</td>\n",
       "      <td>Tuesday</td>\n",
       "      <td>4</td>\n",
       "      <td>3</td>\n",
       "      <td>Hilton London Metropole</td>\n",
       "      <td>225 Edgware Road Westminster Borough</td>\n",
       "      <td>London</td>\n",
       "      <td>W2 1JU</td>\n",
       "      <td>...</td>\n",
       "      <td>0.4019</td>\n",
       "      <td>8</td>\n",
       "      <td>6</td>\n",
       "      <td>0.4019</td>\n",
       "      <td>First day the swimming pool was not opened th...</td>\n",
       "      <td>first day swimming pool opened therefore could...</td>\n",
       "      <td>first day swimming pool opened therefore could...</td>\n",
       "      <td>The hotel was clean and accessible</td>\n",
       "      <td>hotel clean accessible</td>\n",
       "      <td>hotel clean accessible</td>\n",
       "    </tr>\n",
       "    <tr>\n",
       "      <th>2015-08-04</th>\n",
       "      <td>August</td>\n",
       "      <td>8</td>\n",
       "      <td>2015</td>\n",
       "      <td>Tuesday</td>\n",
       "      <td>4</td>\n",
       "      <td>3</td>\n",
       "      <td>Hotel Mademoiselle</td>\n",
       "      <td>7 Rue des Petits H tels 10th</td>\n",
       "      <td>Paris</td>\n",
       "      <td>arr 75010</td>\n",
       "      <td>...</td>\n",
       "      <td>0.7906</td>\n",
       "      <td>7</td>\n",
       "      <td>6</td>\n",
       "      <td>0.7906</td>\n",
       "      <td>No Negative</td>\n",
       "      <td></td>\n",
       "      <td></td>\n",
       "      <td>very good location breakfast was great</td>\n",
       "      <td>good location breakfast great</td>\n",
       "      <td>good location breakfast great</td>\n",
       "    </tr>\n",
       "    <tr>\n",
       "      <th>2015-08-04</th>\n",
       "      <td>August</td>\n",
       "      <td>8</td>\n",
       "      <td>2015</td>\n",
       "      <td>Tuesday</td>\n",
       "      <td>4</td>\n",
       "      <td>3</td>\n",
       "      <td>Vienna Marriott Hotel</td>\n",
       "      <td>Parkring 12a 01 Innere Stadt</td>\n",
       "      <td>Vienna</td>\n",
       "      <td>1010</td>\n",
       "      <td>...</td>\n",
       "      <td>0.7579</td>\n",
       "      <td>7</td>\n",
       "      <td>6</td>\n",
       "      <td>0.7579</td>\n",
       "      <td>Nothing</td>\n",
       "      <td></td>\n",
       "      <td></td>\n",
       "      <td>It was very nice excellent hotel</td>\n",
       "      <td>nice excellent hotel</td>\n",
       "      <td>nice excellent hotel</td>\n",
       "    </tr>\n",
       "  </tbody>\n",
       "</table>\n",
       "<p>3 rows × 38 columns</p>\n",
       "</div>"
      ],
      "text/plain": [
       "            month_name  month  year day_name  day  quarter  \\\n",
       "review_date                                                  \n",
       "2015-08-04      August      8  2015  Tuesday    4        3   \n",
       "2015-08-04      August      8  2015  Tuesday    4        3   \n",
       "2015-08-04      August      8  2015  Tuesday    4        3   \n",
       "\n",
       "                          hotel_name                                street  \\\n",
       "review_date                                                                  \n",
       "2015-08-04   Hilton London Metropole  225 Edgware Road Westminster Borough   \n",
       "2015-08-04        Hotel Mademoiselle          7 Rue des Petits H tels 10th   \n",
       "2015-08-04     Vienna Marriott Hotel          Parkring 12a 01 Innere Stadt   \n",
       "\n",
       "               city   zip_code  ... pos_sentiment_score  \\\n",
       "review_date                     ...                       \n",
       "2015-08-04   London     W2 1JU  ...              0.4019   \n",
       "2015-08-04    Paris  arr 75010  ...              0.7906   \n",
       "2015-08-04   Vienna       1010  ...              0.7579   \n",
       "\n",
       "             review_total_positive_word_counts  positive_unique_word_count  \\\n",
       "review_date                                                                  \n",
       "2015-08-04                                   8                           6   \n",
       "2015-08-04                                   7                           6   \n",
       "2015-08-04                                   7                           6   \n",
       "\n",
       "             pos_lem_sentiment_score  \\\n",
       "review_date                            \n",
       "2015-08-04                    0.4019   \n",
       "2015-08-04                    0.7906   \n",
       "2015-08-04                    0.7579   \n",
       "\n",
       "                                               negative_review  \\\n",
       "review_date                                                      \n",
       "2015-08-04    First day the swimming pool was not opened th...   \n",
       "2015-08-04                                         No Negative   \n",
       "2015-08-04                                             Nothing   \n",
       "\n",
       "                                         negative_clean_review  \\\n",
       "review_date                                                      \n",
       "2015-08-04   first day swimming pool opened therefore could...   \n",
       "2015-08-04                                                       \n",
       "2015-08-04                                                       \n",
       "\n",
       "                                                negative_lemma  \\\n",
       "review_date                                                      \n",
       "2015-08-04   first day swimming pool opened therefore could...   \n",
       "2015-08-04                                                       \n",
       "2015-08-04                                                       \n",
       "\n",
       "                                     positive_review  \\\n",
       "review_date                                            \n",
       "2015-08-04       The hotel was clean and accessible    \n",
       "2015-08-04    very good location breakfast was great   \n",
       "2015-08-04          It was very nice excellent hotel   \n",
       "\n",
       "                     positive_clean_review                 positive_lemma  \n",
       "review_date                                                                \n",
       "2015-08-04          hotel clean accessible         hotel clean accessible  \n",
       "2015-08-04   good location breakfast great  good location breakfast great  \n",
       "2015-08-04            nice excellent hotel           nice excellent hotel  \n",
       "\n",
       "[3 rows x 38 columns]"
      ]
     },
     "execution_count": 2,
     "metadata": {},
     "output_type": "execute_result"
    }
   ],
   "source": [
    "df = wrangle.wrangle_hotel()\n",
    "df.info()\n",
    "df.head(3)"
   ]
  },
  {
   "cell_type": "markdown",
   "id": "b1fdf469",
   "metadata": {},
   "source": [
    "### Exploration - Dataset Breakdown\n",
    "\n",
    "- Notes..."
   ]
  },
  {
   "cell_type": "code",
   "execution_count": 3,
   "id": "be5892f1",
   "metadata": {},
   "outputs": [
    {
     "data": {
      "text/plain": [
       "<AxesSubplot:>"
      ]
     },
     "execution_count": 3,
     "metadata": {},
     "output_type": "execute_result"
    },
    {
     "data": {
      "image/png": "[encoded data removed]",
      "text/plain": [
       "<Figure size 432x288 with 1 Axes>"
      ]
     },
     "metadata": {
      "needs_background": "light"
     },
     "output_type": "display_data"
    }
   ],
   "source": [
    "df.trip_type.value_counts().plot.bar()"
   ]
  },
  {
   "cell_type": "code",
   "execution_count": 4,
   "id": "ab01e88e",
   "metadata": {},
   "outputs": [
    {
     "data": {
      "text/plain": [
       "<AxesSubplot:>"
      ]
     },
     "execution_count": 4,
     "metadata": {},
     "output_type": "execute_result"
    },
    {
     "data": {
      "image/png": "[encoded data removed]",
      "text/plain": [
       "<Figure size 432x288 with 1 Axes>"
      ]
     },
     "metadata": {
      "needs_background": "light"
     },
     "output_type": "display_data"
    }
   ],
   "source": [
    "df.nights_stayed.value_counts().plot.bar()"
   ]
  },
  {
   "cell_type": "code",
   "execution_count": 5,
   "id": "3a9996f9",
   "metadata": {},
   "outputs": [
    {
     "data": {
      "text/plain": [
       "<AxesSubplot:>"
      ]
     },
     "execution_count": 5,
     "metadata": {},
     "output_type": "execute_result"
    },
    {
     "data": {
      "image/png": "[encoded data removed]",
      "text/plain": [
       "<Figure size 432x288 with 1 Axes>"
      ]
     },
     "metadata": {
      "needs_background": "light"
     },
     "output_type": "display_data"
    }
   ],
   "source": [
    "df.group_type.value_counts().plot.bar()"
   ]
  },
  {
   "cell_type": "code",
   "execution_count": 6,
   "id": "92af4af1",
   "metadata": {},
   "outputs": [
    {
     "data": {
      "text/plain": [
       "<AxesSubplot:ylabel='Frequency'>"
      ]
     },
     "execution_count": 6,
     "metadata": {},
     "output_type": "execute_result"
    },
    {
     "data": {
      "image/png": "[encoded data removed]",
      "text/plain": [
       "<Figure size 432x288 with 1 Axes>"
      ]
     },
     "metadata": {
      "needs_background": "light"
     },
     "output_type": "display_data"
    }
   ],
   "source": [
    "df.groupby(df.hotel_name).reviewer_score.mean().plot.hist()"
   ]
  },
  {
   "cell_type": "markdown",
   "id": "909f670c",
   "metadata": {},
   "source": [
    "### Exploration - Natural Language Processing\n",
    "\n",
    "- Notes..."
   ]
  },
  {
   "cell_type": "code",
   "execution_count": 7,
   "id": "35652579",
   "metadata": {},
   "outputs": [],
   "source": [
    "pos_reviews = ' '.join(df.positive_clean_review)\n",
    "pos_reviews = pos_reviews.split()\n",
    "\n",
    "neg_reviews = ' '.join(df.negative_clean_review) \n",
    "neg_reviews = neg_reviews.split()"
   ]
  },
  {
   "cell_type": "code",
   "execution_count": 8,
   "id": "cba532c1",
   "metadata": {},
   "outputs": [
    {
     "data": {
      "text/plain": [
       "<AxesSubplot:>"
      ]
     },
     "execution_count": 8,
     "metadata": {},
     "output_type": "execute_result"
    },
    {
     "data": {
      "image/png": "[encoded data removed]",
      "text/plain": [
       "<Figure size 432x288 with 1 Axes>"
      ]
     },
     "metadata": {
      "needs_background": "light"
     },
     "output_type": "display_data"
    }
   ],
   "source": [
    "pd.Series(pos_reviews).value_counts().head(20).plot.barh()"
   ]
  },
  {
   "cell_type": "code",
   "execution_count": 9,
   "id": "8888af42",
   "metadata": {},
   "outputs": [
    {
     "data": {
      "text/plain": [
       "<AxesSubplot:>"
      ]
     },
     "execution_count": 9,
     "metadata": {},
     "output_type": "execute_result"
    },
    {
     "data": {
      "image/png": "[encoded data removed]",
      "text/plain": [
       "<Figure size 432x288 with 1 Axes>"
      ]
     },
     "metadata": {
      "needs_background": "light"
     },
     "output_type": "display_data"
    }
   ],
   "source": [
    "pd.Series(neg_reviews).value_counts().head(20).plot.barh()"
   ]
  },
  {
   "cell_type": "code",
   "execution_count": 10,
   "id": "3a237fb3",
   "metadata": {},
   "outputs": [
    {
     "data": {
      "text/plain": [
       "(great, location)        30992\n",
       "(friendly, staff)        25238\n",
       "(staff, friendly)        24828\n",
       "(friendly, helpful)      21450\n",
       "(good, location)         21091\n",
       "(helpful, staff)         17820\n",
       "(staff, helpful)         16788\n",
       "(excellent, location)    12891\n",
       "(location, great)        12811\n",
       "(location, good)         11604\n",
       "(location, staff)         9457\n",
       "(breakfast, good)         9417\n",
       "(good, breakfast)         9335\n",
       "(comfortable, bed)        9006\n",
       "(location, excellent)     8936\n",
       "(staff, great)            8832\n",
       "(room, clean)             8601\n",
       "(walking, distance)       8406\n",
       "(bed, comfortable)        7481\n",
       "(helpful, friendly)       7368\n",
       "dtype: int64"
      ]
     },
     "execution_count": 10,
     "metadata": {},
     "output_type": "execute_result"
    }
   ],
   "source": [
    "#positive review bigrams\n",
    "pos_bigrams = (pd.Series(nltk.ngrams(pos_reviews, 2)).value_counts().head(20))\n",
    "pos_bigrams.head(20)"
   ]
  },
  {
   "cell_type": "code",
   "execution_count": 11,
   "id": "4f1f5e6d",
   "metadata": {},
   "outputs": [
    {
     "data": {
      "text/plain": [
       "(room, small)            9680\n",
       "(room, service)          6330\n",
       "(small, room)            6067\n",
       "(air, conditioning)      5524\n",
       "(booking, com)           4469\n",
       "(star, hotel)            4000\n",
       "(tea, coffee)            3948\n",
       "(rooms, small)           3420\n",
       "(4, star)                3234\n",
       "(air, con)               3185\n",
       "(breakfast, included)    3069\n",
       "(even, though)           2972\n",
       "(front, desk)            2914\n",
       "(room, bit)              2827\n",
       "(double, bed)            2821\n",
       "(could, better)          2793\n",
       "(little, bit)            2764\n",
       "(bit, small)             2762\n",
       "(would, nice)            2730\n",
       "(mini, bar)              2723\n",
       "dtype: int64"
      ]
     },
     "execution_count": 11,
     "metadata": {},
     "output_type": "execute_result"
    }
   ],
   "source": [
    "#negative review bigrams\n",
    "neg_bigrams = (pd.Series(nltk.ngrams(neg_reviews, 2)).value_counts().head(20))\n",
    "neg_bigrams.head(20)"
   ]
  },
  {
   "cell_type": "code",
   "execution_count": 12,
   "id": "4df97be2",
   "metadata": {},
   "outputs": [
    {
     "data": {
      "text/plain": [
       "(staff, friendly, helpful)     9667\n",
       "(friendly, helpful, staff)     7191\n",
       "(location, friendly, staff)    4081\n",
       "(staff, helpful, friendly)     3189\n",
       "(staff, great, location)       3170\n",
       "(hotel, great, location)       2777\n",
       "(good, value, money)           2553\n",
       "(within, walking, distance)    2403\n",
       "(friendly, staff, good)        2080\n",
       "(would, definitely, stay)      2049\n",
       "(staff, good, location)        2019\n",
       "(friendly, staff, great)       2008\n",
       "(helpful, friendly, staff)     1977\n",
       "(staff, extremely, helpful)    1960\n",
       "(great, location, friendly)    1760\n",
       "(nothing, much, trouble)       1639\n",
       "(hotel, good, location)        1561\n",
       "(location, great, staff)       1524\n",
       "(location, great, location)    1500\n",
       "(location, staff, friendly)    1455\n",
       "dtype: int64"
      ]
     },
     "execution_count": 12,
     "metadata": {},
     "output_type": "execute_result"
    }
   ],
   "source": [
    "#positive review trigrams\n",
    "pos_trigrams = (pd.Series(nltk.ngrams(pos_reviews, 3)).value_counts().head(20))\n",
    "pos_trigrams.head(20)"
   ]
  },
  {
   "cell_type": "code",
   "execution_count": 13,
   "id": "7c377364",
   "metadata": {},
   "outputs": [
    {
     "data": {
      "text/plain": [
       "(4, star, hotel)                1915\n",
       "(room, bit, small)              1171\n",
       "(room, little, small)            907\n",
       "(tea, coffee, making)            892\n",
       "(5, star, hotel)                 874\n",
       "(coffee, making, facilities)     873\n",
       "(making, facilities, room)       769\n",
       "(room, quite, small)             768\n",
       "(tea, coffee, facilities)        655\n",
       "(two, single, beds)              650\n",
       "(breakfast, included, price)     596\n",
       "(breakfast, could, better)       535\n",
       "(4, stars, hotel)                507\n",
       "(beds, pushed, together)         503\n",
       "(front, desk, staff)             490\n",
       "(four, star, hotel)              489\n",
       "(tea, coffee, room)              485\n",
       "(far, city, center)              475\n",
       "(tea, making, facilities)        444\n",
       "(air, conditioning, room)        442\n",
       "dtype: int64"
      ]
     },
     "execution_count": 13,
     "metadata": {},
     "output_type": "execute_result"
    }
   ],
   "source": [
    "#negative review trigrams\n",
    "neg_trigrams = (pd.Series(nltk.ngrams(neg_reviews, 3)).value_counts().head(20))\n",
    "neg_trigrams.head(20)"
   ]
  },
  {
   "cell_type": "code",
   "execution_count": 14,
   "id": "251d6e49",
   "metadata": {},
   "outputs": [
    {
     "data": {
      "text/plain": [
       "(great, location, friendly, staff)        1187\n",
       "(location, friendly, helpful, staff)      1069\n",
       "(friendly, staff, great, location)        1037\n",
       "(staff, friendly, helpful, room)           830\n",
       "(staff, friendly, helpful, location)       812\n",
       "(friendly, staff, good, location)          745\n",
       "(good, location, friendly, staff)          711\n",
       "(helpful, staff, great, location)          683\n",
       "(staff, extremely, friendly, helpful)      603\n",
       "(location, staff, friendly, helpful)       568\n",
       "(friendly, helpful, staff, great)          567\n",
       "(friendly, helpful, staff, good)           541\n",
       "(excellent, location, friendly, staff)     538\n",
       "(hotel, staff, friendly, helpful)          508\n",
       "(staff, really, friendly, helpful)         486\n",
       "(staff, friendly, helpful, breakfast)      466\n",
       "(friendly, helpful, staff, location)       444\n",
       "(helpful, staff, good, location)           426\n",
       "(friendly, staff, excellent, location)     425\n",
       "(staff, friendly, helpful, hotel)          417\n",
       "dtype: int64"
      ]
     },
     "execution_count": 14,
     "metadata": {},
     "output_type": "execute_result"
    }
   ],
   "source": [
    "#positive review n-grams = 4\n",
    "pos_quadgrams = (pd.Series(nltk.ngrams(pos_reviews, 4)).value_counts().head(20))\n",
    "pos_quadgrams.head(20)"
   ]
  },
  {
   "cell_type": "code",
   "execution_count": 15,
   "id": "fa825a20",
   "metadata": {},
   "outputs": [
    {
     "data": {
      "text/plain": [
       "(tea, coffee, making, facilities)     728\n",
       "(coffee, making, facilities, room)    519\n",
       "(tea, coffee, facilities, room)       370\n",
       "(single, beds, pushed, together)      318\n",
       "(tea, making, facilities, room)       218\n",
       "(two, single, beds, pushed)           183\n",
       "(room, little, bit, small)            171\n",
       "(two, singles, pushed, together)      155\n",
       "(bit, far, city, center)              124\n",
       "(coffee, tea, making, facilities)     115\n",
       "(breakfast, included, room, rate)     112\n",
       "(2, single, beds, pushed)             109\n",
       "(walls, thin, could, hear)            109\n",
       "(room, little, small, side)           105\n",
       "(room, two, single, beds)             102\n",
       "(expect, 4, star, hotel)              100\n",
       "(far, away, city, center)              88\n",
       "(bit, far, city, centre)               87\n",
       "(4, star, hotel, room)                 87\n",
       "(tea, coffee, making, facility)        87\n",
       "dtype: int64"
      ]
     },
     "execution_count": 15,
     "metadata": {},
     "output_type": "execute_result"
    }
   ],
   "source": [
    "#negative review n-grams = 4\n",
    "neg_quadgrams = (pd.Series(nltk.ngrams(neg_reviews, 4)).value_counts().head(20))\n",
    "neg_quadgrams.head(20)"
   ]
  },
  {
   "cell_type": "code",
   "execution_count": 16,
   "id": "f0596a7d",
   "metadata": {},
   "outputs": [
    {
     "data": {
      "text/plain": [
       "(great, location, friendly, helpful, staff)        319\n",
       "(friendly, helpful, staff, great, location)        299\n",
       "(staff, friendly, helpful, great, location)        212\n",
       "(staff, friendly, helpful, room, clean)            178\n",
       "(friendly, helpful, staff, good, location)         177\n",
       "(excellent, location, friendly, helpful, staff)    165\n",
       "(good, location, friendly, helpful, staff)         151\n",
       "(great, location, staff, friendly, helpful)        125\n",
       "(staff, friendly, helpful, good, location)         119\n",
       "(staff, friendly, helpful, breakfast, good)        114\n",
       "(staff, friendly, helpful, location, great)        113\n",
       "(friendly, helpful, staff, good, breakfast)        113\n",
       "(location, great, staff, friendly, helpful)        103\n",
       "(great, location, within, walking, distance)       100\n",
       "(friendly, helpful, staff, excellent, location)     99\n",
       "(great, location, friendly, staff, good)            96\n",
       "(staff, friendly, helpful, location, excellent)     90\n",
       "(great, location, friendly, staff, clean)           85\n",
       "(location, excellent, staff, friendly, helpful)     85\n",
       "(location, friendly, staff, great, location)        82\n",
       "dtype: int64"
      ]
     },
     "execution_count": 16,
     "metadata": {},
     "output_type": "execute_result"
    }
   ],
   "source": [
    "#positive review n-grams = 5\n",
    "pos_pentagrams = (pd.Series(nltk.ngrams(pos_reviews, 5)).value_counts().head(20))\n",
    "pos_pentagrams.head(20)"
   ]
  },
  {
   "cell_type": "code",
   "execution_count": 17,
   "id": "4b9e35dd",
   "metadata": {},
   "outputs": [
    {
     "data": {
      "text/plain": [
       "(tea, coffee, making, facilities, room)     436\n",
       "(two, single, beds, pushed, together)       179\n",
       "(2, single, beds, pushed, together)         108\n",
       "(bed, two, singles, pushed, together)        74\n",
       "(two, single, beds, put, together)           57\n",
       "(coffee, tea, making, facilities, room)      56\n",
       "(tea, coffee, making, facility, room)        53\n",
       "(double, bed, two, single, beds)             51\n",
       "(double, bed, two, singles, pushed)          42\n",
       "(would, expect, 4, star, hotel)              39\n",
       "(room, two, single, beds, pushed)            37\n",
       "(would, liked, tea, coffee, making)          37\n",
       "(bed, 2, singles, pushed, together)          34\n",
       "(room, tea, coffee, making, facilities)      33\n",
       "(liked, tea, coffee, making, facilities)     30\n",
       "(tea, coffee, making, facilities, rooms)     30\n",
       "(could, hear, people, next, door)            28\n",
       "(two, twin, beds, pushed, together)          28\n",
       "(location, bit, far, city, center)           28\n",
       "(could, hear, people, next, room)            25\n",
       "dtype: int64"
      ]
     },
     "execution_count": 17,
     "metadata": {},
     "output_type": "execute_result"
    }
   ],
   "source": [
    "#negative review n-grams = 5\n",
    "neg_pentagrams = (pd.Series(nltk.ngrams(neg_reviews, 5)).value_counts().head(20))\n",
    "neg_pentagrams.head(20)"
   ]
  },
  {
   "cell_type": "markdown",
   "id": "684ac4e6",
   "metadata": {},
   "source": [
    "# Sentiment Intensity Analysis"
   ]
  },
  {
   "cell_type": "code",
   "execution_count": 18,
   "id": "a8fad8dc",
   "metadata": {
    "scrolled": false
   },
   "outputs": [
    {
     "data": {
      "image/png": "[encoded data removed]",
      "text/plain": [
       "<Figure size 936x504 with 1 Axes>"
      ]
     },
     "metadata": {
      "needs_background": "light"
     },
     "output_type": "display_data"
    },
    {
     "data": {
      "image/png": "[encoded data removed]",
      "text/plain": [
       "<Figure size 936x504 with 1 Axes>"
      ]
     },
     "metadata": {
      "needs_background": "light"
     },
     "output_type": "display_data"
    },
    {
     "data": {
      "image/png": "[encoded data removed]",
      "text/plain": [
       "<Figure size 936x504 with 1 Axes>"
      ]
     },
     "metadata": {
      "needs_background": "light"
     },
     "output_type": "display_data"
    },
    {
     "data": {
      "text/plain": [
       "<AxesSubplot:xlabel='nps_group', ylabel='neg_lem_sentiment_score'>"
      ]
     },
     "execution_count": 18,
     "metadata": {},
     "output_type": "execute_result"
    },
    {
     "data": {
      "image/png": "[encoded data removed]",
      "text/plain": [
       "<Figure size 936x504 with 1 Axes>"
      ]
     },
     "metadata": {
      "needs_background": "light"
     },
     "output_type": "display_data"
    }
   ],
   "source": [
    "#Compare trip type and positive sentiment score\n",
    "plt.figure(figsize=(13,7))\n",
    "sns.barplot(data=df, x= 'trip_type', y= 'pos_lem_sentiment_score', ci=False)\n",
    "plt.show()\n",
    "\n",
    "#Compare group type and positive sentiment score\n",
    "plt.figure(figsize=(13,7))\n",
    "sns.barplot(data=df, x= 'group_type', y= 'pos_lem_sentiment_score', ci=False)\n",
    "plt.xticks(rotation=30)\n",
    "plt.show()\n",
    "\n",
    "#Compare NPS group and positive sentiment score\n",
    "plt.figure(figsize=(13,7))\n",
    "sns.barplot(data=df, x='nps_group', y='pos_lem_sentiment_score', ci=False)\n",
    "plt.show()\n",
    "\n",
    "#Compare NPS group and negative sentiment score\n",
    "plt.figure(figsize=(13,7))\n",
    "sns.barplot(data=df, x='nps_group', y='neg_lem_sentiment_score', ci=False)\n",
    "\n",
    "\n"
   ]
  },
  {
   "cell_type": "markdown",
   "id": "6287c33a",
   "metadata": {},
   "source": [
    "# Topic Modeling ?? visualize ??"
   ]
  },
  {
   "cell_type": "code",
   "execution_count": null,
   "id": "051d5d25",
   "metadata": {},
   "outputs": [],
   "source": []
  },
  {
   "cell_type": "markdown",
   "id": "e00e2b80",
   "metadata": {},
   "source": [
    "---"
   ]
  },
  {
   "cell_type": "markdown",
   "id": "7916c6de",
   "metadata": {},
   "source": [
    "### Net Promoter Scores (NPS):\n",
    "\n",
    "- Notes..."
   ]
  },
  {
   "cell_type": "code",
   "execution_count": 19,
   "id": "2ca12d0d",
   "metadata": {},
   "outputs": [],
   "source": [
    "def hotel_nps_score(series):\n",
    "    score = ((series == 'promoter').sum() - (series == 'detractor').sum()) / series.size\n",
    "    score = round(score * 100)\n",
    "    return score"
   ]
  },
  {
   "cell_type": "code",
   "execution_count": 20,
   "id": "91f8b5da",
   "metadata": {},
   "outputs": [
    {
     "data": {
      "text/html": [
       "<div>\n",
       "<style scoped>\n",
       "    .dataframe tbody tr th:only-of-type {\n",
       "        vertical-align: middle;\n",
       "    }\n",
       "\n",
       "    .dataframe tbody tr th {\n",
       "        vertical-align: top;\n",
       "    }\n",
       "\n",
       "    .dataframe thead th {\n",
       "        text-align: right;\n",
       "    }\n",
       "</style>\n",
       "<table border=\"1\" class=\"dataframe\">\n",
       "  <thead>\n",
       "    <tr style=\"text-align: right;\">\n",
       "      <th></th>\n",
       "      <th>nps_group</th>\n",
       "    </tr>\n",
       "    <tr>\n",
       "      <th>hotel_name</th>\n",
       "      <th></th>\n",
       "    </tr>\n",
       "  </thead>\n",
       "  <tbody>\n",
       "    <tr>\n",
       "      <th>H10 Casa Mimosa 4 Sup</th>\n",
       "      <td>93</td>\n",
       "    </tr>\n",
       "    <tr>\n",
       "      <th>Ritz Paris</th>\n",
       "      <td>93</td>\n",
       "    </tr>\n",
       "    <tr>\n",
       "      <th>Hotel Casa Camper</th>\n",
       "      <td>93</td>\n",
       "    </tr>\n",
       "    <tr>\n",
       "      <th>The Soho Hotel</th>\n",
       "      <td>92</td>\n",
       "    </tr>\n",
       "    <tr>\n",
       "      <th>Bulgari Hotel London</th>\n",
       "      <td>92</td>\n",
       "    </tr>\n",
       "    <tr>\n",
       "      <th>...</th>\n",
       "      <td>...</td>\n",
       "    </tr>\n",
       "    <tr>\n",
       "      <th>Villa Eugenie</th>\n",
       "      <td>-52</td>\n",
       "    </tr>\n",
       "    <tr>\n",
       "      <th>Kube Hotel Ice Bar</th>\n",
       "      <td>-53</td>\n",
       "    </tr>\n",
       "    <tr>\n",
       "      <th>Savoy Hotel Amsterdam</th>\n",
       "      <td>-56</td>\n",
       "    </tr>\n",
       "    <tr>\n",
       "      <th>Ibis Styles Milano Palmanova</th>\n",
       "      <td>-58</td>\n",
       "    </tr>\n",
       "    <tr>\n",
       "      <th>Hotel Liberty</th>\n",
       "      <td>-78</td>\n",
       "    </tr>\n",
       "  </tbody>\n",
       "</table>\n",
       "<p>1492 rows × 1 columns</p>\n",
       "</div>"
      ],
      "text/plain": [
       "                              nps_group\n",
       "hotel_name                             \n",
       "H10 Casa Mimosa 4 Sup                93\n",
       "Ritz Paris                           93\n",
       "Hotel Casa Camper                    93\n",
       "The Soho Hotel                       92\n",
       "Bulgari Hotel London                 92\n",
       "...                                 ...\n",
       "Villa Eugenie                       -52\n",
       "Kube Hotel Ice Bar                  -53\n",
       "Savoy Hotel Amsterdam               -56\n",
       "Ibis Styles Milano Palmanova        -58\n",
       "Hotel Liberty                       -78\n",
       "\n",
       "[1492 rows x 1 columns]"
      ]
     },
     "execution_count": 20,
     "metadata": {},
     "output_type": "execute_result"
    }
   ],
   "source": [
    "hotel_df = pd.DataFrame(df.groupby(df.hotel_name).nps_group.apply(hotel_nps_score))\n",
    "hotel_df.sort_values(by='nps_group', ascending=False)"
   ]
  },
  {
   "cell_type": "code",
   "execution_count": null,
   "id": "b149f58f",
   "metadata": {},
   "outputs": [],
   "source": []
  }
 ],
 "metadata": {
  "interpreter": {
   "hash": "38cca0c38332a56087b24af0bc80247f4fced29cb4f7f437d91dc159adec9c4e"
  },
  "kernelspec": {
   "display_name": "Python 3 (ipykernel)",
   "language": "python",
   "name": "python3"
  },
  "language_info": {
   "codemirror_mode": {
    "name": "ipython",
    "version": 3
   },
   "file_extension": ".py",
   "mimetype": "text/x-python",
   "name": "python",
   "nbconvert_exporter": "python",
   "pygments_lexer": "ipython3",
   "version": "3.9.7"
  }
 },
 "nbformat": 4,
 "nbformat_minor": 5
}
