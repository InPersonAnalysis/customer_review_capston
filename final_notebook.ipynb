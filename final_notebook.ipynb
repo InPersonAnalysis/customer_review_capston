{
 "cells": [
  {
   "cell_type": "markdown",
   "id": "8de2a166",
   "metadata": {},
   "source": [
    "## Final Notebook - Hotel Customer Reviews Analysis"
   ]
  },
  {
   "cell_type": "code",
   "execution_count": 1,
   "id": "d38f2fca",
   "metadata": {},
   "outputs": [],
   "source": [
    "import pandas as pd\n",
    "import numpy as np\n",
    "import re\n",
    "import matplotlib.pyplot as plt\n",
    "import seaborn as sns\n",
    "import nltk\n",
    "import wrangle\n",
    "import unicodedata\n",
    "from nltk.corpus import stopwords"
   ]
  },
  {
   "cell_type": "markdown",
   "id": "7c4f0bef",
   "metadata": {},
   "source": [
    "### Project Overview:\n",
    "\n",
    "- As the data science team at Bookings.com we analyzed the extensive customer review dataset for our partner hotels in the European region. Using natural language processing, sentiment analysis, and topic modeling we were able to identify key word and key topic drivers of reviewer’s score. Using reviewer’s scores we calculated current Net Promoter Scores for each hotel helping them understand their customer’s opinions so they can implement improvements based on the insight from our review analysis. \n",
    "\n",
    "\n",
    "### Project Goals:\n",
    "\n",
    "- The goal of this project it to provide actionable recommendations to our partner hotels on how to increase their reviewer / NPS scores based on our findings from analyzing customer review data.\n",
    "\n",
    "\n",
    "### Data Acquisition:\n",
    "\n",
    "- The dataset was collected from kaggle where said data was scraped from Booking.com. This dataset contains 515,000 customer reviews and scoring of 1493 luxury hotels across Europe with positive and negative reviews along with other columns that contain features for exploration. A data dictionary can be found within the readme.md.\n",
    "\n",
    "\n",
    "### Data Wrangling:\n",
    "\n",
    "- This project required extensive data cleaning and wrangling including:\n",
    "\n",
    "    - changing the column names to all lower case\n",
    "    \n",
    "    - parsing the list of strings in the tags column into seperate feature columns\n",
    "    \n",
    "    - changing the data type of the timestamp column and engineering additional features containing portions of the overall time stamp\n",
    "    \n",
    "    - verifying and updating review word counts\n",
    "    \n",
    "    - parsing the address values and creating seperate features for country, city, etc.\n",
    "    \n",
    "    - dropping unneeded columns\n",
    "    \n",
    "    - preparing the text data from NLP including basic clean, removing stopwords, and lemmatizing\n",
    "    \n",
    "    - changing the order of the columns within the dataframe \n",
    "    \n",
    "    - cache the wrangled data as a csv to reduce processing time during exploration\n"
   ]
  },
  {
   "cell_type": "code",
   "execution_count": 2,
   "id": "b9b8296e",
   "metadata": {},
   "outputs": [
    {
     "name": "stdout",
     "output_type": "stream",
     "text": [
      "Using cached csv file...\n"
     ]
    },
    {
     "data": {
      "text/html": [
       "<div>\n",
       "<style scoped>\n",
       "    .dataframe tbody tr th:only-of-type {\n",
       "        vertical-align: middle;\n",
       "    }\n",
       "\n",
       "    .dataframe tbody tr th {\n",
       "        vertical-align: top;\n",
       "    }\n",
       "\n",
       "    .dataframe thead th {\n",
       "        text-align: right;\n",
       "    }\n",
       "</style>\n",
       "<table border=\"1\" class=\"dataframe\">\n",
       "  <thead>\n",
       "    <tr style=\"text-align: right;\">\n",
       "      <th></th>\n",
       "      <th>month_name</th>\n",
       "      <th>month</th>\n",
       "      <th>year</th>\n",
       "      <th>day_name</th>\n",
       "      <th>day</th>\n",
       "      <th>quarter</th>\n",
       "      <th>hotel_name</th>\n",
       "      <th>street</th>\n",
       "      <th>city</th>\n",
       "      <th>zip_code</th>\n",
       "      <th>...</th>\n",
       "      <th>pos_sentiment_score</th>\n",
       "      <th>review_total_positive_word_counts</th>\n",
       "      <th>positive_unique_word_count</th>\n",
       "      <th>pos_lem_sentiment_score</th>\n",
       "      <th>negative_review</th>\n",
       "      <th>negative_clean_review</th>\n",
       "      <th>negative_lemma</th>\n",
       "      <th>positive_review</th>\n",
       "      <th>positive_clean_review</th>\n",
       "      <th>positive_lemma</th>\n",
       "    </tr>\n",
       "  </thead>\n",
       "  <tbody>\n",
       "    <tr>\n",
       "      <th>0</th>\n",
       "      <td>August</td>\n",
       "      <td>8</td>\n",
       "      <td>2015</td>\n",
       "      <td>Tuesday</td>\n",
       "      <td>4</td>\n",
       "      <td>3</td>\n",
       "      <td>Hilton London Metropole</td>\n",
       "      <td>225 Edgware Road Westminster Borough</td>\n",
       "      <td>London</td>\n",
       "      <td>W2 1JU</td>\n",
       "      <td>...</td>\n",
       "      <td>0.4019</td>\n",
       "      <td>8</td>\n",
       "      <td>6</td>\n",
       "      <td>0.4019</td>\n",
       "      <td>First day the swimming pool was not opened th...</td>\n",
       "      <td>first day swimming pool opened therefore could...</td>\n",
       "      <td>first day swimming pool opened therefore could...</td>\n",
       "      <td>The hotel was clean and accessible</td>\n",
       "      <td>hotel clean accessible</td>\n",
       "      <td>hotel clean accessible</td>\n",
       "    </tr>\n",
       "    <tr>\n",
       "      <th>1</th>\n",
       "      <td>August</td>\n",
       "      <td>8</td>\n",
       "      <td>2015</td>\n",
       "      <td>Tuesday</td>\n",
       "      <td>4</td>\n",
       "      <td>3</td>\n",
       "      <td>Hotel Mademoiselle</td>\n",
       "      <td>7 Rue des Petits H tels 10th</td>\n",
       "      <td>Paris</td>\n",
       "      <td>arr 75010</td>\n",
       "      <td>...</td>\n",
       "      <td>0.7906</td>\n",
       "      <td>7</td>\n",
       "      <td>6</td>\n",
       "      <td>0.7906</td>\n",
       "      <td>No Negative</td>\n",
       "      <td>NaN</td>\n",
       "      <td>NaN</td>\n",
       "      <td>very good location breakfast was great</td>\n",
       "      <td>good location breakfast great</td>\n",
       "      <td>good location breakfast great</td>\n",
       "    </tr>\n",
       "    <tr>\n",
       "      <th>2</th>\n",
       "      <td>August</td>\n",
       "      <td>8</td>\n",
       "      <td>2015</td>\n",
       "      <td>Tuesday</td>\n",
       "      <td>4</td>\n",
       "      <td>3</td>\n",
       "      <td>Vienna Marriott Hotel</td>\n",
       "      <td>Parkring 12a 01 Innere Stadt</td>\n",
       "      <td>Vienna</td>\n",
       "      <td>1010</td>\n",
       "      <td>...</td>\n",
       "      <td>0.7579</td>\n",
       "      <td>7</td>\n",
       "      <td>6</td>\n",
       "      <td>0.7579</td>\n",
       "      <td>Nothing</td>\n",
       "      <td>NaN</td>\n",
       "      <td>NaN</td>\n",
       "      <td>It was very nice excellent hotel</td>\n",
       "      <td>nice excellent hotel</td>\n",
       "      <td>nice excellent hotel</td>\n",
       "    </tr>\n",
       "  </tbody>\n",
       "</table>\n",
       "<p>3 rows × 38 columns</p>\n",
       "</div>"
      ],
      "text/plain": [
       "  month_name  month  year day_name  day  quarter               hotel_name  \\\n",
       "0     August      8  2015  Tuesday    4        3  Hilton London Metropole   \n",
       "1     August      8  2015  Tuesday    4        3       Hotel Mademoiselle   \n",
       "2     August      8  2015  Tuesday    4        3    Vienna Marriott Hotel   \n",
       "\n",
       "                                 street    city   zip_code  ...  \\\n",
       "0  225 Edgware Road Westminster Borough  London     W2 1JU  ...   \n",
       "1          7 Rue des Petits H tels 10th   Paris  arr 75010  ...   \n",
       "2          Parkring 12a 01 Innere Stadt  Vienna       1010  ...   \n",
       "\n",
       "  pos_sentiment_score  review_total_positive_word_counts  \\\n",
       "0              0.4019                                  8   \n",
       "1              0.7906                                  7   \n",
       "2              0.7579                                  7   \n",
       "\n",
       "   positive_unique_word_count  pos_lem_sentiment_score  \\\n",
       "0                           6                   0.4019   \n",
       "1                           6                   0.7906   \n",
       "2                           6                   0.7579   \n",
       "\n",
       "                                     negative_review  \\\n",
       "0   First day the swimming pool was not opened th...   \n",
       "1                                        No Negative   \n",
       "2                                            Nothing   \n",
       "\n",
       "                               negative_clean_review  \\\n",
       "0  first day swimming pool opened therefore could...   \n",
       "1                                                NaN   \n",
       "2                                                NaN   \n",
       "\n",
       "                                      negative_lemma  \\\n",
       "0  first day swimming pool opened therefore could...   \n",
       "1                                                NaN   \n",
       "2                                                NaN   \n",
       "\n",
       "                           positive_review          positive_clean_review  \\\n",
       "0      The hotel was clean and accessible          hotel clean accessible   \n",
       "1   very good location breakfast was great  good location breakfast great   \n",
       "2         It was very nice excellent hotel           nice excellent hotel   \n",
       "\n",
       "                  positive_lemma  \n",
       "0         hotel clean accessible  \n",
       "1  good location breakfast great  \n",
       "2           nice excellent hotel  \n",
       "\n",
       "[3 rows x 38 columns]"
      ]
     },
     "execution_count": 2,
     "metadata": {},
     "output_type": "execute_result"
    }
   ],
   "source": [
    "df = wrangle.wrangle_hotel()\n",
    "#df.info()\n",
    "df.head(3)"
   ]
  },
  {
   "cell_type": "code",
   "execution_count": 3,
   "id": "eb7fc4a1",
   "metadata": {},
   "outputs": [],
   "source": [
    "pos_dom_topics = pd.read_csv('dominant_topic.csv')\n",
    "pos_dom_topics.rename(columns={'0':'positive_dominant_topic'}, inplace=True)\n",
    "neg_dom_topics = pd.read_csv('negative_dominant_topic.csv')\n",
    "neg_dom_topics.rename(columns={'0':'negative_dominant_topic'}, inplace=True)"
   ]
  },
  {
   "cell_type": "code",
   "execution_count": 4,
   "id": "9900d070",
   "metadata": {},
   "outputs": [
    {
     "data": {
      "text/html": [
       "<div>\n",
       "<style scoped>\n",
       "    .dataframe tbody tr th:only-of-type {\n",
       "        vertical-align: middle;\n",
       "    }\n",
       "\n",
       "    .dataframe tbody tr th {\n",
       "        vertical-align: top;\n",
       "    }\n",
       "\n",
       "    .dataframe thead th {\n",
       "        text-align: right;\n",
       "    }\n",
       "</style>\n",
       "<table border=\"1\" class=\"dataframe\">\n",
       "  <thead>\n",
       "    <tr style=\"text-align: right;\">\n",
       "      <th></th>\n",
       "      <th>month_name</th>\n",
       "      <th>month</th>\n",
       "      <th>year</th>\n",
       "      <th>day_name</th>\n",
       "      <th>day</th>\n",
       "      <th>quarter</th>\n",
       "      <th>hotel_name</th>\n",
       "      <th>street</th>\n",
       "      <th>city</th>\n",
       "      <th>zip_code</th>\n",
       "      <th>...</th>\n",
       "      <th>positive_unique_word_count</th>\n",
       "      <th>pos_lem_sentiment_score</th>\n",
       "      <th>negative_review</th>\n",
       "      <th>negative_clean_review</th>\n",
       "      <th>negative_lemma</th>\n",
       "      <th>positive_review</th>\n",
       "      <th>positive_clean_review</th>\n",
       "      <th>positive_lemma</th>\n",
       "      <th>positive_dominant_topic</th>\n",
       "      <th>negative_dominant_topic</th>\n",
       "    </tr>\n",
       "  </thead>\n",
       "  <tbody>\n",
       "    <tr>\n",
       "      <th>0</th>\n",
       "      <td>August</td>\n",
       "      <td>8</td>\n",
       "      <td>2015</td>\n",
       "      <td>Tuesday</td>\n",
       "      <td>4</td>\n",
       "      <td>3</td>\n",
       "      <td>Hilton London Metropole</td>\n",
       "      <td>225 Edgware Road Westminster Borough</td>\n",
       "      <td>London</td>\n",
       "      <td>W2 1JU</td>\n",
       "      <td>...</td>\n",
       "      <td>6</td>\n",
       "      <td>0.4019</td>\n",
       "      <td>First day the swimming pool was not opened th...</td>\n",
       "      <td>first day swimming pool opened therefore could...</td>\n",
       "      <td>first day swimming pool opened therefore could...</td>\n",
       "      <td>The hotel was clean and accessible</td>\n",
       "      <td>hotel clean accessible</td>\n",
       "      <td>hotel clean accessible</td>\n",
       "      <td>8</td>\n",
       "      <td>4</td>\n",
       "    </tr>\n",
       "    <tr>\n",
       "      <th>1</th>\n",
       "      <td>August</td>\n",
       "      <td>8</td>\n",
       "      <td>2015</td>\n",
       "      <td>Tuesday</td>\n",
       "      <td>4</td>\n",
       "      <td>3</td>\n",
       "      <td>Hotel Mademoiselle</td>\n",
       "      <td>7 Rue des Petits H tels 10th</td>\n",
       "      <td>Paris</td>\n",
       "      <td>arr 75010</td>\n",
       "      <td>...</td>\n",
       "      <td>6</td>\n",
       "      <td>0.7906</td>\n",
       "      <td>No Negative</td>\n",
       "      <td>NaN</td>\n",
       "      <td>NaN</td>\n",
       "      <td>very good location breakfast was great</td>\n",
       "      <td>good location breakfast great</td>\n",
       "      <td>good location breakfast great</td>\n",
       "      <td>9</td>\n",
       "      <td>0</td>\n",
       "    </tr>\n",
       "    <tr>\n",
       "      <th>2</th>\n",
       "      <td>August</td>\n",
       "      <td>8</td>\n",
       "      <td>2015</td>\n",
       "      <td>Tuesday</td>\n",
       "      <td>4</td>\n",
       "      <td>3</td>\n",
       "      <td>Vienna Marriott Hotel</td>\n",
       "      <td>Parkring 12a 01 Innere Stadt</td>\n",
       "      <td>Vienna</td>\n",
       "      <td>1010</td>\n",
       "      <td>...</td>\n",
       "      <td>6</td>\n",
       "      <td>0.7579</td>\n",
       "      <td>Nothing</td>\n",
       "      <td>NaN</td>\n",
       "      <td>NaN</td>\n",
       "      <td>It was very nice excellent hotel</td>\n",
       "      <td>nice excellent hotel</td>\n",
       "      <td>nice excellent hotel</td>\n",
       "      <td>9</td>\n",
       "      <td>0</td>\n",
       "    </tr>\n",
       "    <tr>\n",
       "      <th>3</th>\n",
       "      <td>August</td>\n",
       "      <td>8</td>\n",
       "      <td>2015</td>\n",
       "      <td>Tuesday</td>\n",
       "      <td>4</td>\n",
       "      <td>3</td>\n",
       "      <td>Novotel Amsterdam City</td>\n",
       "      <td>Europaboulevard 10 Zuideramstel</td>\n",
       "      <td>Amsterdam</td>\n",
       "      <td>1083 AD</td>\n",
       "      <td>...</td>\n",
       "      <td>23</td>\n",
       "      <td>0.9414</td>\n",
       "      <td>No Negative</td>\n",
       "      <td>NaN</td>\n",
       "      <td>NaN</td>\n",
       "      <td>Slightly out of the city center but very easy...</td>\n",
       "      <td>slightly city center easy get tram train reall...</td>\n",
       "      <td>slightly city center easy get tram train reall...</td>\n",
       "      <td>6</td>\n",
       "      <td>0</td>\n",
       "    </tr>\n",
       "    <tr>\n",
       "      <th>4</th>\n",
       "      <td>August</td>\n",
       "      <td>8</td>\n",
       "      <td>2015</td>\n",
       "      <td>Tuesday</td>\n",
       "      <td>4</td>\n",
       "      <td>3</td>\n",
       "      <td>Hilton London Kensington Hotel</td>\n",
       "      <td>Holland Park Avenue Kensington and Chelsea</td>\n",
       "      <td>London</td>\n",
       "      <td>W11 4UL</td>\n",
       "      <td>...</td>\n",
       "      <td>5</td>\n",
       "      <td>0.7964</td>\n",
       "      <td>No Negative</td>\n",
       "      <td>NaN</td>\n",
       "      <td>NaN</td>\n",
       "      <td>Great easy to reAch location</td>\n",
       "      <td>great easy reach location</td>\n",
       "      <td>great easy reach location</td>\n",
       "      <td>4</td>\n",
       "      <td>0</td>\n",
       "    </tr>\n",
       "  </tbody>\n",
       "</table>\n",
       "<p>5 rows × 40 columns</p>\n",
       "</div>"
      ],
      "text/plain": [
       "  month_name  month  year day_name  day  quarter  \\\n",
       "0     August      8  2015  Tuesday    4        3   \n",
       "1     August      8  2015  Tuesday    4        3   \n",
       "2     August      8  2015  Tuesday    4        3   \n",
       "3     August      8  2015  Tuesday    4        3   \n",
       "4     August      8  2015  Tuesday    4        3   \n",
       "\n",
       "                       hotel_name                                      street  \\\n",
       "0         Hilton London Metropole        225 Edgware Road Westminster Borough   \n",
       "1              Hotel Mademoiselle                7 Rue des Petits H tels 10th   \n",
       "2           Vienna Marriott Hotel                Parkring 12a 01 Innere Stadt   \n",
       "3          Novotel Amsterdam City             Europaboulevard 10 Zuideramstel   \n",
       "4  Hilton London Kensington Hotel  Holland Park Avenue Kensington and Chelsea   \n",
       "\n",
       "        city   zip_code  ... positive_unique_word_count  \\\n",
       "0     London     W2 1JU  ...                          6   \n",
       "1      Paris  arr 75010  ...                          6   \n",
       "2     Vienna       1010  ...                          6   \n",
       "3  Amsterdam    1083 AD  ...                         23   \n",
       "4     London    W11 4UL  ...                          5   \n",
       "\n",
       "   pos_lem_sentiment_score                                    negative_review  \\\n",
       "0                   0.4019   First day the swimming pool was not opened th...   \n",
       "1                   0.7906                                        No Negative   \n",
       "2                   0.7579                                            Nothing   \n",
       "3                   0.9414                                        No Negative   \n",
       "4                   0.7964                                        No Negative   \n",
       "\n",
       "                               negative_clean_review  \\\n",
       "0  first day swimming pool opened therefore could...   \n",
       "1                                                NaN   \n",
       "2                                                NaN   \n",
       "3                                                NaN   \n",
       "4                                                NaN   \n",
       "\n",
       "                                      negative_lemma  \\\n",
       "0  first day swimming pool opened therefore could...   \n",
       "1                                                NaN   \n",
       "2                                                NaN   \n",
       "3                                                NaN   \n",
       "4                                                NaN   \n",
       "\n",
       "                                     positive_review  \\\n",
       "0                The hotel was clean and accessible    \n",
       "1             very good location breakfast was great   \n",
       "2                   It was very nice excellent hotel   \n",
       "3   Slightly out of the city center but very easy...   \n",
       "4                       Great easy to reAch location   \n",
       "\n",
       "                               positive_clean_review  \\\n",
       "0                             hotel clean accessible   \n",
       "1                      good location breakfast great   \n",
       "2                               nice excellent hotel   \n",
       "3  slightly city center easy get tram train reall...   \n",
       "4                          great easy reach location   \n",
       "\n",
       "                                      positive_lemma  positive_dominant_topic  \\\n",
       "0                             hotel clean accessible                        8   \n",
       "1                      good location breakfast great                        9   \n",
       "2                               nice excellent hotel                        9   \n",
       "3  slightly city center easy get tram train reall...                        6   \n",
       "4                          great easy reach location                        4   \n",
       "\n",
       "  negative_dominant_topic  \n",
       "0                       4  \n",
       "1                       0  \n",
       "2                       0  \n",
       "3                       0  \n",
       "4                       0  \n",
       "\n",
       "[5 rows x 40 columns]"
      ]
     },
     "execution_count": 4,
     "metadata": {},
     "output_type": "execute_result"
    }
   ],
   "source": [
    "df = pd.concat([df, pos_dom_topics.positive_dominant_topic, neg_dom_topics.negative_dominant_topic], axis=1)\n",
    "df.head()"
   ]
  },
  {
   "cell_type": "markdown",
   "id": "470e58c1",
   "metadata": {},
   "source": [
    "---"
   ]
  },
  {
   "cell_type": "markdown",
   "id": "b1fdf469",
   "metadata": {},
   "source": [
    "### Exploration - Dataset Breakdown\n",
    "\n",
    "- The initial exploration of the dataset consisted of reviewing the distribution of customers across key groupings including trip type, group type and nights stayed as well as looking at reviewer score distributions and average hotel score distributions"
   ]
  },
  {
   "cell_type": "code",
   "execution_count": 5,
   "id": "be5892f1",
   "metadata": {},
   "outputs": [
    {
     "data": {
      "text/plain": [
       "<AxesSubplot:>"
      ]
     },
     "execution_count": 5,
     "metadata": {},
     "output_type": "execute_result"
    },
    {
     "data": {
      "image/png": "[encoded data removed]",
      "text/plain": [
       "<Figure size 432x288 with 1 Axes>"
      ]
     },
     "metadata": {
      "needs_background": "light"
     },
     "output_type": "display_data"
    }
   ],
   "source": [
    "df.trip_type.value_counts().plot.barh()"
   ]
  },
  {
   "cell_type": "code",
   "execution_count": 6,
   "id": "ab01e88e",
   "metadata": {},
   "outputs": [
    {
     "data": {
      "text/plain": [
       "<AxesSubplot:>"
      ]
     },
     "execution_count": 6,
     "metadata": {},
     "output_type": "execute_result"
    },
    {
     "data": {
      "image/png": "[encoded data removed]",
      "text/plain": [
       "<Figure size 432x288 with 1 Axes>"
      ]
     },
     "metadata": {
      "needs_background": "light"
     },
     "output_type": "display_data"
    }
   ],
   "source": [
    "df.nights_stayed.value_counts().plot.bar()"
   ]
  },
  {
   "cell_type": "code",
   "execution_count": 7,
   "id": "3a9996f9",
   "metadata": {},
   "outputs": [
    {
     "data": {
      "text/plain": [
       "<AxesSubplot:>"
      ]
     },
     "execution_count": 7,
     "metadata": {},
     "output_type": "execute_result"
    },
    {
     "data": {
      "image/png": "[encoded data removed]",
      "text/plain": [
       "<Figure size 432x288 with 1 Axes>"
      ]
     },
     "metadata": {
      "needs_background": "light"
     },
     "output_type": "display_data"
    }
   ],
   "source": [
    "df.group_type.value_counts().plot.barh()"
   ]
  },
  {
   "cell_type": "code",
   "execution_count": 8,
   "id": "92af4af1",
   "metadata": {},
   "outputs": [
    {
     "data": {
      "text/plain": [
       "<AxesSubplot:ylabel='Frequency'>"
      ]
     },
     "execution_count": 8,
     "metadata": {},
     "output_type": "execute_result"
    },
    {
     "data": {
      "image/png": "[encoded data removed]",
      "text/plain": [
       "<Figure size 432x288 with 1 Axes>"
      ]
     },
     "metadata": {
      "needs_background": "light"
     },
     "output_type": "display_data"
    }
   ],
   "source": [
    "df.groupby(df.hotel_name).reviewer_score.mean().plot.hist()"
   ]
  },
  {
   "cell_type": "markdown",
   "id": "ace9d270",
   "metadata": {},
   "source": [
    "---"
   ]
  },
  {
   "cell_type": "markdown",
   "id": "909f670c",
   "metadata": {},
   "source": [
    "### Exploration - Natural Language Processing\n",
    "\n",
    "- After cleaning / wrangling the text data from the reviews we looked at most frequent unigrams, bigrams, trigram, etc from both the positive reviews and the negative reviews. "
   ]
  },
  {
   "cell_type": "code",
   "execution_count": 10,
   "id": "35652579",
   "metadata": {},
   "outputs": [],
   "source": [
    "df.positive_clean_review.fillna('', inplace=True)\n",
    "df.negative_clean_review.fillna('', inplace=True)\n",
    "\n",
    "pos_reviews = ' '.join(df.positive_clean_review)\n",
    "pos_reviews = pos_reviews.split()\n",
    "\n",
    "neg_reviews = ' '.join(df.negative_clean_review) \n",
    "neg_reviews = neg_reviews.split()"
   ]
  },
  {
   "cell_type": "code",
   "execution_count": 11,
   "id": "cba532c1",
   "metadata": {},
   "outputs": [
    {
     "data": {
      "text/plain": [
       "<AxesSubplot:>"
      ]
     },
     "execution_count": 11,
     "metadata": {},
     "output_type": "execute_result"
    },
    {
     "data": {
      "image/png": "[encoded data removed]",
      "text/plain": [
       "<Figure size 432x288 with 1 Axes>"
      ]
     },
     "metadata": {
      "needs_background": "light"
     },
     "output_type": "display_data"
    }
   ],
   "source": [
    "pd.Series(pos_reviews).value_counts().head(20).plot.barh()"
   ]
  },
  {
   "cell_type": "code",
   "execution_count": 12,
   "id": "8888af42",
   "metadata": {},
   "outputs": [
    {
     "data": {
      "text/plain": [
       "<AxesSubplot:>"
      ]
     },
     "execution_count": 12,
     "metadata": {},
     "output_type": "execute_result"
    },
    {
     "data": {
      "image/png": "[encoded data removed]",
      "text/plain": [
       "<Figure size 432x288 with 1 Axes>"
      ]
     },
     "metadata": {
      "needs_background": "light"
     },
     "output_type": "display_data"
    }
   ],
   "source": [
    "pd.Series(neg_reviews).value_counts().head(20).plot.barh()"
   ]
  },
  {
   "cell_type": "code",
   "execution_count": 13,
   "id": "3a237fb3",
   "metadata": {},
   "outputs": [
    {
     "data": {
      "text/plain": [
       "(great, location)        30992\n",
       "(friendly, staff)        25238\n",
       "(staff, friendly)        24828\n",
       "(friendly, helpful)      21450\n",
       "(good, location)         21091\n",
       "(helpful, staff)         17820\n",
       "(staff, helpful)         16788\n",
       "(excellent, location)    12891\n",
       "(location, great)        12811\n",
       "(location, good)         11604\n",
       "(location, staff)         9457\n",
       "(breakfast, good)         9417\n",
       "(good, breakfast)         9335\n",
       "(comfortable, bed)        9006\n",
       "(location, excellent)     8936\n",
       "(staff, great)            8832\n",
       "(room, clean)             8601\n",
       "(walking, distance)       8406\n",
       "(bed, comfortable)        7481\n",
       "(helpful, friendly)       7368\n",
       "dtype: int64"
      ]
     },
     "execution_count": 13,
     "metadata": {},
     "output_type": "execute_result"
    }
   ],
   "source": [
    "#positive review bigrams\n",
    "pos_bigrams = (pd.Series(nltk.ngrams(pos_reviews, 2)).value_counts().head(20))\n",
    "pos_bigrams.head(20)"
   ]
  },
  {
   "cell_type": "code",
   "execution_count": 14,
   "id": "4f1f5e6d",
   "metadata": {},
   "outputs": [
    {
     "data": {
      "text/plain": [
       "(room, small)            9680\n",
       "(room, service)          6330\n",
       "(small, room)            6067\n",
       "(air, conditioning)      5524\n",
       "(booking, com)           4469\n",
       "(star, hotel)            4000\n",
       "(tea, coffee)            3948\n",
       "(rooms, small)           3420\n",
       "(4, star)                3234\n",
       "(air, con)               3185\n",
       "(breakfast, included)    3069\n",
       "(even, though)           2972\n",
       "(front, desk)            2914\n",
       "(room, bit)              2827\n",
       "(double, bed)            2821\n",
       "(could, better)          2793\n",
       "(little, bit)            2764\n",
       "(bit, small)             2762\n",
       "(would, nice)            2730\n",
       "(mini, bar)              2723\n",
       "dtype: int64"
      ]
     },
     "execution_count": 14,
     "metadata": {},
     "output_type": "execute_result"
    }
   ],
   "source": [
    "#negative review bigrams\n",
    "neg_bigrams = (pd.Series(nltk.ngrams(neg_reviews, 2)).value_counts().head(20))\n",
    "neg_bigrams.head(20)"
   ]
  },
  {
   "cell_type": "code",
   "execution_count": 15,
   "id": "251d6e49",
   "metadata": {},
   "outputs": [
    {
     "data": {
      "text/plain": [
       "(great, location, friendly, staff)        1187\n",
       "(location, friendly, helpful, staff)      1069\n",
       "(friendly, staff, great, location)        1037\n",
       "(staff, friendly, helpful, room)           830\n",
       "(staff, friendly, helpful, location)       812\n",
       "(friendly, staff, good, location)          745\n",
       "(good, location, friendly, staff)          711\n",
       "(helpful, staff, great, location)          683\n",
       "(staff, extremely, friendly, helpful)      603\n",
       "(location, staff, friendly, helpful)       568\n",
       "(friendly, helpful, staff, great)          567\n",
       "(friendly, helpful, staff, good)           541\n",
       "(excellent, location, friendly, staff)     538\n",
       "(hotel, staff, friendly, helpful)          508\n",
       "(staff, really, friendly, helpful)         486\n",
       "(staff, friendly, helpful, breakfast)      466\n",
       "(friendly, helpful, staff, location)       444\n",
       "(helpful, staff, good, location)           426\n",
       "(friendly, staff, excellent, location)     425\n",
       "(staff, friendly, helpful, hotel)          417\n",
       "dtype: int64"
      ]
     },
     "execution_count": 15,
     "metadata": {},
     "output_type": "execute_result"
    }
   ],
   "source": [
    "#positive review n-grams = 4\n",
    "pos_quadgrams = (pd.Series(nltk.ngrams(pos_reviews, 4)).value_counts().head(20))\n",
    "pos_quadgrams.head(20)"
   ]
  },
  {
   "cell_type": "code",
   "execution_count": 16,
   "id": "fa825a20",
   "metadata": {},
   "outputs": [
    {
     "data": {
      "text/plain": [
       "(tea, coffee, making, facilities)     728\n",
       "(coffee, making, facilities, room)    519\n",
       "(tea, coffee, facilities, room)       370\n",
       "(single, beds, pushed, together)      318\n",
       "(tea, making, facilities, room)       218\n",
       "(two, single, beds, pushed)           183\n",
       "(room, little, bit, small)            171\n",
       "(two, singles, pushed, together)      155\n",
       "(bit, far, city, center)              124\n",
       "(coffee, tea, making, facilities)     115\n",
       "(breakfast, included, room, rate)     112\n",
       "(2, single, beds, pushed)             109\n",
       "(walls, thin, could, hear)            109\n",
       "(room, little, small, side)           105\n",
       "(room, two, single, beds)             102\n",
       "(expect, 4, star, hotel)              100\n",
       "(far, away, city, center)              88\n",
       "(bit, far, city, centre)               87\n",
       "(4, star, hotel, room)                 87\n",
       "(tea, coffee, making, facility)        87\n",
       "dtype: int64"
      ]
     },
     "execution_count": 16,
     "metadata": {},
     "output_type": "execute_result"
    }
   ],
   "source": [
    "#negative review n-grams = 4\n",
    "neg_quadgrams = (pd.Series(nltk.ngrams(neg_reviews, 4)).value_counts().head(20))\n",
    "neg_quadgrams.head(20)"
   ]
  },
  {
   "cell_type": "markdown",
   "id": "a9689235",
   "metadata": {},
   "source": [
    "---"
   ]
  },
  {
   "cell_type": "code",
   "execution_count": 17,
   "id": "c8bb1d39",
   "metadata": {},
   "outputs": [
    {
     "data": {
      "text/plain": [
       "couple                        252294\n",
       "solo traveler                 108545\n",
       "group                          65392\n",
       "family with young children     61015\n",
       "family with older children     26349\n",
       "travelers with friends          2143\n",
       "Name: group_type, dtype: int64"
      ]
     },
     "execution_count": 17,
     "metadata": {},
     "output_type": "execute_result"
    }
   ],
   "source": [
    "df.group_type.value_counts()"
   ]
  },
  {
   "cell_type": "markdown",
   "id": "684ac4e6",
   "metadata": {},
   "source": [
    "# Sentiment Intensity Analysis\n",
    "\n",
    "### Sentiment Intensity scores are, in essence, calculated by the use of a comparison to a dictionary of positive and negative words. \n",
    "The scores range from -1 to 1, -1 being the most negative, and 1 being the most positive.\n",
    "\n",
    "- Notable trends were found in the average sentiment intensity scores for trip type ('leisure', 'business', 'unknown') and group type ('couple', 'solo traveler', 'group', 'family with young children', 'family with older children', 'travelers with friends').\n",
    "- Leisure travelers' average sentiment intensity scores were higher than those of the other two trip types.\n",
    "- Solo travelers and families with young children tended to have lower average sentiment intensity scores than the other groups.\n",
    "- Among the Net Promoter Score groups ('Detractor', 'Passive', 'Promoter'), of note is the 'Passive' group, whose average scores were higher than the other groups on negative reviews.\n"
   ]
  },
  {
   "cell_type": "code",
   "execution_count": 18,
   "id": "a8fad8dc",
   "metadata": {
    "scrolled": false
   },
   "outputs": [
    {
     "data": {
      "image/png": "[encoded data removed]",
      "text/plain": [
       "<Figure size 936x504 with 1 Axes>"
      ]
     },
     "metadata": {
      "needs_background": "light"
     },
     "output_type": "display_data"
    },
    {
     "data": {
      "image/png": "[encoded data removed]",
      "text/plain": [
       "<Figure size 936x504 with 1 Axes>"
      ]
     },
     "metadata": {
      "needs_background": "light"
     },
     "output_type": "display_data"
    },
    {
     "data": {
      "image/png": "[encoded data removed]",
      "text/plain": [
       "<Figure size 936x504 with 1 Axes>"
      ]
     },
     "metadata": {
      "needs_background": "light"
     },
     "output_type": "display_data"
    },
    {
     "data": {
      "text/plain": [
       "<AxesSubplot:xlabel='nps_group', ylabel='neg_lem_sentiment_score'>"
      ]
     },
     "execution_count": 18,
     "metadata": {},
     "output_type": "execute_result"
    },
    {
     "data": {
      "image/png": "[encoded data removed]",
      "text/plain": [
       "<Figure size 936x504 with 1 Axes>"
      ]
     },
     "metadata": {
      "needs_background": "light"
     },
     "output_type": "display_data"
    }
   ],
   "source": [
    "#Compare trip type and positive sentiment score\n",
    "plt.figure(figsize=(13,7))\n",
    "sns.barplot(data=df, x= 'trip_type', y= 'pos_lem_sentiment_score', ci=False)\n",
    "plt.show()\n",
    "\n",
    "#Compare group type and positive sentiment score\n",
    "plt.figure(figsize=(13,7))\n",
    "sns.barplot(data=df, x= 'group_type', y= 'pos_lem_sentiment_score', ci=False)\n",
    "plt.xticks(rotation=30)\n",
    "plt.show()\n",
    "\n",
    "#Compare NPS group and positive sentiment score\n",
    "plt.figure(figsize=(13,7))\n",
    "sns.barplot(data=df, x='nps_group', y='pos_lem_sentiment_score', ci=False)\n",
    "plt.show()\n",
    "\n",
    "#Compare NPS group and negative sentiment score\n",
    "plt.figure(figsize=(13,7))\n",
    "sns.barplot(data=df, x='nps_group', y='neg_lem_sentiment_score', ci=False)\n",
    "\n",
    "\n"
   ]
  },
  {
   "cell_type": "markdown",
   "id": "6287c33a",
   "metadata": {},
   "source": [
    "# Topic Modeling \n",
    "\n",
    "- Notes.."
   ]
  },
  {
   "cell_type": "code",
   "execution_count": 26,
   "id": "051d5d25",
   "metadata": {},
   "outputs": [
    {
     "data": {
      "text/html": [
       "<div>\n",
       "<style scoped>\n",
       "    .dataframe tbody tr th:only-of-type {\n",
       "        vertical-align: middle;\n",
       "    }\n",
       "\n",
       "    .dataframe tbody tr th {\n",
       "        vertical-align: top;\n",
       "    }\n",
       "\n",
       "    .dataframe thead th {\n",
       "        text-align: right;\n",
       "    }\n",
       "</style>\n",
       "<table border=\"1\" class=\"dataframe\">\n",
       "  <thead>\n",
       "    <tr style=\"text-align: right;\">\n",
       "      <th></th>\n",
       "      <th>Unnamed: 0</th>\n",
       "      <th>Word 0</th>\n",
       "      <th>Word 1</th>\n",
       "      <th>Word 2</th>\n",
       "      <th>Word 3</th>\n",
       "      <th>Word 4</th>\n",
       "      <th>Word 5</th>\n",
       "      <th>Word 6</th>\n",
       "      <th>Word 7</th>\n",
       "      <th>Word 8</th>\n",
       "      <th>Word 9</th>\n",
       "      <th>Word 10</th>\n",
       "      <th>Word 11</th>\n",
       "      <th>Word 12</th>\n",
       "      <th>Word 13</th>\n",
       "      <th>Word 14</th>\n",
       "    </tr>\n",
       "  </thead>\n",
       "  <tbody>\n",
       "    <tr>\n",
       "      <th>0</th>\n",
       "      <td>Topic 0</td>\n",
       "      <td>room</td>\n",
       "      <td>bed</td>\n",
       "      <td>comfortable</td>\n",
       "      <td>clean</td>\n",
       "      <td>nice</td>\n",
       "      <td>comfy</td>\n",
       "      <td>bathroom</td>\n",
       "      <td>spacious</td>\n",
       "      <td>good</td>\n",
       "      <td>great</td>\n",
       "      <td>shower</td>\n",
       "      <td>big</td>\n",
       "      <td>size</td>\n",
       "      <td>large</td>\n",
       "      <td>really</td>\n",
       "    </tr>\n",
       "    <tr>\n",
       "      <th>1</th>\n",
       "      <td>Topic 1</td>\n",
       "      <td>staff</td>\n",
       "      <td>friendly</td>\n",
       "      <td>helpful</td>\n",
       "      <td>room</td>\n",
       "      <td>clean</td>\n",
       "      <td>breakfast</td>\n",
       "      <td>reception</td>\n",
       "      <td>modern</td>\n",
       "      <td>extremely</td>\n",
       "      <td>super</td>\n",
       "      <td>choice</td>\n",
       "      <td>pleasant</td>\n",
       "      <td>liked</td>\n",
       "      <td>kind</td>\n",
       "      <td>amazing</td>\n",
       "    </tr>\n",
       "    <tr>\n",
       "      <th>2</th>\n",
       "      <td>Topic 2</td>\n",
       "      <td>service</td>\n",
       "      <td>room</td>\n",
       "      <td>facility</td>\n",
       "      <td>coffee</td>\n",
       "      <td>excellent</td>\n",
       "      <td>tea</td>\n",
       "      <td>water</td>\n",
       "      <td>cleanliness</td>\n",
       "      <td>warm</td>\n",
       "      <td>birthday</td>\n",
       "      <td>upgrade</td>\n",
       "      <td>highly</td>\n",
       "      <td>food</td>\n",
       "      <td>overall</td>\n",
       "      <td>hot</td>\n",
       "    </tr>\n",
       "    <tr>\n",
       "      <th>3</th>\n",
       "      <td>Topic 3</td>\n",
       "      <td>room</td>\n",
       "      <td>lovely</td>\n",
       "      <td>hotel</td>\n",
       "      <td>view</td>\n",
       "      <td>nice</td>\n",
       "      <td>beautiful</td>\n",
       "      <td>quiet</td>\n",
       "      <td>like</td>\n",
       "      <td>great</td>\n",
       "      <td>bar</td>\n",
       "      <td>located</td>\n",
       "      <td>quite</td>\n",
       "      <td>floor</td>\n",
       "      <td>paris</td>\n",
       "      <td>restaurant</td>\n",
       "    </tr>\n",
       "    <tr>\n",
       "      <th>4</th>\n",
       "      <td>Topic 4</td>\n",
       "      <td>location</td>\n",
       "      <td>great</td>\n",
       "      <td>staff</td>\n",
       "      <td>excellent</td>\n",
       "      <td>friendly</td>\n",
       "      <td>hotel</td>\n",
       "      <td>perfect</td>\n",
       "      <td>helpful</td>\n",
       "      <td>amazing</td>\n",
       "      <td>check</td>\n",
       "      <td>fantastic</td>\n",
       "      <td>right</td>\n",
       "      <td>stay</td>\n",
       "      <td>polite</td>\n",
       "      <td>superb</td>\n",
       "    </tr>\n",
       "    <tr>\n",
       "      <th>5</th>\n",
       "      <td>Topic 5</td>\n",
       "      <td>hotel</td>\n",
       "      <td>stay</td>\n",
       "      <td>time</td>\n",
       "      <td>night</td>\n",
       "      <td>day</td>\n",
       "      <td>best</td>\n",
       "      <td>value</td>\n",
       "      <td>really</td>\n",
       "      <td>place</td>\n",
       "      <td>loved</td>\n",
       "      <td>pool</td>\n",
       "      <td>stayed</td>\n",
       "      <td>money</td>\n",
       "      <td>little</td>\n",
       "      <td>extra</td>\n",
       "    </tr>\n",
       "    <tr>\n",
       "      <th>6</th>\n",
       "      <td>Topic 6</td>\n",
       "      <td>close</td>\n",
       "      <td>station</td>\n",
       "      <td>hotel</td>\n",
       "      <td>city</td>\n",
       "      <td>easy</td>\n",
       "      <td>walking</td>\n",
       "      <td>train</td>\n",
       "      <td>distance</td>\n",
       "      <td>restaurant</td>\n",
       "      <td>centre</td>\n",
       "      <td>access</td>\n",
       "      <td>min</td>\n",
       "      <td>tram</td>\n",
       "      <td>tube</td>\n",
       "      <td>center</td>\n",
       "    </tr>\n",
       "    <tr>\n",
       "      <th>7</th>\n",
       "      <td>Topic 7</td>\n",
       "      <td>walk</td>\n",
       "      <td>minute</td>\n",
       "      <td>near</td>\n",
       "      <td>street</td>\n",
       "      <td>convenient</td>\n",
       "      <td>station</td>\n",
       "      <td>away</td>\n",
       "      <td>bus</td>\n",
       "      <td>stop</td>\n",
       "      <td>parking</td>\n",
       "      <td>quiet</td>\n",
       "      <td>tube</td>\n",
       "      <td>door</td>\n",
       "      <td>tower</td>\n",
       "      <td>air</td>\n",
       "    </tr>\n",
       "    <tr>\n",
       "      <th>8</th>\n",
       "      <td>Topic 8</td>\n",
       "      <td>hotel</td>\n",
       "      <td>restaurant</td>\n",
       "      <td>area</td>\n",
       "      <td>central</td>\n",
       "      <td>wonderful</td>\n",
       "      <td>lot</td>\n",
       "      <td>small</td>\n",
       "      <td>london</td>\n",
       "      <td>shop</td>\n",
       "      <td>transport</td>\n",
       "      <td>help</td>\n",
       "      <td>public</td>\n",
       "      <td>recommend</td>\n",
       "      <td>fabulous</td>\n",
       "      <td>needed</td>\n",
       "    </tr>\n",
       "    <tr>\n",
       "      <th>9</th>\n",
       "      <td>Topic 9</td>\n",
       "      <td>good</td>\n",
       "      <td>breakfast</td>\n",
       "      <td>location</td>\n",
       "      <td>nice</td>\n",
       "      <td>excellent</td>\n",
       "      <td>metro</td>\n",
       "      <td>food</td>\n",
       "      <td>hotel</td>\n",
       "      <td>price</td>\n",
       "      <td>quality</td>\n",
       "      <td>buffet</td>\n",
       "      <td>efficient</td>\n",
       "      <td>selection</td>\n",
       "      <td>really</td>\n",
       "      <td>trip</td>\n",
       "    </tr>\n",
       "  </tbody>\n",
       "</table>\n",
       "</div>"
      ],
      "text/plain": [
       "  Unnamed: 0    Word 0      Word 1       Word 2     Word 3      Word 4  \\\n",
       "0    Topic 0      room         bed  comfortable      clean        nice   \n",
       "1    Topic 1     staff    friendly      helpful       room       clean   \n",
       "2    Topic 2   service        room     facility     coffee   excellent   \n",
       "3    Topic 3      room      lovely        hotel       view        nice   \n",
       "4    Topic 4  location       great        staff  excellent    friendly   \n",
       "5    Topic 5     hotel        stay         time      night         day   \n",
       "6    Topic 6     close     station        hotel       city        easy   \n",
       "7    Topic 7      walk      minute         near     street  convenient   \n",
       "8    Topic 8     hotel  restaurant         area    central   wonderful   \n",
       "9    Topic 9      good   breakfast     location       nice   excellent   \n",
       "\n",
       "      Word 5     Word 6       Word 7      Word 8     Word 9    Word 10  \\\n",
       "0      comfy   bathroom     spacious        good      great     shower   \n",
       "1  breakfast  reception       modern   extremely      super     choice   \n",
       "2        tea      water  cleanliness        warm   birthday    upgrade   \n",
       "3  beautiful      quiet         like       great        bar    located   \n",
       "4      hotel    perfect      helpful     amazing      check  fantastic   \n",
       "5       best      value       really       place      loved       pool   \n",
       "6    walking      train     distance  restaurant     centre     access   \n",
       "7    station       away          bus        stop    parking      quiet   \n",
       "8        lot      small       london        shop  transport       help   \n",
       "9      metro       food        hotel       price    quality     buffet   \n",
       "\n",
       "     Word 11    Word 12   Word 13     Word 14  \n",
       "0        big       size     large      really  \n",
       "1   pleasant      liked      kind     amazing  \n",
       "2     highly       food   overall         hot  \n",
       "3      quite      floor     paris  restaurant  \n",
       "4      right       stay    polite      superb  \n",
       "5     stayed      money    little       extra  \n",
       "6        min       tram      tube      center  \n",
       "7       tube       door     tower         air  \n",
       "8     public  recommend  fabulous      needed  \n",
       "9  efficient  selection    really        trip  "
      ]
     },
     "execution_count": 26,
     "metadata": {},
     "output_type": "execute_result"
    }
   ],
   "source": [
    "pos_keywords = pd.read_csv('pos_topic_keyword.csv')\n",
    "pos_keywords"
   ]
  },
  {
   "cell_type": "code",
   "execution_count": 25,
   "id": "c45cdc5d",
   "metadata": {},
   "outputs": [
    {
     "data": {
      "text/html": [
       "<div>\n",
       "<style scoped>\n",
       "    .dataframe tbody tr th:only-of-type {\n",
       "        vertical-align: middle;\n",
       "    }\n",
       "\n",
       "    .dataframe tbody tr th {\n",
       "        vertical-align: top;\n",
       "    }\n",
       "\n",
       "    .dataframe thead th {\n",
       "        text-align: right;\n",
       "    }\n",
       "</style>\n",
       "<table border=\"1\" class=\"dataframe\">\n",
       "  <thead>\n",
       "    <tr style=\"text-align: right;\">\n",
       "      <th></th>\n",
       "      <th>Unnamed: 0</th>\n",
       "      <th>Word 0</th>\n",
       "      <th>Word 1</th>\n",
       "      <th>Word 2</th>\n",
       "      <th>Word 3</th>\n",
       "      <th>Word 4</th>\n",
       "      <th>Word 5</th>\n",
       "      <th>Word 6</th>\n",
       "      <th>Word 7</th>\n",
       "      <th>Word 8</th>\n",
       "      <th>Word 9</th>\n",
       "      <th>Word 10</th>\n",
       "      <th>Word 11</th>\n",
       "      <th>Word 12</th>\n",
       "      <th>Word 13</th>\n",
       "      <th>Word 14</th>\n",
       "    </tr>\n",
       "  </thead>\n",
       "  <tbody>\n",
       "    <tr>\n",
       "      <th>0</th>\n",
       "      <td>Topic 0</td>\n",
       "      <td>little</td>\n",
       "      <td>door</td>\n",
       "      <td>bit</td>\n",
       "      <td>hotel</td>\n",
       "      <td>double</td>\n",
       "      <td>problem</td>\n",
       "      <td>outside</td>\n",
       "      <td>london</td>\n",
       "      <td>car</td>\n",
       "      <td>friendly</td>\n",
       "      <td>extremely</td>\n",
       "      <td>tired</td>\n",
       "      <td>say</td>\n",
       "      <td>staff</td>\n",
       "      <td>need</td>\n",
       "    </tr>\n",
       "    <tr>\n",
       "      <th>1</th>\n",
       "      <td>Topic 1</td>\n",
       "      <td>room</td>\n",
       "      <td>coffee</td>\n",
       "      <td>tea</td>\n",
       "      <td>facility</td>\n",
       "      <td>walk</td>\n",
       "      <td>card</td>\n",
       "      <td>issue</td>\n",
       "      <td>table</td>\n",
       "      <td>smell</td>\n",
       "      <td>away</td>\n",
       "      <td>quality</td>\n",
       "      <td>look</td>\n",
       "      <td>station</td>\n",
       "      <td>paid</td>\n",
       "      <td>second</td>\n",
       "    </tr>\n",
       "    <tr>\n",
       "      <th>2</th>\n",
       "      <td>Topic 2</td>\n",
       "      <td>room</td>\n",
       "      <td>small</td>\n",
       "      <td>bathroom</td>\n",
       "      <td>view</td>\n",
       "      <td>shower</td>\n",
       "      <td>clean</td>\n",
       "      <td>toilet</td>\n",
       "      <td>wall</td>\n",
       "      <td>bit</td>\n",
       "      <td>size</td>\n",
       "      <td>tiny</td>\n",
       "      <td>light</td>\n",
       "      <td>space</td>\n",
       "      <td>dirty</td>\n",
       "      <td>towel</td>\n",
       "    </tr>\n",
       "    <tr>\n",
       "      <th>3</th>\n",
       "      <td>Topic 3</td>\n",
       "      <td>bed</td>\n",
       "      <td>bar</td>\n",
       "      <td>price</td>\n",
       "      <td>shower</td>\n",
       "      <td>water</td>\n",
       "      <td>area</td>\n",
       "      <td>star</td>\n",
       "      <td>hotel</td>\n",
       "      <td>bath</td>\n",
       "      <td>pillow</td>\n",
       "      <td>quite</td>\n",
       "      <td>uncomfortable</td>\n",
       "      <td>charged</td>\n",
       "      <td>glass</td>\n",
       "      <td>taxi</td>\n",
       "    </tr>\n",
       "    <tr>\n",
       "      <th>4</th>\n",
       "      <td>Topic 4</td>\n",
       "      <td>room</td>\n",
       "      <td>floor</td>\n",
       "      <td>hot</td>\n",
       "      <td>noise</td>\n",
       "      <td>poor</td>\n",
       "      <td>noisy</td>\n",
       "      <td>wifi</td>\n",
       "      <td>night</td>\n",
       "      <td>window</td>\n",
       "      <td>work</td>\n",
       "      <td>cold</td>\n",
       "      <td>open</td>\n",
       "      <td>free</td>\n",
       "      <td>slow</td>\n",
       "      <td>lift</td>\n",
       "    </tr>\n",
       "    <tr>\n",
       "      <th>5</th>\n",
       "      <td>Topic 5</td>\n",
       "      <td>breakfast</td>\n",
       "      <td>good</td>\n",
       "      <td>staff</td>\n",
       "      <td>great</td>\n",
       "      <td>service</td>\n",
       "      <td>really</td>\n",
       "      <td>ask</td>\n",
       "      <td>high</td>\n",
       "      <td>came</td>\n",
       "      <td>expected</td>\n",
       "      <td>choice</td>\n",
       "      <td>especially</td>\n",
       "      <td>english</td>\n",
       "      <td>like</td>\n",
       "      <td>restaurant</td>\n",
       "    </tr>\n",
       "    <tr>\n",
       "      <th>6</th>\n",
       "      <td>Topic 6</td>\n",
       "      <td>room</td>\n",
       "      <td>stay</td>\n",
       "      <td>hotel</td>\n",
       "      <td>night</td>\n",
       "      <td>check</td>\n",
       "      <td>time</td>\n",
       "      <td>reception</td>\n",
       "      <td>like</td>\n",
       "      <td>day</td>\n",
       "      <td>bed</td>\n",
       "      <td>parking</td>\n",
       "      <td>morning</td>\n",
       "      <td>sleep</td>\n",
       "      <td>pay</td>\n",
       "      <td>hard</td>\n",
       "    </tr>\n",
       "    <tr>\n",
       "      <th>7</th>\n",
       "      <td>Topic 7</td>\n",
       "      <td>hotel</td>\n",
       "      <td>location</td>\n",
       "      <td>got</td>\n",
       "      <td>old</td>\n",
       "      <td>far</td>\n",
       "      <td>city</td>\n",
       "      <td>single</td>\n",
       "      <td>way</td>\n",
       "      <td>good</td>\n",
       "      <td>hear</td>\n",
       "      <td>elevator</td>\n",
       "      <td>properly</td>\n",
       "      <td>corridor</td>\n",
       "      <td>fridge</td>\n",
       "      <td>disappointing</td>\n",
       "    </tr>\n",
       "    <tr>\n",
       "      <th>8</th>\n",
       "      <td>Topic 8</td>\n",
       "      <td>expensive</td>\n",
       "      <td>air</td>\n",
       "      <td>service</td>\n",
       "      <td>food</td>\n",
       "      <td>better</td>\n",
       "      <td>restaurant</td>\n",
       "      <td>hotel</td>\n",
       "      <td>pool</td>\n",
       "      <td>money</td>\n",
       "      <td>drink</td>\n",
       "      <td>conditioning</td>\n",
       "      <td>use</td>\n",
       "      <td>thing</td>\n",
       "      <td>need</td>\n",
       "      <td>nice</td>\n",
       "    </tr>\n",
       "    <tr>\n",
       "      <th>9</th>\n",
       "      <td>Topic 9</td>\n",
       "      <td>staff</td>\n",
       "      <td>room</td>\n",
       "      <td>hotel</td>\n",
       "      <td>booking</td>\n",
       "      <td>bad</td>\n",
       "      <td>booked</td>\n",
       "      <td>asked</td>\n",
       "      <td>working</td>\n",
       "      <td>told</td>\n",
       "      <td>said</td>\n",
       "      <td>desk</td>\n",
       "      <td>arrived</td>\n",
       "      <td>make</td>\n",
       "      <td>time</td>\n",
       "      <td>com</td>\n",
       "    </tr>\n",
       "  </tbody>\n",
       "</table>\n",
       "</div>"
      ],
      "text/plain": [
       "  Unnamed: 0     Word 0    Word 1    Word 2    Word 3   Word 4      Word 5  \\\n",
       "0    Topic 0     little      door       bit     hotel   double     problem   \n",
       "1    Topic 1       room    coffee       tea  facility     walk        card   \n",
       "2    Topic 2       room     small  bathroom      view   shower       clean   \n",
       "3    Topic 3        bed       bar     price    shower    water        area   \n",
       "4    Topic 4       room     floor       hot     noise     poor       noisy   \n",
       "5    Topic 5  breakfast      good     staff     great  service      really   \n",
       "6    Topic 6       room      stay     hotel     night    check        time   \n",
       "7    Topic 7      hotel  location       got       old      far        city   \n",
       "8    Topic 8  expensive       air   service      food   better  restaurant   \n",
       "9    Topic 9      staff      room     hotel   booking      bad      booked   \n",
       "\n",
       "      Word 6   Word 7  Word 8    Word 9       Word 10        Word 11  \\\n",
       "0    outside   london     car  friendly     extremely          tired   \n",
       "1      issue    table   smell      away       quality           look   \n",
       "2     toilet     wall     bit      size          tiny          light   \n",
       "3       star    hotel    bath    pillow         quite  uncomfortable   \n",
       "4       wifi    night  window      work          cold           open   \n",
       "5        ask     high    came  expected        choice     especially   \n",
       "6  reception     like     day       bed       parking        morning   \n",
       "7     single      way    good      hear      elevator       properly   \n",
       "8      hotel     pool   money     drink  conditioning            use   \n",
       "9      asked  working    told      said          desk        arrived   \n",
       "\n",
       "    Word 12 Word 13        Word 14  \n",
       "0       say   staff           need  \n",
       "1   station    paid         second  \n",
       "2     space   dirty          towel  \n",
       "3   charged   glass           taxi  \n",
       "4      free    slow           lift  \n",
       "5   english    like     restaurant  \n",
       "6     sleep     pay           hard  \n",
       "7  corridor  fridge  disappointing  \n",
       "8     thing    need           nice  \n",
       "9      make    time            com  "
      ]
     },
     "execution_count": 25,
     "metadata": {},
     "output_type": "execute_result"
    }
   ],
   "source": [
    "neg_keywords = pd.read_csv('negative_topic_keywords.csv')\n",
    "neg_keywords"
   ]
  },
  {
   "cell_type": "markdown",
   "id": "e00e2b80",
   "metadata": {},
   "source": [
    "---"
   ]
  },
  {
   "cell_type": "markdown",
   "id": "7916c6de",
   "metadata": {},
   "source": [
    "### Net Promoter Scores (NPS):\n",
    "\n",
    "- NPS scores use reviewer's scores between 0 and 10 to classify each reviewer as either a 'promoter' (score of 9 or 10), a 'passive' (score of 7 or 8), or a 'detractor' (score of 6 or below).\n",
    "\n",
    "- The NPS score for a hotel is calculted by taking the number of promoters minus the number of detractors divided by the total number of reviewers"
   ]
  },
  {
   "cell_type": "code",
   "execution_count": 21,
   "id": "2ca12d0d",
   "metadata": {},
   "outputs": [],
   "source": [
    "def hotel_nps_score(series):\n",
    "    score = ((series == 'promoter').sum() - (series == 'detractor').sum()) / series.size\n",
    "    score = round(score * 100)\n",
    "    return score"
   ]
  },
  {
   "cell_type": "code",
   "execution_count": 22,
   "id": "91f8b5da",
   "metadata": {},
   "outputs": [
    {
     "data": {
      "text/html": [
       "<div>\n",
       "<style scoped>\n",
       "    .dataframe tbody tr th:only-of-type {\n",
       "        vertical-align: middle;\n",
       "    }\n",
       "\n",
       "    .dataframe tbody tr th {\n",
       "        vertical-align: top;\n",
       "    }\n",
       "\n",
       "    .dataframe thead th {\n",
       "        text-align: right;\n",
       "    }\n",
       "</style>\n",
       "<table border=\"1\" class=\"dataframe\">\n",
       "  <thead>\n",
       "    <tr style=\"text-align: right;\">\n",
       "      <th></th>\n",
       "      <th>nps_group</th>\n",
       "    </tr>\n",
       "    <tr>\n",
       "      <th>hotel_name</th>\n",
       "      <th></th>\n",
       "    </tr>\n",
       "  </thead>\n",
       "  <tbody>\n",
       "    <tr>\n",
       "      <th>H10 Casa Mimosa 4 Sup</th>\n",
       "      <td>93</td>\n",
       "    </tr>\n",
       "    <tr>\n",
       "      <th>Ritz Paris</th>\n",
       "      <td>93</td>\n",
       "    </tr>\n",
       "    <tr>\n",
       "      <th>Hotel Casa Camper</th>\n",
       "      <td>93</td>\n",
       "    </tr>\n",
       "    <tr>\n",
       "      <th>The Soho Hotel</th>\n",
       "      <td>92</td>\n",
       "    </tr>\n",
       "    <tr>\n",
       "      <th>Bulgari Hotel London</th>\n",
       "      <td>92</td>\n",
       "    </tr>\n",
       "    <tr>\n",
       "      <th>...</th>\n",
       "      <td>...</td>\n",
       "    </tr>\n",
       "    <tr>\n",
       "      <th>Villa Eugenie</th>\n",
       "      <td>-52</td>\n",
       "    </tr>\n",
       "    <tr>\n",
       "      <th>Kube Hotel Ice Bar</th>\n",
       "      <td>-53</td>\n",
       "    </tr>\n",
       "    <tr>\n",
       "      <th>Savoy Hotel Amsterdam</th>\n",
       "      <td>-56</td>\n",
       "    </tr>\n",
       "    <tr>\n",
       "      <th>Ibis Styles Milano Palmanova</th>\n",
       "      <td>-58</td>\n",
       "    </tr>\n",
       "    <tr>\n",
       "      <th>Hotel Liberty</th>\n",
       "      <td>-78</td>\n",
       "    </tr>\n",
       "  </tbody>\n",
       "</table>\n",
       "<p>1492 rows × 1 columns</p>\n",
       "</div>"
      ],
      "text/plain": [
       "                              nps_group\n",
       "hotel_name                             \n",
       "H10 Casa Mimosa 4 Sup                93\n",
       "Ritz Paris                           93\n",
       "Hotel Casa Camper                    93\n",
       "The Soho Hotel                       92\n",
       "Bulgari Hotel London                 92\n",
       "...                                 ...\n",
       "Villa Eugenie                       -52\n",
       "Kube Hotel Ice Bar                  -53\n",
       "Savoy Hotel Amsterdam               -56\n",
       "Ibis Styles Milano Palmanova        -58\n",
       "Hotel Liberty                       -78\n",
       "\n",
       "[1492 rows x 1 columns]"
      ]
     },
     "execution_count": 22,
     "metadata": {},
     "output_type": "execute_result"
    }
   ],
   "source": [
    "#calculate NPS scores for each hotel\n",
    "hotel_df = pd.DataFrame(df.groupby(df.hotel_name).nps_group.apply(hotel_nps_score))\n",
    "hotel_df.sort_values(by='nps_group', ascending=False)"
   ]
  },
  {
   "cell_type": "code",
   "execution_count": 23,
   "id": "b149f58f",
   "metadata": {},
   "outputs": [
    {
     "data": {
      "text/plain": [
       "<AxesSubplot:ylabel='Frequency'>"
      ]
     },
     "execution_count": 23,
     "metadata": {},
     "output_type": "execute_result"
    },
    {
     "data": {
      "image/png": "[encoded data removed]",
      "text/plain": [
       "<Figure size 432x288 with 1 Axes>"
      ]
     },
     "metadata": {
      "needs_background": "light"
     },
     "output_type": "display_data"
    }
   ],
   "source": [
    "#Distribution of hotel NPS scores\n",
    "hotel_df.plot.hist()"
   ]
  },
  {
   "cell_type": "markdown",
   "id": "fffa8956",
   "metadata": {},
   "source": [
    "---"
   ]
  },
  {
   "cell_type": "markdown",
   "id": "f363dda3",
   "metadata": {},
   "source": [
    "### Hotel Specific Data\n",
    "\n",
    "- As an additional resource to our partner hotels we are providing hotel specific information from our analysis\n",
    "\n",
    "- The dataframe below has nps score, average positive and negative sentiment scores, main topics and key words from positive reviews and main topisc and key words from negative reviews."
   ]
  },
  {
   "cell_type": "code",
   "execution_count": 27,
   "id": "41f154fc",
   "metadata": {},
   "outputs": [
    {
     "data": {
      "text/html": [
       "<div>\n",
       "<style scoped>\n",
       "    .dataframe tbody tr th:only-of-type {\n",
       "        vertical-align: middle;\n",
       "    }\n",
       "\n",
       "    .dataframe tbody tr th {\n",
       "        vertical-align: top;\n",
       "    }\n",
       "\n",
       "    .dataframe thead th {\n",
       "        text-align: right;\n",
       "    }\n",
       "</style>\n",
       "<table border=\"1\" class=\"dataframe\">\n",
       "  <thead>\n",
       "    <tr style=\"text-align: right;\">\n",
       "      <th></th>\n",
       "      <th>nps_group</th>\n",
       "      <th>detractor</th>\n",
       "      <th>passive</th>\n",
       "      <th>promoter</th>\n",
       "      <th>pos_lem_sentiment_score</th>\n",
       "      <th>neg_lem_sentiment_score</th>\n",
       "      <th>negative_dominant_topic</th>\n",
       "      <th>positive_dominant_topic</th>\n",
       "      <th>neg_keywords</th>\n",
       "      <th>pos_keywords</th>\n",
       "    </tr>\n",
       "  </thead>\n",
       "  <tbody>\n",
       "    <tr>\n",
       "      <th>0</th>\n",
       "      <td>53</td>\n",
       "      <td>16.0</td>\n",
       "      <td>42.0</td>\n",
       "      <td>101.0</td>\n",
       "      <td>0.605062</td>\n",
       "      <td>0.010621</td>\n",
       "      <td>0</td>\n",
       "      <td>0</td>\n",
       "      <td>little, door, bit, hotel, double, problem, out...</td>\n",
       "      <td>room, bed, comfortable, clean, nice, comfy, ba...</td>\n",
       "    </tr>\n",
       "    <tr>\n",
       "      <th>1</th>\n",
       "      <td>9</td>\n",
       "      <td>34.0</td>\n",
       "      <td>66.0</td>\n",
       "      <td>48.0</td>\n",
       "      <td>0.543749</td>\n",
       "      <td>0.008590</td>\n",
       "      <td>0</td>\n",
       "      <td>0</td>\n",
       "      <td>little, door, bit, hotel, double, problem, out...</td>\n",
       "      <td>room, bed, comfortable, clean, nice, comfy, ba...</td>\n",
       "    </tr>\n",
       "    <tr>\n",
       "      <th>2</th>\n",
       "      <td>56</td>\n",
       "      <td>47.0</td>\n",
       "      <td>208.0</td>\n",
       "      <td>434.0</td>\n",
       "      <td>0.653845</td>\n",
       "      <td>0.048747</td>\n",
       "      <td>0</td>\n",
       "      <td>4</td>\n",
       "      <td>little, door, bit, hotel, double, problem, out...</td>\n",
       "      <td>location, great, staff, excellent, friendly, h...</td>\n",
       "    </tr>\n",
       "    <tr>\n",
       "      <th>3</th>\n",
       "      <td>91</td>\n",
       "      <td>2.0</td>\n",
       "      <td>5.0</td>\n",
       "      <td>96.0</td>\n",
       "      <td>0.685737</td>\n",
       "      <td>0.039544</td>\n",
       "      <td>0</td>\n",
       "      <td>5</td>\n",
       "      <td>little, door, bit, hotel, double, problem, out...</td>\n",
       "      <td>hotel, stay, time, night, day, best, value, re...</td>\n",
       "    </tr>\n",
       "    <tr>\n",
       "      <th>4</th>\n",
       "      <td>86</td>\n",
       "      <td>NaN</td>\n",
       "      <td>4.0</td>\n",
       "      <td>24.0</td>\n",
       "      <td>0.503500</td>\n",
       "      <td>0.074264</td>\n",
       "      <td>0</td>\n",
       "      <td>1</td>\n",
       "      <td>little, door, bit, hotel, double, problem, out...</td>\n",
       "      <td>staff, friendly, helpful, room, clean, breakfa...</td>\n",
       "    </tr>\n",
       "  </tbody>\n",
       "</table>\n",
       "</div>"
      ],
      "text/plain": [
       "   nps_group  detractor  passive  promoter  pos_lem_sentiment_score  \\\n",
       "0         53       16.0     42.0     101.0                 0.605062   \n",
       "1          9       34.0     66.0      48.0                 0.543749   \n",
       "2         56       47.0    208.0     434.0                 0.653845   \n",
       "3         91        2.0      5.0      96.0                 0.685737   \n",
       "4         86        NaN      4.0      24.0                 0.503500   \n",
       "\n",
       "   neg_lem_sentiment_score  negative_dominant_topic  positive_dominant_topic  \\\n",
       "0                 0.010621                        0                        0   \n",
       "1                 0.008590                        0                        0   \n",
       "2                 0.048747                        0                        4   \n",
       "3                 0.039544                        0                        5   \n",
       "4                 0.074264                        0                        1   \n",
       "\n",
       "                                        neg_keywords  \\\n",
       "0  little, door, bit, hotel, double, problem, out...   \n",
       "1  little, door, bit, hotel, double, problem, out...   \n",
       "2  little, door, bit, hotel, double, problem, out...   \n",
       "3  little, door, bit, hotel, double, problem, out...   \n",
       "4  little, door, bit, hotel, double, problem, out...   \n",
       "\n",
       "                                        pos_keywords  \n",
       "0  room, bed, comfortable, clean, nice, comfy, ba...  \n",
       "1  room, bed, comfortable, clean, nice, comfy, ba...  \n",
       "2  location, great, staff, excellent, friendly, h...  \n",
       "3  hotel, stay, time, night, day, best, value, re...  \n",
       "4  staff, friendly, helpful, room, clean, breakfa...  "
      ]
     },
     "execution_count": 27,
     "metadata": {},
     "output_type": "execute_result"
    }
   ],
   "source": [
    "#Avg sentiment score of positive feedback by hotel\n",
    "pos_sent = pd.DataFrame(df.groupby(df.hotel_name).pos_lem_sentiment_score.mean())\n",
    "#avg sentiment score for negative feedback by hotel\n",
    "neg_sent = pd.DataFrame(df.groupby(df.hotel_name).neg_lem_sentiment_score.mean())\n",
    "#count of nps_group values\n",
    "nps_type = pd.DataFrame(df.groupby(df.hotel_name).nps_group.value_counts()).unstack()\n",
    "#pull top neg dominant topic by hotel\n",
    "neg_dom_top = pd.DataFrame(df.groupby(df.hotel_name).negative_dominant_topic.agg(lambda hotel_topics: hotel_topics.value_counts().head(1).index))\n",
    "#pull top pos dominant topic by hotel\n",
    "pos_dom_top = pd.DataFrame(df.groupby(df.hotel_name).positive_dominant_topic.agg(lambda hotel_topics: hotel_topics.value_counts().head(1).index))\n",
    "#concat the dfs\n",
    "hotels = pd.concat([hotel_df, nps_type.nps_group.detractor, nps_type.nps_group.passive, nps_type.nps_group.promoter,\n",
    "                    pos_sent.pos_lem_sentiment_score, neg_sent.neg_lem_sentiment_score, neg_dom_top.negative_dominant_topic,\n",
    "                   pos_dom_top.positive_dominant_topic], axis=1)\n",
    "#concat the keywords\n",
    "cols = ['Word 0', 'Word 1', 'Word 2', 'Word 3', 'Word 4', 'Word 5', 'Word 6', 'Word 7', 'Word 8', 'Word 9', 'Word 10', 'Word 11', 'Word 12', 'Word 13', 'Word 14']\n",
    "n_words = pd.DataFrame(neg_keywords[cols].apply(lambda row: ', '.join(row.values.astype(str)), axis=1))\n",
    "p_words = pd.DataFrame(pos_keywords[cols].apply(lambda row: ', '.join(row.values.astype(str)), axis=1))\n",
    "#clean and merge with hotels df\n",
    "n_words = n_words.reset_index()\n",
    "n_words.rename(columns={0:'neg_keywords'}, inplace=True)\n",
    "p_words = p_words.reset_index()\n",
    "p_words.rename(columns={0:'pos_keywords'}, inplace=True)\n",
    "hotels = hotels.merge(n_words, how='left', left_on='negative_dominant_topic', right_on='index')\n",
    "hotels = hotels.merge(p_words, how='left', left_on='positive_dominant_topic', right_on='index')\n",
    "hotels = hotels.drop(columns={'index_x', 'index_y'})\n",
    "hotels.head()"
   ]
  },
  {
   "cell_type": "markdown",
   "id": "341532d2",
   "metadata": {},
   "source": [
    "---"
   ]
  },
  {
   "cell_type": "markdown",
   "id": "fd83debb",
   "metadata": {},
   "source": [
    "### Summary\n",
    "\n",
    "Overall Findings:\n",
    "\n",
    "   - 49% of all reviewers were couples\n",
    "   \n",
    "   - 81% of all reviewers were on a leisure trip\n",
    "   \n",
    "   - 95% of all reviewers stayed for five or less nights\n",
    "   \n",
    "   - Top 5 positive unigrams are - staff, location, room, hotel, good\n",
    "   \n",
    "   - Top 5 negative ungrams are - room, hotel, breakfast, small, staff\n",
    "   \n",
    "   - Top positive topic is - \n",
    "   \n",
    "   - Top negative topic is - \n",
    "    \n",
    "Hotel Specific Findings:\n",
    "\n",
    "   - The average hotel NPS score is 34\n",
    "   \n",
    "   - The max hotel NPS score is 93\n",
    "    \n",
    "   - The minimum hotel NPS score is -78\n",
    "    "
   ]
  },
  {
   "cell_type": "markdown",
   "id": "f79b1476",
   "metadata": {},
   "source": [
    "### Recommendations\n",
    "\n",
    "- Each hotel should look over their individual information in the 'hotels' table.\n",
    "\n",
    "- 'XXXXXX' were noted as overall primary positive topics and each hotel should focus on highlighting their 'XXXXXX' in marketing and customer interactions\n",
    "\n",
    "- 'XXXXXX' were noted as overall primary negative topics and each hotel should evaluate how these issues affect their property\n",
    "\n",
    "- If your hotel has an NPS score of higher than 50 you should focus on maintaining your performance in areas noted as 'primary positive topics' \n",
    "\n",
    "- If your hotel has an NPS score less than 50 you should focus on addressing issues noted as 'primary negative topics'"
   ]
  },
  {
   "cell_type": "code",
   "execution_count": null,
   "id": "bf7a8ba5",
   "metadata": {},
   "outputs": [],
   "source": []
  }
 ],
 "metadata": {
  "interpreter": {
   "hash": "38cca0c38332a56087b24af0bc80247f4fced29cb4f7f437d91dc159adec9c4e"
  },
  "kernelspec": {
   "display_name": "Python 3 (ipykernel)",
   "language": "python",
   "name": "python3"
  },
  "language_info": {
   "codemirror_mode": {
    "name": "ipython",
    "version": 3
   },
   "file_extension": ".py",
   "mimetype": "text/x-python",
   "name": "python",
   "nbconvert_exporter": "python",
   "pygments_lexer": "ipython3",
   "version": "3.9.7"
  }
 },
 "nbformat": 4,
 "nbformat_minor": 5
}
