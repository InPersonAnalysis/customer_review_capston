{
 "cells": [
  {
   "cell_type": "code",
   "execution_count": 1,
   "metadata": {},
   "outputs": [],
   "source": [
    "import pandas as pd\n",
    "import wrangle\n",
    "import kaggle"
   ]
  },
  {
   "cell_type": "markdown",
   "metadata": {},
   "source": [
    "1. pip install kaggle\n",
    "2. Log-in to Kaggle (or sign up)\n",
    "3. Navigate to your Account page (click top-right profile picture)"
   ]
  },
  {
   "cell_type": "code",
   "execution_count": 2,
   "metadata": {},
   "outputs": [
    {
     "name": "stdout",
     "output_type": "stream",
     "text": [
      "Using cached csv file...\n"
     ]
    }
   ],
   "source": [
    "# Load the data\n",
    "df = wrangle.wrangle_hotel()"
   ]
  },
  {
   "cell_type": "markdown",
   "metadata": {},
   "source": [
    "1. pip install kaggle\n",
    "\n",
    "2. Log-in to Kaggle (or sign up)\n",
    "\n",
    "3. Navigate to your Account page (click top-right profile picture)\n",
    "\n",
    "4. API section on the Kaggle Account page.\n",
    "\n",
    "5. Scroll down to the API section and click Create New API Token\n",
    "\n",
    "6. Save kaggle.json to the file path displayed in the OSError message given when attempting to import kaggle"
   ]
  },
  {
   "cell_type": "code",
   "execution_count": 3,
   "metadata": {},
   "outputs": [
    {
     "data": {
      "text/html": [
       "<div>\n",
       "<style scoped>\n",
       "    .dataframe tbody tr th:only-of-type {\n",
       "        vertical-align: middle;\n",
       "    }\n",
       "\n",
       "    .dataframe tbody tr th {\n",
       "        vertical-align: top;\n",
       "    }\n",
       "\n",
       "    .dataframe thead th {\n",
       "        text-align: right;\n",
       "    }\n",
       "</style>\n",
       "<table border=\"1\" class=\"dataframe\">\n",
       "  <thead>\n",
       "    <tr style=\"text-align: right;\">\n",
       "      <th></th>\n",
       "      <th>additional_number_of_scoring</th>\n",
       "      <th>average_score</th>\n",
       "      <th>hotel_name</th>\n",
       "      <th>reviewer_nationality</th>\n",
       "      <th>negative_review</th>\n",
       "      <th>review_total_negative_word_counts</th>\n",
       "      <th>total_number_of_reviews</th>\n",
       "      <th>positive_review</th>\n",
       "      <th>review_total_positive_word_counts</th>\n",
       "      <th>total_number_of_reviews_reviewer_has_given</th>\n",
       "      <th>...</th>\n",
       "      <th>positive_clean_review</th>\n",
       "      <th>negative_clean_review</th>\n",
       "      <th>positive_stem</th>\n",
       "      <th>negative_stem</th>\n",
       "      <th>positive_lemma</th>\n",
       "      <th>negative_lemma</th>\n",
       "      <th>pos_sentiment_score</th>\n",
       "      <th>neg_sentiment_score</th>\n",
       "      <th>pos_lem_sentiment_score</th>\n",
       "      <th>neg_lem_sentiment_score</th>\n",
       "    </tr>\n",
       "  </thead>\n",
       "  <tbody>\n",
       "    <tr>\n",
       "      <th>0</th>\n",
       "      <td>1485</td>\n",
       "      <td>7.5</td>\n",
       "      <td>Hilton London Metropole</td>\n",
       "      <td>United Kingdom</td>\n",
       "      <td>First day the swimming pool was not opened th...</td>\n",
       "      <td>54</td>\n",
       "      <td>6977</td>\n",
       "      <td>The hotel was clean and accessible</td>\n",
       "      <td>8</td>\n",
       "      <td>4</td>\n",
       "      <td>...</td>\n",
       "      <td>hotel clean accessible</td>\n",
       "      <td>first day swimming pool opened therefore could...</td>\n",
       "      <td>hotel clean access</td>\n",
       "      <td>first day swim pool open therefor could access...</td>\n",
       "      <td>hotel clean accessible</td>\n",
       "      <td>first day swimming pool opened therefore could...</td>\n",
       "      <td>0.4019</td>\n",
       "      <td>-0.1027</td>\n",
       "      <td>0.4019</td>\n",
       "      <td>-0.1027</td>\n",
       "    </tr>\n",
       "    <tr>\n",
       "      <th>1</th>\n",
       "      <td>125</td>\n",
       "      <td>8.6</td>\n",
       "      <td>Hotel Mademoiselle</td>\n",
       "      <td>United Kingdom</td>\n",
       "      <td>NaN</td>\n",
       "      <td>0</td>\n",
       "      <td>853</td>\n",
       "      <td>very good location breakfast was great</td>\n",
       "      <td>7</td>\n",
       "      <td>10</td>\n",
       "      <td>...</td>\n",
       "      <td>good location breakfast great</td>\n",
       "      <td>NaN</td>\n",
       "      <td>good locat breakfast great</td>\n",
       "      <td>NaN</td>\n",
       "      <td>good location breakfast great</td>\n",
       "      <td>NaN</td>\n",
       "      <td>0.7906</td>\n",
       "      <td>0.0000</td>\n",
       "      <td>0.7906</td>\n",
       "      <td>0.0000</td>\n",
       "    </tr>\n",
       "    <tr>\n",
       "      <th>2</th>\n",
       "      <td>130</td>\n",
       "      <td>8.2</td>\n",
       "      <td>Vienna Marriott Hotel</td>\n",
       "      <td>Qatar</td>\n",
       "      <td>Nothing</td>\n",
       "      <td>2</td>\n",
       "      <td>939</td>\n",
       "      <td>It was very nice excellent hotel</td>\n",
       "      <td>7</td>\n",
       "      <td>4</td>\n",
       "      <td>...</td>\n",
       "      <td>nice excellent hotel</td>\n",
       "      <td>nothing</td>\n",
       "      <td>nice excel hotel</td>\n",
       "      <td>noth</td>\n",
       "      <td>nice excellent hotel</td>\n",
       "      <td>nothing</td>\n",
       "      <td>0.7579</td>\n",
       "      <td>0.0000</td>\n",
       "      <td>0.7579</td>\n",
       "      <td>0.0000</td>\n",
       "    </tr>\n",
       "    <tr>\n",
       "      <th>3</th>\n",
       "      <td>341</td>\n",
       "      <td>7.8</td>\n",
       "      <td>Novotel Amsterdam City</td>\n",
       "      <td>Austria</td>\n",
       "      <td>NaN</td>\n",
       "      <td>0</td>\n",
       "      <td>2501</td>\n",
       "      <td>Slightly out of the city center but very easy...</td>\n",
       "      <td>27</td>\n",
       "      <td>34</td>\n",
       "      <td>...</td>\n",
       "      <td>slightly city center easy get tram train reall...</td>\n",
       "      <td>NaN</td>\n",
       "      <td>slightli citi center easi get tram train reall...</td>\n",
       "      <td>NaN</td>\n",
       "      <td>slightly city center easy get tram train reall...</td>\n",
       "      <td>NaN</td>\n",
       "      <td>0.9414</td>\n",
       "      <td>0.0000</td>\n",
       "      <td>0.9414</td>\n",
       "      <td>0.0000</td>\n",
       "    </tr>\n",
       "    <tr>\n",
       "      <th>4</th>\n",
       "      <td>843</td>\n",
       "      <td>7.8</td>\n",
       "      <td>Hilton London Kensington Hotel</td>\n",
       "      <td>Qatar</td>\n",
       "      <td>NaN</td>\n",
       "      <td>0</td>\n",
       "      <td>3801</td>\n",
       "      <td>Great easy to reAch location</td>\n",
       "      <td>6</td>\n",
       "      <td>5</td>\n",
       "      <td>...</td>\n",
       "      <td>great easy reach location</td>\n",
       "      <td>NaN</td>\n",
       "      <td>great easi reach locat</td>\n",
       "      <td>NaN</td>\n",
       "      <td>great easy reach location</td>\n",
       "      <td>NaN</td>\n",
       "      <td>0.7964</td>\n",
       "      <td>0.0000</td>\n",
       "      <td>0.7964</td>\n",
       "      <td>0.0000</td>\n",
       "    </tr>\n",
       "  </tbody>\n",
       "</table>\n",
       "<p>5 rows × 38 columns</p>\n",
       "</div>"
      ],
      "text/plain": [
       "   additional_number_of_scoring  average_score  \\\n",
       "0                          1485            7.5   \n",
       "1                           125            8.6   \n",
       "2                           130            8.2   \n",
       "3                           341            7.8   \n",
       "4                           843            7.8   \n",
       "\n",
       "                       hotel_name reviewer_nationality  \\\n",
       "0         Hilton London Metropole      United Kingdom    \n",
       "1              Hotel Mademoiselle      United Kingdom    \n",
       "2           Vienna Marriott Hotel               Qatar    \n",
       "3          Novotel Amsterdam City             Austria    \n",
       "4  Hilton London Kensington Hotel               Qatar    \n",
       "\n",
       "                                     negative_review  \\\n",
       "0   First day the swimming pool was not opened th...   \n",
       "1                                                NaN   \n",
       "2                                            Nothing   \n",
       "3                                                NaN   \n",
       "4                                                NaN   \n",
       "\n",
       "   review_total_negative_word_counts  total_number_of_reviews  \\\n",
       "0                                 54                     6977   \n",
       "1                                  0                      853   \n",
       "2                                  2                      939   \n",
       "3                                  0                     2501   \n",
       "4                                  0                     3801   \n",
       "\n",
       "                                     positive_review  \\\n",
       "0                The hotel was clean and accessible    \n",
       "1             very good location breakfast was great   \n",
       "2                   It was very nice excellent hotel   \n",
       "3   Slightly out of the city center but very easy...   \n",
       "4                       Great easy to reAch location   \n",
       "\n",
       "   review_total_positive_word_counts  \\\n",
       "0                                  8   \n",
       "1                                  7   \n",
       "2                                  7   \n",
       "3                                 27   \n",
       "4                                  6   \n",
       "\n",
       "   total_number_of_reviews_reviewer_has_given  ...  \\\n",
       "0                                           4  ...   \n",
       "1                                          10  ...   \n",
       "2                                           4  ...   \n",
       "3                                          34  ...   \n",
       "4                                           5  ...   \n",
       "\n",
       "                               positive_clean_review  \\\n",
       "0                             hotel clean accessible   \n",
       "1                      good location breakfast great   \n",
       "2                               nice excellent hotel   \n",
       "3  slightly city center easy get tram train reall...   \n",
       "4                          great easy reach location   \n",
       "\n",
       "                               negative_clean_review  \\\n",
       "0  first day swimming pool opened therefore could...   \n",
       "1                                                NaN   \n",
       "2                                            nothing   \n",
       "3                                                NaN   \n",
       "4                                                NaN   \n",
       "\n",
       "                                       positive_stem  \\\n",
       "0                                 hotel clean access   \n",
       "1                         good locat breakfast great   \n",
       "2                                   nice excel hotel   \n",
       "3  slightli citi center easi get tram train reall...   \n",
       "4                             great easi reach locat   \n",
       "\n",
       "                                       negative_stem  \\\n",
       "0  first day swim pool open therefor could access...   \n",
       "1                                                NaN   \n",
       "2                                               noth   \n",
       "3                                                NaN   \n",
       "4                                                NaN   \n",
       "\n",
       "                                      positive_lemma  \\\n",
       "0                             hotel clean accessible   \n",
       "1                      good location breakfast great   \n",
       "2                               nice excellent hotel   \n",
       "3  slightly city center easy get tram train reall...   \n",
       "4                          great easy reach location   \n",
       "\n",
       "                                      negative_lemma pos_sentiment_score  \\\n",
       "0  first day swimming pool opened therefore could...              0.4019   \n",
       "1                                                NaN              0.7906   \n",
       "2                                            nothing              0.7579   \n",
       "3                                                NaN              0.9414   \n",
       "4                                                NaN              0.7964   \n",
       "\n",
       "  neg_sentiment_score  pos_lem_sentiment_score neg_lem_sentiment_score  \n",
       "0             -0.1027                   0.4019                 -0.1027  \n",
       "1              0.0000                   0.7906                  0.0000  \n",
       "2              0.0000                   0.7579                  0.0000  \n",
       "3              0.0000                   0.9414                  0.0000  \n",
       "4              0.0000                   0.7964                  0.0000  \n",
       "\n",
       "[5 rows x 38 columns]"
      ]
     },
     "execution_count": 3,
     "metadata": {},
     "output_type": "execute_result"
    }
   ],
   "source": [
    "df.head()"
   ]
  },
  {
   "cell_type": "markdown",
   "metadata": {},
   "source": [
    "# Preperation of Paris Hotel Data"
   ]
  },
  {
   "cell_type": "code",
   "execution_count": null,
   "metadata": {},
   "outputs": [],
   "source": [
    "# show list of columns\n",
    "df.columns"
   ]
  },
  {
   "cell_type": "code",
   "execution_count": null,
   "metadata": {},
   "outputs": [],
   "source": [
    "# show country column\n",
    "df.country.unique()"
   ]
  },
  {
   "cell_type": "code",
   "execution_count": null,
   "metadata": {},
   "outputs": [],
   "source": [
    "# Select Paris\n",
    "df_paris = df[df.city == 'Paris']"
   ]
  },
  {
   "cell_type": "code",
   "execution_count": null,
   "metadata": {},
   "outputs": [],
   "source": [
    "# View the data\n",
    "df_paris.info()"
   ]
  },
  {
   "cell_type": "code",
   "execution_count": null,
   "metadata": {},
   "outputs": [],
   "source": [
    "# View null values\n",
    "df_paris.isnull().sum()\n"
   ]
  },
  {
   "cell_type": "code",
   "execution_count": null,
   "metadata": {},
   "outputs": [],
   "source": [
    "df_paris.head()"
   ]
  },
  {
   "cell_type": "markdown",
   "metadata": {},
   "source": [
    "## Explore Questions\n",
    "Does a reviewer nationality affect the score given?\n",
    "\n",
    "Does the total amount of reviews affect the review score?\n",
    "\n",
    "Do the tags determine the reviewer score or nationality? (i.e. does certain words attract certain guests?)\n",
    "\n",
    "What is the distribution of the customer's home country?"
   ]
  },
  {
   "cell_type": "code",
   "execution_count": null,
   "metadata": {},
   "outputs": [],
   "source": [
    "# select average_score and review_nationality\n",
    "df_score_nat = df_paris[['average_score','reviewer_nationality']]"
   ]
  },
  {
   "cell_type": "code",
   "execution_count": null,
   "metadata": {},
   "outputs": [],
   "source": [
    "# the average score for each reviewer_national\n",
    "nat_avg_score = df_score_nat.groupby('reviewer_nationality').mean()"
   ]
  },
  {
   "cell_type": "code",
   "execution_count": null,
   "metadata": {},
   "outputs": [],
   "source": [
    "# how many unique reviewer_nationality there are\n",
    "nat_avg_score"
   ]
  },
  {
   "cell_type": "code",
   "execution_count": null,
   "metadata": {},
   "outputs": [],
   "source": [
    "df = nat_avg_score.reset_index()"
   ]
  },
  {
   "cell_type": "code",
   "execution_count": null,
   "metadata": {},
   "outputs": [],
   "source": [
    "df.reviewer_nationality.unique()"
   ]
  },
  {
   "cell_type": "code",
   "execution_count": null,
   "metadata": {},
   "outputs": [],
   "source": [
    "# create a list of reviewer_nationality\n",
    "df.rename(columns={\"reviewer_nationality\": \"Country\"})"
   ]
  },
  {
   "cell_type": "code",
   "execution_count": null,
   "metadata": {},
   "outputs": [],
   "source": [
    "# remove first column in df\n",
    "df = df.drop(0)"
   ]
  },
  {
   "cell_type": "code",
   "execution_count": null,
   "metadata": {},
   "outputs": [],
   "source": [
    "df"
   ]
  },
  {
   "cell_type": "markdown",
   "metadata": {},
   "source": [
    "Does not look like there is any fluctuation in score based of nationality."
   ]
  },
  {
   "cell_type": "markdown",
   "metadata": {},
   "source": [
    "Does the length of a review determine if it is negative or positive?"
   ]
  },
  {
   "cell_type": "code",
   "execution_count": null,
   "metadata": {},
   "outputs": [],
   "source": [
    "df_paris.head()"
   ]
  },
  {
   "cell_type": "code",
   "execution_count": null,
   "metadata": {},
   "outputs": [],
   "source": [
    "df_paris.dtypes"
   ]
  },
  {
   "cell_type": "code",
   "execution_count": null,
   "metadata": {},
   "outputs": [],
   "source": [
    "# view null values\n",
    "df_paris.isnull().sum()"
   ]
  },
  {
   "cell_type": "code",
   "execution_count": null,
   "metadata": {},
   "outputs": [],
   "source": [
    "df_paris.isnull().sum()"
   ]
  },
  {
   "cell_type": "code",
   "execution_count": null,
   "metadata": {},
   "outputs": [],
   "source": [
    "df_paris.positive_review = df_paris.positive_review.fillna('no positive')"
   ]
  },
  {
   "cell_type": "code",
   "execution_count": null,
   "metadata": {},
   "outputs": [],
   "source": [
    "df_paris.nights_stayed = df_paris.nights_stayed.fillna(df_paris.nights_stayed.mean())"
   ]
  },
  {
   "cell_type": "code",
   "execution_count": null,
   "metadata": {},
   "outputs": [],
   "source": [
    "#drop lat and lng columns\n",
    "df_paris = df_paris.drop(['lat','lng'], axis=1)"
   ]
  },
  {
   "cell_type": "code",
   "execution_count": null,
   "metadata": {},
   "outputs": [],
   "source": [
    "df_paris.isnull().sum()"
   ]
  },
  {
   "cell_type": "markdown",
   "metadata": {},
   "source": [
    "Data prep:\n",
    "I filled NAN in neg_review with 'no negative'\n",
    "I filled NAN in pos_review with 'no positive'\n",
    "Filled NAN in nights stayed with average nights stayed\n",
    "dropped lat and lng columns"
   ]
  },
  {
   "cell_type": "code",
   "execution_count": null,
   "metadata": {},
   "outputs": [],
   "source": [
    "# imports\n",
    "import matplotlib.pyplot as plt\n",
    "import seaborn as sns\n",
    "import numpy as np\n",
    "from scipy import stats\n",
    "import sklearn.preprocessing\n",
    "from sklearn.model_selection import train_test_split\n",
    "\n",
    "np.random.seed(246)"
   ]
  },
  {
   "cell_type": "code",
   "execution_count": null,
   "metadata": {},
   "outputs": [],
   "source": [
    "# split the data\n",
    "X_train_and_valid, X_test = train_test_split(df_paris, random_state=246)\n",
    "X_train, X_valid = train_test_split(X_train_and_valid, random_state=246)"
   ]
  },
  {
   "cell_type": "code",
   "execution_count": null,
   "metadata": {},
   "outputs": [],
   "source": [
    "X_train.shape"
   ]
  },
  {
   "cell_type": "code",
   "execution_count": null,
   "metadata": {},
   "outputs": [],
   "source": [
    "# Select only the int and float columns\n",
    "X_train_scale = X_train.select_dtypes(include=[np.int64, np.float64])"
   ]
  },
  {
   "cell_type": "code",
   "execution_count": null,
   "metadata": {},
   "outputs": [],
   "source": [
    "# split the X_train_scale into descrete and continuous dataframes\n",
    "X_train_scale_discrete = X_train_scale.select_dtypes(include=[np.int64])\n",
    "X_train_scale_continuous = X_train_scale.select_dtypes(include=[np.float64])"
   ]
  },
  {
   "cell_type": "code",
   "execution_count": null,
   "metadata": {},
   "outputs": [],
   "source": [
    "# MINMAX SCALER\n",
    "scaler = sklearn.preprocessing.MinMaxScaler()\n",
    "# fit scaler on training data\n",
    "scaler.fit(X_train_scale_discrete)"
   ]
  },
  {
   "cell_type": "code",
   "execution_count": null,
   "metadata": {},
   "outputs": [],
   "source": [
    "X_train_scaled = scaler.transform(X_train_scale_discrete)"
   ]
  },
  {
   "cell_type": "code",
   "execution_count": null,
   "metadata": {},
   "outputs": [],
   "source": [
    "# convert X_train_scaled to dataframe\n",
    "X_train_scaled = pd.DataFrame(X_train_scaled, columns=X_train_scale_discrete.columns)"
   ]
  },
  {
   "cell_type": "code",
   "execution_count": null,
   "metadata": {},
   "outputs": [],
   "source": [
    "X_train_scaled"
   ]
  },
  {
   "cell_type": "code",
   "execution_count": null,
   "metadata": {},
   "outputs": [],
   "source": [
    "X_train_scale_continuous"
   ]
  },
  {
   "cell_type": "code",
   "execution_count": null,
   "metadata": {},
   "outputs": [],
   "source": [
    "result = pd.concat([X_train_scale_continuous.reset_index(), X_train_scaled.reset_index()], axis=1)"
   ]
  },
  {
   "cell_type": "code",
   "execution_count": null,
   "metadata": {},
   "outputs": [],
   "source": [
    "result.columns"
   ]
  },
  {
   "cell_type": "code",
   "execution_count": null,
   "metadata": {},
   "outputs": [],
   "source": [
    "result.head()"
   ]
  },
  {
   "cell_type": "code",
   "execution_count": null,
   "metadata": {},
   "outputs": [],
   "source": [
    "# look for correlations between variables\n",
    "corr = result.corr()"
   ]
  },
  {
   "cell_type": "code",
   "execution_count": null,
   "metadata": {},
   "outputs": [],
   "source": [
    "plt.figure(figsize=(10,10))\n",
    "sns.heatmap(corr, annot=True, cmap='RdYlGn_r')\n",
    "plt.show()"
   ]
  },
  {
   "cell_type": "markdown",
   "metadata": {},
   "source": [
    "Take aways form heat map:\n",
    "\n",
    "Target is reviewer score\n",
    "\n",
    "Correlations:\n",
    "\n",
    "- +0.37 average score\n",
    "\n",
    "- +0.44 pos sentiment and pos lem sentiment\n",
    "\n",
    "- -0.37 review total negative word count\n",
    "\n",
    "- -0.38 negative unique word count\n",
    "\n",
    "- +0.25 pos unique word count"
   ]
  },
  {
   "cell_type": "code",
   "execution_count": null,
   "metadata": {},
   "outputs": [],
   "source": [
    "# drop columns\n",
    "columns_to_keep = ['reviewer_score', 'average_score', 'pos_sentiment_score', 'pos_lem_sentiment_score', 'review_total_negative_word_counts', 'review_total_positive_word_counts', 'negative_unique_word_count', 'positive_unique_word_count']\n",
    "\n",
    "# create a new df with columns to keep\n",
    "X_train_scaled_new = result[columns_to_keep]"
   ]
  },
  {
   "cell_type": "code",
   "execution_count": null,
   "metadata": {},
   "outputs": [],
   "source": [
    "X_train_scaled_new.head()"
   ]
  },
  {
   "cell_type": "code",
   "execution_count": null,
   "metadata": {},
   "outputs": [],
   "source": [
    "target = X_train_scaled_new.reviewer_score"
   ]
  },
  {
   "cell_type": "code",
   "execution_count": null,
   "metadata": {},
   "outputs": [],
   "source": [
    "# plot the distribution of the target variable\n",
    "sns.relplot(x='average_score', y=target, data=X_train_scaled_new, kind='line')\n",
    "plt.title('Average Score vs. Reviewer Score')\n",
    "plt.show()\n",
    "sns.relplot(x='pos_sentiment_score', y=target, data=X_train_scaled_new, kind='line')\n",
    "plt.title('Positive Sentiment Score vs. Reviewer Score')\n",
    "plt.show()\n",
    "sns.relplot(x='pos_lem_sentiment_score', y=target, data=X_train_scaled_new, kind='line')\n",
    "plt.title('Positive Lemma Sentiment Score vs. Reviewer Score')\n",
    "plt.show()\n",
    "sns.relplot(x='review_total_negative_word_counts', y=target, data=X_train_scaled_new, kind='line')\n",
    "plt.title('Total Negative Word Count vs. Reviewer Score')\n",
    "plt.show()\n",
    "sns.relplot(x='review_total_positive_word_counts', y=target, data=X_train_scaled_new, kind='line')\n",
    "plt.title('Total Positive Word Count vs. Reviewer Score')\n",
    "plt.show()\n",
    "sns.relplot(x='negative_unique_word_count', y=target, data=X_train_scaled_new, kind='line')\n",
    "plt.title('Negative Unique Word Count vs. Reviewer Score')\n",
    "plt.show()"
   ]
  },
  {
   "cell_type": "markdown",
   "metadata": {},
   "source": [
    "Setiment analysis scores "
   ]
  },
  {
   "cell_type": "code",
   "execution_count": null,
   "metadata": {},
   "outputs": [],
   "source": [
    "df.head()"
   ]
  },
  {
   "cell_type": "code",
   "execution_count": null,
   "metadata": {},
   "outputs": [],
   "source": [
    "words = ['nothing', 'n', 'none', 'nothing really', 'good', 'nothing dislike', 'liked everything', 'everything perfect', 'nil', 'nothing complain', 'nothing say']"
   ]
  },
  {
   "cell_type": "markdown",
   "metadata": {},
   "source": [
    "# spell checker/Clustering"
   ]
  },
  {
   "cell_type": "code",
   "execution_count": null,
   "metadata": {},
   "outputs": [],
   "source": [
    "from textblob import TextBlob \n",
    "from textblob import Word\n",
    "\n",
    "from sklearn.feature_extraction.text import CountVectorizer\n",
    "import nltk \n",
    "from nltk.corpus import stopwords"
   ]
  },
  {
   "cell_type": "code",
   "execution_count": null,
   "metadata": {},
   "outputs": [],
   "source": [
    "df = wrangle.wrangle_hotel()"
   ]
  },
  {
   "cell_type": "code",
   "execution_count": null,
   "metadata": {},
   "outputs": [],
   "source": [
    "df.head()"
   ]
  },
  {
   "cell_type": "code",
   "execution_count": null,
   "metadata": {},
   "outputs": [],
   "source": [
    "import matplotlib.pyplot as plt\n",
    "from matplotlib import cm\n",
    "import seaborn as sns\n",
    "\n",
    "from sklearn.cluster import KMeans"
   ]
  },
  {
   "cell_type": "code",
   "execution_count": null,
   "metadata": {},
   "outputs": [],
   "source": [
    "# clustering\n",
    "X = df[['review_total_positive_word_counts', 'pos_sentiment_score']]"
   ]
  },
  {
   "cell_type": "code",
   "execution_count": null,
   "metadata": {},
   "outputs": [],
   "source": [
    "# Check the inertia of the KMeans model\n",
    "with plt.style.context('seaborn-whitegrid'):\n",
    "    plt.figure(figsize=(9, 6))\n",
    "    pd.Series({k: KMeans(k).fit(X).inertia_ for k in range(2, 12)}).plot(marker='x')\n",
    "    plt.xticks(range(2, 12))\n",
    "    plt.xlabel('k')\n",
    "    plt.ylabel('inertia')\n",
    "    plt.title('Change in inertia as k increases')"
   ]
  },
  {
   "cell_type": "code",
   "execution_count": null,
   "metadata": {},
   "outputs": [],
   "source": [
    "# KMeans with k=4\n",
    "kmeans = KMeans(n_clusters=4)\n",
    "kmeans.fit(X)\n",
    "\n",
    "kmeans.predict(X)"
   ]
  },
  {
   "cell_type": "code",
   "execution_count": null,
   "metadata": {},
   "outputs": [],
   "source": [
    "# Add a column to the iris dataframe called cluster\n",
    "df['cluster1'] = kmeans.predict(X)"
   ]
  },
  {
   "cell_type": "code",
   "execution_count": null,
   "metadata": {},
   "outputs": [],
   "source": [
    "# create three subplots with original data, actual species, and cluster assignments\n",
    "with plt.style.context('seaborn-whitegrid'):\n",
    "    plt.figure(figsize=(20, 9))\n",
    "    plt.subplot(1, 2, 1)\n",
    "    sns.scatterplot(x='review_total_positive_word_counts', y='pos_sentiment_score', data=df)\n",
    "    plt.title('Original Data')\n",
    "\n",
    "    plt.subplot(1, 2, 2)\n",
    "    sns.scatterplot(x='review_total_positive_word_counts', y='pos_sentiment_score', hue='cluster1', data=df)\n",
    "    plt.title('Original Data with Cluster Labels')"
   ]
  },
  {
   "cell_type": "code",
   "execution_count": null,
   "metadata": {},
   "outputs": [],
   "source": [
    "def cluster(df, feature1, feature2, k):\n",
    "    X = df[[feature1, feature2]]\n",
    "\n",
    "    kmeans = KMeans(n_clusters=k).fit(X)\n",
    "    \n",
    "    df['cluster'] = kmeans.predict(X)\n",
    "\n",
    "    centroids = pd.DataFrame(kmeans.cluster_centers_, columns=X.columns)\n",
    "    \n",
    "    plt.figure(figsize=(14, 9))\n",
    "    \n",
    "    for cluster, subset in df.groupby('cluster'):\n",
    "        plt.scatter(subset[feature2], subset[feature1], label='cluster ' + str(cluster), alpha=.6)\n",
    "    \n",
    "    centroids.plot.scatter(y=feature1, x=feature2, c='black', marker='x', s=1000, ax=plt.gca(), label='centroid')\n",
    "    \n",
    "    plt.legend()\n",
    "    plt.xlabel(feature1)\n",
    "    plt.ylabel(feature2)\n",
    "    plt.title('Visualizing Cluster Centers')\n",
    "\n",
    "    return"
   ]
  },
  {
   "cell_type": "code",
   "execution_count": null,
   "metadata": {},
   "outputs": [],
   "source": [
    "cluster(df, 'review_total_positive_word_counts', 'pos_sentiment_score', 4)"
   ]
  },
  {
   "cell_type": "code",
   "execution_count": null,
   "metadata": {},
   "outputs": [],
   "source": [
    "cluster(df, 'reviewer_score', 'average_score', 4)"
   ]
  },
  {
   "cell_type": "code",
   "execution_count": null,
   "metadata": {},
   "outputs": [],
   "source": [
    "cluster(df, 'total_number_of_reviews_reviewer_has_given', 'review_total_negative_word_counts', 3)"
   ]
  },
  {
   "cell_type": "code",
   "execution_count": null,
   "metadata": {},
   "outputs": [],
   "source": [
    "cluster(df, 'total_number_of_reviews_reviewer_has_given', 'additional_number_of_scoring', 3)"
   ]
  },
  {
   "cell_type": "code",
   "execution_count": null,
   "metadata": {},
   "outputs": [],
   "source": []
  }
 ],
 "metadata": {
  "interpreter": {
   "hash": "3067ead486e059ec00ffe7555bdb889e6e264a24dc711bf108106cc7baee8d5d"
  },
  "kernelspec": {
   "display_name": "Python 3.9.7 ('base')",
   "language": "python",
   "name": "python3"
  },
  "language_info": {
   "codemirror_mode": {
    "name": "ipython",
    "version": 3
   },
   "file_extension": ".py",
   "mimetype": "text/x-python",
   "name": "python",
   "nbconvert_exporter": "python",
   "pygments_lexer": "ipython3",
   "version": "3.9.7"
  },
  "orig_nbformat": 4
 },
 "nbformat": 4,
 "nbformat_minor": 2
}
