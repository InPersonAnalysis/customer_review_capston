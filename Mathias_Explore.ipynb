{
 "cells": [
  {
   "cell_type": "markdown",
   "id": "e5dae12c-bee3-4657-8351-481f38bb601d",
   "metadata": {},
   "source": [
    "# Booking.com Hotel Review NLP"
   ]
  },
  {
   "cell_type": "markdown",
   "id": "97e1abd0-325a-4423-9aa8-5f4e698f289c",
   "metadata": {},
   "source": [
    "Features by relationship\n",
    "\n",
    "Hotel\n",
    "- address\n",
    "- hotel name\n",
    "- lat\n",
    "- long\n",
    "- total_number_of_reviews\n",
    "- additional_number_of_scoring\n",
    "- average_score\n",
    "\n",
    "reviewer\n",
    "- review_nationality\n",
    "- total_number_of_reviews_reviewer_has_given\n",
    "- reviewer_score\n",
    "- tags\n",
    "\n",
    "review\n",
    "- negative_review\n",
    "- review_total_negative_word_counts\n",
    "- negative_unique_word_count\n",
    "- positive_review\n",
    "- review_total_postive_word_counts\n",
    "- positive_uniqu_word_count\n",
    "- days_since_review\n",
    "\n",
    "date\n",
    "- month\n",
    "- year\n",
    "- day_name\n",
    "- day\n",
    "- quarter"
   ]
  },
  {
   "cell_type": "code",
   "execution_count": 1,
   "id": "839c3e16-d0fb-4320-9722-111f8ad4e597",
   "metadata": {},
   "outputs": [],
   "source": [
    "import pandas as pd\n",
    "import numpy as np\n",
    "import seaborn as sns\n",
    "import matplotlib.pyplot as plt\n",
    "from datetime import datetime, timedelta\n",
    "import re\n",
    "import wrangle\n",
    "\n",
    "pd.options.display.max_colwidth = None\n",
    "pd.options.display.max_columns = None\n",
    "pd.options.display.max_rows = None"
   ]
  },
  {
   "cell_type": "markdown",
   "id": "bc75de33-59c8-478a-b160-226216034055",
   "metadata": {
    "tags": []
   },
   "source": [
    "# Acquire"
   ]
  },
  {
   "cell_type": "markdown",
   "id": "2a5476d9-c540-4d98-a915-2548816ff33b",
   "metadata": {},
   "source": [
    "- How do we aquire this from the webpage programatically?"
   ]
  },
  {
   "cell_type": "code",
   "execution_count": 2,
   "id": "6668868d-61fb-420f-b26f-60d2f9a097eb",
   "metadata": {},
   "outputs": [],
   "source": [
    "hotel = pd.read_csv('Hotel_Reviews.csv')"
   ]
  },
  {
   "cell_type": "code",
   "execution_count": 48,
   "id": "03df58fa-1dbc-4fbd-ba19-799a06e61ef7",
   "metadata": {},
   "outputs": [
    {
     "name": "stdout",
     "output_type": "stream",
     "text": [
      "Using cached csv file...\n"
     ]
    }
   ],
   "source": [
    "hotel = wrangle.wrangle_hotel(hotel)"
   ]
  },
  {
   "cell_type": "code",
   "execution_count": 4,
   "id": "4ec8b59d-ef21-4c86-8ed7-08d01a253ea7",
   "metadata": {},
   "outputs": [],
   "source": [
    "#hotel = wrangle.nlp_clean(hotel)"
   ]
  },
  {
   "cell_type": "markdown",
   "id": "f62911b3-104f-4d31-b28f-f0a5303863d2",
   "metadata": {},
   "source": [
    "# Wrangle"
   ]
  },
  {
   "cell_type": "markdown",
   "id": "66092581-abd3-410a-b41b-d8bae6ab3d4d",
   "metadata": {
    "jp-MarkdownHeadingCollapsed": true,
    "tags": []
   },
   "source": [
    "### Wrangle Function"
   ]
  },
  {
   "cell_type": "code",
   "execution_count": 5,
   "id": "9af903ab-4da7-46bc-aceb-ddc6ae9829c7",
   "metadata": {},
   "outputs": [],
   "source": [
    "# def wrangle_hotel(df):\n",
    "#     '''\n",
    "#     Wrangle Start\n",
    "#     '''\n",
    "    \n",
    "#     # lower case column names\n",
    "#     df.columns = [col.lower() for col in df]\n",
    "    \n",
    "#     # Set the review date as a datetime object then set it as the index\n",
    "#     df.review_date = pd.to_datetime(df.review_date)\n",
    "#     df = df.set_index('review_date').sort_index()\n",
    "    \n",
    "#     # Create columns for date types to groupby\n",
    "#     df['month'] = df.index.month_name()\n",
    "#     df['year'] = df.index.year\n",
    "#     df['day_name'] = df.index.day_name()\n",
    "#     df['day'] = df.index.day\n",
    "#     df['quarter'] = df.index.quarter\n",
    "    \n",
    "#     # Unique word counts for positive and negative reviews\n",
    "#     df['negative_unique_word_count'] = [len(set(nr.split())) for nr in df.negative_review]\n",
    "#     df['positive_unique_word_count'] = [len(set(pr.split())) for pr in df.positive_review]\n",
    "    \n",
    "#     # remove day string and make int type\n",
    "#     df.days_since_review = [row.split()[0] for row in df.days_since_review]\n",
    "#     df.days_since_review = df.days_since_review.astype('int')\n",
    "    \n",
    "#     street = []\n",
    "#     city = []\n",
    "#     zip_code = []\n",
    "#     country = []\n",
    "\n",
    "#     for address in hotel.hotel_address:\n",
    "\n",
    "#         if address.split()[-1] in ['France','Netherlands','Italy']:\n",
    "\n",
    "#             street.append(' '.join(address.split()[:-4]))\n",
    "#             zip_code.append(' '.join(address.split()[-4:-2]))\n",
    "#             city.append(' '.join(address.split()[-2:-1]))\n",
    "#             country.append(' '.join(address.split()[-1:]))\n",
    "\n",
    "#         elif address.split()[-1] in ['Spain','Austria']:\n",
    "\n",
    "#             street.append(' '.join(address.split()[:-3]))\n",
    "#             zip_code.append(' '.join(address.split()[-3:-2]))\n",
    "#             city.append(' '.join(address.split()[-2:-1]))\n",
    "#             country.append(' '.join(address.split()[-1:]))\n",
    "\n",
    "#         else:\n",
    "#             if address.split()[-6]\n",
    "#             street.append(' '.join(address.split()[:-5]))\n",
    "#             city.append(' '.join(address.split()[-5:-4]))\n",
    "#             zip_code.append(' '.join(address.split()[-4:-2]))\n",
    "#             country.append(' '.join(address.split()[-2:]))\n",
    "\n",
    "#     hotel['street'] = street\n",
    "#     hotel['city'] = city\n",
    "#     hotel['zip_code'] = zip_code\n",
    "#     hotel['country'] = country\n",
    "    \n",
    "#     # Break out tags into groups\n",
    "#     df.tags = [[tag.strip().lower() for tag in (tags.replace('\"','').replace(\"'\",\"\")\n",
    "#                                      .replace('[','') .replace(']','')\n",
    "#                                      .split(','))] for tags in df.tags]\n",
    "    \n",
    "#     return df"
   ]
  },
  {
   "cell_type": "code",
   "execution_count": 6,
   "id": "88f2aed3-4b02-411b-8580-3fb21ef4513b",
   "metadata": {},
   "outputs": [],
   "source": [
    "# lower case column names\n",
    "# hotel.columns = [col.lower() for col in hotel]"
   ]
  },
  {
   "cell_type": "code",
   "execution_count": 7,
   "id": "f317f411-4ad0-4250-9fa4-826ec53a806e",
   "metadata": {},
   "outputs": [],
   "source": [
    "# # Set the review date as a datetime object then set it as the index\n",
    "# hotel.review_date = pd.to_datetime(hotel.review_date)\n",
    "# hotel = hotel.set_index('review_date').sort_index()\n",
    "# # Create columns for date types to groupby\n",
    "# hotel['month'] = hotel.index.month_name()\n",
    "# hotel['year'] = hotel.index.year\n",
    "# hotel['day_name'] = hotel.index.day_name()\n",
    "# hotel['day'] = hotel.index.day\n",
    "# hotel['quarter'] = hotel.index.quarter"
   ]
  },
  {
   "cell_type": "code",
   "execution_count": 8,
   "id": "24812461-9c73-4a02-9e73-32b671fbbdfc",
   "metadata": {},
   "outputs": [],
   "source": [
    "# # Unique word count for first row\n",
    "# #len(set(hotel.negative_review[0].split()))\n",
    "\n",
    "# # Unique word counts for positive and negative reviews\n",
    "# hotel['negative_unique_word_count'] = [len(set(nr.split())) for nr in hotel.negative_review]\n",
    "# hotel['positive_unique_word_count'] = [len(set(pr.split())) for pr in hotel.positive_review]"
   ]
  },
  {
   "cell_type": "code",
   "execution_count": 9,
   "id": "9f364a23-6ca3-443a-8cd2-4fa712734d54",
   "metadata": {},
   "outputs": [],
   "source": [
    "# # remove day string and make int type\n",
    "# hotel.days_since_review = [row.split()[0] for row in hotel.days_since_review]\n",
    "# hotel.days_since_review = hotel.days_since_review.astype('int')"
   ]
  },
  {
   "cell_type": "code",
   "execution_count": 10,
   "id": "c61d8dc9-b003-4568-8f91-283be645c94a",
   "metadata": {},
   "outputs": [],
   "source": [
    "# # Get Hotel Location\n",
    "# hotel['location'] = [' '.join(col.split()[-2:]) for col in hotel.hotel_address]"
   ]
  },
  {
   "cell_type": "code",
   "execution_count": 11,
   "id": "d21a6cd0-3f64-4a95-815a-729c1e57146b",
   "metadata": {},
   "outputs": [],
   "source": [
    "# # Break out tags into groups\n",
    "# hotel.tags = [[tag.strip().lower() for tag in (tags.replace('\"','').replace(\"'\",\"\")\n",
    "#                                      .replace('[','') .replace(']','')\n",
    "#                                      .split(','))] for tags in hotel.tags]"
   ]
  },
  {
   "cell_type": "code",
   "execution_count": 12,
   "id": "8d900c11-f82c-4451-9e54-4b8b84b3864e",
   "metadata": {},
   "outputs": [],
   "source": [
    "# street = []\n",
    "# city = []\n",
    "# zip_code = []\n",
    "# country = []\n",
    "\n",
    "# for address in hotel.hotel_address:\n",
    "    \n",
    "#     if address.split()[-1] in ['France','Netherlands','Italy']:\n",
    "        \n",
    "#         street.append(' '.join(address.split()[:-4]))\n",
    "#         zip_code.append(' '.join(address.split()[-4:-2]))\n",
    "#         city.append(' '.join(address.split()[-2:-1]))\n",
    "#         country.append(' '.join(address.split()[-1:]))\n",
    "    \n",
    "#     elif address.split()[-1] in ['Spain','Austria']:\n",
    "        \n",
    "#         street.append(' '.join(address.split()[:-3]))\n",
    "#         zip_code.append(' '.join(address.split()[-3:-2]))\n",
    "#         city.append(' '.join(address.split()[-2:-1]))\n",
    "#         country.append(' '.join(address.split()[-1:]))\n",
    "    \n",
    "#     else:\n",
    "#         if address.split()[-6]\n",
    "#         street.append(' '.join(address.split()[:-5]))\n",
    "#         city.append(' '.join(address.split()[-5:-4]))\n",
    "#         zip_code.append(' '.join(address.split()[-4:-2]))\n",
    "#         country.append(' '.join(address.split()[-2:]))\n",
    "\n",
    "# hotel['street'] = street\n",
    "# hotel['city'] = city\n",
    "# hotel['zip_code'] = zip_code\n",
    "# hotel['country'] = country"
   ]
  },
  {
   "cell_type": "markdown",
   "id": "772f593c-fa4e-46ab-9d61-85d49adfce0a",
   "metadata": {
    "tags": []
   },
   "source": [
    "### Address"
   ]
  },
  {
   "cell_type": "code",
   "execution_count": 13,
   "id": "95169b85-8b11-406f-b086-05000ec5de9e",
   "metadata": {},
   "outputs": [],
   "source": [
    "# We need to figure out a way to seperate out the address in to its parts.\n",
    "# Street Address\n",
    "# City\n",
    "# Zip\n",
    "# Country\n",
    "# hotel.hotel_address.value_counts()"
   ]
  },
  {
   "cell_type": "code",
   "execution_count": 14,
   "id": "93a69262-afa5-49da-86e8-1e883c286307",
   "metadata": {},
   "outputs": [],
   "source": [
    "# [len(hotel) for hotel in hotel.hotel_address]"
   ]
  },
  {
   "cell_type": "code",
   "execution_count": 15,
   "id": "f854a3fc-4ee2-40a0-a4e4-65b98739178e",
   "metadata": {},
   "outputs": [],
   "source": [
    "## Breakup into 5 Stages\n",
    "# 399 Addresses\n",
    "# pd.DataFrame(hotel.hotel_address[hotel.hotel_address.str.endswith('United Kingdom')])#.hotel_address.value_counts().size\n",
    "\n",
    "## Breakup into four stages\n",
    "# 105 Addresses\n",
    "# pd.DataFrame(hotel.hotel_address[hotel.hotel_address.str.endswith('Netherlands')])#.hotel_address.value_counts().size\n",
    "# 458 Addresses\n",
    "# pd.DataFrame(hotel.hotel_address[hotel.hotel_address.str.endswith('France')]).hotel_address.value_counts().size\n",
    "\n",
    "# 211 Addresses\n",
    "# pd.DataFrame(hotel.hotel_address[hotel.hotel_address.str.endswith('Spain')])#.hotel_address.value_counts().size\n",
    "# 158 Addresses\n",
    "# pd.DataFrame(hotel.hotel_address[hotel.hotel_address.str.endswith('Austria')]).hotel_address.value_counts().size\n",
    "# 162 Addresses\n",
    "# pd.DataFrame(hotel.hotel_address[hotel.hotel_address.str.endswith('Italy')]).hotel_address.value_counts().size"
   ]
  },
  {
   "cell_type": "code",
   "execution_count": 16,
   "id": "d1a6c7f4-e3fc-4009-baf1-07259b4550a7",
   "metadata": {},
   "outputs": [],
   "source": [
    "#[col.split()[-6:] for col in hotel.hotel_address]"
   ]
  },
  {
   "cell_type": "code",
   "execution_count": 17,
   "id": "77b9989c-fe2f-4693-8512-4b1f0df42477",
   "metadata": {},
   "outputs": [],
   "source": [
    "# hotel.hotel_address[hotel.hotel_address.str.endswith('Austria')]"
   ]
  },
  {
   "cell_type": "code",
   "execution_count": 18,
   "id": "bb776310-0350-4a9e-b8e3-441c71bca922",
   "metadata": {},
   "outputs": [
    {
     "data": {
      "text/plain": [
       "city     \n",
       "Amsterdam     57214\n",
       "Barcelona     60149\n",
       "London       262301\n",
       "Milan         37207\n",
       "Paris         59928\n",
       "Vienna        38939\n",
       "dtype: int64"
      ]
     },
     "execution_count": 18,
     "metadata": {},
     "output_type": "execute_result"
    }
   ],
   "source": [
    "hotel[['city']].value_counts().sort_index()"
   ]
  },
  {
   "cell_type": "code",
   "execution_count": 19,
   "id": "b84379ae-d74a-4061-9566-4da6550210b9",
   "metadata": {},
   "outputs": [],
   "source": [
    "#pd.DataFrame([bourough.split()[:-4] for bourough in hotel.hotel_address[hotel.city == 'London']]).value_counts(dropna=False)"
   ]
  },
  {
   "cell_type": "code",
   "execution_count": 20,
   "id": "b192437d-cf97-4bdb-92f2-c7f6954fd0c6",
   "metadata": {},
   "outputs": [],
   "source": [
    "# pd.DataFrame([bourough.split()[:-5] for bourough in hotel.hotel_address[hotel.city == 'Barcelona']]).value_counts()"
   ]
  },
  {
   "cell_type": "code",
   "execution_count": 21,
   "id": "dd44e2f9-6e73-47c6-918a-9d2f93060852",
   "metadata": {},
   "outputs": [],
   "source": [
    "# pd.DataFrame([bourough.split()[:-5] for bourough in hotel.hotel_address[hotel.city == 'Paris']]).value_counts()"
   ]
  },
  {
   "cell_type": "code",
   "execution_count": 22,
   "id": "4fc55836-f896-40d4-b3ba-0b35e66110e1",
   "metadata": {},
   "outputs": [],
   "source": [
    "# pd.DataFrame([bourough.split()[:-5] for bourough in hotel.hotel_address[hotel.city == 'Amsterdam']]).value_counts()"
   ]
  },
  {
   "cell_type": "code",
   "execution_count": 23,
   "id": "1d2c5b4f-015b-4bef-ad5e-93caf2f9815e",
   "metadata": {},
   "outputs": [],
   "source": [
    "# pd.DataFrame([bourough.split()[:-5] for bourough in hotel.hotel_address[hotel.city == 'Vienna']]).value_counts()"
   ]
  },
  {
   "cell_type": "code",
   "execution_count": 24,
   "id": "b218c2ce-44b9-4022-8cf4-6efe34f99660",
   "metadata": {},
   "outputs": [],
   "source": [
    "# pd.DataFrame([bourough.split()[:-5] for bourough in hotel.hotel_address[hotel.city == 'Milan']]).value_counts()"
   ]
  },
  {
   "cell_type": "code",
   "execution_count": 25,
   "id": "4deafaab-514e-404f-84b3-88ec85aedaef",
   "metadata": {},
   "outputs": [],
   "source": [
    "# hotel[['city','zip_code']].value_counts().sort_index()"
   ]
  },
  {
   "cell_type": "markdown",
   "id": "5c94f8a7-54a3-42d6-8840-8e5646f8f1ec",
   "metadata": {
    "jp-MarkdownHeadingCollapsed": true,
    "tags": []
   },
   "source": [
    "### Review Lengths"
   ]
  },
  {
   "cell_type": "code",
   "execution_count": 26,
   "id": "6c5c8c91-b1a7-482f-8c83-8a51f2a93631",
   "metadata": {},
   "outputs": [
    {
     "data": {
      "text/plain": [
       "52"
      ]
     },
     "execution_count": 26,
     "metadata": {},
     "output_type": "execute_result"
    }
   ],
   "source": [
    "# Length of negative review\n",
    "len(hotel.negative_review[0].split())"
   ]
  },
  {
   "cell_type": "code",
   "execution_count": 27,
   "id": "48d0d038-eb4b-4baa-8ad4-b8422e32b1c2",
   "metadata": {},
   "outputs": [
    {
     "data": {
      "text/plain": [
       "54"
      ]
     },
     "execution_count": 27,
     "metadata": {},
     "output_type": "execute_result"
    }
   ],
   "source": [
    "# Given length of negative review seems wrong and should be investigated further\n",
    "hotel.review_total_negative_word_counts[0]"
   ]
  },
  {
   "cell_type": "markdown",
   "id": "810f393f-12ab-41d4-b7f8-74ab1f35f1e8",
   "metadata": {
    "jp-MarkdownHeadingCollapsed": true,
    "tags": []
   },
   "source": [
    "### Tags"
   ]
  },
  {
   "cell_type": "code",
   "execution_count": 28,
   "id": "3bf47629-0494-4252-b466-a830098c3f94",
   "metadata": {},
   "outputs": [],
   "source": [
    "# pd.Series([len(tags.split(',')) for tags in hotel.tags]).value_counts().sort_index()"
   ]
  },
  {
   "cell_type": "code",
   "execution_count": 29,
   "id": "3e1e11f3-108b-4e8d-887c-cc05d9fde28f",
   "metadata": {},
   "outputs": [],
   "source": [
    "# hotel.tags[0][0]"
   ]
  },
  {
   "cell_type": "code",
   "execution_count": 30,
   "id": "35159763-1116-4246-9963-097eb92af81c",
   "metadata": {},
   "outputs": [],
   "source": [
    "#[tags for tags in hotel.tags]"
   ]
  },
  {
   "cell_type": "code",
   "execution_count": 31,
   "id": "9277ce76-ea08-472e-973e-015fc51e60b0",
   "metadata": {},
   "outputs": [],
   "source": [
    "# [tag[1] for tag in hotel.tags if len(tag) == 6]\n",
    "# len([tag for tag in hotel.tags if len(tag) == 5])\n",
    "# len([tag for tag in hotel.tags if len(tag) == 4])\n",
    "# len([tag for tag in hotel.tags if len(tag) == 3])\n",
    "# len([tag for tag in hotel.tags if len(tag) == 2])\n",
    "# len([tag for tag in hotel.tags if len(tag) == 1])"
   ]
  },
  {
   "cell_type": "markdown",
   "id": "fb9cd18b-a49e-4d5b-b3ff-4a47dd067d18",
   "metadata": {
    "tags": []
   },
   "source": [
    "### NLP Features"
   ]
  },
  {
   "cell_type": "markdown",
   "id": "6b2b0d6d-a84c-463a-aaed-f2bd7466a742",
   "metadata": {},
   "source": [
    "#### Sentiment"
   ]
  },
  {
   "cell_type": "code",
   "execution_count": null,
   "id": "1c1e4262-6b7d-4b43-a929-1471091333f2",
   "metadata": {},
   "outputs": [],
   "source": []
  },
  {
   "cell_type": "markdown",
   "id": "474e97ea-e40e-4a85-8366-a2cbd380f41a",
   "metadata": {},
   "source": [
    "#### Topic Model"
   ]
  },
  {
   "cell_type": "code",
   "execution_count": null,
   "id": "f65c822d-0583-4059-bb42-71e07154cd5e",
   "metadata": {},
   "outputs": [],
   "source": []
  },
  {
   "cell_type": "markdown",
   "id": "04754b2a-c0ec-421d-ba80-713a53cfff95",
   "metadata": {},
   "source": [
    "#### TF-IDF"
   ]
  },
  {
   "cell_type": "code",
   "execution_count": null,
   "id": "c4a4248e-3690-4e8c-88b5-fbfddab952f7",
   "metadata": {},
   "outputs": [],
   "source": []
  },
  {
   "cell_type": "markdown",
   "id": "54cc6291-5c08-4f0a-a8f0-b9ddf5d132f5",
   "metadata": {
    "tags": []
   },
   "source": [
    "# Explore"
   ]
  },
  {
   "cell_type": "code",
   "execution_count": 32,
   "id": "37436586-b76e-4d14-98e8-05228a7cab51",
   "metadata": {},
   "outputs": [],
   "source": [
    "# hotel.head(1)"
   ]
  },
  {
   "cell_type": "code",
   "execution_count": 33,
   "id": "95bdf1c2-7458-4e6b-b4ec-663d9ba0fa91",
   "metadata": {},
   "outputs": [],
   "source": [
    "# hotel.describe()"
   ]
  },
  {
   "cell_type": "code",
   "execution_count": 34,
   "id": "4ac5835f-3c71-4b88-8953-39c3a60b58d1",
   "metadata": {},
   "outputs": [],
   "source": [
    "# hotel.info()"
   ]
  },
  {
   "cell_type": "markdown",
   "id": "685999a0-03c9-4f53-9ce3-e37c82385fef",
   "metadata": {},
   "source": [
    "## Univariate"
   ]
  },
  {
   "cell_type": "markdown",
   "id": "c8b7aa1a-1ca7-401c-bcc6-101ed2da5020",
   "metadata": {},
   "source": [
    "### Mising Values"
   ]
  },
  {
   "cell_type": "code",
   "execution_count": 35,
   "id": "b9466ca7-29bf-43f0-b10c-2de17ffdf89a",
   "metadata": {},
   "outputs": [],
   "source": [
    "# print nulls per row\n",
    "# [print(f'{col}:{hotel[col].isnull().sum()}') for col in  hotel.columns] # How to format better"
   ]
  },
  {
   "cell_type": "markdown",
   "id": "4919a437-e0e3-4011-a7dc-a2600ae39f47",
   "metadata": {},
   "source": [
    "### No valid review"
   ]
  },
  {
   "cell_type": "code",
   "execution_count": 36,
   "id": "11293ef8-ca8f-4175-9d0f-fbe4528b887e",
   "metadata": {},
   "outputs": [
    {
     "data": {
      "text/plain": [
       "' Nothing'"
      ]
     },
     "execution_count": 36,
     "metadata": {},
     "output_type": "execute_result"
    }
   ],
   "source": [
    "hotel.negative_review[2]"
   ]
  },
  {
   "cell_type": "code",
   "execution_count": 37,
   "id": "6eb244c3-fe34-4be6-913e-7a1bea9b236a",
   "metadata": {},
   "outputs": [
    {
     "data": {
      "text/plain": [
       "0.0"
      ]
     },
     "execution_count": 37,
     "metadata": {},
     "output_type": "execute_result"
    }
   ],
   "source": [
    "(hotel.positive_review == 'No Positive').mean()"
   ]
  },
  {
   "cell_type": "code",
   "execution_count": 38,
   "id": "b39799a0-41e8-45a6-a7a8-ecb0cabcd38e",
   "metadata": {},
   "outputs": [
    {
     "data": {
      "text/plain": [
       "0.002410138481166794"
      ]
     },
     "execution_count": 38,
     "metadata": {},
     "output_type": "execute_result"
    }
   ],
   "source": [
    "(hotel.positive_review == ' Nothing').mean()"
   ]
  },
  {
   "cell_type": "code",
   "execution_count": 39,
   "id": "86b70bda-5373-40ad-8670-9fa54c01e08e",
   "metadata": {},
   "outputs": [
    {
     "data": {
      "text/plain": [
       "0.0"
      ]
     },
     "execution_count": 39,
     "metadata": {},
     "output_type": "execute_result"
    }
   ],
   "source": [
    "(hotel.negative_review == 'No Negative').mean()"
   ]
  },
  {
   "cell_type": "code",
   "execution_count": 40,
   "id": "9c44d531-d78d-4922-a4d9-0eed34bb4f84",
   "metadata": {},
   "outputs": [
    {
     "data": {
      "text/plain": [
       "0.02771756201792383"
      ]
     },
     "execution_count": 40,
     "metadata": {},
     "output_type": "execute_result"
    }
   ],
   "source": [
    "(hotel.negative_review == ' Nothing').mean()"
   ]
  },
  {
   "cell_type": "code",
   "execution_count": 41,
   "id": "ce185db0-274c-4f89-b602-16a4c8aa35f2",
   "metadata": {},
   "outputs": [],
   "source": [
    "# Unique Values per column\n",
    "# for col in hotel.columns:\n",
    "#     print(f'{col} Counts:{hotel[col].nunique()}')"
   ]
  },
  {
   "cell_type": "code",
   "execution_count": null,
   "id": "ade32776-e930-4e12-9a97-bf7cb6c7b1c0",
   "metadata": {},
   "outputs": [],
   "source": []
  },
  {
   "cell_type": "code",
   "execution_count": 42,
   "id": "91df95ed-f26a-458f-afa1-a6f4ee99094c",
   "metadata": {},
   "outputs": [
    {
     "data": {
      "text/html": [
       "<div>\n",
       "<style scoped>\n",
       "    .dataframe tbody tr th:only-of-type {\n",
       "        vertical-align: middle;\n",
       "    }\n",
       "\n",
       "    .dataframe tbody tr th {\n",
       "        vertical-align: top;\n",
       "    }\n",
       "\n",
       "    .dataframe thead th {\n",
       "        text-align: right;\n",
       "    }\n",
       "</style>\n",
       "<table border=\"1\" class=\"dataframe\">\n",
       "  <thead>\n",
       "    <tr style=\"text-align: right;\">\n",
       "      <th></th>\n",
       "      <th>additional_number_of_scoring</th>\n",
       "      <th>average_score</th>\n",
       "      <th>hotel_name</th>\n",
       "      <th>reviewer_nationality</th>\n",
       "      <th>negative_review</th>\n",
       "      <th>review_total_negative_word_counts</th>\n",
       "      <th>total_number_of_reviews</th>\n",
       "      <th>positive_review</th>\n",
       "      <th>review_total_positive_word_counts</th>\n",
       "      <th>total_number_of_reviews_reviewer_has_given</th>\n",
       "      <th>reviewer_score</th>\n",
       "      <th>days_since_review</th>\n",
       "      <th>lat</th>\n",
       "      <th>lng</th>\n",
       "      <th>trip_type</th>\n",
       "      <th>nights_stayed</th>\n",
       "      <th>group_type</th>\n",
       "      <th>month</th>\n",
       "      <th>year</th>\n",
       "      <th>day_name</th>\n",
       "      <th>day</th>\n",
       "      <th>quarter</th>\n",
       "      <th>negative_unique_word_count</th>\n",
       "      <th>positive_unique_word_count</th>\n",
       "      <th>street</th>\n",
       "      <th>city</th>\n",
       "      <th>zip_code</th>\n",
       "      <th>country</th>\n",
       "      <th>positive_clean_review</th>\n",
       "      <th>negative_clean_review</th>\n",
       "      <th>positive_stem</th>\n",
       "      <th>negative_stem</th>\n",
       "      <th>positive_lemma</th>\n",
       "      <th>negative_lemma</th>\n",
       "      <th>pos_sentiment_score</th>\n",
       "      <th>neg_sentiment_score</th>\n",
       "      <th>pos_lem_sentiment_score</th>\n",
       "      <th>neg_lem_sentiment_score</th>\n",
       "    </tr>\n",
       "    <tr>\n",
       "      <th>review_date</th>\n",
       "      <th></th>\n",
       "      <th></th>\n",
       "      <th></th>\n",
       "      <th></th>\n",
       "      <th></th>\n",
       "      <th></th>\n",
       "      <th></th>\n",
       "      <th></th>\n",
       "      <th></th>\n",
       "      <th></th>\n",
       "      <th></th>\n",
       "      <th></th>\n",
       "      <th></th>\n",
       "      <th></th>\n",
       "      <th></th>\n",
       "      <th></th>\n",
       "      <th></th>\n",
       "      <th></th>\n",
       "      <th></th>\n",
       "      <th></th>\n",
       "      <th></th>\n",
       "      <th></th>\n",
       "      <th></th>\n",
       "      <th></th>\n",
       "      <th></th>\n",
       "      <th></th>\n",
       "      <th></th>\n",
       "      <th></th>\n",
       "      <th></th>\n",
       "      <th></th>\n",
       "      <th></th>\n",
       "      <th></th>\n",
       "      <th></th>\n",
       "      <th></th>\n",
       "      <th></th>\n",
       "      <th></th>\n",
       "      <th></th>\n",
       "      <th></th>\n",
       "    </tr>\n",
       "  </thead>\n",
       "  <tbody>\n",
       "    <tr>\n",
       "      <th>2015-08-04</th>\n",
       "      <td>1485</td>\n",
       "      <td>7.5</td>\n",
       "      <td>Hilton London Metropole</td>\n",
       "      <td>United Kingdom</td>\n",
       "      <td>First day the swimming pool was not opened therefore i could not access the facilities Finaly the receptionist fid not clarify that i would unable to move my car and did not stamp my car parking so i can come in and out Therefore i had to pay 50 for one day</td>\n",
       "      <td>54</td>\n",
       "      <td>6977</td>\n",
       "      <td>The hotel was clean and accessible</td>\n",
       "      <td>8</td>\n",
       "      <td>4</td>\n",
       "      <td>7.5</td>\n",
       "      <td>730</td>\n",
       "      <td>51.519569</td>\n",
       "      <td>-0.170521</td>\n",
       "      <td>leisure</td>\n",
       "      <td>2</td>\n",
       "      <td>group</td>\n",
       "      <td>August</td>\n",
       "      <td>2015</td>\n",
       "      <td>Tuesday</td>\n",
       "      <td>4</td>\n",
       "      <td>3</td>\n",
       "      <td>39</td>\n",
       "      <td>6</td>\n",
       "      <td>225 Edgware Road Westminster Borough</td>\n",
       "      <td>London</td>\n",
       "      <td>W2 1JU</td>\n",
       "      <td>United Kingdom</td>\n",
       "      <td>hotel clean accessible</td>\n",
       "      <td>first day swimming pool opened therefore could access facilities finaly receptionist fid clarify would unable move car stamp car parking come therefore pay 50 one day</td>\n",
       "      <td>hotel clean access</td>\n",
       "      <td>first day swim pool open therefor could access facil finali receptionist fid clarifi would unabl move car stamp car park come therefor pay 50 one day</td>\n",
       "      <td>hotel clean accessible</td>\n",
       "      <td>first day swimming pool opened therefore could access facility finaly receptionist fid clarify would unable move car stamp car parking come therefore pay 50 one day</td>\n",
       "      <td>0.4019</td>\n",
       "      <td>-0.1027</td>\n",
       "      <td>0.4019</td>\n",
       "      <td>-0.1027</td>\n",
       "    </tr>\n",
       "    <tr>\n",
       "      <th>2015-08-04</th>\n",
       "      <td>125</td>\n",
       "      <td>8.6</td>\n",
       "      <td>Hotel Mademoiselle</td>\n",
       "      <td>United Kingdom</td>\n",
       "      <td></td>\n",
       "      <td>0</td>\n",
       "      <td>853</td>\n",
       "      <td>very good location breakfast was great</td>\n",
       "      <td>7</td>\n",
       "      <td>10</td>\n",
       "      <td>8.3</td>\n",
       "      <td>730</td>\n",
       "      <td>48.877249</td>\n",
       "      <td>2.354304</td>\n",
       "      <td>leisure</td>\n",
       "      <td>2</td>\n",
       "      <td>group</td>\n",
       "      <td>August</td>\n",
       "      <td>2015</td>\n",
       "      <td>Tuesday</td>\n",
       "      <td>4</td>\n",
       "      <td>3</td>\n",
       "      <td>2</td>\n",
       "      <td>6</td>\n",
       "      <td>7 Rue des Petits H tels 10th</td>\n",
       "      <td>Paris</td>\n",
       "      <td>arr 75010</td>\n",
       "      <td>France</td>\n",
       "      <td>good location breakfast great</td>\n",
       "      <td></td>\n",
       "      <td>good locat breakfast great</td>\n",
       "      <td></td>\n",
       "      <td>good location breakfast great</td>\n",
       "      <td></td>\n",
       "      <td>0.7906</td>\n",
       "      <td>0.0000</td>\n",
       "      <td>0.7906</td>\n",
       "      <td>0.0000</td>\n",
       "    </tr>\n",
       "    <tr>\n",
       "      <th>2015-08-04</th>\n",
       "      <td>130</td>\n",
       "      <td>8.2</td>\n",
       "      <td>Vienna Marriott Hotel</td>\n",
       "      <td>Qatar</td>\n",
       "      <td>Nothing</td>\n",
       "      <td>2</td>\n",
       "      <td>939</td>\n",
       "      <td>It was very nice excellent hotel</td>\n",
       "      <td>7</td>\n",
       "      <td>4</td>\n",
       "      <td>10.0</td>\n",
       "      <td>730</td>\n",
       "      <td>48.205097</td>\n",
       "      <td>16.377093</td>\n",
       "      <td>unknown</td>\n",
       "      <td>3</td>\n",
       "      <td>family with young children</td>\n",
       "      <td>August</td>\n",
       "      <td>2015</td>\n",
       "      <td>Tuesday</td>\n",
       "      <td>4</td>\n",
       "      <td>3</td>\n",
       "      <td>1</td>\n",
       "      <td>6</td>\n",
       "      <td>Parkring 12a 01 Innere Stadt</td>\n",
       "      <td>Vienna</td>\n",
       "      <td>1010</td>\n",
       "      <td>Austria</td>\n",
       "      <td>nice excellent hotel</td>\n",
       "      <td>nothing</td>\n",
       "      <td>nice excel hotel</td>\n",
       "      <td>noth</td>\n",
       "      <td>nice excellent hotel</td>\n",
       "      <td>nothing</td>\n",
       "      <td>0.7579</td>\n",
       "      <td>0.0000</td>\n",
       "      <td>0.7579</td>\n",
       "      <td>0.0000</td>\n",
       "    </tr>\n",
       "    <tr>\n",
       "      <th>2015-08-04</th>\n",
       "      <td>341</td>\n",
       "      <td>7.8</td>\n",
       "      <td>Novotel Amsterdam City</td>\n",
       "      <td>Austria</td>\n",
       "      <td></td>\n",
       "      <td>0</td>\n",
       "      <td>2501</td>\n",
       "      <td>Slightly out of the city center but very easy to get to by tram or train Really lovely and helpful staff clean and comfortable rooms</td>\n",
       "      <td>27</td>\n",
       "      <td>34</td>\n",
       "      <td>9.6</td>\n",
       "      <td>730</td>\n",
       "      <td>52.333803</td>\n",
       "      <td>4.888471</td>\n",
       "      <td>leisure</td>\n",
       "      <td>2</td>\n",
       "      <td>group</td>\n",
       "      <td>August</td>\n",
       "      <td>2015</td>\n",
       "      <td>Tuesday</td>\n",
       "      <td>4</td>\n",
       "      <td>3</td>\n",
       "      <td>2</td>\n",
       "      <td>23</td>\n",
       "      <td>Europaboulevard 10 Zuideramstel</td>\n",
       "      <td>Amsterdam</td>\n",
       "      <td>1083 AD</td>\n",
       "      <td>Netherlands</td>\n",
       "      <td>slightly city center easy get tram train really lovely helpful staff clean comfortable rooms</td>\n",
       "      <td></td>\n",
       "      <td>slightli citi center easi get tram train realli love help staff clean comfort room</td>\n",
       "      <td></td>\n",
       "      <td>slightly city center easy get tram train really lovely helpful staff clean comfortable room</td>\n",
       "      <td></td>\n",
       "      <td>0.9414</td>\n",
       "      <td>0.0000</td>\n",
       "      <td>0.9414</td>\n",
       "      <td>0.0000</td>\n",
       "    </tr>\n",
       "    <tr>\n",
       "      <th>2015-08-04</th>\n",
       "      <td>843</td>\n",
       "      <td>7.8</td>\n",
       "      <td>Hilton London Kensington Hotel</td>\n",
       "      <td>Qatar</td>\n",
       "      <td></td>\n",
       "      <td>0</td>\n",
       "      <td>3801</td>\n",
       "      <td>Great easy to reAch location</td>\n",
       "      <td>6</td>\n",
       "      <td>5</td>\n",
       "      <td>7.5</td>\n",
       "      <td>730</td>\n",
       "      <td>51.505108</td>\n",
       "      <td>-0.213266</td>\n",
       "      <td>leisure</td>\n",
       "      <td>1</td>\n",
       "      <td>solo traveler</td>\n",
       "      <td>August</td>\n",
       "      <td>2015</td>\n",
       "      <td>Tuesday</td>\n",
       "      <td>4</td>\n",
       "      <td>3</td>\n",
       "      <td>2</td>\n",
       "      <td>5</td>\n",
       "      <td>Holland Park Avenue Kensington and Chelsea</td>\n",
       "      <td>London</td>\n",
       "      <td>W11 4UL</td>\n",
       "      <td>United Kingdom</td>\n",
       "      <td>great easy reach location</td>\n",
       "      <td></td>\n",
       "      <td>great easi reach locat</td>\n",
       "      <td></td>\n",
       "      <td>great easy reach location</td>\n",
       "      <td></td>\n",
       "      <td>0.7964</td>\n",
       "      <td>0.0000</td>\n",
       "      <td>0.7964</td>\n",
       "      <td>0.0000</td>\n",
       "    </tr>\n",
       "    <tr>\n",
       "      <th>2015-08-04</th>\n",
       "      <td>843</td>\n",
       "      <td>7.8</td>\n",
       "      <td>Hilton London Kensington Hotel</td>\n",
       "      <td>United Kingdom</td>\n",
       "      <td>Needs updating Beds in wheels meant it moved whenever I did Shower bath leaked and had hair from prior guests in it</td>\n",
       "      <td>24</td>\n",
       "      <td>3801</td>\n",
       "      <td>Good location</td>\n",
       "      <td>4</td>\n",
       "      <td>1</td>\n",
       "      <td>5.4</td>\n",
       "      <td>730</td>\n",
       "      <td>51.505108</td>\n",
       "      <td>-0.213266</td>\n",
       "      <td>leisure</td>\n",
       "      <td>2</td>\n",
       "      <td>solo traveler</td>\n",
       "      <td>August</td>\n",
       "      <td>2015</td>\n",
       "      <td>Tuesday</td>\n",
       "      <td>4</td>\n",
       "      <td>3</td>\n",
       "      <td>20</td>\n",
       "      <td>2</td>\n",
       "      <td>Holland Park Avenue Kensington and Chelsea</td>\n",
       "      <td>London</td>\n",
       "      <td>W11 4UL</td>\n",
       "      <td>United Kingdom</td>\n",
       "      <td>good location</td>\n",
       "      <td>needs updating beds wheels meant moved whenever shower bath leaked hair prior guests</td>\n",
       "      <td>good locat</td>\n",
       "      <td>need updat bed wheel meant move whenev shower bath leak hair prior guest</td>\n",
       "      <td>good location</td>\n",
       "      <td>need updating bed wheel meant moved whenever shower bath leaked hair prior guest</td>\n",
       "      <td>0.4404</td>\n",
       "      <td>-0.3182</td>\n",
       "      <td>0.4404</td>\n",
       "      <td>-0.3182</td>\n",
       "    </tr>\n",
       "    <tr>\n",
       "      <th>2015-08-04</th>\n",
       "      <td>930</td>\n",
       "      <td>8.9</td>\n",
       "      <td>London Marriott Hotel West India Quay</td>\n",
       "      <td>United Kingdom</td>\n",
       "      <td>The air conditioning was noisy making it hard to sleep</td>\n",
       "      <td>12</td>\n",
       "      <td>2836</td>\n",
       "      <td>The hotel catered for cyclists really well setting aside rooms to store bikes for Ride London</td>\n",
       "      <td>18</td>\n",
       "      <td>1</td>\n",
       "      <td>8.8</td>\n",
       "      <td>730</td>\n",
       "      <td>51.507271</td>\n",
       "      <td>-0.021121</td>\n",
       "      <td>leisure</td>\n",
       "      <td>1</td>\n",
       "      <td>group</td>\n",
       "      <td>August</td>\n",
       "      <td>2015</td>\n",
       "      <td>Tuesday</td>\n",
       "      <td>4</td>\n",
       "      <td>3</td>\n",
       "      <td>10</td>\n",
       "      <td>15</td>\n",
       "      <td>22 Hertsmere Road Tower Hamlets</td>\n",
       "      <td>London</td>\n",
       "      <td>E14 4ED</td>\n",
       "      <td>United Kingdom</td>\n",
       "      <td>hotel catered cyclists really well setting aside rooms store bikes ride london</td>\n",
       "      <td>air conditioning noisy making hard sleep</td>\n",
       "      <td>hotel cater cyclist realli well set asid room store bike ride london</td>\n",
       "      <td>air condit noisi make hard sleep</td>\n",
       "      <td>hotel catered cyclist really well setting aside room store bike ride london</td>\n",
       "      <td>air conditioning noisy making hard sleep</td>\n",
       "      <td>0.3384</td>\n",
       "      <td>-0.2732</td>\n",
       "      <td>0.3384</td>\n",
       "      <td>-0.2732</td>\n",
       "    </tr>\n",
       "    <tr>\n",
       "      <th>2015-08-04</th>\n",
       "      <td>930</td>\n",
       "      <td>8.9</td>\n",
       "      <td>London Marriott Hotel West India Quay</td>\n",
       "      <td>United Kingdom</td>\n",
       "      <td></td>\n",
       "      <td>0</td>\n",
       "      <td>2836</td>\n",
       "      <td>Staff were exceptionally helpful welcoming and accommodating The special arrangements for the Ride London cycling event were exceptional Thank you</td>\n",
       "      <td>22</td>\n",
       "      <td>2</td>\n",
       "      <td>10.0</td>\n",
       "      <td>730</td>\n",
       "      <td>51.507271</td>\n",
       "      <td>-0.021121</td>\n",
       "      <td>unknown</td>\n",
       "      <td>1</td>\n",
       "      <td>couple</td>\n",
       "      <td>August</td>\n",
       "      <td>2015</td>\n",
       "      <td>Tuesday</td>\n",
       "      <td>4</td>\n",
       "      <td>3</td>\n",
       "      <td>2</td>\n",
       "      <td>19</td>\n",
       "      <td>22 Hertsmere Road Tower Hamlets</td>\n",
       "      <td>London</td>\n",
       "      <td>E14 4ED</td>\n",
       "      <td>United Kingdom</td>\n",
       "      <td>staff exceptionally helpful welcoming accommodating special arrangements ride london cycling event exceptional thank</td>\n",
       "      <td></td>\n",
       "      <td>staff except help welcom accommod special arrang ride london cycl event except thank</td>\n",
       "      <td></td>\n",
       "      <td>staff exceptionally helpful welcoming accommodating special arrangement ride london cycling event exceptional thank</td>\n",
       "      <td></td>\n",
       "      <td>0.8878</td>\n",
       "      <td>0.0000</td>\n",
       "      <td>0.8878</td>\n",
       "      <td>0.0000</td>\n",
       "    </tr>\n",
       "    <tr>\n",
       "      <th>2015-08-04</th>\n",
       "      <td>930</td>\n",
       "      <td>8.9</td>\n",
       "      <td>London Marriott Hotel West India Quay</td>\n",
       "      <td>United Kingdom</td>\n",
       "      <td>I booked a table for two in the restaurant for 7 00pm on arrival i requested confirmation i was told the booking was now 8 00pm to accommodate others I insisted that it return to 7 00pm as i wanted to ensure my meal was digested before retiring for a 4 30am wake up call On arrival at the restaurant we were give a more than acceptable table with the restaurant only 20 full That is where the good story ends At 7 45 we had to chase the first course a small salad and a bowl of soup it arrived 5 minutes later Main course was simply two bowls of pasta off their specifically for cyclists menu At 8 15 after both table to each side of us had been given and finished their main courses off the main menu steaks and speciality dishes I had to chase staff again a few minutes later we were told it would be a couple of minutes it wasn t at 8 30 I went to the open kitchen and asked when our main course would be served in a few minutes I was told approx 5 minutes later the two bowls of pasta arrived unfortunately incorrectly I was served a meat dish which i don t eat I then took it back to the kitchen and in no uncertain terms advised them that i had now waited over and hour and a half to received a simple pasta dish which was not one selected apologies were for the hundredth time were given and i was promised immediate attention sure enough my pasta meal of ricotta and spinach pasta arrived in a perhaps 1 minute surprise surprise it was a bowl of pasta smothered in cream with a odd touch of green in it simply disgusting in both appearance and taste it was left my whole experience lasted 2 hours i didn t get what I had planned and as it was the last piece of the jigsaw before hopefully a good nights sleep and a hundred mile ride the following day</td>\n",
       "      <td>352</td>\n",
       "      <td>2836</td>\n",
       "      <td>The location for the Prudential London Surrey 100 cycle was and is excellent the effort the hotel put in to accommodate hundreds of cyclists was above and beyond</td>\n",
       "      <td>30</td>\n",
       "      <td>2</td>\n",
       "      <td>7.1</td>\n",
       "      <td>730</td>\n",
       "      <td>51.507271</td>\n",
       "      <td>-0.021121</td>\n",
       "      <td>leisure</td>\n",
       "      <td>1</td>\n",
       "      <td>couple</td>\n",
       "      <td>August</td>\n",
       "      <td>2015</td>\n",
       "      <td>Tuesday</td>\n",
       "      <td>4</td>\n",
       "      <td>3</td>\n",
       "      <td>182</td>\n",
       "      <td>24</td>\n",
       "      <td>22 Hertsmere Road Tower Hamlets</td>\n",
       "      <td>London</td>\n",
       "      <td>E14 4ED</td>\n",
       "      <td>United Kingdom</td>\n",
       "      <td>location prudential london surrey 100 cycle excellent effort hotel put accommodate hundreds cyclists beyond</td>\n",
       "      <td>booked table two restaurant 7 00pm arrival requested confirmation told booking 8 00pm accommodate others insisted return 7 00pm wanted ensure meal digested retiring 4 30am wake call arrival restaurant give acceptable table restaurant 20 full good story ends 7 45 chase first course small salad bowl soup arrived 5 minutes later main course simply two bowls pasta specifically cyclists menu 8 15 table side us given finished main courses main menu steaks speciality dishes chase staff minutes later told would couple minutes 8 30 went open kitchen asked main course would served minutes told approx 5 minutes later two bowls pasta arrived unfortunately incorrectly served meat dish eat took back kitchen uncertain terms advised waited hour half received simple pasta dish one selected apologies hundredth time given promised immediate attention sure enough pasta meal ricotta spinach pasta arrived perhaps 1 minute surprise surprise bowl pasta smothered cream odd touch green simply disgusting appearance taste left whole experience lasted 2 hours get planned last piece jigsaw hopefully good nights sleep hundred mile ride following day</td>\n",
       "      <td>locat prudenti london surrey 100 cycl excel effort hotel put accommod hundr cyclist beyond</td>\n",
       "      <td>book tabl two restaur 7 00pm arriv request confirm told book 8 00pm accommod other insist return 7 00pm want ensur meal digest retir 4 30am wake call arriv restaur give accept tabl restaur 20 full good stori end 7 45 chase first cours small salad bowl soup arriv 5 minut later main cours simpli two bowl pasta specif cyclist menu 8 15 tabl side us given finish main cours main menu steak special dish chase staff minut later told would coupl minut 8 30 went open kitchen ask main cours would serv minut told approx 5 minut later two bowl pasta arriv unfortun incorrectli serv meat dish eat took back kitchen uncertain term advis wait hour half receiv simpl pasta dish one select apolog hundredth time given promis immedi attent sure enough pasta meal ricotta spinach pasta arriv perhap 1 minut surpris surpris bowl pasta smother cream odd touch green simpli disgust appear tast left whole experi last 2 hour get plan last piec jigsaw hope good night sleep hundr mile ride follow day</td>\n",
       "      <td>location prudential london surrey 100 cycle excellent effort hotel put accommodate hundred cyclist beyond</td>\n",
       "      <td>booked table two restaurant 7 00pm arrival requested confirmation told booking 8 00pm accommodate others insisted return 7 00pm wanted ensure meal digested retiring 4 30am wake call arrival restaurant give acceptable table restaurant 20 full good story end 7 45 chase first course small salad bowl soup arrived 5 minute later main course simply two bowl pasta specifically cyclist menu 8 15 table side u given finished main course main menu steak speciality dish chase staff minute later told would couple minute 8 30 went open kitchen asked main course would served minute told approx 5 minute later two bowl pasta arrived unfortunately incorrectly served meat dish eat took back kitchen uncertain term advised waited hour half received simple pasta dish one selected apology hundredth time given promised immediate attention sure enough pasta meal ricotta spinach pasta arrived perhaps 1 minute surprise surprise bowl pasta smothered cream odd touch green simply disgusting appearance taste left whole experience lasted 2 hour get planned last piece jigsaw hopefully good night sleep hundred mile ride following day</td>\n",
       "      <td>0.5719</td>\n",
       "      <td>0.8481</td>\n",
       "      <td>0.5719</td>\n",
       "      <td>0.8555</td>\n",
       "    </tr>\n",
       "    <tr>\n",
       "      <th>2015-08-04</th>\n",
       "      <td>125</td>\n",
       "      <td>8.6</td>\n",
       "      <td>Hotel Mademoiselle</td>\n",
       "      <td>United Kingdom</td>\n",
       "      <td>Nothing to report</td>\n",
       "      <td>4</td>\n",
       "      <td>853</td>\n",
       "      <td>Good hotel for visiting Paris and to use as a base Good standards across the hotel spectrum Very comfortable and quite room great shower Good stay</td>\n",
       "      <td>27</td>\n",
       "      <td>1</td>\n",
       "      <td>9.6</td>\n",
       "      <td>730</td>\n",
       "      <td>48.877249</td>\n",
       "      <td>2.354304</td>\n",
       "      <td>leisure</td>\n",
       "      <td>2</td>\n",
       "      <td>couple</td>\n",
       "      <td>August</td>\n",
       "      <td>2015</td>\n",
       "      <td>Tuesday</td>\n",
       "      <td>4</td>\n",
       "      <td>3</td>\n",
       "      <td>3</td>\n",
       "      <td>22</td>\n",
       "      <td>7 Rue des Petits H tels 10th</td>\n",
       "      <td>Paris</td>\n",
       "      <td>arr 75010</td>\n",
       "      <td>France</td>\n",
       "      <td>good hotel visiting paris use base good standards across hotel spectrum comfortable quite room great shower good stay</td>\n",
       "      <td>nothing report</td>\n",
       "      <td>good hotel visit pari use base good standard across hotel spectrum comfort quit room great shower good stay</td>\n",
       "      <td>noth report</td>\n",
       "      <td>good hotel visiting paris use base good standard across hotel spectrum comfortable quite room great shower good stay</td>\n",
       "      <td>nothing report</td>\n",
       "      <td>0.9467</td>\n",
       "      <td>0.0000</td>\n",
       "      <td>0.9467</td>\n",
       "      <td>0.0000</td>\n",
       "    </tr>\n",
       "  </tbody>\n",
       "</table>\n",
       "</div>"
      ],
      "text/plain": [
       "             additional_number_of_scoring  average_score  \\\n",
       "review_date                                                \n",
       "2015-08-04                           1485            7.5   \n",
       "2015-08-04                            125            8.6   \n",
       "2015-08-04                            130            8.2   \n",
       "2015-08-04                            341            7.8   \n",
       "2015-08-04                            843            7.8   \n",
       "2015-08-04                            843            7.8   \n",
       "2015-08-04                            930            8.9   \n",
       "2015-08-04                            930            8.9   \n",
       "2015-08-04                            930            8.9   \n",
       "2015-08-04                            125            8.6   \n",
       "\n",
       "                                        hotel_name reviewer_nationality  \\\n",
       "review_date                                                               \n",
       "2015-08-04                 Hilton London Metropole      United Kingdom    \n",
       "2015-08-04                      Hotel Mademoiselle      United Kingdom    \n",
       "2015-08-04                   Vienna Marriott Hotel               Qatar    \n",
       "2015-08-04                  Novotel Amsterdam City             Austria    \n",
       "2015-08-04          Hilton London Kensington Hotel               Qatar    \n",
       "2015-08-04          Hilton London Kensington Hotel      United Kingdom    \n",
       "2015-08-04   London Marriott Hotel West India Quay      United Kingdom    \n",
       "2015-08-04   London Marriott Hotel West India Quay      United Kingdom    \n",
       "2015-08-04   London Marriott Hotel West India Quay      United Kingdom    \n",
       "2015-08-04                      Hotel Mademoiselle      United Kingdom    \n",
       "\n",
       "                                                                                                                                                                                                                                                                                                                                                                                                                                                                                                                                                                                                                                                                                                                                                                                                                                                                                                                                                                                                                                                                                                                                                                                                                                                                                                                                                                                                                                                                                                                                                                                                                                                                                                                                                                                                                              negative_review  \\\n",
       "review_date                                                                                                                                                                                                                                                                                                                                                                                                                                                                                                                                                                                                                                                                                                                                                                                                                                                                                                                                                                                                                                                                                                                                                                                                                                                                                                                                                                                                                                                                                                                                                                                                                                                                                                                                                                                                                                     \n",
       "2015-08-04                                                                                                                                                                                                                                                                                                                                                                                                                                                                                                                                                                                                                                                                                                                                                                                                                                                                                                                                                                                                                                                                                                                                                                                                                                                                                                                                                                                                                                                                                                                                                                 First day the swimming pool was not opened therefore i could not access the facilities Finaly the receptionist fid not clarify that i would unable to move my car and did not stamp my car parking so i can come in and out Therefore i had to pay 50 for one day    \n",
       "2015-08-04                                                                                                                                                                                                                                                                                                                                                                                                                                                                                                                                                                                                                                                                                                                                                                                                                                                                                                                                                                                                                                                                                                                                                                                                                                                                                                                                                                                                                                                                                                                                                                                                                                                                                                                                                                                                                                      \n",
       "2015-08-04                                                                                                                                                                                                                                                                                                                                                                                                                                                                                                                                                                                                                                                                                                                                                                                                                                                                                                                                                                                                                                                                                                                                                                                                                                                                                                                                                                                                                                                                                                                                                                                                                                                                                                                                                                                                                            Nothing   \n",
       "2015-08-04                                                                                                                                                                                                                                                                                                                                                                                                                                                                                                                                                                                                                                                                                                                                                                                                                                                                                                                                                                                                                                                                                                                                                                                                                                                                                                                                                                                                                                                                                                                                                                                                                                                                                                                                                                                                                                      \n",
       "2015-08-04                                                                                                                                                                                                                                                                                                                                                                                                                                                                                                                                                                                                                                                                                                                                                                                                                                                                                                                                                                                                                                                                                                                                                                                                                                                                                                                                                                                                                                                                                                                                                                                                                                                                                                                                                                                                                                      \n",
       "2015-08-04                                                                                                                                                                                                                                                                                                                                                                                                                                                                                                                                                                                                                                                                                                                                                                                                                                                                                                                                                                                                                                                                                                                                                                                                                                                                                                                                                                                                                                                                                                                                                                                                                                                                                                               Needs updating Beds in wheels meant it moved whenever I did Shower bath leaked and had hair from prior guests in it    \n",
       "2015-08-04                                                                                                                                                                                                                                                                                                                                                                                                                                                                                                                                                                                                                                                                                                                                                                                                                                                                                                                                                                                                                                                                                                                                                                                                                                                                                                                                                                                                                                                                                                                                                                                                                                                                                                                                                                            The air conditioning was noisy making it hard to sleep    \n",
       "2015-08-04                                                                                                                                                                                                                                                                                                                                                                                                                                                                                                                                                                                                                                                                                                                                                                                                                                                                                                                                                                                                                                                                                                                                                                                                                                                                                                                                                                                                                                                                                                                                                                                                                                                                                                                                                                                                                                      \n",
       "2015-08-04    I booked a table for two in the restaurant for 7 00pm on arrival i requested confirmation i was told the booking was now 8 00pm to accommodate others I insisted that it return to 7 00pm as i wanted to ensure my meal was digested before retiring for a 4 30am wake up call On arrival at the restaurant we were give a more than acceptable table with the restaurant only 20 full That is where the good story ends At 7 45 we had to chase the first course a small salad and a bowl of soup it arrived 5 minutes later Main course was simply two bowls of pasta off their specifically for cyclists menu At 8 15 after both table to each side of us had been given and finished their main courses off the main menu steaks and speciality dishes I had to chase staff again a few minutes later we were told it would be a couple of minutes it wasn t at 8 30 I went to the open kitchen and asked when our main course would be served in a few minutes I was told approx 5 minutes later the two bowls of pasta arrived unfortunately incorrectly I was served a meat dish which i don t eat I then took it back to the kitchen and in no uncertain terms advised them that i had now waited over and hour and a half to received a simple pasta dish which was not one selected apologies were for the hundredth time were given and i was promised immediate attention sure enough my pasta meal of ricotta and spinach pasta arrived in a perhaps 1 minute surprise surprise it was a bowl of pasta smothered in cream with a odd touch of green in it simply disgusting in both appearance and taste it was left my whole experience lasted 2 hours i didn t get what I had planned and as it was the last piece of the jigsaw before hopefully a good nights sleep and a hundred mile ride the following day    \n",
       "2015-08-04                                                                                                                                                                                                                                                                                                                                                                                                                                                                                                                                                                                                                                                                                                                                                                                                                                                                                                                                                                                                                                                                                                                                                                                                                                                                                                                                                                                                                                                                                                                                                                                                                                                                                                                                                                                                                  Nothing to report   \n",
       "\n",
       "             review_total_negative_word_counts  total_number_of_reviews  \\\n",
       "review_date                                                               \n",
       "2015-08-04                                  54                     6977   \n",
       "2015-08-04                                   0                      853   \n",
       "2015-08-04                                   2                      939   \n",
       "2015-08-04                                   0                     2501   \n",
       "2015-08-04                                   0                     3801   \n",
       "2015-08-04                                  24                     3801   \n",
       "2015-08-04                                  12                     2836   \n",
       "2015-08-04                                   0                     2836   \n",
       "2015-08-04                                 352                     2836   \n",
       "2015-08-04                                   4                      853   \n",
       "\n",
       "                                                                                                                                                                 positive_review  \\\n",
       "review_date                                                                                                                                                                        \n",
       "2015-08-04                                                                                                                                   The hotel was clean and accessible    \n",
       "2015-08-04                                                                                                                                very good location breakfast was great   \n",
       "2015-08-04                                                                                                                                      It was very nice excellent hotel   \n",
       "2015-08-04                                 Slightly out of the city center but very easy to get to by tram or train Really lovely and helpful staff clean and comfortable rooms    \n",
       "2015-08-04                                                                                                                                          Great easy to reAch location   \n",
       "2015-08-04                                                                                                                                                        Good location    \n",
       "2015-08-04                                                                        The hotel catered for cyclists really well setting aside rooms to store bikes for Ride London    \n",
       "2015-08-04                   Staff were exceptionally helpful welcoming and accommodating The special arrangements for the Ride London cycling event were exceptional Thank you    \n",
       "2015-08-04    The location for the Prudential London Surrey 100 cycle was and is excellent the effort the hotel put in to accommodate hundreds of cyclists was above and beyond    \n",
       "2015-08-04                    Good hotel for visiting Paris and to use as a base Good standards across the hotel spectrum Very comfortable and quite room great shower Good stay   \n",
       "\n",
       "             review_total_positive_word_counts  \\\n",
       "review_date                                      \n",
       "2015-08-04                                   8   \n",
       "2015-08-04                                   7   \n",
       "2015-08-04                                   7   \n",
       "2015-08-04                                  27   \n",
       "2015-08-04                                   6   \n",
       "2015-08-04                                   4   \n",
       "2015-08-04                                  18   \n",
       "2015-08-04                                  22   \n",
       "2015-08-04                                  30   \n",
       "2015-08-04                                  27   \n",
       "\n",
       "             total_number_of_reviews_reviewer_has_given  reviewer_score  \\\n",
       "review_date                                                               \n",
       "2015-08-04                                            4             7.5   \n",
       "2015-08-04                                           10             8.3   \n",
       "2015-08-04                                            4            10.0   \n",
       "2015-08-04                                           34             9.6   \n",
       "2015-08-04                                            5             7.5   \n",
       "2015-08-04                                            1             5.4   \n",
       "2015-08-04                                            1             8.8   \n",
       "2015-08-04                                            2            10.0   \n",
       "2015-08-04                                            2             7.1   \n",
       "2015-08-04                                            1             9.6   \n",
       "\n",
       "             days_since_review        lat        lng trip_type nights_stayed  \\\n",
       "review_date                                                                    \n",
       "2015-08-04                 730  51.519569  -0.170521   leisure             2   \n",
       "2015-08-04                 730  48.877249   2.354304   leisure             2   \n",
       "2015-08-04                 730  48.205097  16.377093   unknown             3   \n",
       "2015-08-04                 730  52.333803   4.888471   leisure             2   \n",
       "2015-08-04                 730  51.505108  -0.213266   leisure             1   \n",
       "2015-08-04                 730  51.505108  -0.213266   leisure             2   \n",
       "2015-08-04                 730  51.507271  -0.021121   leisure             1   \n",
       "2015-08-04                 730  51.507271  -0.021121   unknown             1   \n",
       "2015-08-04                 730  51.507271  -0.021121   leisure             1   \n",
       "2015-08-04                 730  48.877249   2.354304   leisure             2   \n",
       "\n",
       "                             group_type   month  year day_name  day  quarter  \\\n",
       "review_date                                                                    \n",
       "2015-08-04                        group  August  2015  Tuesday    4        3   \n",
       "2015-08-04                        group  August  2015  Tuesday    4        3   \n",
       "2015-08-04   family with young children  August  2015  Tuesday    4        3   \n",
       "2015-08-04                        group  August  2015  Tuesday    4        3   \n",
       "2015-08-04                solo traveler  August  2015  Tuesday    4        3   \n",
       "2015-08-04                solo traveler  August  2015  Tuesday    4        3   \n",
       "2015-08-04                        group  August  2015  Tuesday    4        3   \n",
       "2015-08-04                       couple  August  2015  Tuesday    4        3   \n",
       "2015-08-04                       couple  August  2015  Tuesday    4        3   \n",
       "2015-08-04                       couple  August  2015  Tuesday    4        3   \n",
       "\n",
       "             negative_unique_word_count  positive_unique_word_count  \\\n",
       "review_date                                                           \n",
       "2015-08-04                           39                           6   \n",
       "2015-08-04                            2                           6   \n",
       "2015-08-04                            1                           6   \n",
       "2015-08-04                            2                          23   \n",
       "2015-08-04                            2                           5   \n",
       "2015-08-04                           20                           2   \n",
       "2015-08-04                           10                          15   \n",
       "2015-08-04                            2                          19   \n",
       "2015-08-04                          182                          24   \n",
       "2015-08-04                            3                          22   \n",
       "\n",
       "                                                 street       city   zip_code  \\\n",
       "review_date                                                                     \n",
       "2015-08-04         225 Edgware Road Westminster Borough     London     W2 1JU   \n",
       "2015-08-04                 7 Rue des Petits H tels 10th      Paris  arr 75010   \n",
       "2015-08-04                 Parkring 12a 01 Innere Stadt     Vienna       1010   \n",
       "2015-08-04              Europaboulevard 10 Zuideramstel  Amsterdam    1083 AD   \n",
       "2015-08-04   Holland Park Avenue Kensington and Chelsea     London    W11 4UL   \n",
       "2015-08-04   Holland Park Avenue Kensington and Chelsea     London    W11 4UL   \n",
       "2015-08-04              22 Hertsmere Road Tower Hamlets     London    E14 4ED   \n",
       "2015-08-04              22 Hertsmere Road Tower Hamlets     London    E14 4ED   \n",
       "2015-08-04              22 Hertsmere Road Tower Hamlets     London    E14 4ED   \n",
       "2015-08-04                 7 Rue des Petits H tels 10th      Paris  arr 75010   \n",
       "\n",
       "                    country  \\\n",
       "review_date                   \n",
       "2015-08-04   United Kingdom   \n",
       "2015-08-04           France   \n",
       "2015-08-04          Austria   \n",
       "2015-08-04      Netherlands   \n",
       "2015-08-04   United Kingdom   \n",
       "2015-08-04   United Kingdom   \n",
       "2015-08-04   United Kingdom   \n",
       "2015-08-04   United Kingdom   \n",
       "2015-08-04   United Kingdom   \n",
       "2015-08-04           France   \n",
       "\n",
       "                                                                                                             positive_clean_review  \\\n",
       "review_date                                                                                                                          \n",
       "2015-08-04                                                                                                  hotel clean accessible   \n",
       "2015-08-04                                                                                           good location breakfast great   \n",
       "2015-08-04                                                                                                    nice excellent hotel   \n",
       "2015-08-04                            slightly city center easy get tram train really lovely helpful staff clean comfortable rooms   \n",
       "2015-08-04                                                                                               great easy reach location   \n",
       "2015-08-04                                                                                                           good location   \n",
       "2015-08-04                                          hotel catered cyclists really well setting aside rooms store bikes ride london   \n",
       "2015-08-04    staff exceptionally helpful welcoming accommodating special arrangements ride london cycling event exceptional thank   \n",
       "2015-08-04             location prudential london surrey 100 cycle excellent effort hotel put accommodate hundreds cyclists beyond   \n",
       "2015-08-04   good hotel visiting paris use base good standards across hotel spectrum comfortable quite room great shower good stay   \n",
       "\n",
       "                                                                                                                                                                                                                                                                                                                                                                                                                                                                                                                                                                                                                                                                                                                                                                                                                                                                                                                                                                                                                                                                                                                                                                        negative_clean_review  \\\n",
       "review_date                                                                                                                                                                                                                                                                                                                                                                                                                                                                                                                                                                                                                                                                                                                                                                                                                                                                                                                                                                                                                                                                                                                                                                                     \n",
       "2015-08-04                                                                                                                                                                                                                                                                                                                                                                                                                                                                                                                                                                                                                                                                                                                                                                                                                                                                                                                                                                                                             first day swimming pool opened therefore could access facilities finaly receptionist fid clarify would unable move car stamp car parking come therefore pay 50 one day   \n",
       "2015-08-04                                                                                                                                                                                                                                                                                                                                                                                                                                                                                                                                                                                                                                                                                                                                                                                                                                                                                                                                                                                                                                                                                                                                                                                      \n",
       "2015-08-04                                                                                                                                                                                                                                                                                                                                                                                                                                                                                                                                                                                                                                                                                                                                                                                                                                                                                                                                                                                                                                                                                                                                                                            nothing   \n",
       "2015-08-04                                                                                                                                                                                                                                                                                                                                                                                                                                                                                                                                                                                                                                                                                                                                                                                                                                                                                                                                                                                                                                                                                                                                                                                      \n",
       "2015-08-04                                                                                                                                                                                                                                                                                                                                                                                                                                                                                                                                                                                                                                                                                                                                                                                                                                                                                                                                                                                                                                                                                                                                                                                      \n",
       "2015-08-04                                                                                                                                                                                                                                                                                                                                                                                                                                                                                                                                                                                                                                                                                                                                                                                                                                                                                                                                                                                                                                                                                               needs updating beds wheels meant moved whenever shower bath leaked hair prior guests   \n",
       "2015-08-04                                                                                                                                                                                                                                                                                                                                                                                                                                                                                                                                                                                                                                                                                                                                                                                                                                                                                                                                                                                                                                                                                                                                           air conditioning noisy making hard sleep   \n",
       "2015-08-04                                                                                                                                                                                                                                                                                                                                                                                                                                                                                                                                                                                                                                                                                                                                                                                                                                                                                                                                                                                                                                                                                                                                                                                      \n",
       "2015-08-04   booked table two restaurant 7 00pm arrival requested confirmation told booking 8 00pm accommodate others insisted return 7 00pm wanted ensure meal digested retiring 4 30am wake call arrival restaurant give acceptable table restaurant 20 full good story ends 7 45 chase first course small salad bowl soup arrived 5 minutes later main course simply two bowls pasta specifically cyclists menu 8 15 table side us given finished main courses main menu steaks speciality dishes chase staff minutes later told would couple minutes 8 30 went open kitchen asked main course would served minutes told approx 5 minutes later two bowls pasta arrived unfortunately incorrectly served meat dish eat took back kitchen uncertain terms advised waited hour half received simple pasta dish one selected apologies hundredth time given promised immediate attention sure enough pasta meal ricotta spinach pasta arrived perhaps 1 minute surprise surprise bowl pasta smothered cream odd touch green simply disgusting appearance taste left whole experience lasted 2 hours get planned last piece jigsaw hopefully good nights sleep hundred mile ride following day   \n",
       "2015-08-04                                                                                                                                                                                                                                                                                                                                                                                                                                                                                                                                                                                                                                                                                                                                                                                                                                                                                                                                                                                                                                                                                                                                                                     nothing report   \n",
       "\n",
       "                                                                                                           positive_stem  \\\n",
       "review_date                                                                                                                \n",
       "2015-08-04                                                                                            hotel clean access   \n",
       "2015-08-04                                                                                    good locat breakfast great   \n",
       "2015-08-04                                                                                              nice excel hotel   \n",
       "2015-08-04                            slightli citi center easi get tram train realli love help staff clean comfort room   \n",
       "2015-08-04                                                                                        great easi reach locat   \n",
       "2015-08-04                                                                                                    good locat   \n",
       "2015-08-04                                          hotel cater cyclist realli well set asid room store bike ride london   \n",
       "2015-08-04                          staff except help welcom accommod special arrang ride london cycl event except thank   \n",
       "2015-08-04                    locat prudenti london surrey 100 cycl excel effort hotel put accommod hundr cyclist beyond   \n",
       "2015-08-04   good hotel visit pari use base good standard across hotel spectrum comfort quit room great shower good stay   \n",
       "\n",
       "                                                                                                                                                                                                                                                                                                                                                                                                                                                                                                                                                                                                                                                                                                                                                                                                                                                                                                                                                                                                                      negative_stem  \\\n",
       "review_date                                                                                                                                                                                                                                                                                                                                                                                                                                                                                                                                                                                                                                                                                                                                                                                                                                                                                                                                                                                                                           \n",
       "2015-08-04                                                                                                                                                                                                                                                                                                                                                                                                                                                                                                                                                                                                                                                                                                                                                                                                                                                                    first day swim pool open therefor could access facil finali receptionist fid clarifi would unabl move car stamp car park come therefor pay 50 one day   \n",
       "2015-08-04                                                                                                                                                                                                                                                                                                                                                                                                                                                                                                                                                                                                                                                                                                                                                                                                                                                                                                                                                                                                                            \n",
       "2015-08-04                                                                                                                                                                                                                                                                                                                                                                                                                                                                                                                                                                                                                                                                                                                                                                                                                                                                                                                                                                                                                     noth   \n",
       "2015-08-04                                                                                                                                                                                                                                                                                                                                                                                                                                                                                                                                                                                                                                                                                                                                                                                                                                                                                                                                                                                                                            \n",
       "2015-08-04                                                                                                                                                                                                                                                                                                                                                                                                                                                                                                                                                                                                                                                                                                                                                                                                                                                                                                                                                                                                                            \n",
       "2015-08-04                                                                                                                                                                                                                                                                                                                                                                                                                                                                                                                                                                                                                                                                                                                                                                                                                                                                                                                                                 need updat bed wheel meant move whenev shower bath leak hair prior guest   \n",
       "2015-08-04                                                                                                                                                                                                                                                                                                                                                                                                                                                                                                                                                                                                                                                                                                                                                                                                                                                                                                                                                                                         air condit noisi make hard sleep   \n",
       "2015-08-04                                                                                                                                                                                                                                                                                                                                                                                                                                                                                                                                                                                                                                                                                                                                                                                                                                                                                                                                                                                                                            \n",
       "2015-08-04   book tabl two restaur 7 00pm arriv request confirm told book 8 00pm accommod other insist return 7 00pm want ensur meal digest retir 4 30am wake call arriv restaur give accept tabl restaur 20 full good stori end 7 45 chase first cours small salad bowl soup arriv 5 minut later main cours simpli two bowl pasta specif cyclist menu 8 15 tabl side us given finish main cours main menu steak special dish chase staff minut later told would coupl minut 8 30 went open kitchen ask main cours would serv minut told approx 5 minut later two bowl pasta arriv unfortun incorrectli serv meat dish eat took back kitchen uncertain term advis wait hour half receiv simpl pasta dish one select apolog hundredth time given promis immedi attent sure enough pasta meal ricotta spinach pasta arriv perhap 1 minut surpris surpris bowl pasta smother cream odd touch green simpli disgust appear tast left whole experi last 2 hour get plan last piec jigsaw hope good night sleep hundr mile ride follow day   \n",
       "2015-08-04                                                                                                                                                                                                                                                                                                                                                                                                                                                                                                                                                                                                                                                                                                                                                                                                                                                                                                                                                                                                              noth report   \n",
       "\n",
       "                                                                                                                   positive_lemma  \\\n",
       "review_date                                                                                                                         \n",
       "2015-08-04                                                                                                 hotel clean accessible   \n",
       "2015-08-04                                                                                          good location breakfast great   \n",
       "2015-08-04                                                                                                   nice excellent hotel   \n",
       "2015-08-04                            slightly city center easy get tram train really lovely helpful staff clean comfortable room   \n",
       "2015-08-04                                                                                              great easy reach location   \n",
       "2015-08-04                                                                                                          good location   \n",
       "2015-08-04                                            hotel catered cyclist really well setting aside room store bike ride london   \n",
       "2015-08-04    staff exceptionally helpful welcoming accommodating special arrangement ride london cycling event exceptional thank   \n",
       "2015-08-04              location prudential london surrey 100 cycle excellent effort hotel put accommodate hundred cyclist beyond   \n",
       "2015-08-04   good hotel visiting paris use base good standard across hotel spectrum comfortable quite room great shower good stay   \n",
       "\n",
       "                                                                                                                                                                                                                                                                                                                                                                                                                                                                                                                                                                                                                                                                                                                                                                                                                                                                                                                                                                                                                                                                                                                                                            negative_lemma  \\\n",
       "review_date                                                                                                                                                                                                                                                                                                                                                                                                                                                                                                                                                                                                                                                                                                                                                                                                                                                                                                                                                                                                                                                                                                                                                                  \n",
       "2015-08-04                                                                                                                                                                                                                                                                                                                                                                                                                                                                                                                                                                                                                                                                                                                                                                                                                                                                                                                                                                                            first day swimming pool opened therefore could access facility finaly receptionist fid clarify would unable move car stamp car parking come therefore pay 50 one day   \n",
       "2015-08-04                                                                                                                                                                                                                                                                                                                                                                                                                                                                                                                                                                                                                                                                                                                                                                                                                                                                                                                                                                                                                                                                                                                                                                   \n",
       "2015-08-04                                                                                                                                                                                                                                                                                                                                                                                                                                                                                                                                                                                                                                                                                                                                                                                                                                                                                                                                                                                                                                                                                                                                                         nothing   \n",
       "2015-08-04                                                                                                                                                                                                                                                                                                                                                                                                                                                                                                                                                                                                                                                                                                                                                                                                                                                                                                                                                                                                                                                                                                                                                                   \n",
       "2015-08-04                                                                                                                                                                                                                                                                                                                                                                                                                                                                                                                                                                                                                                                                                                                                                                                                                                                                                                                                                                                                                                                                                                                                                                   \n",
       "2015-08-04                                                                                                                                                                                                                                                                                                                                                                                                                                                                                                                                                                                                                                                                                                                                                                                                                                                                                                                                                                                                                                                                                need updating bed wheel meant moved whenever shower bath leaked hair prior guest   \n",
       "2015-08-04                                                                                                                                                                                                                                                                                                                                                                                                                                                                                                                                                                                                                                                                                                                                                                                                                                                                                                                                                                                                                                                                                                                        air conditioning noisy making hard sleep   \n",
       "2015-08-04                                                                                                                                                                                                                                                                                                                                                                                                                                                                                                                                                                                                                                                                                                                                                                                                                                                                                                                                                                                                                                                                                                                                                                   \n",
       "2015-08-04   booked table two restaurant 7 00pm arrival requested confirmation told booking 8 00pm accommodate others insisted return 7 00pm wanted ensure meal digested retiring 4 30am wake call arrival restaurant give acceptable table restaurant 20 full good story end 7 45 chase first course small salad bowl soup arrived 5 minute later main course simply two bowl pasta specifically cyclist menu 8 15 table side u given finished main course main menu steak speciality dish chase staff minute later told would couple minute 8 30 went open kitchen asked main course would served minute told approx 5 minute later two bowl pasta arrived unfortunately incorrectly served meat dish eat took back kitchen uncertain term advised waited hour half received simple pasta dish one selected apology hundredth time given promised immediate attention sure enough pasta meal ricotta spinach pasta arrived perhaps 1 minute surprise surprise bowl pasta smothered cream odd touch green simply disgusting appearance taste left whole experience lasted 2 hour get planned last piece jigsaw hopefully good night sleep hundred mile ride following day   \n",
       "2015-08-04                                                                                                                                                                                                                                                                                                                                                                                                                                                                                                                                                                                                                                                                                                                                                                                                                                                                                                                                                                                                                                                                                                                                                  nothing report   \n",
       "\n",
       "             pos_sentiment_score  neg_sentiment_score  \\\n",
       "review_date                                             \n",
       "2015-08-04                0.4019              -0.1027   \n",
       "2015-08-04                0.7906               0.0000   \n",
       "2015-08-04                0.7579               0.0000   \n",
       "2015-08-04                0.9414               0.0000   \n",
       "2015-08-04                0.7964               0.0000   \n",
       "2015-08-04                0.4404              -0.3182   \n",
       "2015-08-04                0.3384              -0.2732   \n",
       "2015-08-04                0.8878               0.0000   \n",
       "2015-08-04                0.5719               0.8481   \n",
       "2015-08-04                0.9467               0.0000   \n",
       "\n",
       "             pos_lem_sentiment_score  neg_lem_sentiment_score  \n",
       "review_date                                                    \n",
       "2015-08-04                    0.4019                  -0.1027  \n",
       "2015-08-04                    0.7906                   0.0000  \n",
       "2015-08-04                    0.7579                   0.0000  \n",
       "2015-08-04                    0.9414                   0.0000  \n",
       "2015-08-04                    0.7964                   0.0000  \n",
       "2015-08-04                    0.4404                  -0.3182  \n",
       "2015-08-04                    0.3384                  -0.2732  \n",
       "2015-08-04                    0.8878                   0.0000  \n",
       "2015-08-04                    0.5719                   0.8555  \n",
       "2015-08-04                    0.9467                   0.0000  "
      ]
     },
     "execution_count": 42,
     "metadata": {},
     "output_type": "execute_result"
    }
   ],
   "source": [
    "hotel.head(10)"
   ]
  },
  {
   "cell_type": "code",
   "execution_count": null,
   "id": "36323e2f-7c2d-4fd7-b09c-96d3a2e5c46e",
   "metadata": {},
   "outputs": [],
   "source": []
  },
  {
   "cell_type": "code",
   "execution_count": 43,
   "id": "675e462f-a765-4011-a952-0d6339e6eb6a",
   "metadata": {},
   "outputs": [
    {
     "data": {
      "text/plain": [
       "Timestamp('2017-08-03 00:00:00')"
      ]
     },
     "execution_count": 43,
     "metadata": {},
     "output_type": "execute_result"
    }
   ],
   "source": [
    "hotel.index.max()"
   ]
  },
  {
   "cell_type": "code",
   "execution_count": 44,
   "id": "dfbe71e5-19b3-48b1-84c8-291fe5d76ed2",
   "metadata": {},
   "outputs": [
    {
     "data": {
      "text/plain": [
       "Timestamp('2015-08-04 00:00:00')"
      ]
     },
     "execution_count": 44,
     "metadata": {},
     "output_type": "execute_result"
    }
   ],
   "source": [
    "hotel.index.min()"
   ]
  },
  {
   "cell_type": "code",
   "execution_count": 45,
   "id": "4d011869-6400-40e7-80e6-eb70c7cce91a",
   "metadata": {},
   "outputs": [],
   "source": [
    "from nltk.corpus import stopwords\n",
    "\n",
    "stopwords = stopwords.words('english')"
   ]
  },
  {
   "cell_type": "code",
   "execution_count": 46,
   "id": "d6a5e481-5ad1-4be2-8d75-fe52a3a0121f",
   "metadata": {},
   "outputs": [],
   "source": [
    "stopwords.remove('no')"
   ]
  },
  {
   "cell_type": "code",
   "execution_count": 47,
   "id": "010444fd-7c31-4d8b-ba37-75bcb0de78e5",
   "metadata": {},
   "outputs": [
    {
     "data": {
      "text/plain": [
       "['i',\n",
       " 'me',\n",
       " 'my',\n",
       " 'myself',\n",
       " 'we',\n",
       " 'our',\n",
       " 'ours',\n",
       " 'ourselves',\n",
       " 'you',\n",
       " \"you're\",\n",
       " \"you've\",\n",
       " \"you'll\",\n",
       " \"you'd\",\n",
       " 'your',\n",
       " 'yours',\n",
       " 'yourself',\n",
       " 'yourselves',\n",
       " 'he',\n",
       " 'him',\n",
       " 'his',\n",
       " 'himself',\n",
       " 'she',\n",
       " \"she's\",\n",
       " 'her',\n",
       " 'hers',\n",
       " 'herself',\n",
       " 'it',\n",
       " \"it's\",\n",
       " 'its',\n",
       " 'itself',\n",
       " 'they',\n",
       " 'them',\n",
       " 'their',\n",
       " 'theirs',\n",
       " 'themselves',\n",
       " 'what',\n",
       " 'which',\n",
       " 'who',\n",
       " 'whom',\n",
       " 'this',\n",
       " 'that',\n",
       " \"that'll\",\n",
       " 'these',\n",
       " 'those',\n",
       " 'am',\n",
       " 'is',\n",
       " 'are',\n",
       " 'was',\n",
       " 'were',\n",
       " 'be',\n",
       " 'been',\n",
       " 'being',\n",
       " 'have',\n",
       " 'has',\n",
       " 'had',\n",
       " 'having',\n",
       " 'do',\n",
       " 'does',\n",
       " 'did',\n",
       " 'doing',\n",
       " 'a',\n",
       " 'an',\n",
       " 'the',\n",
       " 'and',\n",
       " 'but',\n",
       " 'if',\n",
       " 'or',\n",
       " 'because',\n",
       " 'as',\n",
       " 'until',\n",
       " 'while',\n",
       " 'of',\n",
       " 'at',\n",
       " 'by',\n",
       " 'for',\n",
       " 'with',\n",
       " 'about',\n",
       " 'against',\n",
       " 'between',\n",
       " 'into',\n",
       " 'through',\n",
       " 'during',\n",
       " 'before',\n",
       " 'after',\n",
       " 'above',\n",
       " 'below',\n",
       " 'to',\n",
       " 'from',\n",
       " 'up',\n",
       " 'down',\n",
       " 'in',\n",
       " 'out',\n",
       " 'on',\n",
       " 'off',\n",
       " 'over',\n",
       " 'under',\n",
       " 'again',\n",
       " 'further',\n",
       " 'then',\n",
       " 'once',\n",
       " 'here',\n",
       " 'there',\n",
       " 'when',\n",
       " 'where',\n",
       " 'why',\n",
       " 'how',\n",
       " 'all',\n",
       " 'any',\n",
       " 'both',\n",
       " 'each',\n",
       " 'few',\n",
       " 'more',\n",
       " 'most',\n",
       " 'other',\n",
       " 'some',\n",
       " 'such',\n",
       " 'nor',\n",
       " 'not',\n",
       " 'only',\n",
       " 'own',\n",
       " 'same',\n",
       " 'so',\n",
       " 'than',\n",
       " 'too',\n",
       " 'very',\n",
       " 's',\n",
       " 't',\n",
       " 'can',\n",
       " 'will',\n",
       " 'just',\n",
       " 'don',\n",
       " \"don't\",\n",
       " 'should',\n",
       " \"should've\",\n",
       " 'now',\n",
       " 'd',\n",
       " 'll',\n",
       " 'm',\n",
       " 'o',\n",
       " 're',\n",
       " 've',\n",
       " 'y',\n",
       " 'ain',\n",
       " 'aren',\n",
       " \"aren't\",\n",
       " 'couldn',\n",
       " \"couldn't\",\n",
       " 'didn',\n",
       " \"didn't\",\n",
       " 'doesn',\n",
       " \"doesn't\",\n",
       " 'hadn',\n",
       " \"hadn't\",\n",
       " 'hasn',\n",
       " \"hasn't\",\n",
       " 'haven',\n",
       " \"haven't\",\n",
       " 'isn',\n",
       " \"isn't\",\n",
       " 'ma',\n",
       " 'mightn',\n",
       " \"mightn't\",\n",
       " 'mustn',\n",
       " \"mustn't\",\n",
       " 'needn',\n",
       " \"needn't\",\n",
       " 'shan',\n",
       " \"shan't\",\n",
       " 'shouldn',\n",
       " \"shouldn't\",\n",
       " 'wasn',\n",
       " \"wasn't\",\n",
       " 'weren',\n",
       " \"weren't\",\n",
       " 'won',\n",
       " \"won't\",\n",
       " 'wouldn',\n",
       " \"wouldn't\"]"
      ]
     },
     "execution_count": 47,
     "metadata": {},
     "output_type": "execute_result"
    }
   ],
   "source": [
    "stopwords"
   ]
  },
  {
   "cell_type": "code",
   "execution_count": null,
   "id": "72f940be-6cc9-4e20-9008-f7ce6322a776",
   "metadata": {},
   "outputs": [],
   "source": []
  }
 ],
 "metadata": {
  "kernelspec": {
   "display_name": "Python 3 (ipykernel)",
   "language": "python",
   "name": "python3"
  },
  "language_info": {
   "codemirror_mode": {
    "name": "ipython",
    "version": 3
   },
   "file_extension": ".py",
   "mimetype": "text/x-python",
   "name": "python",
   "nbconvert_exporter": "python",
   "pygments_lexer": "ipython3",
   "version": "3.9.7"
  }
 },
 "nbformat": 4,
 "nbformat_minor": 5
}
