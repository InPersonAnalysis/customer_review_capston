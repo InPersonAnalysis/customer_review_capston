{
 "cells": [
  {
   "cell_type": "markdown",
   "id": "e5dae12c-bee3-4657-8351-481f38bb601d",
   "metadata": {},
   "source": [
    "# Booking.com Hotel Review NLP"
   ]
  },
  {
   "cell_type": "markdown",
   "id": "97e1abd0-325a-4423-9aa8-5f4e698f289c",
   "metadata": {},
   "source": [
    "Features by relationship\n",
    "\n",
    "Hotel\n",
    "- address\n",
    "- hotel name\n",
    "- lat\n",
    "- long\n",
    "- total_number_of_reviews\n",
    "- additional_number_of_scoring\n",
    "- average_score\n",
    "\n",
    "reviewer\n",
    "- review_nationality\n",
    "- total_number_of_reviews_reviewer_has_given\n",
    "- reviewer_score\n",
    "- tags\n",
    "\n",
    "review\n",
    "- negative_review\n",
    "- review_total_negative_word_counts\n",
    "- negative_unique_word_count\n",
    "- positive_review\n",
    "- review_total_postive_word_counts\n",
    "- positive_uniqu_word_count\n",
    "- days_since_review\n",
    "\n",
    "date\n",
    "- month\n",
    "- year\n",
    "- day_name\n",
    "- day\n",
    "- quarter"
   ]
  },
  {
   "cell_type": "code",
   "execution_count": 1,
   "id": "839c3e16-d0fb-4320-9722-111f8ad4e597",
   "metadata": {},
   "outputs": [],
   "source": [
    "import pandas as pd\n",
    "import numpy as np\n",
    "import seaborn as sns\n",
    "import matplotlib.pyplot as plt\n",
    "from datetime import datetime, timedelta\n",
    "import re\n",
    "import wrangle\n",
    "\n",
    "pd.options.display.max_colwidth = None\n",
    "pd.options.display.max_columns = None\n",
    "pd.options.display.max_rows = None"
   ]
  },
  {
   "cell_type": "markdown",
   "id": "bc75de33-59c8-478a-b160-226216034055",
   "metadata": {},
   "source": [
    "# Acquire"
   ]
  },
  {
   "cell_type": "markdown",
   "id": "2a5476d9-c540-4d98-a915-2548816ff33b",
   "metadata": {},
   "source": [
    "- How do we aquire this from the webpage programatically?"
   ]
  },
  {
   "cell_type": "code",
   "execution_count": 2,
   "id": "6668868d-61fb-420f-b26f-60d2f9a097eb",
   "metadata": {},
   "outputs": [],
   "source": [
    "hotel = pd.read_csv('Hotel_Reviews.csv')"
   ]
  },
  {
   "cell_type": "code",
   "execution_count": 3,
   "id": "03df58fa-1dbc-4fbd-ba19-799a06e61ef7",
   "metadata": {},
   "outputs": [],
   "source": [
    "hotel = wrangle.wrangle_hotel(hotel)"
   ]
  },
  {
   "cell_type": "code",
   "execution_count": 4,
   "id": "4ec8b59d-ef21-4c86-8ed7-08d01a253ea7",
   "metadata": {},
   "outputs": [
    {
     "data": {
      "text/html": [
       "<div>\n",
       "<style scoped>\n",
       "    .dataframe tbody tr th:only-of-type {\n",
       "        vertical-align: middle;\n",
       "    }\n",
       "\n",
       "    .dataframe tbody tr th {\n",
       "        vertical-align: top;\n",
       "    }\n",
       "\n",
       "    .dataframe thead th {\n",
       "        text-align: right;\n",
       "    }\n",
       "</style>\n",
       "<table border=\"1\" class=\"dataframe\">\n",
       "  <thead>\n",
       "    <tr style=\"text-align: right;\">\n",
       "      <th></th>\n",
       "      <th>hotel_address</th>\n",
       "      <th>additional_number_of_scoring</th>\n",
       "      <th>average_score</th>\n",
       "      <th>hotel_name</th>\n",
       "      <th>reviewer_nationality</th>\n",
       "      <th>negative_review</th>\n",
       "      <th>review_total_negative_word_counts</th>\n",
       "      <th>total_number_of_reviews</th>\n",
       "      <th>positive_review</th>\n",
       "      <th>review_total_positive_word_counts</th>\n",
       "      <th>total_number_of_reviews_reviewer_has_given</th>\n",
       "      <th>reviewer_score</th>\n",
       "      <th>tags</th>\n",
       "      <th>days_since_review</th>\n",
       "      <th>lat</th>\n",
       "      <th>lng</th>\n",
       "      <th>month</th>\n",
       "      <th>year</th>\n",
       "      <th>day_name</th>\n",
       "      <th>day</th>\n",
       "      <th>quarter</th>\n",
       "      <th>negative_unique_word_count</th>\n",
       "      <th>positive_unique_word_count</th>\n",
       "      <th>location</th>\n",
       "    </tr>\n",
       "    <tr>\n",
       "      <th>review_date</th>\n",
       "      <th></th>\n",
       "      <th></th>\n",
       "      <th></th>\n",
       "      <th></th>\n",
       "      <th></th>\n",
       "      <th></th>\n",
       "      <th></th>\n",
       "      <th></th>\n",
       "      <th></th>\n",
       "      <th></th>\n",
       "      <th></th>\n",
       "      <th></th>\n",
       "      <th></th>\n",
       "      <th></th>\n",
       "      <th></th>\n",
       "      <th></th>\n",
       "      <th></th>\n",
       "      <th></th>\n",
       "      <th></th>\n",
       "      <th></th>\n",
       "      <th></th>\n",
       "      <th></th>\n",
       "      <th></th>\n",
       "      <th></th>\n",
       "    </tr>\n",
       "  </thead>\n",
       "  <tbody>\n",
       "    <tr>\n",
       "      <th>2015-08-04</th>\n",
       "      <td>225 Edgware Road Westminster Borough London W2 1JU United Kingdom</td>\n",
       "      <td>1485</td>\n",
       "      <td>7.5</td>\n",
       "      <td>Hilton London Metropole</td>\n",
       "      <td>United Kingdom</td>\n",
       "      <td>First day the swimming pool was not opened therefore i could not access the facilities Finaly the receptionist fid not clarify that i would unable to move my car and did not stamp my car parking so i can come in and out Therefore i had to pay 50 for one day</td>\n",
       "      <td>54</td>\n",
       "      <td>6977</td>\n",
       "      <td>The hotel was clean and accessible</td>\n",
       "      <td>8</td>\n",
       "      <td>4</td>\n",
       "      <td>7.5</td>\n",
       "      <td>[leisure trip, group, superior queen room, stayed 2 nights, submitted from a mobile device]</td>\n",
       "      <td>730</td>\n",
       "      <td>51.519569</td>\n",
       "      <td>-0.170521</td>\n",
       "      <td>August</td>\n",
       "      <td>2015</td>\n",
       "      <td>Tuesday</td>\n",
       "      <td>4</td>\n",
       "      <td>3</td>\n",
       "      <td>39</td>\n",
       "      <td>6</td>\n",
       "      <td>United Kingdom</td>\n",
       "    </tr>\n",
       "  </tbody>\n",
       "</table>\n",
       "</div>"
      ],
      "text/plain": [
       "                                                                 hotel_address  \\\n",
       "review_date                                                                      \n",
       "2015-08-04   225 Edgware Road Westminster Borough London W2 1JU United Kingdom   \n",
       "\n",
       "             additional_number_of_scoring  average_score  \\\n",
       "review_date                                                \n",
       "2015-08-04                           1485            7.5   \n",
       "\n",
       "                          hotel_name reviewer_nationality  \\\n",
       "review_date                                                 \n",
       "2015-08-04   Hilton London Metropole      United Kingdom    \n",
       "\n",
       "                                                                                                                                                                                                                                                                 negative_review  \\\n",
       "review_date                                                                                                                                                                                                                                                                        \n",
       "2015-08-04    First day the swimming pool was not opened therefore i could not access the facilities Finaly the receptionist fid not clarify that i would unable to move my car and did not stamp my car parking so i can come in and out Therefore i had to pay 50 for one day    \n",
       "\n",
       "             review_total_negative_word_counts  total_number_of_reviews  \\\n",
       "review_date                                                               \n",
       "2015-08-04                                  54                     6977   \n",
       "\n",
       "                                  positive_review  \\\n",
       "review_date                                         \n",
       "2015-08-04    The hotel was clean and accessible    \n",
       "\n",
       "             review_total_positive_word_counts  \\\n",
       "review_date                                      \n",
       "2015-08-04                                   8   \n",
       "\n",
       "             total_number_of_reviews_reviewer_has_given  reviewer_score  \\\n",
       "review_date                                                               \n",
       "2015-08-04                                            4             7.5   \n",
       "\n",
       "                                                                                                    tags  \\\n",
       "review_date                                                                                                \n",
       "2015-08-04   [leisure trip, group, superior queen room, stayed 2 nights, submitted from a mobile device]   \n",
       "\n",
       "             days_since_review        lat       lng   month  year day_name  \\\n",
       "review_date                                                                  \n",
       "2015-08-04                 730  51.519569 -0.170521  August  2015  Tuesday   \n",
       "\n",
       "             day  quarter  negative_unique_word_count  \\\n",
       "review_date                                             \n",
       "2015-08-04     4        3                          39   \n",
       "\n",
       "             positive_unique_word_count        location  \n",
       "review_date                                              \n",
       "2015-08-04                            6  United Kingdom  "
      ]
     },
     "execution_count": 4,
     "metadata": {},
     "output_type": "execute_result"
    }
   ],
   "source": [
    "hotel.head(1)"
   ]
  },
  {
   "cell_type": "markdown",
   "id": "f62911b3-104f-4d31-b28f-f0a5303863d2",
   "metadata": {},
   "source": [
    "# Wrangle"
   ]
  },
  {
   "cell_type": "markdown",
   "id": "66092581-abd3-410a-b41b-d8bae6ab3d4d",
   "metadata": {
    "jp-MarkdownHeadingCollapsed": true,
    "tags": []
   },
   "source": [
    "### Wrangle Function"
   ]
  },
  {
   "cell_type": "code",
   "execution_count": 5,
   "id": "9af903ab-4da7-46bc-aceb-ddc6ae9829c7",
   "metadata": {},
   "outputs": [],
   "source": [
    "# def wrangle_hotel(df):\n",
    "#     '''\n",
    "#     Wrangle Start\n",
    "#     '''\n",
    "    \n",
    "#     # lower case column names\n",
    "#     df.columns = [col.lower() for col in df]\n",
    "    \n",
    "#     # Set the review date as a datetime object then set it as the index\n",
    "#     df.review_date = pd.to_datetime(df.review_date)\n",
    "#     df = df.set_index('review_date').sort_index()\n",
    "    \n",
    "#     # Create columns for date types to groupby\n",
    "#     df['month'] = df.index.month_name()\n",
    "#     df['year'] = df.index.year\n",
    "#     df['day_name'] = df.index.day_name()\n",
    "#     df['day'] = df.index.day\n",
    "#     df['quarter'] = df.index.quarter\n",
    "    \n",
    "#     # Unique word counts for positive and negative reviews\n",
    "#     df['negative_unique_word_count'] = [len(set(nr.split())) for nr in df.negative_review]\n",
    "#     df['positive_unique_word_count'] = [len(set(pr.split())) for pr in df.positive_review]\n",
    "    \n",
    "#     # remove day string and make int type\n",
    "#     df.days_since_review = [row.split()[0] for row in df.days_since_review]\n",
    "#     df.days_since_review = df.days_since_review.astype('int')\n",
    "    \n",
    "#     # Get Hotel Location\n",
    "#     df['location'] = [' '.join(col.split()[-2:]) for col in df.hotel_address]\n",
    "    \n",
    "#     # Break out tags into groups\n",
    "#     df.tags = [[tag.strip().lower() for tag in (tags.replace('\"','').replace(\"'\",\"\")\n",
    "#                                      .replace('[','') .replace(']','')\n",
    "#                                      .split(','))] for tags in df.tags]\n",
    "    \n",
    "#     return df"
   ]
  },
  {
   "cell_type": "code",
   "execution_count": 6,
   "id": "88f2aed3-4b02-411b-8580-3fb21ef4513b",
   "metadata": {},
   "outputs": [],
   "source": [
    "# lower case column names\n",
    "# hotel.columns = [col.lower() for col in hotel]"
   ]
  },
  {
   "cell_type": "code",
   "execution_count": 7,
   "id": "f317f411-4ad0-4250-9fa4-826ec53a806e",
   "metadata": {},
   "outputs": [],
   "source": [
    "# # Set the review date as a datetime object then set it as the index\n",
    "# hotel.review_date = pd.to_datetime(hotel.review_date)\n",
    "# hotel = hotel.set_index('review_date').sort_index()\n",
    "# # Create columns for date types to groupby\n",
    "# hotel['month'] = hotel.index.month_name()\n",
    "# hotel['year'] = hotel.index.year\n",
    "# hotel['day_name'] = hotel.index.day_name()\n",
    "# hotel['day'] = hotel.index.day\n",
    "# hotel['quarter'] = hotel.index.quarter"
   ]
  },
  {
   "cell_type": "code",
   "execution_count": 8,
   "id": "24812461-9c73-4a02-9e73-32b671fbbdfc",
   "metadata": {},
   "outputs": [],
   "source": [
    "# # Unique word count for first row\n",
    "# #len(set(hotel.negative_review[0].split()))\n",
    "\n",
    "# # Unique word counts for positive and negative reviews\n",
    "# hotel['negative_unique_word_count'] = [len(set(nr.split())) for nr in hotel.negative_review]\n",
    "# hotel['positive_unique_word_count'] = [len(set(pr.split())) for pr in hotel.positive_review]"
   ]
  },
  {
   "cell_type": "code",
   "execution_count": 9,
   "id": "9f364a23-6ca3-443a-8cd2-4fa712734d54",
   "metadata": {},
   "outputs": [],
   "source": [
    "# # remove day string and make int type\n",
    "# hotel.days_since_review = [row.split()[0] for row in hotel.days_since_review]\n",
    "# hotel.days_since_review = hotel.days_since_review.astype('int')"
   ]
  },
  {
   "cell_type": "code",
   "execution_count": 10,
   "id": "c61d8dc9-b003-4568-8f91-283be645c94a",
   "metadata": {},
   "outputs": [],
   "source": [
    "# # Get Hotel Location\n",
    "# hotel['location'] = [' '.join(col.split()[-2:]) for col in hotel.hotel_address]"
   ]
  },
  {
   "cell_type": "code",
   "execution_count": 11,
   "id": "d21a6cd0-3f64-4a95-815a-729c1e57146b",
   "metadata": {},
   "outputs": [],
   "source": [
    "# # Break out tags into groups\n",
    "# hotel.tags = [[tag.strip().lower() for tag in (tags.replace('\"','').replace(\"'\",\"\")\n",
    "#                                      .replace('[','') .replace(']','')\n",
    "#                                      .split(','))] for tags in hotel.tags]"
   ]
  },
  {
   "cell_type": "markdown",
   "id": "772f593c-fa4e-46ab-9d61-85d49adfce0a",
   "metadata": {},
   "source": [
    "### Address"
   ]
  },
  {
   "cell_type": "code",
   "execution_count": 12,
   "id": "95169b85-8b11-406f-b086-05000ec5de9e",
   "metadata": {},
   "outputs": [],
   "source": [
    "# We need to figure out a way to seperate out the address in to its parts.\n",
    "# Street Address\n",
    "# City\n",
    "# Zip\n",
    "# Country\n",
    "# hotel.hotel_address.value_counts()"
   ]
  },
  {
   "cell_type": "code",
   "execution_count": 13,
   "id": "f854a3fc-4ee2-40a0-a4e4-65b98739178e",
   "metadata": {},
   "outputs": [
    {
     "data": {
      "text/plain": [
       "['United', 'Kingdom']"
      ]
     },
     "execution_count": 13,
     "metadata": {},
     "output_type": "execute_result"
    }
   ],
   "source": [
    "hotel.hotel_address[0].split()[-2:]"
   ]
  },
  {
   "cell_type": "code",
   "execution_count": 14,
   "id": "bb776310-0350-4a9e-b8e3-441c71bca922",
   "metadata": {},
   "outputs": [
    {
     "data": {
      "text/plain": [
       "United Kingdom           262301\n",
       "Barcelona Spain           60149\n",
       "Paris France              59928\n",
       "Amsterdam Netherlands     57214\n",
       "Vienna Austria            38939\n",
       "Milan Italy               37207\n",
       "Name: location, dtype: int64"
      ]
     },
     "execution_count": 14,
     "metadata": {},
     "output_type": "execute_result"
    }
   ],
   "source": [
    "hotel.location.value_counts()"
   ]
  },
  {
   "cell_type": "markdown",
   "id": "5c94f8a7-54a3-42d6-8840-8e5646f8f1ec",
   "metadata": {},
   "source": [
    "### Review Lengths"
   ]
  },
  {
   "cell_type": "code",
   "execution_count": 15,
   "id": "6c5c8c91-b1a7-482f-8c83-8a51f2a93631",
   "metadata": {},
   "outputs": [
    {
     "data": {
      "text/plain": [
       "52"
      ]
     },
     "execution_count": 15,
     "metadata": {},
     "output_type": "execute_result"
    }
   ],
   "source": [
    "# Length of negative review\n",
    "len(hotel.negative_review[0].split())"
   ]
  },
  {
   "cell_type": "code",
   "execution_count": 16,
   "id": "48d0d038-eb4b-4baa-8ad4-b8422e32b1c2",
   "metadata": {},
   "outputs": [
    {
     "data": {
      "text/plain": [
       "54"
      ]
     },
     "execution_count": 16,
     "metadata": {},
     "output_type": "execute_result"
    }
   ],
   "source": [
    "# Given length of negative review seems wrong and should be investigated further\n",
    "hotel.review_total_negative_word_counts[0]"
   ]
  },
  {
   "cell_type": "markdown",
   "id": "810f393f-12ab-41d4-b7f8-74ab1f35f1e8",
   "metadata": {},
   "source": [
    "### Tags"
   ]
  },
  {
   "cell_type": "code",
   "execution_count": 17,
   "id": "3bf47629-0494-4252-b466-a830098c3f94",
   "metadata": {},
   "outputs": [
    {
     "ename": "AttributeError",
     "evalue": "'list' object has no attribute 'split'",
     "output_type": "error",
     "traceback": [
      "\u001b[0;31m---------------------------------------------------------------------------\u001b[0m",
      "\u001b[0;31mAttributeError\u001b[0m                            Traceback (most recent call last)",
      "\u001b[0;32m/var/folders/lg/ftvnw2s97_z5h66qcl3vwwf00000gn/T/ipykernel_3823/3442190609.py\u001b[0m in \u001b[0;36m<module>\u001b[0;34m\u001b[0m\n\u001b[0;32m----> 1\u001b[0;31m \u001b[0mpd\u001b[0m\u001b[0;34m.\u001b[0m\u001b[0mSeries\u001b[0m\u001b[0;34m(\u001b[0m\u001b[0;34m[\u001b[0m\u001b[0mlen\u001b[0m\u001b[0;34m(\u001b[0m\u001b[0mtags\u001b[0m\u001b[0;34m.\u001b[0m\u001b[0msplit\u001b[0m\u001b[0;34m(\u001b[0m\u001b[0;34m','\u001b[0m\u001b[0;34m)\u001b[0m\u001b[0;34m)\u001b[0m \u001b[0;32mfor\u001b[0m \u001b[0mtags\u001b[0m \u001b[0;32min\u001b[0m \u001b[0mhotel\u001b[0m\u001b[0;34m.\u001b[0m\u001b[0mtags\u001b[0m\u001b[0;34m]\u001b[0m\u001b[0;34m)\u001b[0m\u001b[0;34m.\u001b[0m\u001b[0mvalue_counts\u001b[0m\u001b[0;34m(\u001b[0m\u001b[0;34m)\u001b[0m\u001b[0;34m.\u001b[0m\u001b[0msort_index\u001b[0m\u001b[0;34m(\u001b[0m\u001b[0;34m)\u001b[0m\u001b[0;34m\u001b[0m\u001b[0;34m\u001b[0m\u001b[0m\n\u001b[0m",
      "\u001b[0;32m/var/folders/lg/ftvnw2s97_z5h66qcl3vwwf00000gn/T/ipykernel_3823/3442190609.py\u001b[0m in \u001b[0;36m<listcomp>\u001b[0;34m(.0)\u001b[0m\n\u001b[0;32m----> 1\u001b[0;31m \u001b[0mpd\u001b[0m\u001b[0;34m.\u001b[0m\u001b[0mSeries\u001b[0m\u001b[0;34m(\u001b[0m\u001b[0;34m[\u001b[0m\u001b[0mlen\u001b[0m\u001b[0;34m(\u001b[0m\u001b[0mtags\u001b[0m\u001b[0;34m.\u001b[0m\u001b[0msplit\u001b[0m\u001b[0;34m(\u001b[0m\u001b[0;34m','\u001b[0m\u001b[0;34m)\u001b[0m\u001b[0;34m)\u001b[0m \u001b[0;32mfor\u001b[0m \u001b[0mtags\u001b[0m \u001b[0;32min\u001b[0m \u001b[0mhotel\u001b[0m\u001b[0;34m.\u001b[0m\u001b[0mtags\u001b[0m\u001b[0;34m]\u001b[0m\u001b[0;34m)\u001b[0m\u001b[0;34m.\u001b[0m\u001b[0mvalue_counts\u001b[0m\u001b[0;34m(\u001b[0m\u001b[0;34m)\u001b[0m\u001b[0;34m.\u001b[0m\u001b[0msort_index\u001b[0m\u001b[0;34m(\u001b[0m\u001b[0;34m)\u001b[0m\u001b[0;34m\u001b[0m\u001b[0;34m\u001b[0m\u001b[0m\n\u001b[0m",
      "\u001b[0;31mAttributeError\u001b[0m: 'list' object has no attribute 'split'"
     ]
    }
   ],
   "source": [
    "pd.Series([len(tags.split(',')) for tags in hotel.tags]).value_counts().sort_index()"
   ]
  },
  {
   "cell_type": "code",
   "execution_count": null,
   "id": "3e1e11f3-108b-4e8d-887c-cc05d9fde28f",
   "metadata": {},
   "outputs": [],
   "source": [
    "hotel.tags[0][0]"
   ]
  },
  {
   "cell_type": "code",
   "execution_count": null,
   "id": "9277ce76-ea08-472e-973e-015fc51e60b0",
   "metadata": {},
   "outputs": [],
   "source": [
    "# [tag for tag in hotel.tags if len(tag) == 6]\n",
    "# [tag for tag in hotel.tags if len(tag) == 5]\n",
    "# [tag for tag in hotel.tags if len(tag) == 4]\n",
    "# [tag for tag in hotel.tags if len(tag) == 3]\n",
    "# [tag for tag in hotel.tags if len(tag) == 2]\n",
    "# [tag for tag in hotel.tags if len(tag) == 1]"
   ]
  },
  {
   "cell_type": "code",
   "execution_count": null,
   "id": "9a3151f3-9d14-41ca-95a8-44ca8b12574f",
   "metadata": {},
   "outputs": [],
   "source": []
  },
  {
   "cell_type": "code",
   "execution_count": null,
   "id": "e5d5f67c-d73b-4c2f-8041-dc9db9b841a6",
   "metadata": {},
   "outputs": [],
   "source": []
  },
  {
   "cell_type": "code",
   "execution_count": null,
   "id": "f65c822d-0583-4059-bb42-71e07154cd5e",
   "metadata": {},
   "outputs": [],
   "source": []
  },
  {
   "cell_type": "code",
   "execution_count": null,
   "id": "37436586-b76e-4d14-98e8-05228a7cab51",
   "metadata": {},
   "outputs": [],
   "source": [
    "hotel.head(1)"
   ]
  },
  {
   "cell_type": "markdown",
   "id": "54cc6291-5c08-4f0a-a8f0-b9ddf5d132f5",
   "metadata": {},
   "source": [
    "# Explore"
   ]
  },
  {
   "cell_type": "code",
   "execution_count": null,
   "id": "95bdf1c2-7458-4e6b-b4ec-663d9ba0fa91",
   "metadata": {},
   "outputs": [],
   "source": [
    "hotel.describe()"
   ]
  },
  {
   "cell_type": "code",
   "execution_count": null,
   "id": "4ac5835f-3c71-4b88-8953-39c3a60b58d1",
   "metadata": {},
   "outputs": [],
   "source": [
    "hotel.info()"
   ]
  },
  {
   "cell_type": "markdown",
   "id": "685999a0-03c9-4f53-9ce3-e37c82385fef",
   "metadata": {},
   "source": [
    "## Univariate"
   ]
  },
  {
   "cell_type": "markdown",
   "id": "c8b7aa1a-1ca7-401c-bcc6-101ed2da5020",
   "metadata": {},
   "source": [
    "### Mising Values"
   ]
  },
  {
   "cell_type": "code",
   "execution_count": null,
   "id": "b9466ca7-29bf-43f0-b10c-2de17ffdf89a",
   "metadata": {},
   "outputs": [],
   "source": [
    "# print nulls per row\n",
    "[print(f'{col}:{hotel[col].isnull().sum()}') for col in  hotel.columns] # How to format better"
   ]
  },
  {
   "cell_type": "markdown",
   "id": "4919a437-e0e3-4011-a7dc-a2600ae39f47",
   "metadata": {},
   "source": [
    "### No valid review"
   ]
  },
  {
   "cell_type": "code",
   "execution_count": null,
   "id": "11293ef8-ca8f-4175-9d0f-fbe4528b887e",
   "metadata": {},
   "outputs": [],
   "source": [
    "hotel.negative_review[2]"
   ]
  },
  {
   "cell_type": "code",
   "execution_count": null,
   "id": "6eb244c3-fe34-4be6-913e-7a1bea9b236a",
   "metadata": {},
   "outputs": [],
   "source": [
    "(hotel.positive_review == 'No Positive').mean()"
   ]
  },
  {
   "cell_type": "code",
   "execution_count": null,
   "id": "b39799a0-41e8-45a6-a7a8-ecb0cabcd38e",
   "metadata": {},
   "outputs": [],
   "source": [
    "(hotel.positive_review == ' Nothing').mean()"
   ]
  },
  {
   "cell_type": "code",
   "execution_count": null,
   "id": "86b70bda-5373-40ad-8670-9fa54c01e08e",
   "metadata": {},
   "outputs": [],
   "source": [
    "(hotel.negative_review == 'No Negative').mean()"
   ]
  },
  {
   "cell_type": "code",
   "execution_count": null,
   "id": "9c44d531-d78d-4922-a4d9-0eed34bb4f84",
   "metadata": {},
   "outputs": [],
   "source": [
    "(hotel.negative_review == ' Nothing').mean()"
   ]
  },
  {
   "cell_type": "code",
   "execution_count": null,
   "id": "ce185db0-274c-4f89-b602-16a4c8aa35f2",
   "metadata": {},
   "outputs": [],
   "source": [
    "# Unique Values per column\n",
    "# for col in hotel.columns:\n",
    "#     print(f'{col} Counts:{hotel[col].nunique()}')"
   ]
  },
  {
   "cell_type": "code",
   "execution_count": null,
   "id": "ade32776-e930-4e12-9a97-bf7cb6c7b1c0",
   "metadata": {},
   "outputs": [],
   "source": []
  },
  {
   "cell_type": "code",
   "execution_count": null,
   "id": "91df95ed-f26a-458f-afa1-a6f4ee99094c",
   "metadata": {},
   "outputs": [],
   "source": []
  }
 ],
 "metadata": {
  "kernelspec": {
   "display_name": "Python 3 (ipykernel)",
   "language": "python",
   "name": "python3"
  },
  "language_info": {
   "codemirror_mode": {
    "name": "ipython",
    "version": 3
   },
   "file_extension": ".py",
   "mimetype": "text/x-python",
   "name": "python",
   "nbconvert_exporter": "python",
   "pygments_lexer": "ipython3",
   "version": "3.9.7"
  }
 },
 "nbformat": 4,
 "nbformat_minor": 5
}
