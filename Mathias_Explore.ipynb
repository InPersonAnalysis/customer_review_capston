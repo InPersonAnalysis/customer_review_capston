{
 "cells": [
  {
   "cell_type": "markdown",
   "id": "e5dae12c-bee3-4657-8351-481f38bb601d",
   "metadata": {
    "jp-MarkdownHeadingCollapsed": true,
    "tags": []
   },
   "source": [
    "# Booking.com Hotel Review NLP"
   ]
  },
  {
   "cell_type": "markdown",
   "id": "97e1abd0-325a-4423-9aa8-5f4e698f289c",
   "metadata": {},
   "source": [
    "Features by relationship\n",
    "\n",
    "Hotel\n",
    "- address\n",
    "- hotel name\n",
    "- lat\n",
    "- long\n",
    "- total_number_of_reviews\n",
    "- additional_number_of_scoring\n",
    "- average_score\n",
    "\n",
    "reviewer\n",
    "- review_nationality\n",
    "- total_number_of_reviews_reviewer_has_given\n",
    "- reviewer_score\n",
    "- tags\n",
    "\n",
    "review\n",
    "- negative_review\n",
    "- review_total_negative_word_counts\n",
    "- negative_unique_word_count\n",
    "- positive_review\n",
    "- review_total_postive_word_counts\n",
    "- positive_uniqu_word_count\n",
    "- days_since_review\n",
    "\n",
    "date\n",
    "- month\n",
    "- year\n",
    "- day_name\n",
    "- day\n",
    "- quarter"
   ]
  },
  {
   "cell_type": "code",
   "execution_count": 1,
   "id": "839c3e16-d0fb-4320-9722-111f8ad4e597",
   "metadata": {},
   "outputs": [],
   "source": [
    "import pandas as pd\n",
    "import numpy as np\n",
    "import seaborn as sns\n",
    "import matplotlib.pyplot as plt\n",
    "from datetime import datetime, timedelta\n",
    "import re\n",
    "import wrangle\n",
    "\n",
    "pd.options.display.max_colwidth = None\n",
    "pd.options.display.max_columns = None\n",
    "pd.options.display.max_rows = None"
   ]
  },
  {
   "cell_type": "markdown",
   "id": "bc75de33-59c8-478a-b160-226216034055",
   "metadata": {
    "tags": []
   },
   "source": [
    "# Acquire"
   ]
  },
  {
   "cell_type": "markdown",
   "id": "2a5476d9-c540-4d98-a915-2548816ff33b",
   "metadata": {},
   "source": [
    "- How do we aquire this from the webpage programatically?"
   ]
  },
  {
   "cell_type": "code",
   "execution_count": 2,
   "id": "6668868d-61fb-420f-b26f-60d2f9a097eb",
   "metadata": {},
   "outputs": [],
   "source": [
    "hotel = pd.read_csv('Hotel_Reviews.csv')"
   ]
  },
  {
   "cell_type": "code",
   "execution_count": 3,
   "id": "03df58fa-1dbc-4fbd-ba19-799a06e61ef7",
   "metadata": {},
   "outputs": [],
   "source": [
    "hotel = wrangle.wrangle_hotel(hotel)"
   ]
  },
  {
   "cell_type": "code",
   "execution_count": 4,
   "id": "4ec8b59d-ef21-4c86-8ed7-08d01a253ea7",
   "metadata": {},
   "outputs": [],
   "source": [
    "#hotel = wrangle.nlp_clean(hotel)"
   ]
  },
  {
   "cell_type": "markdown",
   "id": "f62911b3-104f-4d31-b28f-f0a5303863d2",
   "metadata": {
    "jp-MarkdownHeadingCollapsed": true,
    "tags": []
   },
   "source": [
    "# Wrangle"
   ]
  },
  {
   "cell_type": "markdown",
   "id": "66092581-abd3-410a-b41b-d8bae6ab3d4d",
   "metadata": {
    "jp-MarkdownHeadingCollapsed": true,
    "tags": []
   },
   "source": [
    "### Wrangle Function"
   ]
  },
  {
   "cell_type": "code",
   "execution_count": 5,
   "id": "9af903ab-4da7-46bc-aceb-ddc6ae9829c7",
   "metadata": {},
   "outputs": [],
   "source": [
    "# def wrangle_hotel(df):\n",
    "#     '''\n",
    "#     Wrangle Start\n",
    "#     '''\n",
    "    \n",
    "#     # lower case column names\n",
    "#     df.columns = [col.lower() for col in df]\n",
    "    \n",
    "#     # Set the review date as a datetime object then set it as the index\n",
    "#     df.review_date = pd.to_datetime(df.review_date)\n",
    "#     df = df.set_index('review_date').sort_index()\n",
    "    \n",
    "#     # Create columns for date types to groupby\n",
    "#     df['month'] = df.index.month_name()\n",
    "#     df['year'] = df.index.year\n",
    "#     df['day_name'] = df.index.day_name()\n",
    "#     df['day'] = df.index.day\n",
    "#     df['quarter'] = df.index.quarter\n",
    "    \n",
    "#     # Unique word counts for positive and negative reviews\n",
    "#     df['negative_unique_word_count'] = [len(set(nr.split())) for nr in df.negative_review]\n",
    "#     df['positive_unique_word_count'] = [len(set(pr.split())) for pr in df.positive_review]\n",
    "    \n",
    "#     # remove day string and make int type\n",
    "#     df.days_since_review = [row.split()[0] for row in df.days_since_review]\n",
    "#     df.days_since_review = df.days_since_review.astype('int')\n",
    "    \n",
    "#     street = []\n",
    "#     city = []\n",
    "#     zip_code = []\n",
    "#     country = []\n",
    "\n",
    "#     for address in hotel.hotel_address:\n",
    "\n",
    "#         if address.split()[-1] in ['France','Netherlands','Italy']:\n",
    "\n",
    "#             street.append(' '.join(address.split()[:-4]))\n",
    "#             zip_code.append(' '.join(address.split()[-4:-2]))\n",
    "#             city.append(' '.join(address.split()[-2:-1]))\n",
    "#             country.append(' '.join(address.split()[-1:]))\n",
    "\n",
    "#         elif address.split()[-1] in ['Spain','Austria']:\n",
    "\n",
    "#             street.append(' '.join(address.split()[:-3]))\n",
    "#             zip_code.append(' '.join(address.split()[-3:-2]))\n",
    "#             city.append(' '.join(address.split()[-2:-1]))\n",
    "#             country.append(' '.join(address.split()[-1:]))\n",
    "\n",
    "#         else:\n",
    "#             if address.split()[-6]\n",
    "#             street.append(' '.join(address.split()[:-5]))\n",
    "#             city.append(' '.join(address.split()[-5:-4]))\n",
    "#             zip_code.append(' '.join(address.split()[-4:-2]))\n",
    "#             country.append(' '.join(address.split()[-2:]))\n",
    "\n",
    "#     hotel['street'] = street\n",
    "#     hotel['city'] = city\n",
    "#     hotel['zip_code'] = zip_code\n",
    "#     hotel['country'] = country\n",
    "    \n",
    "#     # Break out tags into groups\n",
    "#     df.tags = [[tag.strip().lower() for tag in (tags.replace('\"','').replace(\"'\",\"\")\n",
    "#                                      .replace('[','') .replace(']','')\n",
    "#                                      .split(','))] for tags in df.tags]\n",
    "    \n",
    "#     return df"
   ]
  },
  {
   "cell_type": "code",
   "execution_count": 6,
   "id": "88f2aed3-4b02-411b-8580-3fb21ef4513b",
   "metadata": {},
   "outputs": [],
   "source": [
    "# lower case column names\n",
    "# hotel.columns = [col.lower() for col in hotel]"
   ]
  },
  {
   "cell_type": "code",
   "execution_count": 7,
   "id": "f317f411-4ad0-4250-9fa4-826ec53a806e",
   "metadata": {},
   "outputs": [],
   "source": [
    "# # Set the review date as a datetime object then set it as the index\n",
    "# hotel.review_date = pd.to_datetime(hotel.review_date)\n",
    "# hotel = hotel.set_index('review_date').sort_index()\n",
    "# # Create columns for date types to groupby\n",
    "# hotel['month'] = hotel.index.month_name()\n",
    "# hotel['year'] = hotel.index.year\n",
    "# hotel['day_name'] = hotel.index.day_name()\n",
    "# hotel['day'] = hotel.index.day\n",
    "# hotel['quarter'] = hotel.index.quarter"
   ]
  },
  {
   "cell_type": "code",
   "execution_count": 8,
   "id": "24812461-9c73-4a02-9e73-32b671fbbdfc",
   "metadata": {},
   "outputs": [],
   "source": [
    "# # Unique word count for first row\n",
    "# #len(set(hotel.negative_review[0].split()))\n",
    "\n",
    "# # Unique word counts for positive and negative reviews\n",
    "# hotel['negative_unique_word_count'] = [len(set(nr.split())) for nr in hotel.negative_review]\n",
    "# hotel['positive_unique_word_count'] = [len(set(pr.split())) for pr in hotel.positive_review]"
   ]
  },
  {
   "cell_type": "code",
   "execution_count": 9,
   "id": "9f364a23-6ca3-443a-8cd2-4fa712734d54",
   "metadata": {},
   "outputs": [],
   "source": [
    "# # remove day string and make int type\n",
    "# hotel.days_since_review = [row.split()[0] for row in hotel.days_since_review]\n",
    "# hotel.days_since_review = hotel.days_since_review.astype('int')"
   ]
  },
  {
   "cell_type": "code",
   "execution_count": 10,
   "id": "c61d8dc9-b003-4568-8f91-283be645c94a",
   "metadata": {},
   "outputs": [],
   "source": [
    "# # Get Hotel Location\n",
    "# hotel['location'] = [' '.join(col.split()[-2:]) for col in hotel.hotel_address]"
   ]
  },
  {
   "cell_type": "code",
   "execution_count": 11,
   "id": "d21a6cd0-3f64-4a95-815a-729c1e57146b",
   "metadata": {},
   "outputs": [],
   "source": [
    "# # Break out tags into groups\n",
    "# hotel.tags = [[tag.strip().lower() for tag in (tags.replace('\"','').replace(\"'\",\"\")\n",
    "#                                      .replace('[','') .replace(']','')\n",
    "#                                      .split(','))] for tags in hotel.tags]"
   ]
  },
  {
   "cell_type": "code",
   "execution_count": 12,
   "id": "8d900c11-f82c-4451-9e54-4b8b84b3864e",
   "metadata": {},
   "outputs": [],
   "source": [
    "# street = []\n",
    "# city = []\n",
    "# zip_code = []\n",
    "# country = []\n",
    "\n",
    "# for address in hotel.hotel_address:\n",
    "    \n",
    "#     if address.split()[-1] in ['France','Netherlands','Italy']:\n",
    "        \n",
    "#         street.append(' '.join(address.split()[:-4]))\n",
    "#         zip_code.append(' '.join(address.split()[-4:-2]))\n",
    "#         city.append(' '.join(address.split()[-2:-1]))\n",
    "#         country.append(' '.join(address.split()[-1:]))\n",
    "    \n",
    "#     elif address.split()[-1] in ['Spain','Austria']:\n",
    "        \n",
    "#         street.append(' '.join(address.split()[:-3]))\n",
    "#         zip_code.append(' '.join(address.split()[-3:-2]))\n",
    "#         city.append(' '.join(address.split()[-2:-1]))\n",
    "#         country.append(' '.join(address.split()[-1:]))\n",
    "    \n",
    "#     else:\n",
    "#         if address.split()[-6]\n",
    "#         street.append(' '.join(address.split()[:-5]))\n",
    "#         city.append(' '.join(address.split()[-5:-4]))\n",
    "#         zip_code.append(' '.join(address.split()[-4:-2]))\n",
    "#         country.append(' '.join(address.split()[-2:]))\n",
    "\n",
    "# hotel['street'] = street\n",
    "# hotel['city'] = city\n",
    "# hotel['zip_code'] = zip_code\n",
    "# hotel['country'] = country"
   ]
  },
  {
   "cell_type": "markdown",
   "id": "772f593c-fa4e-46ab-9d61-85d49adfce0a",
   "metadata": {
    "jp-MarkdownHeadingCollapsed": true,
    "tags": []
   },
   "source": [
    "### Address"
   ]
  },
  {
   "cell_type": "code",
   "execution_count": 13,
   "id": "95169b85-8b11-406f-b086-05000ec5de9e",
   "metadata": {},
   "outputs": [],
   "source": [
    "# We need to figure out a way to seperate out the address in to its parts.\n",
    "# Street Address\n",
    "# City\n",
    "# Zip\n",
    "# Country\n",
    "# hotel.hotel_address.value_counts()"
   ]
  },
  {
   "cell_type": "code",
   "execution_count": 14,
   "id": "93a69262-afa5-49da-86e8-1e883c286307",
   "metadata": {},
   "outputs": [],
   "source": [
    "# [len(hotel) for hotel in hotel.hotel_address]"
   ]
  },
  {
   "cell_type": "code",
   "execution_count": 15,
   "id": "f854a3fc-4ee2-40a0-a4e4-65b98739178e",
   "metadata": {},
   "outputs": [],
   "source": [
    "## Breakup into 5 Stages\n",
    "# 399 Addresses\n",
    "# pd.DataFrame(hotel.hotel_address[hotel.hotel_address.str.endswith('United Kingdom')])#.hotel_address.value_counts().size\n",
    "\n",
    "## Breakup into four stages\n",
    "# 105 Addresses\n",
    "# pd.DataFrame(hotel.hotel_address[hotel.hotel_address.str.endswith('Netherlands')])#.hotel_address.value_counts().size\n",
    "# 458 Addresses\n",
    "# pd.DataFrame(hotel.hotel_address[hotel.hotel_address.str.endswith('France')]).hotel_address.value_counts().size\n",
    "\n",
    "# 211 Addresses\n",
    "# pd.DataFrame(hotel.hotel_address[hotel.hotel_address.str.endswith('Spain')])#.hotel_address.value_counts().size\n",
    "# 158 Addresses\n",
    "# pd.DataFrame(hotel.hotel_address[hotel.hotel_address.str.endswith('Austria')]).hotel_address.value_counts().size\n",
    "# 162 Addresses\n",
    "# pd.DataFrame(hotel.hotel_address[hotel.hotel_address.str.endswith('Italy')]).hotel_address.value_counts().size"
   ]
  },
  {
   "cell_type": "code",
   "execution_count": 16,
   "id": "d1a6c7f4-e3fc-4009-baf1-07259b4550a7",
   "metadata": {},
   "outputs": [],
   "source": [
    "#[col.split()[-6:] for col in hotel.hotel_address]"
   ]
  },
  {
   "cell_type": "code",
   "execution_count": 17,
   "id": "77b9989c-fe2f-4693-8512-4b1f0df42477",
   "metadata": {},
   "outputs": [],
   "source": [
    "# hotel.hotel_address[hotel.hotel_address.str.endswith('Austria')]"
   ]
  },
  {
   "cell_type": "code",
   "execution_count": 18,
   "id": "bb776310-0350-4a9e-b8e3-441c71bca922",
   "metadata": {},
   "outputs": [
    {
     "data": {
      "text/plain": [
       "city     \n",
       "Amsterdam     57214\n",
       "Barcelona     60149\n",
       "London       262301\n",
       "Milan         37207\n",
       "Paris         59928\n",
       "Vienna        38939\n",
       "dtype: int64"
      ]
     },
     "execution_count": 18,
     "metadata": {},
     "output_type": "execute_result"
    }
   ],
   "source": [
    "hotel[['city']].value_counts().sort_index()"
   ]
  },
  {
   "cell_type": "code",
   "execution_count": 19,
   "id": "b84379ae-d74a-4061-9566-4da6550210b9",
   "metadata": {},
   "outputs": [],
   "source": [
    "#pd.DataFrame([bourough.split()[:-4] for bourough in hotel.hotel_address[hotel.city == 'London']]).value_counts(dropna=False)"
   ]
  },
  {
   "cell_type": "code",
   "execution_count": 20,
   "id": "b192437d-cf97-4bdb-92f2-c7f6954fd0c6",
   "metadata": {},
   "outputs": [],
   "source": [
    "# pd.DataFrame([bourough.split()[:-5] for bourough in hotel.hotel_address[hotel.city == 'Barcelona']]).value_counts()"
   ]
  },
  {
   "cell_type": "code",
   "execution_count": 21,
   "id": "dd44e2f9-6e73-47c6-918a-9d2f93060852",
   "metadata": {},
   "outputs": [],
   "source": [
    "# pd.DataFrame([bourough.split()[:-5] for bourough in hotel.hotel_address[hotel.city == 'Paris']]).value_counts()"
   ]
  },
  {
   "cell_type": "code",
   "execution_count": 22,
   "id": "4fc55836-f896-40d4-b3ba-0b35e66110e1",
   "metadata": {},
   "outputs": [],
   "source": [
    "# pd.DataFrame([bourough.split()[:-5] for bourough in hotel.hotel_address[hotel.city == 'Amsterdam']]).value_counts()"
   ]
  },
  {
   "cell_type": "code",
   "execution_count": 23,
   "id": "1d2c5b4f-015b-4bef-ad5e-93caf2f9815e",
   "metadata": {},
   "outputs": [],
   "source": [
    "# pd.DataFrame([bourough.split()[:-5] for bourough in hotel.hotel_address[hotel.city == 'Vienna']]).value_counts()"
   ]
  },
  {
   "cell_type": "code",
   "execution_count": 24,
   "id": "b218c2ce-44b9-4022-8cf4-6efe34f99660",
   "metadata": {},
   "outputs": [],
   "source": [
    "# pd.DataFrame([bourough.split()[:-5] for bourough in hotel.hotel_address[hotel.city == 'Milan']]).value_counts()"
   ]
  },
  {
   "cell_type": "code",
   "execution_count": 25,
   "id": "4deafaab-514e-404f-84b3-88ec85aedaef",
   "metadata": {},
   "outputs": [],
   "source": [
    "# hotel[['city','zip_code']].value_counts().sort_index()"
   ]
  },
  {
   "cell_type": "markdown",
   "id": "5c94f8a7-54a3-42d6-8840-8e5646f8f1ec",
   "metadata": {
    "tags": []
   },
   "source": [
    "### Review Lengths"
   ]
  },
  {
   "cell_type": "code",
   "execution_count": 26,
   "id": "6c5c8c91-b1a7-482f-8c83-8a51f2a93631",
   "metadata": {},
   "outputs": [
    {
     "data": {
      "text/plain": [
       "52"
      ]
     },
     "execution_count": 26,
     "metadata": {},
     "output_type": "execute_result"
    }
   ],
   "source": [
    "# Length of negative review\n",
    "len(hotel.negative_review[0].split())"
   ]
  },
  {
   "cell_type": "code",
   "execution_count": 27,
   "id": "48d0d038-eb4b-4baa-8ad4-b8422e32b1c2",
   "metadata": {},
   "outputs": [
    {
     "data": {
      "text/plain": [
       "54"
      ]
     },
     "execution_count": 27,
     "metadata": {},
     "output_type": "execute_result"
    }
   ],
   "source": [
    "# Given length of negative review seems wrong and should be investigated further\n",
    "hotel.review_total_negative_word_counts[0]"
   ]
  },
  {
   "cell_type": "markdown",
   "id": "810f393f-12ab-41d4-b7f8-74ab1f35f1e8",
   "metadata": {
    "jp-MarkdownHeadingCollapsed": true,
    "tags": []
   },
   "source": [
    "### Tags"
   ]
  },
  {
   "cell_type": "code",
   "execution_count": 28,
   "id": "3bf47629-0494-4252-b466-a830098c3f94",
   "metadata": {},
   "outputs": [],
   "source": [
    "# pd.Series([len(tags.split(',')) for tags in hotel.tags]).value_counts().sort_index()"
   ]
  },
  {
   "cell_type": "code",
   "execution_count": 29,
   "id": "3e1e11f3-108b-4e8d-887c-cc05d9fde28f",
   "metadata": {},
   "outputs": [],
   "source": [
    "# hotel.tags[0][0]"
   ]
  },
  {
   "cell_type": "code",
   "execution_count": 30,
   "id": "35159763-1116-4246-9963-097eb92af81c",
   "metadata": {},
   "outputs": [],
   "source": [
    "#[tags for tags in hotel.tags]"
   ]
  },
  {
   "cell_type": "code",
   "execution_count": 31,
   "id": "9277ce76-ea08-472e-973e-015fc51e60b0",
   "metadata": {},
   "outputs": [],
   "source": [
    "# [tag[1] for tag in hotel.tags if len(tag) == 6]\n",
    "# len([tag for tag in hotel.tags if len(tag) == 5])\n",
    "# len([tag for tag in hotel.tags if len(tag) == 4])\n",
    "# len([tag for tag in hotel.tags if len(tag) == 3])\n",
    "# len([tag for tag in hotel.tags if len(tag) == 2])\n",
    "# len([tag for tag in hotel.tags if len(tag) == 1])"
   ]
  },
  {
   "cell_type": "markdown",
   "id": "54cc6291-5c08-4f0a-a8f0-b9ddf5d132f5",
   "metadata": {
    "tags": []
   },
   "source": [
    "# Explore"
   ]
  },
  {
   "cell_type": "code",
   "execution_count": 32,
   "id": "37436586-b76e-4d14-98e8-05228a7cab51",
   "metadata": {},
   "outputs": [],
   "source": [
    "# hotel.head(1)"
   ]
  },
  {
   "cell_type": "code",
   "execution_count": 33,
   "id": "95bdf1c2-7458-4e6b-b4ec-663d9ba0fa91",
   "metadata": {},
   "outputs": [],
   "source": [
    "# hotel.describe()"
   ]
  },
  {
   "cell_type": "code",
   "execution_count": 34,
   "id": "4ac5835f-3c71-4b88-8953-39c3a60b58d1",
   "metadata": {},
   "outputs": [
    {
     "name": "stdout",
     "output_type": "stream",
     "text": [
      "<class 'pandas.core.frame.DataFrame'>\n",
      "DatetimeIndex: 515738 entries, 2015-08-04 to 2017-08-03\n",
      "Data columns (total 38 columns):\n",
      " #   Column                                      Non-Null Count   Dtype  \n",
      "---  ------                                      --------------   -----  \n",
      " 0   month                                       515738 non-null  object \n",
      " 1   year                                        515738 non-null  int64  \n",
      " 2   day_name                                    515738 non-null  object \n",
      " 3   day                                         515738 non-null  int64  \n",
      " 4   quarter                                     515738 non-null  int64  \n",
      " 5   hotel_name                                  515738 non-null  object \n",
      " 6   street                                      515738 non-null  object \n",
      " 7   city                                        515738 non-null  object \n",
      " 8   zip_code                                    515738 non-null  object \n",
      " 9   country                                     515738 non-null  object \n",
      " 10  lat                                         512470 non-null  float64\n",
      " 11  lng                                         512470 non-null  float64\n",
      " 12  additional_number_of_scoring                515738 non-null  int64  \n",
      " 13  average_score                               515738 non-null  float64\n",
      " 14  total_number_of_reviews                     515738 non-null  int64  \n",
      " 15  reviewer_nationality                        515738 non-null  object \n",
      " 16  trip_type                                   515738 non-null  object \n",
      " 17  nights_stayed                               515546 non-null  object \n",
      " 18  group_type                                  515738 non-null  object \n",
      " 19  total_number_of_reviews_reviewer_has_given  515738 non-null  int64  \n",
      " 20  reviewer_score                              515738 non-null  float64\n",
      " 21  days_since_review                           515738 non-null  int64  \n",
      " 22  neg_sentiment_score                         515738 non-null  float64\n",
      " 23  neg_lem_sentiment_score                     515738 non-null  float64\n",
      " 24  review_total_negative_word_counts           515738 non-null  int64  \n",
      " 25  negative_unique_word_count                  515738 non-null  int64  \n",
      " 26  pos_sentiment_score                         515738 non-null  float64\n",
      " 27  review_total_positive_word_counts           515738 non-null  int64  \n",
      " 28  positive_unique_word_count                  515738 non-null  int64  \n",
      " 29  pos_lem_sentiment_score                     515738 non-null  float64\n",
      " 30  negative_review                             515738 non-null  object \n",
      " 31  negative_clean_review                       515738 non-null  object \n",
      " 32  negative_stem                               515738 non-null  object \n",
      " 33  negative_lemma                              515738 non-null  object \n",
      " 34  positive_review                             515738 non-null  object \n",
      " 35  positive_clean_review                       515738 non-null  object \n",
      " 36  positive_stem                               515738 non-null  object \n",
      " 37  positive_lemma                              515738 non-null  object \n",
      "dtypes: float64(8), int64(11), object(19)\n",
      "memory usage: 153.5+ MB\n"
     ]
    }
   ],
   "source": [
    "hotel.info()"
   ]
  },
  {
   "cell_type": "markdown",
   "id": "c8b7aa1a-1ca7-401c-bcc6-101ed2da5020",
   "metadata": {
    "jp-MarkdownHeadingCollapsed": true,
    "tags": []
   },
   "source": [
    "## Mising Values"
   ]
  },
  {
   "cell_type": "code",
   "execution_count": 35,
   "id": "b9466ca7-29bf-43f0-b10c-2de17ffdf89a",
   "metadata": {},
   "outputs": [],
   "source": [
    "# print nulls per row\n",
    "# [print(f'{col}:{hotel[col].isnull().sum()}') for col in  hotel.columns] # How to format better"
   ]
  },
  {
   "cell_type": "markdown",
   "id": "4919a437-e0e3-4011-a7dc-a2600ae39f47",
   "metadata": {
    "tags": []
   },
   "source": [
    "### No valid review"
   ]
  },
  {
   "cell_type": "code",
   "execution_count": 36,
   "id": "11293ef8-ca8f-4175-9d0f-fbe4528b887e",
   "metadata": {},
   "outputs": [
    {
     "data": {
      "text/plain": [
       "' Nothing'"
      ]
     },
     "execution_count": 36,
     "metadata": {},
     "output_type": "execute_result"
    }
   ],
   "source": [
    "hotel.negative_review[2]"
   ]
  },
  {
   "cell_type": "code",
   "execution_count": 37,
   "id": "6eb244c3-fe34-4be6-913e-7a1bea9b236a",
   "metadata": {},
   "outputs": [
    {
     "data": {
      "text/plain": [
       "0.0"
      ]
     },
     "execution_count": 37,
     "metadata": {},
     "output_type": "execute_result"
    }
   ],
   "source": [
    "(hotel.positive_review == 'No Positive').mean()"
   ]
  },
  {
   "cell_type": "code",
   "execution_count": 38,
   "id": "b39799a0-41e8-45a6-a7a8-ecb0cabcd38e",
   "metadata": {},
   "outputs": [
    {
     "data": {
      "text/plain": [
       "0.002410138481166794"
      ]
     },
     "execution_count": 38,
     "metadata": {},
     "output_type": "execute_result"
    }
   ],
   "source": [
    "(hotel.positive_review == ' Nothing').mean()"
   ]
  },
  {
   "cell_type": "code",
   "execution_count": 39,
   "id": "86b70bda-5373-40ad-8670-9fa54c01e08e",
   "metadata": {},
   "outputs": [
    {
     "data": {
      "text/plain": [
       "0.0"
      ]
     },
     "execution_count": 39,
     "metadata": {},
     "output_type": "execute_result"
    }
   ],
   "source": [
    "(hotel.negative_review == 'No Negative').mean()"
   ]
  },
  {
   "cell_type": "code",
   "execution_count": 40,
   "id": "9c44d531-d78d-4922-a4d9-0eed34bb4f84",
   "metadata": {},
   "outputs": [
    {
     "data": {
      "text/plain": [
       "0.02771756201792383"
      ]
     },
     "execution_count": 40,
     "metadata": {},
     "output_type": "execute_result"
    }
   ],
   "source": [
    "(hotel.negative_review == ' Nothing').mean()"
   ]
  },
  {
   "cell_type": "code",
   "execution_count": 41,
   "id": "ce185db0-274c-4f89-b602-16a4c8aa35f2",
   "metadata": {},
   "outputs": [],
   "source": [
    "# Unique Values per column\n",
    "# for col in hotel.columns:\n",
    "#     print(f'{col} Counts:{hotel[col].nunique()}')"
   ]
  },
  {
   "cell_type": "markdown",
   "id": "9ec2bbba-e2b5-48d4-8d1d-685204e3f1c9",
   "metadata": {},
   "source": [
    "## Univariate"
   ]
  },
  {
   "cell_type": "code",
   "execution_count": null,
   "id": "4a429fec-791e-462f-9767-5222d019f4d1",
   "metadata": {},
   "outputs": [],
   "source": []
  },
  {
   "cell_type": "code",
   "execution_count": null,
   "id": "36323e2f-7c2d-4fd7-b09c-96d3a2e5c46e",
   "metadata": {},
   "outputs": [],
   "source": []
  },
  {
   "cell_type": "code",
   "execution_count": null,
   "id": "72f940be-6cc9-4e20-9008-f7ce6322a776",
   "metadata": {},
   "outputs": [],
   "source": []
  },
  {
   "cell_type": "code",
   "execution_count": null,
   "id": "91df95ed-f26a-458f-afa1-a6f4ee99094c",
   "metadata": {},
   "outputs": [],
   "source": []
  },
  {
   "cell_type": "code",
   "execution_count": null,
   "id": "48dc0ae8-f238-44c1-9bda-188cf041fe08",
   "metadata": {},
   "outputs": [],
   "source": []
  },
  {
   "cell_type": "code",
   "execution_count": null,
   "id": "882e278c-53dc-4289-851f-c367f0003a9e",
   "metadata": {},
   "outputs": [],
   "source": []
  }
 ],
 "metadata": {
  "kernelspec": {
   "display_name": "Python 3 (ipykernel)",
   "language": "python",
   "name": "python3"
  },
  "language_info": {
   "codemirror_mode": {
    "name": "ipython",
    "version": 3
   },
   "file_extension": ".py",
   "mimetype": "text/x-python",
   "name": "python",
   "nbconvert_exporter": "python",
   "pygments_lexer": "ipython3",
   "version": "3.9.7"
  }
 },
 "nbformat": 4,
 "nbformat_minor": 5
}
