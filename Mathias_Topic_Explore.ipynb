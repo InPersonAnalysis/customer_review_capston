{
 "cells": [
  {
   "cell_type": "code",
   "execution_count": 1,
   "id": "c77c3de3-1bda-4633-9de1-7d3ceecbe358",
   "metadata": {},
   "outputs": [],
   "source": [
    "import pandas as pd\n",
    "import numpy as np\n",
    "import wrangle\n",
    "import topic_modeling as tm\n",
    "import pyLDAvis\n",
    "import pyLDAvis.sklearn"
   ]
  },
  {
   "cell_type": "code",
   "execution_count": 2,
   "id": "60710fef-c529-462a-97df-eee89cfdb82d",
   "metadata": {},
   "outputs": [
    {
     "name": "stdout",
     "output_type": "stream",
     "text": [
      "Using cached file...\n"
     ]
    }
   ],
   "source": [
    "hotel = wrangle.wrangle_hotel()"
   ]
  },
  {
   "cell_type": "code",
   "execution_count": null,
   "id": "242a31e9-36d0-48f2-9e28-9cdea89a00e2",
   "metadata": {},
   "outputs": [],
   "source": [
    "positive_dom_top, positive_topic_keywords, negative_dom_top, negative_topic_keywords = (\n",
    "    \n",
    "    tm.acquire_topics(hotel.positive_lemma,\n",
    "                      hotel.negative_lemma,\n",
    "                      n_topics = 3,\n",
    "                     use_cache=False)    \n",
    ")"
   ]
  },
  {
   "cell_type": "code",
   "execution_count": null,
   "id": "f856fcb1-9a5d-4f6c-b14f-9369dfe5730f",
   "metadata": {},
   "outputs": [],
   "source": [
    "positive_dom_top.head()"
   ]
  },
  {
   "cell_type": "code",
   "execution_count": null,
   "id": "46e6a7d1-a9cd-4feb-bb96-86b004ec5702",
   "metadata": {},
   "outputs": [],
   "source": [
    "positive_topic_keywords.head()"
   ]
  },
  {
   "cell_type": "code",
   "execution_count": null,
   "id": "22c7ebf7-94ec-4c80-884a-9dcc61888654",
   "metadata": {},
   "outputs": [],
   "source": [
    "negative_dom_top.head()"
   ]
  },
  {
   "cell_type": "code",
   "execution_count": null,
   "id": "c5216d94-52ad-4754-940b-d34773560852",
   "metadata": {},
   "outputs": [],
   "source": [
    "negative_topic_keywords.head()"
   ]
  },
  {
   "cell_type": "code",
   "execution_count": null,
   "id": "a3dec5d4-8f12-430f-a9aa-bd86b9f19ce0",
   "metadata": {},
   "outputs": [],
   "source": []
  },
  {
   "cell_type": "code",
   "execution_count": null,
   "id": "da399fe2-cd69-4136-90da-a6d8f3172f3a",
   "metadata": {},
   "outputs": [],
   "source": []
  }
 ],
 "metadata": {
  "kernelspec": {
   "display_name": "Python 3 (ipykernel)",
   "language": "python",
   "name": "python3"
  },
  "language_info": {
   "codemirror_mode": {
    "name": "ipython",
    "version": 3
   },
   "file_extension": ".py",
   "mimetype": "text/x-python",
   "name": "python",
   "nbconvert_exporter": "python",
   "pygments_lexer": "ipython3",
   "version": "3.9.7"
  }
 },
 "nbformat": 4,
 "nbformat_minor": 5
}
