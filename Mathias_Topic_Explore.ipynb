{
 "cells": [
  {
   "cell_type": "code",
   "execution_count": 1,
   "id": "c77c3de3-1bda-4633-9de1-7d3ceecbe358",
   "metadata": {},
   "outputs": [],
   "source": [
    "import pandas as pd\n",
    "import seaborn as sns\n",
    "import matplotlib.pyplot as plt\n",
    "import wrangle\n",
    "pd.options.display.max_rows = None\n",
    "pd.options.display.max_columns = None\n",
    "pd.options.display.max_colwidth = None"
   ]
  },
  {
   "cell_type": "code",
   "execution_count": 2,
   "id": "60710fef-c529-462a-97df-eee89cfdb82d",
   "metadata": {},
   "outputs": [
    {
     "name": "stdout",
     "output_type": "stream",
     "text": [
      "Using cached file...\n"
     ]
    }
   ],
   "source": [
    "hotel = wrangle.wrangle_hotel()"
   ]
  },
  {
   "cell_type": "code",
   "execution_count": 3,
   "id": "d1cf2734-b094-4111-a63a-f5653de26c2a",
   "metadata": {},
   "outputs": [],
   "source": [
    "# hotel.loc[134]"
   ]
  },
  {
   "cell_type": "markdown",
   "id": "5f63d3c0-8fa1-420c-a57b-aabb62adf3b2",
   "metadata": {
    "tags": []
   },
   "source": [
    "# Pos and Negative top words"
   ]
  },
  {
   "cell_type": "code",
   "execution_count": 4,
   "id": "af29317a-1d9f-4931-9b81-4eb60c37dc8a",
   "metadata": {},
   "outputs": [],
   "source": [
    "pos_lemma = ' '.join(hotel.positive_lemma)\n",
    "neg_lemma = ' '.join(hotel.negative_lemma)\n",
    "\n",
    "pos_lemma_split = pos_lemma.split()\n",
    "neg_lemma_split = neg_lemma.split()\n",
    "\n",
    "pos_uni_df = pd.DataFrame(pos_lemma_split).value_counts()\n",
    "neg_uni_df = pd.DataFrame(neg_lemma_split).value_counts()\n",
    "\n",
    "top = pd.DataFrame()\n",
    "top['positive'] = pos_uni_df\n",
    "top['negative'] = neg_uni_df\n",
    "top.index.names = ['words']\n",
    "\n",
    "# top.head(200)"
   ]
  },
  {
   "cell_type": "markdown",
   "id": "ab10303d-b358-4213-a98e-7828e3373284",
   "metadata": {},
   "source": [
    "# Topics"
   ]
  },
  {
   "cell_type": "code",
   "execution_count": 5,
   "id": "9587585b-3026-41d2-b8ec-9627d9292c75",
   "metadata": {},
   "outputs": [],
   "source": [
    "def top_topic(review):\n",
    "    '''\n",
    "    This function takes in a review and checks for keywords assigned for each topic.\n",
    "    It assigns a number value to each topic and returns the topic with the highest count.\n",
    "    '''\n",
    "    # Make list of words for each topic\n",
    "    staff_words = ['staff','friendly','helpful','reception','maids','attentive','concierge','service','receptionist']\n",
    "    \n",
    "    location_words = ['location','located','view','area','metro','city','central','centre','center','train','access','walk',\n",
    "                      'public','transport','transportation','downtown','accessible','station','convenient','shop','distance']\n",
    "    \n",
    "    room_words = ['room','bed','matress','bathroom','spacious','shower','suite','pillow','bedroom','conditioning','bathtub','air',\n",
    "                  'window','conditioned','double','twin','size','single','noise','tv','bath','carpet','tile','noisy','small',\n",
    "                  'furniture','quiet','toilet']\n",
    "    \n",
    "    facilities_words = ['facilities','breakfast','security','buffet','restaurant','bar','coffee','tea','pool','wifi','facility',\n",
    "                        'parking','lobby','lounge','drink','hall','corridor','menu','storage','order','dining']\n",
    "    \n",
    "    value_words = ['value','money','cheap','cheapest','expensive','price','priced','cost']\n",
    "    \n",
    "    hotel_words = ['hotel']\n",
    "    \n",
    "    comfort_words = ['nothing','everything','atmosphere','good','comfortable','comfort','uncomfortable','pretty','clean','experience']\n",
    "\n",
    "    # Make a dictionary to check for topic words and a dictionary to keep topic counts per review\n",
    "    topic_dict = {'staff':staff_words,'location':location_words,'room':room_words,'facilities':facilities_words,\n",
    "                  'value':value_words,'hotel':hotel_words,'comfort':comfort_words}\n",
    "    \n",
    "    topic_count = {'staff' : 0, 'location' : 0, 'room' : 0, 'facilities' : 0, 'value' : 0, 'hotel': 0, 'comfort': 0}\n",
    "    \n",
    "    # Check the review for the topics\n",
    "    if review == '':\n",
    "        return 'blank'\n",
    "    \n",
    "    elif review.isnumeric():\n",
    "        return 'number'\n",
    "    \n",
    "    for word in review.split():\n",
    "        if word in topic_dict['staff']:\n",
    "            topic_count['staff'] += 1\n",
    "        \n",
    "        elif word in topic_dict['location']:\n",
    "            topic_count['location'] += 1\n",
    "        \n",
    "        elif word in topic_dict['room']:\n",
    "            topic_count['room'] += 1\n",
    "        \n",
    "        elif word in topic_dict['facilities']:\n",
    "            topic_count['facilities'] += 1\n",
    "        \n",
    "        elif word in topic_dict['value']:\n",
    "            topic_count['value'] += 1\n",
    "        \n",
    "        elif word in topic_dict['hotel']:\n",
    "            topic_count['hotel'] += 1\n",
    "        \n",
    "        elif word in topic_dict['comfort']:\n",
    "            topic_count['comfort'] += 1\n",
    "    \n",
    "    if all(value == 0 for value in topic_count.values()):\n",
    "        return 'no_topic'\n",
    "    \n",
    "    else:\n",
    "        return max(topic_count, key = topic_count.get)"
   ]
  },
  {
   "cell_type": "code",
   "execution_count": 6,
   "id": "a8e81bdd-e339-45eb-b2e9-724d3a24b086",
   "metadata": {},
   "outputs": [],
   "source": [
    "hotel['positive_topic'] = hotel.positive_lemma.apply(top_topic)\n",
    "hotel['negative_topic'] = hotel.negative_lemma.apply(top_topic)"
   ]
  },
  {
   "cell_type": "code",
   "execution_count": 7,
   "id": "b23131ae-337b-45f9-900c-bf4703928edc",
   "metadata": {},
   "outputs": [
    {
     "data": {
      "text/plain": [
       "staff         162166\n",
       "location      128145\n",
       "room           86280\n",
       "blank          36624\n",
       "comfort        34567\n",
       "facilities     30825\n",
       "no_topic       20761\n",
       "hotel          11880\n",
       "value           4475\n",
       "number            15\n",
       "Name: positive_topic, dtype: int64"
      ]
     },
     "execution_count": 7,
     "metadata": {},
     "output_type": "execute_result"
    }
   ],
   "source": [
    "hotel.positive_topic.value_counts(dropna=False)"
   ]
  },
  {
   "cell_type": "code",
   "execution_count": 8,
   "id": "b5a87550-0f66-4da0-89f0-a38ca0bee852",
   "metadata": {},
   "outputs": [
    {
     "data": {
      "text/plain": [
       "room          167663\n",
       "blank         153094\n",
       "facilities     58604\n",
       "no_topic       41819\n",
       "staff          33016\n",
       "location       24982\n",
       "comfort        17177\n",
       "hotel          10533\n",
       "value           8842\n",
       "number             8\n",
       "Name: negative_topic, dtype: int64"
      ]
     },
     "execution_count": 8,
     "metadata": {},
     "output_type": "execute_result"
    }
   ],
   "source": [
    "hotel.negative_topic.value_counts(dropna=False)"
   ]
  },
  {
   "cell_type": "code",
   "execution_count": 9,
   "id": "fbee5b9c-8ec0-4396-bc3b-54f1d79cd600",
   "metadata": {},
   "outputs": [
    {
     "data": {
      "text/plain": [
       "134            stayed ride london well prepared\n",
       "197                 proximity kensington garden\n",
       "208                                  evry thing\n",
       "273                                       thank\n",
       "291    upgrade lovely surprise cake anniversary\n",
       "293                                     recipnt\n",
       "408                      every thing else great\n",
       "451                              excellent stay\n",
       "542                     felt whole place shoddy\n",
       "594        luxury lovely people heart amsterdam\n",
       "Name: positive_lemma, dtype: object"
      ]
     },
     "execution_count": 9,
     "metadata": {},
     "output_type": "execute_result"
    }
   ],
   "source": [
    "hotel.positive_lemma[hotel.positive_topic == 'no_topic'].head(10)"
   ]
  },
  {
   "cell_type": "code",
   "execution_count": 10,
   "id": "012c52b7-bb7c-46d1-91e9-4bf764b208db",
   "metadata": {},
   "outputs": [
    {
     "data": {
      "text/plain": [
       "23                                                                                                                                                                                                                                                                              leave\n",
       "214                                                                                                                                                                                                                                               sum expense time book print booking\n",
       "232                                                                                                                                                                                                                                      spare phone charger plug converter available\n",
       "386    alzheimers early onset tried pay online four people party hour confusion desk people trying process card make several phone call bank told card fine could processed normally happen caused lot stress anxiety one day leaving london avoid stress confrontation eventful hour\n",
       "406                                                                                                                                                                                                                                                                 kettle lack pkugs\n",
       "Name: negative_lemma, dtype: object"
      ]
     },
     "execution_count": 10,
     "metadata": {},
     "output_type": "execute_result"
    }
   ],
   "source": [
    "hotel.negative_lemma[hotel.negative_topic == 'no_topic'].head()"
   ]
  },
  {
   "cell_type": "code",
   "execution_count": 11,
   "id": "b8bb9b8f-af2f-4298-bd88-33ecb33c5537",
   "metadata": {},
   "outputs": [],
   "source": [
    "hotel.to_csv('hotel_topic.csv')"
   ]
  },
  {
   "cell_type": "code",
   "execution_count": 12,
   "id": "00d181da-7bcf-4e64-90eb-c261bbf33f97",
   "metadata": {},
   "outputs": [],
   "source": [
    "# hotel[['country','nps_group','group_type','positive_topic','negative_topic','pos_lem_sentiment_score','neg_lem_sentiment_score']].head()"
   ]
  },
  {
   "cell_type": "code",
   "execution_count": 13,
   "id": "d72f96b8-df02-4bf3-9b5e-eca93243eb79",
   "metadata": {},
   "outputs": [
    {
     "data": {
      "text/plain": [
       "<AxesSubplot:ylabel='positive_topic'>"
      ]
     },
     "execution_count": 13,
     "metadata": {},
     "output_type": "execute_result"
    },
    {
     "data": {
      "image/png": "[encoded data removed]",
      "text/plain": [
       "<Figure size 432x288 with 1 Axes>"
      ]
     },
     "metadata": {
      "needs_background": "light"
     },
     "output_type": "display_data"
    }
   ],
   "source": [
    "hotel.groupby(['positive_topic'])['pos_lem_sentiment_score'].mean().plot.barh()"
   ]
  },
  {
   "cell_type": "code",
   "execution_count": 14,
   "id": "7ffdb192-b1bc-4970-ba45-39d2d3ae2918",
   "metadata": {},
   "outputs": [
    {
     "data": {
      "text/plain": [
       "<AxesSubplot:ylabel='negative_topic'>"
      ]
     },
     "execution_count": 14,
     "metadata": {},
     "output_type": "execute_result"
    },
    {
     "data": {
      "image/png": "[encoded data removed]",
      "text/plain": [
       "<Figure size 432x288 with 1 Axes>"
      ]
     },
     "metadata": {
      "needs_background": "light"
     },
     "output_type": "display_data"
    }
   ],
   "source": [
    "hotel.groupby(['negative_topic'])['neg_lem_sentiment_score'].mean().plot.barh()"
   ]
  },
  {
   "cell_type": "code",
   "execution_count": 15,
   "id": "a148e181-d045-4c76-9157-d2d96027682a",
   "metadata": {},
   "outputs": [
    {
     "data": {
      "text/plain": [
       "<AxesSubplot:xlabel='positive_topic', ylabel='count'>"
      ]
     },
     "execution_count": 15,
     "metadata": {},
     "output_type": "execute_result"
    },
    {
     "data": {
      "image/png": "[encoded data removed]",
      "text/plain": [
       "<Figure size 432x288 with 1 Axes>"
      ]
     },
     "metadata": {
      "needs_background": "light"
     },
     "output_type": "display_data"
    }
   ],
   "source": [
    "sns.countplot(x='positive_topic',data=hotel,hue='group_type')"
   ]
  },
  {
   "cell_type": "code",
   "execution_count": 16,
   "id": "b7fe29f9-a6e4-48ff-96fb-e1ae7b9d3329",
   "metadata": {},
   "outputs": [
    {
     "data": {
      "text/plain": [
       "<AxesSubplot:xlabel='negative_topic', ylabel='count'>"
      ]
     },
     "execution_count": 16,
     "metadata": {},
     "output_type": "execute_result"
    },
    {
     "data": {
      "image/png": "[encoded data removed]",
      "text/plain": [
       "<Figure size 432x288 with 1 Axes>"
      ]
     },
     "metadata": {
      "needs_background": "light"
     },
     "output_type": "display_data"
    }
   ],
   "source": [
    "sns.countplot(x='negative_topic',data=hotel,hue='group_type')"
   ]
  },
  {
   "cell_type": "code",
   "execution_count": 17,
   "id": "f6acce86-1e33-4c05-8840-2fe5cffbf232",
   "metadata": {},
   "outputs": [],
   "source": [
    "# ['month_name','month','year','day_name','day','quarter','hotel_name','street','city','zip_code','country','lat','lng',\n",
    "#  'additional_number_of_scoring','average_score','total_number_of_reviews','reviewer_nationality','trip_type','nights_stayed',\n",
    "#  'group_type','total_number_of_reviews_reviewer_has_given','reviewer_score','nps_group','days_since_review','neg_sentiment_score',\n",
    "#  'neg_lem_sentiment_score','review_total_negative_word_counts','negative_unique_word_count','negative_topic','pos_sentiment_score',\n",
    "#  'review_total_positive_word_counts','positive_unique_word_count','pos_lem_sentiment_score','postive_topic','negative_review',\n",
    "#  'negative_clean_review','negative_lemma','positive_review','positive_clean_review','positive_lemma']"
   ]
  },
  {
   "cell_type": "code",
   "execution_count": 18,
   "id": "a6a58141-276b-44e0-9307-052980653a81",
   "metadata": {},
   "outputs": [],
   "source": [
    "staff_words = ['staff','friendly','helpful','reception','maids','attentive','concierge','service','receptionist']    \n",
    "location_words = ['location','located','view','area','metro','city','central','centre','center','train','access','walk',\n",
    "                      'public','transport','transportation','downtown','accessible','station','convenient','shop','distance']    \n",
    "room_words = ['room','bed','matress','bathroom','spacious','shower','suite','pillow','bedroom','conditioning','bathtub','air',\n",
    "                  'window','conditioned','double','twin','size','single','noise','tv','bath','carpet','tile','noisy','small',\n",
    "                  'furniture','quiet','toilet']    \n",
    "facilities_words = ['facilities','breakfast','security','buffet','restaurant','bar','coffee','tea','pool','wifi','facility',\n",
    "                        'parking','lobby','lounge','drink','hall','corridor','menu','storage','order','dining']   \n",
    "value_words = ['value','money','cheap','cheapest','expensive','price','priced','cost']    \n",
    "hotel_words = ['hotel']    \n",
    "comfort_words = ['comfort','nothing','everything','atmosphere','good','comfortable','uncomfortable','pretty','clean','experience']\n",
    "\n",
    "topic_dict = {'staff':staff_words,'location':location_words,'room':room_words,'facilities':facilities_words,\n",
    "                  'value':value_words,'hotel':hotel_words,'comfort':comfort_words}\n",
    "\n",
    "new_topic = pd.DataFrame.from_dict(topic_dict, orient='index')\n",
    "\n",
    "# new_topic"
   ]
  },
  {
   "cell_type": "code",
   "execution_count": 19,
   "id": "c7a1ad34-a197-46eb-8ccf-850c549d5c4b",
   "metadata": {},
   "outputs": [],
   "source": [
    "staff_words = ['staff','friendly','helpful','reception','maids','attentive','concierge','service','receptionist']    \n",
    "location_words = ['location','located','view','area','metro','city','central','centre','center','train','access','walk',\n",
    "                      'public','transport','transportation','downtown','accessible','station','convenient','shop','distance']    \n",
    "room_words = ['room','bed','matress','bathroom','spacious','shower','suite','pillow','bedroom','conditioning','bathtub','air',\n",
    "                  'window','conditioned','double','twin','size','single','noise','tv','bath','carpet','tile','noisy','small',\n",
    "                  'furniture','quiet','toilet']    \n",
    "facilities_words = ['facilities','breakfast','security','buffet','restaurant','bar','coffee','tea','pool','wifi','facility',\n",
    "                        'parking','lobby','lounge','drink','hall','corridor','menu','storage','order','dining']   \n",
    "value_words = ['value','money','cheap','cheapest','expensive','price','priced','cost']    \n",
    "hotel_words = ['hotel']    \n",
    "comfort_words = ['comfort','nothing','everything','atmosphere','good','comfortable','uncomfortable','pretty','clean','experience']\n",
    "\n",
    "manual_topics = pd.DataFrame()\n",
    "topics = ['Staff','Locations','Room','Facilities','Value','Hotel','Comfort']\n",
    "lists = [staff_words,location_words,room_words,facilities_words,value_words,hotel_words,comfort_words]\n",
    "manual_topics['Topics'] = topics\n",
    "manual_topics['Words'] = lists\n",
    "# manual_topics"
   ]
  },
  {
   "cell_type": "code",
   "execution_count": 20,
   "id": "a7e13c8b-4bbe-4063-8062-e553b83f1da0",
   "metadata": {},
   "outputs": [
    {
     "data": {
      "text/plain": [
       "98"
      ]
     },
     "execution_count": 20,
     "metadata": {},
     "output_type": "execute_result"
    }
   ],
   "source": [
    "from itertools import chain\n",
    "topics = list(chain(*topic_dict.values()))\n",
    "len(topics)"
   ]
  },
  {
   "cell_type": "code",
   "execution_count": 21,
   "id": "a193b511-7dc1-4d87-b322-846420f6c7fd",
   "metadata": {},
   "outputs": [],
   "source": [
    "# first_counts.sort_index()\n",
    "# second_counts.sort_index()\n",
    "\n",
    "# new_df = pd.Dataframe()\n",
    "\n",
    "# new_df['topics'] = value_counts.index\n",
    "# new_df['first_count'] = first_counts.values\n",
    "# new_df['second_count'] = second_counts.values"
   ]
  },
  {
   "cell_type": "code",
   "execution_count": null,
   "id": "9bdaa2ce-bdd3-424c-b4fb-9f48cd1b328f",
   "metadata": {},
   "outputs": [],
   "source": []
  },
  {
   "cell_type": "code",
   "execution_count": null,
   "id": "4195757c-f0ce-4d7a-8dde-28aeee89f87e",
   "metadata": {},
   "outputs": [],
   "source": []
  },
  {
   "cell_type": "code",
   "execution_count": null,
   "id": "29c6fc56-04c1-4fc1-a6e7-bfa8718fd26f",
   "metadata": {},
   "outputs": [],
   "source": []
  },
  {
   "cell_type": "code",
   "execution_count": 23,
   "id": "8c4517b8-47cc-492d-9f19-db370a64c2e5",
   "metadata": {},
   "outputs": [
    {
     "data": {
      "text/plain": [
       "1492"
      ]
     },
     "execution_count": 23,
     "metadata": {},
     "output_type": "execute_result"
    }
   ],
   "source": [
    "hotel.hotel_name.nunique()"
   ]
  },
  {
   "cell_type": "code",
   "execution_count": null,
   "id": "325d2ee4-8a0b-419a-9ed9-f49ecafb63b6",
   "metadata": {},
   "outputs": [],
   "source": []
  }
 ],
 "metadata": {
  "kernelspec": {
   "display_name": "Python 3 (ipykernel)",
   "language": "python",
   "name": "python3"
  },
  "language_info": {
   "codemirror_mode": {
    "name": "ipython",
    "version": 3
   },
   "file_extension": ".py",
   "mimetype": "text/x-python",
   "name": "python",
   "nbconvert_exporter": "python",
   "pygments_lexer": "ipython3",
   "version": "3.9.7"
  }
 },
 "nbformat": 4,
 "nbformat_minor": 5
}
