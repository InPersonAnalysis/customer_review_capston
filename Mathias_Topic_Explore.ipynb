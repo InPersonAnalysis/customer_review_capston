{
 "cells": [
  {
   "cell_type": "code",
   "execution_count": 75,
   "id": "c77c3de3-1bda-4633-9de1-7d3ceecbe358",
   "metadata": {},
   "outputs": [],
   "source": [
    "import pandas as pd\n",
    "import wrangle\n",
    "pd.options.display.max_rows = None\n",
    "pd.options.display.max_columns = None\n",
    "pd.options.display.max_colwidth = None"
   ]
  },
  {
   "cell_type": "code",
   "execution_count": 2,
   "id": "60710fef-c529-462a-97df-eee89cfdb82d",
   "metadata": {},
   "outputs": [
    {
     "name": "stdout",
     "output_type": "stream",
     "text": [
      "Using cached file...\n"
     ]
    }
   ],
   "source": [
    "hotel = wrangle.wrangle_hotel()"
   ]
  },
  {
   "cell_type": "code",
   "execution_count": 191,
   "id": "d1cf2734-b094-4111-a63a-f5653de26c2a",
   "metadata": {},
   "outputs": [
    {
     "data": {
      "text/html": [
       "<div>\n",
       "<style scoped>\n",
       "    .dataframe tbody tr th:only-of-type {\n",
       "        vertical-align: middle;\n",
       "    }\n",
       "\n",
       "    .dataframe tbody tr th {\n",
       "        vertical-align: top;\n",
       "    }\n",
       "\n",
       "    .dataframe thead th {\n",
       "        text-align: right;\n",
       "    }\n",
       "</style>\n",
       "<table border=\"1\" class=\"dataframe\">\n",
       "  <thead>\n",
       "    <tr style=\"text-align: right;\">\n",
       "      <th></th>\n",
       "      <th>review_date</th>\n",
       "      <th>month_name</th>\n",
       "      <th>month</th>\n",
       "      <th>year</th>\n",
       "      <th>day_name</th>\n",
       "      <th>day</th>\n",
       "      <th>quarter</th>\n",
       "      <th>hotel_name</th>\n",
       "      <th>street</th>\n",
       "      <th>city</th>\n",
       "      <th>zip_code</th>\n",
       "      <th>country</th>\n",
       "      <th>lat</th>\n",
       "      <th>lng</th>\n",
       "      <th>additional_number_of_scoring</th>\n",
       "      <th>average_score</th>\n",
       "      <th>total_number_of_reviews</th>\n",
       "      <th>reviewer_nationality</th>\n",
       "      <th>trip_type</th>\n",
       "      <th>nights_stayed</th>\n",
       "      <th>group_type</th>\n",
       "      <th>total_number_of_reviews_reviewer_has_given</th>\n",
       "      <th>reviewer_score</th>\n",
       "      <th>nps_group</th>\n",
       "      <th>days_since_review</th>\n",
       "      <th>neg_sentiment_score</th>\n",
       "      <th>neg_lem_sentiment_score</th>\n",
       "      <th>review_total_negative_word_counts</th>\n",
       "      <th>negative_unique_word_count</th>\n",
       "      <th>pos_sentiment_score</th>\n",
       "      <th>review_total_positive_word_counts</th>\n",
       "      <th>positive_unique_word_count</th>\n",
       "      <th>pos_lem_sentiment_score</th>\n",
       "      <th>negative_review</th>\n",
       "      <th>negative_clean_review</th>\n",
       "      <th>negative_lemma</th>\n",
       "      <th>positive_review</th>\n",
       "      <th>positive_clean_review</th>\n",
       "      <th>positive_lemma</th>\n",
       "      <th>positive_topic</th>\n",
       "      <th>negative_topic</th>\n",
       "    </tr>\n",
       "  </thead>\n",
       "  <tbody>\n",
       "    <tr>\n",
       "      <th>0</th>\n",
       "      <td>2015-08-04T00:00:00.000Z</td>\n",
       "      <td>August</td>\n",
       "      <td>8</td>\n",
       "      <td>2015</td>\n",
       "      <td>Tuesday</td>\n",
       "      <td>4</td>\n",
       "      <td>3</td>\n",
       "      <td>Hilton London Metropole</td>\n",
       "      <td>225 Edgware Road Westminster Borough</td>\n",
       "      <td>London</td>\n",
       "      <td>W2 1JU</td>\n",
       "      <td>United Kingdom</td>\n",
       "      <td>51.519569</td>\n",
       "      <td>-0.170521</td>\n",
       "      <td>1485</td>\n",
       "      <td>7.5</td>\n",
       "      <td>6977</td>\n",
       "      <td>United Kingdom</td>\n",
       "      <td>leisure</td>\n",
       "      <td>2.0</td>\n",
       "      <td>group</td>\n",
       "      <td>4</td>\n",
       "      <td>7.5</td>\n",
       "      <td>passive</td>\n",
       "      <td>730</td>\n",
       "      <td>-0.1027</td>\n",
       "      <td>-0.1027</td>\n",
       "      <td>54</td>\n",
       "      <td>39</td>\n",
       "      <td>0.4019</td>\n",
       "      <td>8</td>\n",
       "      <td>6</td>\n",
       "      <td>0.4019</td>\n",
       "      <td>First day the swimming pool was not opened therefore i could not access the facilities Finaly the receptionist fid not clarify that i would unable to move my car and did not stamp my car parking so i can come in and out Therefore i had to pay 50 for one day</td>\n",
       "      <td>first day swimming pool opened therefore could access facilities finaly receptionist fid clarify would unable move car stamp car parking come therefore pay 50 one day</td>\n",
       "      <td>first day swimming pool opened therefore could access facility finaly receptionist fid clarify would unable move car stamp car parking come therefore pay 50 one day</td>\n",
       "      <td>The hotel was clean and accessible</td>\n",
       "      <td>hotel clean accessible</td>\n",
       "      <td>hotel clean accessible</td>\n",
       "      <td>location</td>\n",
       "      <td>facilities</td>\n",
       "    </tr>\n",
       "  </tbody>\n",
       "</table>\n",
       "</div>"
      ],
      "text/plain": [
       "                review_date month_name  month  year day_name  day  quarter  \\\n",
       "0  2015-08-04T00:00:00.000Z     August      8  2015  Tuesday    4        3   \n",
       "\n",
       "                hotel_name                                street    city  \\\n",
       "0  Hilton London Metropole  225 Edgware Road Westminster Borough  London   \n",
       "\n",
       "  zip_code         country        lat       lng  additional_number_of_scoring  \\\n",
       "0   W2 1JU  United Kingdom  51.519569 -0.170521                          1485   \n",
       "\n",
       "   average_score  total_number_of_reviews reviewer_nationality trip_type  \\\n",
       "0            7.5                     6977      United Kingdom    leisure   \n",
       "\n",
       "   nights_stayed group_type  total_number_of_reviews_reviewer_has_given  \\\n",
       "0            2.0      group                                           4   \n",
       "\n",
       "   reviewer_score nps_group  days_since_review  neg_sentiment_score  \\\n",
       "0             7.5   passive                730              -0.1027   \n",
       "\n",
       "   neg_lem_sentiment_score  review_total_negative_word_counts  \\\n",
       "0                  -0.1027                                 54   \n",
       "\n",
       "   negative_unique_word_count  pos_sentiment_score  \\\n",
       "0                          39               0.4019   \n",
       "\n",
       "   review_total_positive_word_counts  positive_unique_word_count  \\\n",
       "0                                  8                           6   \n",
       "\n",
       "   pos_lem_sentiment_score  \\\n",
       "0                   0.4019   \n",
       "\n",
       "                                                                                                                                                                                                                                                       negative_review  \\\n",
       "0   First day the swimming pool was not opened therefore i could not access the facilities Finaly the receptionist fid not clarify that i would unable to move my car and did not stamp my car parking so i can come in and out Therefore i had to pay 50 for one day    \n",
       "\n",
       "                                                                                                                                                    negative_clean_review  \\\n",
       "0  first day swimming pool opened therefore could access facilities finaly receptionist fid clarify would unable move car stamp car parking come therefore pay 50 one day   \n",
       "\n",
       "                                                                                                                                                         negative_lemma  \\\n",
       "0  first day swimming pool opened therefore could access facility finaly receptionist fid clarify would unable move car stamp car parking come therefore pay 50 one day   \n",
       "\n",
       "                        positive_review   positive_clean_review  \\\n",
       "0   The hotel was clean and accessible   hotel clean accessible   \n",
       "\n",
       "           positive_lemma positive_topic negative_topic  \n",
       "0  hotel clean accessible       location     facilities  "
      ]
     },
     "execution_count": 191,
     "metadata": {},
     "output_type": "execute_result"
    }
   ],
   "source": [
    "hotel.head(1)"
   ]
  },
  {
   "cell_type": "markdown",
   "id": "5f63d3c0-8fa1-420c-a57b-aabb62adf3b2",
   "metadata": {
    "tags": []
   },
   "source": [
    "# Pos and Negative top words"
   ]
  },
  {
   "cell_type": "code",
   "execution_count": 3,
   "id": "a3dec5d4-8f12-430f-a9aa-bd86b9f19ce0",
   "metadata": {},
   "outputs": [],
   "source": [
    "# pos_lemma = ' '.join(hotel.positive_lemma)"
   ]
  },
  {
   "cell_type": "code",
   "execution_count": 4,
   "id": "05918218-6ac9-4832-9dba-ef12f7b27d78",
   "metadata": {},
   "outputs": [],
   "source": [
    "# neg_lemma = ' '.join(hotel.negative_lemma)"
   ]
  },
  {
   "cell_type": "code",
   "execution_count": 5,
   "id": "7ebf0c21-9c2b-4e89-9fa4-26232137006a",
   "metadata": {},
   "outputs": [],
   "source": [
    "# pos_lemma_split = pos_lemma.split()"
   ]
  },
  {
   "cell_type": "code",
   "execution_count": 6,
   "id": "6d1183fe-0236-4550-a4e9-d0af510ef4a9",
   "metadata": {},
   "outputs": [],
   "source": [
    "# neg_lemma_split = neg_lemma.split()"
   ]
  },
  {
   "cell_type": "code",
   "execution_count": 10,
   "id": "e8d86824-c8b3-422e-9fe6-896c28b728df",
   "metadata": {},
   "outputs": [],
   "source": [
    "# pos_uni_df = pd.DataFrame(pos_lemma_split).value_counts()"
   ]
  },
  {
   "cell_type": "code",
   "execution_count": 11,
   "id": "da399fe2-cd69-4136-90da-a6d8f3172f3a",
   "metadata": {},
   "outputs": [],
   "source": [
    "# neg_uni_df = pd.DataFrame(neg_lemma_split).value_counts()"
   ]
  },
  {
   "cell_type": "code",
   "execution_count": 17,
   "id": "75d42a52-7f1a-4b3f-833f-903d8d546ed1",
   "metadata": {},
   "outputs": [],
   "source": [
    "# pd.DataFrame(pos_uni_df).head(200)"
   ]
  },
  {
   "cell_type": "code",
   "execution_count": 19,
   "id": "e11b333b-a34b-4c38-a7ac-b7ad7fa1876b",
   "metadata": {},
   "outputs": [],
   "source": [
    "# pd.DataFrame(neg_uni_df).head(200)"
   ]
  },
  {
   "cell_type": "markdown",
   "id": "ab10303d-b358-4213-a98e-7828e3373284",
   "metadata": {},
   "source": [
    "# Topics"
   ]
  },
  {
   "cell_type": "code",
   "execution_count": 284,
   "id": "9587585b-3026-41d2-b8ec-9627d9292c75",
   "metadata": {},
   "outputs": [],
   "source": [
    "def top_topic(review):\n",
    "    staff_words = ['staff','friendly','helpful','reception','maids','attentive','concierge','service','receptionist']\n",
    "    \n",
    "    location_words = ['location','located','view','area','metro','city','central','centre','center','train','access','walk',\n",
    "                      'public','transport','transportation','downtown','accessible','station','convenient','shop','distance']\n",
    "    \n",
    "    room_words = ['room','bed','matress','bathroom','spacious','shower','suite','pillow','bedroom','conditioning','bathtub',\n",
    "                  'conditioned','double','twin','size','single','noise','tv','bath','carpet','tile','noisy','small','furniture','quiet']\n",
    "    \n",
    "    facilities_words = ['facilities','breakfast','security','buffet','restaurant','bar','coffee','tea','pool','wifi','facility',\n",
    "                        'parking','lobby','lounge','drink','hall','corridor','menu','storage','order']\n",
    "    \n",
    "    value_words = ['value','money','cheap','cheapest','expensive','price','priced']\n",
    "    \n",
    "    hotel_words = ['hotel']\n",
    "    \n",
    "    comfort_words = ['nothing','everything','atmosphere','good','comfortable','comfort','uncomfortable','pretty','clean','experience']\n",
    "\n",
    "    topic_dict = {'staff':staff_words,'location':location_words,'room':room_words,'facilities':facilities_words,\n",
    "                  'value':value_words,'hotel':hotel_words,'comfort':comfort_words}\n",
    "    \n",
    "    topic_count = {'staff' : 0, 'location' : 0, 'room' : 0, 'facilities' : 0, 'value' : 0, 'hotel': 0, 'comfort': 0}\n",
    "    \n",
    "    if review == '':\n",
    "        return 'blank'\n",
    "    \n",
    "    for word in review.split():\n",
    "        if word in topic_dict['staff']:\n",
    "            topic_count['staff'] += 1\n",
    "        elif word in topic_dict['location']:\n",
    "            topic_count['location'] += 1\n",
    "        elif word in topic_dict['room']:\n",
    "            topic_count['room'] += 1\n",
    "        elif word in topic_dict['facilities']:\n",
    "            topic_count['facilities'] += 1\n",
    "        elif word in topic_dict['value']:\n",
    "            topic_count['value'] += 1\n",
    "        elif word in topic_dict['hotel']:\n",
    "            topic_count['hotel'] += 1\n",
    "        elif word in topic_dict['comfort']:\n",
    "            topic_count['comfort'] += 1\n",
    "    \n",
    "    if all(value == 0 for value in topic_count.values()):\n",
    "        return 'no_topic'\n",
    "    \n",
    "    else:\n",
    "        return max(topic_count, key = topic_count.get)"
   ]
  },
  {
   "cell_type": "code",
   "execution_count": 285,
   "id": "a8e81bdd-e339-45eb-b2e9-724d3a24b086",
   "metadata": {},
   "outputs": [],
   "source": [
    "hotel['positive_topic'] = hotel.positive_lemma.apply(top_topic)\n",
    "hotel['negative_topic'] = hotel.negative_lemma.apply(top_topic)"
   ]
  },
  {
   "cell_type": "code",
   "execution_count": 286,
   "id": "b23131ae-337b-45f9-900c-bf4703928edc",
   "metadata": {},
   "outputs": [
    {
     "data": {
      "text/plain": [
       "staff         162772\n",
       "location      128750\n",
       "room           84724\n",
       "blank          36624\n",
       "comfort        34815\n",
       "facilities     30768\n",
       "no_topic       20973\n",
       "hotel          11955\n",
       "value           4357\n",
       "Name: positive_topic, dtype: int64"
      ]
     },
     "execution_count": 286,
     "metadata": {},
     "output_type": "execute_result"
    }
   ],
   "source": [
    "hotel.positive_topic.value_counts(dropna=False)"
   ]
  },
  {
   "cell_type": "code",
   "execution_count": 287,
   "id": "b5a87550-0f66-4da0-89f0-a38ca0bee852",
   "metadata": {},
   "outputs": [
    {
     "data": {
      "text/plain": [
       "room          162694\n",
       "blank         153094\n",
       "facilities     59226\n",
       "no_topic       44340\n",
       "staff          33874\n",
       "location       25986\n",
       "comfort        17493\n",
       "hotel          10938\n",
       "value           8093\n",
       "Name: negative_topic, dtype: int64"
      ]
     },
     "execution_count": 287,
     "metadata": {},
     "output_type": "execute_result"
    }
   ],
   "source": [
    "hotel.negative_topic.value_counts(dropna=False)"
   ]
  },
  {
   "cell_type": "code",
   "execution_count": 288,
   "id": "fbee5b9c-8ec0-4396-bc3b-54f1d79cd600",
   "metadata": {},
   "outputs": [
    {
     "data": {
      "text/plain": [
       "134            stayed ride london well prepared\n",
       "197                 proximity kensington garden\n",
       "208                                  evry thing\n",
       "273                                       thank\n",
       "291    upgrade lovely surprise cake anniversary\n",
       "293                                     recipnt\n",
       "408                      every thing else great\n",
       "451                              excellent stay\n",
       "542                     felt whole place shoddy\n",
       "594        luxury lovely people heart amsterdam\n",
       "Name: positive_lemma, dtype: object"
      ]
     },
     "execution_count": 288,
     "metadata": {},
     "output_type": "execute_result"
    }
   ],
   "source": [
    "hotel.positive_lemma[hotel.positive_topic == 'no_topic'].head(10)"
   ]
  },
  {
   "cell_type": "code",
   "execution_count": 289,
   "id": "012c52b7-bb7c-46d1-91e9-4bf764b208db",
   "metadata": {},
   "outputs": [
    {
     "data": {
      "text/plain": [
       "23                                                                                                                                                                                                                                                                              leave\n",
       "186                                                                                                                                                                                         casual dining available resturant short jean ant shirt acceptable needed folk vacationing\n",
       "214                                                                                                                                                                                                                                               sum expense time book print booking\n",
       "232                                                                                                                                                                                                                                      spare phone charger plug converter available\n",
       "381                                                                                                                                                                                                                                                                       window open\n",
       "386    alzheimers early onset tried pay online four people party hour confusion desk people trying process card make several phone call bank told card fine could processed normally happen caused lot stress anxiety one day leaving london avoid stress confrontation eventful hour\n",
       "406                                                                                                                                                                                                                                                                 kettle lack pkugs\n",
       "411                                                                                                                                                                                                                                                            found bit odd basement\n",
       "441                                                                                                                                                                                                                                                                           air con\n",
       "451                                                                                                                                                                                                                                                                         complaint\n",
       "Name: negative_lemma, dtype: object"
      ]
     },
     "execution_count": 289,
     "metadata": {},
     "output_type": "execute_result"
    }
   ],
   "source": [
    "hotel.negative_lemma[hotel.negative_topic == 'no_topic'].head(10)"
   ]
  },
  {
   "cell_type": "code",
   "execution_count": null,
   "id": "b8bb9b8f-af2f-4298-bd88-33ecb33c5537",
   "metadata": {},
   "outputs": [],
   "source": []
  },
  {
   "cell_type": "code",
   "execution_count": null,
   "id": "8554753c-462a-4ef3-96de-4f6d57400f1e",
   "metadata": {},
   "outputs": [],
   "source": []
  },
  {
   "cell_type": "code",
   "execution_count": null,
   "id": "00d181da-7bcf-4e64-90eb-c261bbf33f97",
   "metadata": {},
   "outputs": [],
   "source": []
  }
 ],
 "metadata": {
  "kernelspec": {
   "display_name": "Python 3 (ipykernel)",
   "language": "python",
   "name": "python3"
  },
  "language_info": {
   "codemirror_mode": {
    "name": "ipython",
    "version": 3
   },
   "file_extension": ".py",
   "mimetype": "text/x-python",
   "name": "python",
   "nbconvert_exporter": "python",
   "pygments_lexer": "ipython3",
   "version": "3.9.7"
  }
 },
 "nbformat": 4,
 "nbformat_minor": 5
}
