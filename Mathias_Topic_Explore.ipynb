{
 "cells": [
  {
   "cell_type": "code",
   "execution_count": 1,
   "id": "c77c3de3-1bda-4633-9de1-7d3ceecbe358",
   "metadata": {},
   "outputs": [],
   "source": [
    "import pandas as pd\n",
    "import seaborn as sns\n",
    "import matplotlib.pyplot as plt\n",
    "import wrangle\n",
    "pd.options.display.max_rows = None\n",
    "pd.options.display.max_columns = None\n",
    "pd.options.display.max_colwidth = None"
   ]
  },
  {
   "cell_type": "code",
   "execution_count": null,
   "id": "60710fef-c529-462a-97df-eee89cfdb82d",
   "metadata": {},
   "outputs": [],
   "source": [
    "hotel = wrangle.wrangle_hotel(use_cache=False)"
   ]
  },
  {
   "cell_type": "code",
   "execution_count": null,
   "id": "d1cf2734-b094-4111-a63a-f5653de26c2a",
   "metadata": {},
   "outputs": [],
   "source": [
    "# hotel.loc[134]"
   ]
  },
  {
   "cell_type": "markdown",
   "id": "5f63d3c0-8fa1-420c-a57b-aabb62adf3b2",
   "metadata": {
    "tags": []
   },
   "source": [
    "# Pos and Negative top words"
   ]
  },
  {
   "cell_type": "code",
   "execution_count": null,
   "id": "af29317a-1d9f-4931-9b81-4eb60c37dc8a",
   "metadata": {},
   "outputs": [],
   "source": [
    "pos_lemma = ' '.join(hotel.positive_lemma)\n",
    "neg_lemma = ' '.join(hotel.negative_lemma)\n",
    "\n",
    "pos_lemma_split = pos_lemma.split()\n",
    "neg_lemma_split = neg_lemma.split()\n",
    "\n",
    "pos_uni_df = pd.DataFrame(pos_lemma_split).value_counts()\n",
    "neg_uni_df = pd.DataFrame(neg_lemma_split).value_counts()\n",
    "\n",
    "top = pd.DataFrame()\n",
    "top['positive'] = pos_uni_df\n",
    "top['negative'] = neg_uni_df\n",
    "top.index.names = ['words']\n",
    "\n",
    "\n",
    "# top.head(200)"
   ]
  },
  {
   "cell_type": "markdown",
   "id": "ab10303d-b358-4213-a98e-7828e3373284",
   "metadata": {},
   "source": [
    "# Topics"
   ]
  },
  {
   "cell_type": "code",
   "execution_count": null,
   "id": "9587585b-3026-41d2-b8ec-9627d9292c75",
   "metadata": {},
   "outputs": [],
   "source": [
    "def top_topic(review):\n",
    "    '''\n",
    "    This function takes in a review and checks for keywords assigned for each topic.\n",
    "    It assigns a number value to each topic and returns the topic with the highest count.\n",
    "    '''\n",
    "    # Make list of words for each topic\n",
    "    staff_words = ['staff','friendly','helpful','reception','maids','attentive','concierge','service','receptionist']\n",
    "    \n",
    "    location_words = ['location','located','view','area','metro','city','central','centre','center','train','access','walk',\n",
    "                      'public','transport','transportation','downtown','accessible','station','convenient','shop','distance']\n",
    "    \n",
    "    room_words = ['room','bed','matress','bathroom','spacious','shower','suite','pillow','bedroom','conditioning','bathtub','air',\n",
    "                  'window','conditioned','double','twin','size','single','noise','tv','bath','carpet','tile','noisy','small',\n",
    "                  'furniture','quiet','toilet']\n",
    "    \n",
    "    facilities_words = ['facilities','breakfast','security','buffet','restaurant','bar','coffee','tea','pool','wifi','facility',\n",
    "                        'parking','lobby','lounge','drink','hall','corridor','menu','storage','order','dining']\n",
    "    \n",
    "    value_words = ['value','money','cheap','cheapest','expensive','price','priced','cost']\n",
    "    \n",
    "    hotel_words = ['hotel']\n",
    "    \n",
    "    comfort_words = ['nothing','everything','atmosphere','good','comfortable','comfort','uncomfortable','pretty','clean','experience']\n",
    "\n",
    "    # Make a dictionary to check for topic words and a dictionary to keep topic counts per review\n",
    "    topic_dict = {'staff':staff_words,'location':location_words,'room':room_words,'facilities':facilities_words,\n",
    "                  'value':value_words,'hotel':hotel_words,'comfort':comfort_words}\n",
    "    \n",
    "    topic_count = {'staff' : 0, 'location' : 0, 'room' : 0, 'facilities' : 0, 'value' : 0, 'hotel': 0, 'comfort': 0}\n",
    "    \n",
    "    # Check the review for the topics\n",
    "    if review == '':\n",
    "        return 'blank'\n",
    "    \n",
    "    elif review.isnumeric():\n",
    "        return 'number'\n",
    "    \n",
    "    for word in review.split():\n",
    "        if word in topic_dict['staff']:\n",
    "            topic_count['staff'] += 1\n",
    "        \n",
    "        elif word in topic_dict['location']:\n",
    "            topic_count['location'] += 1\n",
    "        \n",
    "        elif word in topic_dict['room']:\n",
    "            topic_count['room'] += 1\n",
    "        \n",
    "        elif word in topic_dict['facilities']:\n",
    "            topic_count['facilities'] += 1\n",
    "        \n",
    "        elif word in topic_dict['value']:\n",
    "            topic_count['value'] += 1\n",
    "        \n",
    "        elif word in topic_dict['hotel']:\n",
    "            topic_count['hotel'] += 1\n",
    "        \n",
    "        elif word in topic_dict['comfort']:\n",
    "            topic_count['comfort'] += 1\n",
    "    \n",
    "    if all(value == 0 for value in topic_count.values()):\n",
    "        return 'no_topic'\n",
    "    \n",
    "    else:\n",
    "        return max(topic_count, key = topic_count.get)"
   ]
  },
  {
   "cell_type": "code",
   "execution_count": null,
   "id": "a8e81bdd-e339-45eb-b2e9-724d3a24b086",
   "metadata": {},
   "outputs": [],
   "source": [
    "hotel['positive_topic'] = hotel.positive_lemma.apply(top_topic)\n",
    "hotel['negative_topic'] = hotel.negative_lemma.apply(top_topic)"
   ]
  },
  {
   "cell_type": "code",
   "execution_count": null,
   "id": "b23131ae-337b-45f9-900c-bf4703928edc",
   "metadata": {},
   "outputs": [],
   "source": [
    "hotel.positive_topic.value_counts(dropna=False)"
   ]
  },
  {
   "cell_type": "code",
   "execution_count": null,
   "id": "b5a87550-0f66-4da0-89f0-a38ca0bee852",
   "metadata": {},
   "outputs": [],
   "source": [
    "hotel.negative_topic.value_counts(dropna=False)"
   ]
  },
  {
   "cell_type": "code",
   "execution_count": null,
   "id": "fbee5b9c-8ec0-4396-bc3b-54f1d79cd600",
   "metadata": {},
   "outputs": [],
   "source": [
    "hotel.positive_lemma[hotel.positive_topic == 'no_topic'].head(10)"
   ]
  },
  {
   "cell_type": "code",
   "execution_count": null,
   "id": "012c52b7-bb7c-46d1-91e9-4bf764b208db",
   "metadata": {},
   "outputs": [],
   "source": [
    "hotel.negative_lemma[hotel.negative_topic == 'no_topic'].head()"
   ]
  },
  {
   "cell_type": "code",
   "execution_count": null,
   "id": "b8bb9b8f-af2f-4298-bd88-33ecb33c5537",
   "metadata": {},
   "outputs": [],
   "source": [
    "hotel.to_csv('hotel_topic.csv')"
   ]
  },
  {
   "cell_type": "code",
   "execution_count": null,
   "id": "8554753c-462a-4ef3-96de-4f6d57400f1e",
   "metadata": {},
   "outputs": [],
   "source": []
  },
  {
   "cell_type": "code",
   "execution_count": null,
   "id": "00d181da-7bcf-4e64-90eb-c261bbf33f97",
   "metadata": {},
   "outputs": [],
   "source": [
    "hotel[['country','nps_group','group_type','positive_topic','negative_topic','pos_lem_sentiment_score','neg_lem_sentiment_score']].head()"
   ]
  },
  {
   "cell_type": "code",
   "execution_count": null,
   "id": "d72f96b8-df02-4bf3-9b5e-eca93243eb79",
   "metadata": {},
   "outputs": [],
   "source": [
    "hotel.groupby(['positive_topic'])['pos_lem_sentiment_score'].mean().plot.barh()"
   ]
  },
  {
   "cell_type": "code",
   "execution_count": null,
   "id": "7ffdb192-b1bc-4970-ba45-39d2d3ae2918",
   "metadata": {},
   "outputs": [],
   "source": [
    "hotel.groupby(['negative_topic'])['neg_lem_sentiment_score'].mean().plot.barh()"
   ]
  },
  {
   "cell_type": "code",
   "execution_count": null,
   "id": "a148e181-d045-4c76-9157-d2d96027682a",
   "metadata": {},
   "outputs": [],
   "source": [
    "sns.countplot(x='positive_topic',data=hotel,hue='group_type')"
   ]
  },
  {
   "cell_type": "code",
   "execution_count": null,
   "id": "b7fe29f9-a6e4-48ff-96fb-e1ae7b9d3329",
   "metadata": {},
   "outputs": [],
   "source": [
    "sns.countplot(x='negative_topic',data=hotel,hue='group_type')"
   ]
  },
  {
   "cell_type": "code",
   "execution_count": null,
   "id": "f6acce86-1e33-4c05-8840-2fe5cffbf232",
   "metadata": {},
   "outputs": [],
   "source": [
    "['month_name','month','year','day_name','day','quarter','hotel_name','street','city','zip_code','country','lat','lng',\n",
    " 'additional_number_of_scoring','average_score','total_number_of_reviews','reviewer_nationality','trip_type','nights_stayed',\n",
    " 'group_type','total_number_of_reviews_reviewer_has_given','reviewer_score','nps_group','days_since_review','neg_sentiment_score',\n",
    " 'neg_lem_sentiment_score','review_total_negative_word_counts','negative_unique_word_count','negative_topic','pos_sentiment_score',\n",
    " 'review_total_positive_word_counts','positive_unique_word_count','pos_lem_sentiment_score','postive_topic','negative_review',\n",
    " 'negative_clean_review','negative_lemma','positive_review','positive_clean_review','positive_lemma']"
   ]
  }
 ],
 "metadata": {
  "kernelspec": {
   "display_name": "Python 3 (ipykernel)",
   "language": "python",
   "name": "python3"
  },
  "language_info": {
   "codemirror_mode": {
    "name": "ipython",
    "version": 3
   },
   "file_extension": ".py",
   "mimetype": "text/x-python",
   "name": "python",
   "nbconvert_exporter": "python",
   "pygments_lexer": "ipython3",
   "version": "3.9.7"
  }
 },
 "nbformat": 4,
 "nbformat_minor": 5
}
