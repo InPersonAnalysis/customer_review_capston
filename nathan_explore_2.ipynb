{
 "cells": [
  {
   "cell_type": "markdown",
   "id": "a1f4fe58",
   "metadata": {},
   "source": [
    "### Nathan explore notebook 2"
   ]
  },
  {
   "cell_type": "code",
   "execution_count": 1,
   "id": "d715f500",
   "metadata": {},
   "outputs": [],
   "source": [
    "import pandas as pd\n",
    "import numpy as np\n",
    "import re\n",
    "import matplotlib.pyplot as plt\n",
    "import seaborn as sns\n",
    "import nltk\n",
    "import wrangle\n",
    "import unicodedata\n",
    "from nltk.corpus import stopwords"
   ]
  },
  {
   "cell_type": "code",
   "execution_count": 2,
   "id": "e297f150",
   "metadata": {},
   "outputs": [
    {
     "data": {
      "text/html": [
       "<div>\n",
       "<style scoped>\n",
       "    .dataframe tbody tr th:only-of-type {\n",
       "        vertical-align: middle;\n",
       "    }\n",
       "\n",
       "    .dataframe tbody tr th {\n",
       "        vertical-align: top;\n",
       "    }\n",
       "\n",
       "    .dataframe thead th {\n",
       "        text-align: right;\n",
       "    }\n",
       "</style>\n",
       "<table border=\"1\" class=\"dataframe\">\n",
       "  <thead>\n",
       "    <tr style=\"text-align: right;\">\n",
       "      <th></th>\n",
       "      <th>month_name</th>\n",
       "      <th>month</th>\n",
       "      <th>year</th>\n",
       "      <th>day_name</th>\n",
       "      <th>day</th>\n",
       "      <th>quarter</th>\n",
       "      <th>hotel_name</th>\n",
       "      <th>street</th>\n",
       "      <th>city</th>\n",
       "      <th>zip_code</th>\n",
       "      <th>...</th>\n",
       "      <th>positive_unique_word_count</th>\n",
       "      <th>pos_lem_sentiment_score</th>\n",
       "      <th>negative_review</th>\n",
       "      <th>negative_clean_review</th>\n",
       "      <th>negative_stem</th>\n",
       "      <th>negative_lemma</th>\n",
       "      <th>positive_review</th>\n",
       "      <th>positive_clean_review</th>\n",
       "      <th>positive_stem</th>\n",
       "      <th>positive_lemma</th>\n",
       "    </tr>\n",
       "    <tr>\n",
       "      <th>review_date</th>\n",
       "      <th></th>\n",
       "      <th></th>\n",
       "      <th></th>\n",
       "      <th></th>\n",
       "      <th></th>\n",
       "      <th></th>\n",
       "      <th></th>\n",
       "      <th></th>\n",
       "      <th></th>\n",
       "      <th></th>\n",
       "      <th></th>\n",
       "      <th></th>\n",
       "      <th></th>\n",
       "      <th></th>\n",
       "      <th></th>\n",
       "      <th></th>\n",
       "      <th></th>\n",
       "      <th></th>\n",
       "      <th></th>\n",
       "      <th></th>\n",
       "      <th></th>\n",
       "    </tr>\n",
       "  </thead>\n",
       "  <tbody>\n",
       "    <tr>\n",
       "      <th>2015-08-04</th>\n",
       "      <td>August</td>\n",
       "      <td>8</td>\n",
       "      <td>2015</td>\n",
       "      <td>Tuesday</td>\n",
       "      <td>4</td>\n",
       "      <td>3</td>\n",
       "      <td>Hilton London Metropole</td>\n",
       "      <td>225 Edgware Road Westminster Borough</td>\n",
       "      <td>London</td>\n",
       "      <td>W2 1JU</td>\n",
       "      <td>...</td>\n",
       "      <td>6</td>\n",
       "      <td>0.4019</td>\n",
       "      <td>First day the swimming pool was not opened th...</td>\n",
       "      <td>first day swimmig pool ot opeed therefore coul...</td>\n",
       "      <td>first day swimmig pool ot ope therefor could o...</td>\n",
       "      <td>first day swimmig pool ot opeed therefore coul...</td>\n",
       "      <td>The hotel was clean and accessible</td>\n",
       "      <td>hotel clean accessible</td>\n",
       "      <td>hotel clean access</td>\n",
       "      <td>hotel clean accessible</td>\n",
       "    </tr>\n",
       "    <tr>\n",
       "      <th>2015-08-04</th>\n",
       "      <td>August</td>\n",
       "      <td>8</td>\n",
       "      <td>2015</td>\n",
       "      <td>Tuesday</td>\n",
       "      <td>4</td>\n",
       "      <td>3</td>\n",
       "      <td>Hotel Mademoiselle</td>\n",
       "      <td>7 Rue des Petits H tels 10th</td>\n",
       "      <td>Paris</td>\n",
       "      <td>arr 75010</td>\n",
       "      <td>...</td>\n",
       "      <td>6</td>\n",
       "      <td>0.7906</td>\n",
       "      <td>No Negative</td>\n",
       "      <td>egative</td>\n",
       "      <td>eg</td>\n",
       "      <td>egative</td>\n",
       "      <td>very good location breakfast was great</td>\n",
       "      <td>good location breakfast great</td>\n",
       "      <td>good locat breakfast great</td>\n",
       "      <td>good location breakfast great</td>\n",
       "    </tr>\n",
       "    <tr>\n",
       "      <th>2015-08-04</th>\n",
       "      <td>August</td>\n",
       "      <td>8</td>\n",
       "      <td>2015</td>\n",
       "      <td>Tuesday</td>\n",
       "      <td>4</td>\n",
       "      <td>3</td>\n",
       "      <td>Vienna Marriott Hotel</td>\n",
       "      <td>Parkring 12a 01 Innere Stadt</td>\n",
       "      <td>Vienna</td>\n",
       "      <td>1010</td>\n",
       "      <td>...</td>\n",
       "      <td>6</td>\n",
       "      <td>0.7579</td>\n",
       "      <td>Nothing</td>\n",
       "      <td></td>\n",
       "      <td></td>\n",
       "      <td></td>\n",
       "      <td>It was very nice excellent hotel</td>\n",
       "      <td>nice excellent hotel</td>\n",
       "      <td>nice excel hotel</td>\n",
       "      <td>nice excellent hotel</td>\n",
       "    </tr>\n",
       "    <tr>\n",
       "      <th>2015-08-04</th>\n",
       "      <td>August</td>\n",
       "      <td>8</td>\n",
       "      <td>2015</td>\n",
       "      <td>Tuesday</td>\n",
       "      <td>4</td>\n",
       "      <td>3</td>\n",
       "      <td>Novotel Amsterdam City</td>\n",
       "      <td>Europaboulevard 10 Zuideramstel</td>\n",
       "      <td>Amsterdam</td>\n",
       "      <td>1083 AD</td>\n",
       "      <td>...</td>\n",
       "      <td>23</td>\n",
       "      <td>0.9414</td>\n",
       "      <td>No Negative</td>\n",
       "      <td>egative</td>\n",
       "      <td>eg</td>\n",
       "      <td>egative</td>\n",
       "      <td>Slightly out of the city center but very easy...</td>\n",
       "      <td>slightly city center easy get tram train reall...</td>\n",
       "      <td>slightli citi center easi get tram train reall...</td>\n",
       "      <td>slightly city center easy get tram train reall...</td>\n",
       "    </tr>\n",
       "    <tr>\n",
       "      <th>2015-08-04</th>\n",
       "      <td>August</td>\n",
       "      <td>8</td>\n",
       "      <td>2015</td>\n",
       "      <td>Tuesday</td>\n",
       "      <td>4</td>\n",
       "      <td>3</td>\n",
       "      <td>Hilton London Kensington Hotel</td>\n",
       "      <td>Holland Park Avenue Kensington and Chelsea</td>\n",
       "      <td>London</td>\n",
       "      <td>W11 4UL</td>\n",
       "      <td>...</td>\n",
       "      <td>5</td>\n",
       "      <td>0.7964</td>\n",
       "      <td>No Negative</td>\n",
       "      <td>egative</td>\n",
       "      <td>eg</td>\n",
       "      <td>egative</td>\n",
       "      <td>Great easy to reAch location</td>\n",
       "      <td>great easy reach location</td>\n",
       "      <td>great easi reach locat</td>\n",
       "      <td>great easy reach location</td>\n",
       "    </tr>\n",
       "  </tbody>\n",
       "</table>\n",
       "<p>5 rows × 40 columns</p>\n",
       "</div>"
      ],
      "text/plain": [
       "            month_name  month  year day_name  day  quarter  \\\n",
       "review_date                                                  \n",
       "2015-08-04      August      8  2015  Tuesday    4        3   \n",
       "2015-08-04      August      8  2015  Tuesday    4        3   \n",
       "2015-08-04      August      8  2015  Tuesday    4        3   \n",
       "2015-08-04      August      8  2015  Tuesday    4        3   \n",
       "2015-08-04      August      8  2015  Tuesday    4        3   \n",
       "\n",
       "                                 hotel_name  \\\n",
       "review_date                                   \n",
       "2015-08-04          Hilton London Metropole   \n",
       "2015-08-04               Hotel Mademoiselle   \n",
       "2015-08-04            Vienna Marriott Hotel   \n",
       "2015-08-04           Novotel Amsterdam City   \n",
       "2015-08-04   Hilton London Kensington Hotel   \n",
       "\n",
       "                                                 street       city   zip_code  \\\n",
       "review_date                                                                     \n",
       "2015-08-04         225 Edgware Road Westminster Borough     London     W2 1JU   \n",
       "2015-08-04                 7 Rue des Petits H tels 10th      Paris  arr 75010   \n",
       "2015-08-04                 Parkring 12a 01 Innere Stadt     Vienna       1010   \n",
       "2015-08-04              Europaboulevard 10 Zuideramstel  Amsterdam    1083 AD   \n",
       "2015-08-04   Holland Park Avenue Kensington and Chelsea     London    W11 4UL   \n",
       "\n",
       "             ... positive_unique_word_count  pos_lem_sentiment_score  \\\n",
       "review_date  ...                                                       \n",
       "2015-08-04   ...                          6                   0.4019   \n",
       "2015-08-04   ...                          6                   0.7906   \n",
       "2015-08-04   ...                          6                   0.7579   \n",
       "2015-08-04   ...                         23                   0.9414   \n",
       "2015-08-04   ...                          5                   0.7964   \n",
       "\n",
       "                                               negative_review  \\\n",
       "review_date                                                      \n",
       "2015-08-04    First day the swimming pool was not opened th...   \n",
       "2015-08-04                                         No Negative   \n",
       "2015-08-04                                             Nothing   \n",
       "2015-08-04                                         No Negative   \n",
       "2015-08-04                                         No Negative   \n",
       "\n",
       "                                         negative_clean_review  \\\n",
       "review_date                                                      \n",
       "2015-08-04   first day swimmig pool ot opeed therefore coul...   \n",
       "2015-08-04                                             egative   \n",
       "2015-08-04                                                       \n",
       "2015-08-04                                             egative   \n",
       "2015-08-04                                             egative   \n",
       "\n",
       "                                                 negative_stem  \\\n",
       "review_date                                                      \n",
       "2015-08-04   first day swimmig pool ot ope therefor could o...   \n",
       "2015-08-04                                                  eg   \n",
       "2015-08-04                                                       \n",
       "2015-08-04                                                  eg   \n",
       "2015-08-04                                                  eg   \n",
       "\n",
       "                                                negative_lemma  \\\n",
       "review_date                                                      \n",
       "2015-08-04   first day swimmig pool ot opeed therefore coul...   \n",
       "2015-08-04                                             egative   \n",
       "2015-08-04                                                       \n",
       "2015-08-04                                             egative   \n",
       "2015-08-04                                             egative   \n",
       "\n",
       "                                               positive_review  \\\n",
       "review_date                                                      \n",
       "2015-08-04                 The hotel was clean and accessible    \n",
       "2015-08-04              very good location breakfast was great   \n",
       "2015-08-04                    It was very nice excellent hotel   \n",
       "2015-08-04    Slightly out of the city center but very easy...   \n",
       "2015-08-04                        Great easy to reAch location   \n",
       "\n",
       "                                         positive_clean_review  \\\n",
       "review_date                                                      \n",
       "2015-08-04                              hotel clean accessible   \n",
       "2015-08-04                       good location breakfast great   \n",
       "2015-08-04                                nice excellent hotel   \n",
       "2015-08-04   slightly city center easy get tram train reall...   \n",
       "2015-08-04                           great easy reach location   \n",
       "\n",
       "                                                 positive_stem  \\\n",
       "review_date                                                      \n",
       "2015-08-04                                  hotel clean access   \n",
       "2015-08-04                          good locat breakfast great   \n",
       "2015-08-04                                    nice excel hotel   \n",
       "2015-08-04   slightli citi center easi get tram train reall...   \n",
       "2015-08-04                              great easi reach locat   \n",
       "\n",
       "                                                positive_lemma  \n",
       "review_date                                                     \n",
       "2015-08-04                              hotel clean accessible  \n",
       "2015-08-04                       good location breakfast great  \n",
       "2015-08-04                                nice excellent hotel  \n",
       "2015-08-04   slightly city center easy get tram train reall...  \n",
       "2015-08-04                           great easy reach location  \n",
       "\n",
       "[5 rows x 40 columns]"
      ]
     },
     "execution_count": 2,
     "metadata": {},
     "output_type": "execute_result"
    }
   ],
   "source": [
    "df = wrangle.wrangle_hotel()\n",
    "df.head()"
   ]
  },
  {
   "cell_type": "code",
   "execution_count": 3,
   "id": "4c9fd677",
   "metadata": {},
   "outputs": [
    {
     "data": {
      "text/plain": [
       "Index(['month_name', 'month', 'year', 'day_name', 'day', 'quarter',\n",
       "       'hotel_name', 'street', 'city', 'zip_code', 'country', 'lat', 'lng',\n",
       "       'additional_number_of_scoring', 'average_score',\n",
       "       'total_number_of_reviews', 'reviewer_nationality', 'trip_type',\n",
       "       'nights_stayed', 'group_type',\n",
       "       'total_number_of_reviews_reviewer_has_given', 'reviewer_score',\n",
       "       'nps_group', 'days_since_review', 'neg_sentiment_score',\n",
       "       'neg_lem_sentiment_score', 'review_total_negative_word_counts',\n",
       "       'negative_unique_word_count', 'pos_sentiment_score',\n",
       "       'review_total_positive_word_counts', 'positive_unique_word_count',\n",
       "       'pos_lem_sentiment_score', 'negative_review', 'negative_clean_review',\n",
       "       'negative_stem', 'negative_lemma', 'positive_review',\n",
       "       'positive_clean_review', 'positive_stem', 'positive_lemma'],\n",
       "      dtype='object')"
      ]
     },
     "execution_count": 3,
     "metadata": {},
     "output_type": "execute_result"
    }
   ],
   "source": [
    "df.columns"
   ]
  },
  {
   "cell_type": "code",
   "execution_count": 13,
   "id": "643da1f6",
   "metadata": {},
   "outputs": [
    {
     "data": {
      "text/plain": [
       "247037"
      ]
     },
     "execution_count": 13,
     "metadata": {},
     "output_type": "execute_result"
    }
   ],
   "source": [
    "(df.nps_group == 'promoter').sum()"
   ]
  },
  {
   "cell_type": "code",
   "execution_count": 14,
   "id": "82354515",
   "metadata": {},
   "outputs": [
    {
     "data": {
      "text/plain": [
       "86851"
      ]
     },
     "execution_count": 14,
     "metadata": {},
     "output_type": "execute_result"
    }
   ],
   "source": [
    "(df.nps_group == 'detractor').sum()"
   ]
  },
  {
   "cell_type": "code",
   "execution_count": 8,
   "id": "6ffe39fe",
   "metadata": {},
   "outputs": [
    {
     "data": {
      "text/plain": [
       "515738"
      ]
     },
     "execution_count": 8,
     "metadata": {},
     "output_type": "execute_result"
    }
   ],
   "source": [
    "df.nps_group.size"
   ]
  },
  {
   "cell_type": "code",
   "execution_count": 16,
   "id": "0b475813",
   "metadata": {},
   "outputs": [
    {
     "data": {
      "text/plain": [
       "0.31059569005968146"
      ]
     },
     "execution_count": 16,
     "metadata": {},
     "output_type": "execute_result"
    }
   ],
   "source": [
    "((df.nps_group == 'promoter').sum() - (df.nps_group == 'detractor').sum()) / df.nps_group.size"
   ]
  },
  {
   "cell_type": "code",
   "execution_count": 21,
   "id": "1073362e",
   "metadata": {},
   "outputs": [],
   "source": [
    "def hotel_nps_score(series):\n",
    "    score = ((series == 'promoter').sum() - (series == 'detractor').sum()) / series.size\n",
    "    score = round(score * 100)\n",
    "    return score"
   ]
  },
  {
   "cell_type": "code",
   "execution_count": 22,
   "id": "67259abb",
   "metadata": {},
   "outputs": [
    {
     "data": {
      "text/plain": [
       "31"
      ]
     },
     "execution_count": 22,
     "metadata": {},
     "output_type": "execute_result"
    }
   ],
   "source": [
    "hotel_nps_score(df.nps_group)"
   ]
  },
  {
   "cell_type": "code",
   "execution_count": 25,
   "id": "ea5d688c",
   "metadata": {},
   "outputs": [
    {
     "ename": "TypeError",
     "evalue": "'int' object is not callable",
     "output_type": "error",
     "traceback": [
      "\u001b[0;31m---------------------------------------------------------------------------\u001b[0m",
      "\u001b[0;31mTypeError\u001b[0m                                 Traceback (most recent call last)",
      "\u001b[0;32m/opt/anaconda3/lib/python3.9/site-packages/pandas/core/groupby/groupby.py\u001b[0m in \u001b[0;36mapply\u001b[0;34m(self, func, *args, **kwargs)\u001b[0m\n\u001b[1;32m   1274\u001b[0m             \u001b[0;32mtry\u001b[0m\u001b[0;34m:\u001b[0m\u001b[0;34m\u001b[0m\u001b[0;34m\u001b[0m\u001b[0m\n\u001b[0;32m-> 1275\u001b[0;31m                 \u001b[0mresult\u001b[0m \u001b[0;34m=\u001b[0m \u001b[0mself\u001b[0m\u001b[0;34m.\u001b[0m\u001b[0m_python_apply_general\u001b[0m\u001b[0;34m(\u001b[0m\u001b[0mf\u001b[0m\u001b[0;34m,\u001b[0m \u001b[0mself\u001b[0m\u001b[0;34m.\u001b[0m\u001b[0m_selected_obj\u001b[0m\u001b[0;34m)\u001b[0m\u001b[0;34m\u001b[0m\u001b[0;34m\u001b[0m\u001b[0m\n\u001b[0m\u001b[1;32m   1276\u001b[0m             \u001b[0;32mexcept\u001b[0m \u001b[0mTypeError\u001b[0m\u001b[0;34m:\u001b[0m\u001b[0;34m\u001b[0m\u001b[0;34m\u001b[0m\u001b[0m\n",
      "\u001b[0;32m/opt/anaconda3/lib/python3.9/site-packages/pandas/core/groupby/groupby.py\u001b[0m in \u001b[0;36m_python_apply_general\u001b[0;34m(self, f, data)\u001b[0m\n\u001b[1;32m   1308\u001b[0m         \"\"\"\n\u001b[0;32m-> 1309\u001b[0;31m         \u001b[0mkeys\u001b[0m\u001b[0;34m,\u001b[0m \u001b[0mvalues\u001b[0m\u001b[0;34m,\u001b[0m \u001b[0mmutated\u001b[0m \u001b[0;34m=\u001b[0m \u001b[0mself\u001b[0m\u001b[0;34m.\u001b[0m\u001b[0mgrouper\u001b[0m\u001b[0;34m.\u001b[0m\u001b[0mapply\u001b[0m\u001b[0;34m(\u001b[0m\u001b[0mf\u001b[0m\u001b[0;34m,\u001b[0m \u001b[0mdata\u001b[0m\u001b[0;34m,\u001b[0m \u001b[0mself\u001b[0m\u001b[0;34m.\u001b[0m\u001b[0maxis\u001b[0m\u001b[0;34m)\u001b[0m\u001b[0;34m\u001b[0m\u001b[0;34m\u001b[0m\u001b[0m\n\u001b[0m\u001b[1;32m   1310\u001b[0m \u001b[0;34m\u001b[0m\u001b[0m\n",
      "\u001b[0;32m/opt/anaconda3/lib/python3.9/site-packages/pandas/core/groupby/ops.py\u001b[0m in \u001b[0;36mapply\u001b[0;34m(self, f, data, axis)\u001b[0m\n\u001b[1;32m    840\u001b[0m             \u001b[0mgroup_axes\u001b[0m \u001b[0;34m=\u001b[0m \u001b[0mgroup\u001b[0m\u001b[0;34m.\u001b[0m\u001b[0maxes\u001b[0m\u001b[0;34m\u001b[0m\u001b[0;34m\u001b[0m\u001b[0m\n\u001b[0;32m--> 841\u001b[0;31m             \u001b[0mres\u001b[0m \u001b[0;34m=\u001b[0m \u001b[0mf\u001b[0m\u001b[0;34m(\u001b[0m\u001b[0mgroup\u001b[0m\u001b[0;34m)\u001b[0m\u001b[0;34m\u001b[0m\u001b[0;34m\u001b[0m\u001b[0m\n\u001b[0m\u001b[1;32m    842\u001b[0m             \u001b[0;32mif\u001b[0m \u001b[0;32mnot\u001b[0m \u001b[0m_is_indexed_like\u001b[0m\u001b[0;34m(\u001b[0m\u001b[0mres\u001b[0m\u001b[0;34m,\u001b[0m \u001b[0mgroup_axes\u001b[0m\u001b[0;34m,\u001b[0m \u001b[0maxis\u001b[0m\u001b[0;34m)\u001b[0m\u001b[0;34m:\u001b[0m\u001b[0;34m\u001b[0m\u001b[0;34m\u001b[0m\u001b[0m\n",
      "\u001b[0;31mTypeError\u001b[0m: 'int' object is not callable",
      "\nDuring handling of the above exception, another exception occurred:\n",
      "\u001b[0;31mTypeError\u001b[0m                                 Traceback (most recent call last)",
      "\u001b[0;32m/var/folders/n7/fjb2f8gd5jg17xlxz1c85vhc0000gn/T/ipykernel_7124/1049208911.py\u001b[0m in \u001b[0;36m<module>\u001b[0;34m\u001b[0m\n\u001b[0;32m----> 1\u001b[0;31m \u001b[0mdf\u001b[0m\u001b[0;34m[\u001b[0m\u001b[0;34m'hotel_nps_score'\u001b[0m\u001b[0;34m]\u001b[0m \u001b[0;34m=\u001b[0m \u001b[0mdf\u001b[0m\u001b[0;34m.\u001b[0m\u001b[0mgroupby\u001b[0m\u001b[0;34m(\u001b[0m\u001b[0mdf\u001b[0m\u001b[0;34m.\u001b[0m\u001b[0mhotel_name\u001b[0m\u001b[0;34m)\u001b[0m\u001b[0;34m.\u001b[0m\u001b[0mapply\u001b[0m\u001b[0;34m(\u001b[0m\u001b[0mhotel_nps_score\u001b[0m\u001b[0;34m(\u001b[0m\u001b[0mdf\u001b[0m\u001b[0;34m.\u001b[0m\u001b[0mnps_group\u001b[0m\u001b[0;34m)\u001b[0m\u001b[0;34m)\u001b[0m\u001b[0;34m\u001b[0m\u001b[0;34m\u001b[0m\u001b[0m\n\u001b[0m",
      "\u001b[0;32m/opt/anaconda3/lib/python3.9/site-packages/pandas/core/groupby/groupby.py\u001b[0m in \u001b[0;36mapply\u001b[0;34m(self, func, *args, **kwargs)\u001b[0m\n\u001b[1;32m   1284\u001b[0m \u001b[0;34m\u001b[0m\u001b[0m\n\u001b[1;32m   1285\u001b[0m                 \u001b[0;32mwith\u001b[0m \u001b[0mgroup_selection_context\u001b[0m\u001b[0;34m(\u001b[0m\u001b[0mself\u001b[0m\u001b[0;34m)\u001b[0m\u001b[0;34m:\u001b[0m\u001b[0;34m\u001b[0m\u001b[0;34m\u001b[0m\u001b[0m\n\u001b[0;32m-> 1286\u001b[0;31m                     \u001b[0;32mreturn\u001b[0m \u001b[0mself\u001b[0m\u001b[0;34m.\u001b[0m\u001b[0m_python_apply_general\u001b[0m\u001b[0;34m(\u001b[0m\u001b[0mf\u001b[0m\u001b[0;34m,\u001b[0m \u001b[0mself\u001b[0m\u001b[0;34m.\u001b[0m\u001b[0m_selected_obj\u001b[0m\u001b[0;34m)\u001b[0m\u001b[0;34m\u001b[0m\u001b[0;34m\u001b[0m\u001b[0m\n\u001b[0m\u001b[1;32m   1287\u001b[0m \u001b[0;34m\u001b[0m\u001b[0m\n\u001b[1;32m   1288\u001b[0m         \u001b[0;32mreturn\u001b[0m \u001b[0mresult\u001b[0m\u001b[0;34m\u001b[0m\u001b[0;34m\u001b[0m\u001b[0m\n",
      "\u001b[0;32m/opt/anaconda3/lib/python3.9/site-packages/pandas/core/groupby/groupby.py\u001b[0m in \u001b[0;36m_python_apply_general\u001b[0;34m(self, f, data)\u001b[0m\n\u001b[1;32m   1307\u001b[0m             \u001b[0mdata\u001b[0m \u001b[0mafter\u001b[0m \u001b[0mapplying\u001b[0m \u001b[0mf\u001b[0m\u001b[0;34m\u001b[0m\u001b[0;34m\u001b[0m\u001b[0m\n\u001b[1;32m   1308\u001b[0m         \"\"\"\n\u001b[0;32m-> 1309\u001b[0;31m         \u001b[0mkeys\u001b[0m\u001b[0;34m,\u001b[0m \u001b[0mvalues\u001b[0m\u001b[0;34m,\u001b[0m \u001b[0mmutated\u001b[0m \u001b[0;34m=\u001b[0m \u001b[0mself\u001b[0m\u001b[0;34m.\u001b[0m\u001b[0mgrouper\u001b[0m\u001b[0;34m.\u001b[0m\u001b[0mapply\u001b[0m\u001b[0;34m(\u001b[0m\u001b[0mf\u001b[0m\u001b[0;34m,\u001b[0m \u001b[0mdata\u001b[0m\u001b[0;34m,\u001b[0m \u001b[0mself\u001b[0m\u001b[0;34m.\u001b[0m\u001b[0maxis\u001b[0m\u001b[0;34m)\u001b[0m\u001b[0;34m\u001b[0m\u001b[0;34m\u001b[0m\u001b[0m\n\u001b[0m\u001b[1;32m   1310\u001b[0m \u001b[0;34m\u001b[0m\u001b[0m\n\u001b[1;32m   1311\u001b[0m         return self._wrap_applied_output(\n",
      "\u001b[0;32m/opt/anaconda3/lib/python3.9/site-packages/pandas/core/groupby/ops.py\u001b[0m in \u001b[0;36mapply\u001b[0;34m(self, f, data, axis)\u001b[0m\n\u001b[1;32m    839\u001b[0m             \u001b[0;31m# group might be modified\u001b[0m\u001b[0;34m\u001b[0m\u001b[0;34m\u001b[0m\u001b[0m\n\u001b[1;32m    840\u001b[0m             \u001b[0mgroup_axes\u001b[0m \u001b[0;34m=\u001b[0m \u001b[0mgroup\u001b[0m\u001b[0;34m.\u001b[0m\u001b[0maxes\u001b[0m\u001b[0;34m\u001b[0m\u001b[0;34m\u001b[0m\u001b[0m\n\u001b[0;32m--> 841\u001b[0;31m             \u001b[0mres\u001b[0m \u001b[0;34m=\u001b[0m \u001b[0mf\u001b[0m\u001b[0;34m(\u001b[0m\u001b[0mgroup\u001b[0m\u001b[0;34m)\u001b[0m\u001b[0;34m\u001b[0m\u001b[0;34m\u001b[0m\u001b[0m\n\u001b[0m\u001b[1;32m    842\u001b[0m             \u001b[0;32mif\u001b[0m \u001b[0;32mnot\u001b[0m \u001b[0m_is_indexed_like\u001b[0m\u001b[0;34m(\u001b[0m\u001b[0mres\u001b[0m\u001b[0;34m,\u001b[0m \u001b[0mgroup_axes\u001b[0m\u001b[0;34m,\u001b[0m \u001b[0maxis\u001b[0m\u001b[0;34m)\u001b[0m\u001b[0;34m:\u001b[0m\u001b[0;34m\u001b[0m\u001b[0;34m\u001b[0m\u001b[0m\n\u001b[1;32m    843\u001b[0m                 \u001b[0mmutated\u001b[0m \u001b[0;34m=\u001b[0m \u001b[0;32mTrue\u001b[0m\u001b[0;34m\u001b[0m\u001b[0;34m\u001b[0m\u001b[0m\n",
      "\u001b[0;31mTypeError\u001b[0m: 'int' object is not callable"
     ]
    }
   ],
   "source": [
    "df['hotel_nps_score'] = df.groupby(df.hotel_name).apply(hotel_nps_score(df.nps_group))"
   ]
  },
  {
   "cell_type": "code",
   "execution_count": null,
   "id": "833a14f3",
   "metadata": {},
   "outputs": [],
   "source": []
  },
  {
   "cell_type": "code",
   "execution_count": null,
   "id": "4927a0e7",
   "metadata": {},
   "outputs": [],
   "source": []
  }
 ],
 "metadata": {
  "kernelspec": {
   "display_name": "Python 3 (ipykernel)",
   "language": "python",
   "name": "python3"
  },
  "language_info": {
   "codemirror_mode": {
    "name": "ipython",
    "version": 3
   },
   "file_extension": ".py",
   "mimetype": "text/x-python",
   "name": "python",
   "nbconvert_exporter": "python",
   "pygments_lexer": "ipython3",
   "version": "3.9.7"
  }
 },
 "nbformat": 4,
 "nbformat_minor": 5
}
